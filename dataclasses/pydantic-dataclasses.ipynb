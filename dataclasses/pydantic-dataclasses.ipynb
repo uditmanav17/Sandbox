{
 "cells": [
  {
   "cell_type": "markdown",
   "metadata": {},
   "source": [
    "# Creating Dataclass"
   ]
  },
  {
   "cell_type": "code",
   "execution_count": 15,
   "metadata": {},
   "outputs": [],
   "source": [
    "from pydantic.dataclasses import dataclass\n",
    "from typing import Tuple\n",
    "from enum import Enum"
   ]
  },
  {
   "cell_type": "code",
   "execution_count": 16,
   "metadata": {},
   "outputs": [],
   "source": [
    "@dataclass\n",
    "class IceCreamMix:\n",
    "    name: str\n",
    "    flavor: str\n",
    "    toppings: Tuple[str, ...]\n",
    "    scoops: int"
   ]
  },
  {
   "cell_type": "code",
   "execution_count": 17,
   "metadata": {},
   "outputs": [
    {
     "data": {
      "text/plain": [
       "IceCreamMix(name='PB&J', flavor='vanilla', toppings=('strawberries', 'sprinkles'), scoops=2)"
      ]
     },
     "execution_count": 17,
     "metadata": {},
     "output_type": "execute_result"
    }
   ],
   "source": [
    "ice_cream_mix = IceCreamMix(\"PB&J\", \"vanilla\", (\"strawberries\", \"sprinkles\"), 2)\n",
    "ice_cream_mix"
   ]
  },
  {
   "cell_type": "markdown",
   "metadata": {},
   "source": [
    "# Restrict Attributes using Enum"
   ]
  },
  {
   "cell_type": "code",
   "execution_count": 18,
   "metadata": {},
   "outputs": [],
   "source": [
    "class Flavor(str, Enum):\n",
    "    chocolate = 'chocolate'\n",
    "    vanilla = 'vanilla'\n",
    "    strawberry = 'strawberry'\n",
    "    mint = 'mint'\n",
    "    coffee = 'coffee'\n",
    "    peanut_butter = 'peanut butter'\n",
    "    \n",
    "class Topping(str, Enum):\n",
    "    sprinkles = 'sprinkles'\n",
    "    cookies = 'cookies'\n",
    "    brownie = 'brownie'\n",
    "    strawberries = 'strawberries'\n",
    "    hot_fudge = 'hot fudge'\n",
    "    whipped_cream = 'whipped cream'\n",
    "    "
   ]
  },
  {
   "cell_type": "code",
   "execution_count": 19,
   "metadata": {},
   "outputs": [],
   "source": [
    "@dataclass\n",
    "class IceCreamMix2:\n",
    "    name: str\n",
    "    flavor: Flavor\n",
    "    toppings: Tuple[Topping, ...]\n",
    "    scoops: int"
   ]
  },
  {
   "cell_type": "code",
   "execution_count": 22,
   "metadata": {},
   "outputs": [
    {
     "data": {
      "text/plain": [
       "IceCreamMix2(name='PB&J', flavor=<Flavor.vanilla: 'vanilla'>, toppings=(<Topping.cookies: 'cookies'>, <Topping.sprinkles: 'sprinkles'>), scoops=2)"
      ]
     },
     "execution_count": 22,
     "metadata": {},
     "output_type": "execute_result"
    }
   ],
   "source": [
    "ice_cream_mix = IceCreamMix2(\"PB&J\", Flavor.vanilla, (Topping.cookies, Topping.sprinkles), 2)\n",
    "ice_cream_mix"
   ]
  },
  {
   "cell_type": "markdown",
   "metadata": {},
   "source": [
    "If user tries to select different flavor than those provided, pydantic throws validation error."
   ]
  },
  {
   "cell_type": "code",
   "execution_count": 23,
   "metadata": {},
   "outputs": [
    {
     "ename": "ValidationError",
     "evalue": "1 validation error for IceCreamMix2\nflavor\n  value is not a valid enumeration member; permitted: 'chocolate', 'vanilla', 'strawberry', 'mint', 'coffee', 'peanut butter' (type=type_error.enum; enum_values=[<Flavor.chocolate: 'chocolate'>, <Flavor.vanilla: 'vanilla'>, <Flavor.strawberry: 'strawberry'>, <Flavor.mint: 'mint'>, <Flavor.coffee: 'coffee'>, <Flavor.peanut_butter: 'peanut butter'>])",
     "output_type": "error",
     "traceback": [
      "\u001b[1;31m---------------------------------------------------------------------------\u001b[0m",
      "\u001b[1;31mValidationError\u001b[0m                           Traceback (most recent call last)",
      "\u001b[1;32m<ipython-input-23-aa17791d422f>\u001b[0m in \u001b[0;36m<module>\u001b[1;34m\u001b[0m\n\u001b[1;32m----> 1\u001b[1;33m \u001b[0mice_cream_mix\u001b[0m \u001b[1;33m=\u001b[0m \u001b[0mIceCreamMix2\u001b[0m\u001b[1;33m(\u001b[0m\u001b[1;34m\"PB&J\"\u001b[0m\u001b[1;33m,\u001b[0m \u001b[1;34m'blood'\u001b[0m\u001b[1;33m,\u001b[0m \u001b[1;33m(\u001b[0m\u001b[0mTopping\u001b[0m\u001b[1;33m.\u001b[0m\u001b[0mcookies\u001b[0m\u001b[1;33m,\u001b[0m \u001b[0mTopping\u001b[0m\u001b[1;33m.\u001b[0m\u001b[0msprinkles\u001b[0m\u001b[1;33m)\u001b[0m\u001b[1;33m,\u001b[0m \u001b[1;36m2\u001b[0m\u001b[1;33m)\u001b[0m\u001b[1;33m\u001b[0m\u001b[1;33m\u001b[0m\u001b[0m\n\u001b[0m\u001b[0;32m      2\u001b[0m \u001b[0mice_cream_mix\u001b[0m\u001b[1;33m\u001b[0m\u001b[1;33m\u001b[0m\u001b[0m\n",
      "\u001b[1;32m<string>\u001b[0m in \u001b[0;36m__init__\u001b[1;34m(self, name, flavor, toppings, scoops)\u001b[0m\n",
      "\u001b[1;32m~\\miniconda3\\envs\\ipy2\\lib\\site-packages\\pydantic\\dataclasses.py\u001b[0m in \u001b[0;36m_pydantic_post_init\u001b[1;34m(self, *initvars)\u001b[0m\n\u001b[0;32m    105\u001b[0m         \u001b[0md\u001b[0m\u001b[1;33m,\u001b[0m \u001b[0m_\u001b[0m\u001b[1;33m,\u001b[0m \u001b[0mvalidation_error\u001b[0m \u001b[1;33m=\u001b[0m \u001b[0mvalidate_model\u001b[0m\u001b[1;33m(\u001b[0m\u001b[0mself\u001b[0m\u001b[1;33m.\u001b[0m\u001b[0m__pydantic_model__\u001b[0m\u001b[1;33m,\u001b[0m \u001b[0mself\u001b[0m\u001b[1;33m.\u001b[0m\u001b[0m__dict__\u001b[0m\u001b[1;33m,\u001b[0m \u001b[0mcls\u001b[0m\u001b[1;33m=\u001b[0m\u001b[0mself\u001b[0m\u001b[1;33m.\u001b[0m\u001b[0m__class__\u001b[0m\u001b[1;33m)\u001b[0m\u001b[1;33m\u001b[0m\u001b[1;33m\u001b[0m\u001b[0m\n\u001b[0;32m    106\u001b[0m         \u001b[1;32mif\u001b[0m \u001b[0mvalidation_error\u001b[0m\u001b[1;33m:\u001b[0m\u001b[1;33m\u001b[0m\u001b[1;33m\u001b[0m\u001b[0m\n\u001b[1;32m--> 107\u001b[1;33m             \u001b[1;32mraise\u001b[0m \u001b[0mvalidation_error\u001b[0m\u001b[1;33m\u001b[0m\u001b[1;33m\u001b[0m\u001b[0m\n\u001b[0m\u001b[0;32m    108\u001b[0m         \u001b[0mobject\u001b[0m\u001b[1;33m.\u001b[0m\u001b[0m__setattr__\u001b[0m\u001b[1;33m(\u001b[0m\u001b[0mself\u001b[0m\u001b[1;33m,\u001b[0m \u001b[1;34m'__dict__'\u001b[0m\u001b[1;33m,\u001b[0m \u001b[0md\u001b[0m\u001b[1;33m)\u001b[0m\u001b[1;33m\u001b[0m\u001b[1;33m\u001b[0m\u001b[0m\n\u001b[0;32m    109\u001b[0m         \u001b[0mobject\u001b[0m\u001b[1;33m.\u001b[0m\u001b[0m__setattr__\u001b[0m\u001b[1;33m(\u001b[0m\u001b[0mself\u001b[0m\u001b[1;33m,\u001b[0m \u001b[1;34m'__initialised__'\u001b[0m\u001b[1;33m,\u001b[0m \u001b[1;32mTrue\u001b[0m\u001b[1;33m)\u001b[0m\u001b[1;33m\u001b[0m\u001b[1;33m\u001b[0m\u001b[0m\n",
      "\u001b[1;31mValidationError\u001b[0m: 1 validation error for IceCreamMix2\nflavor\n  value is not a valid enumeration member; permitted: 'chocolate', 'vanilla', 'strawberry', 'mint', 'coffee', 'peanut butter' (type=type_error.enum; enum_values=[<Flavor.chocolate: 'chocolate'>, <Flavor.vanilla: 'vanilla'>, <Flavor.strawberry: 'strawberry'>, <Flavor.mint: 'mint'>, <Flavor.coffee: 'coffee'>, <Flavor.peanut_butter: 'peanut butter'>])"
     ]
    }
   ],
   "source": [
    "ice_cream_mix = IceCreamMix2(\"PB&J\", 'blood', (Topping.cookies, Topping.sprinkles), 2)\n",
    "ice_cream_mix"
   ]
  },
  {
   "cell_type": "code",
   "execution_count": 24,
   "metadata": {},
   "outputs": [
    {
     "data": {
      "text/plain": [
       "IceCreamMix2(name='PB&J', flavor=<Flavor.mint: 'mint'>, toppings=(<Topping.cookies: 'cookies'>, <Topping.sprinkles: 'sprinkles'>), scoops=2)"
      ]
     },
     "execution_count": 24,
     "metadata": {},
     "output_type": "execute_result"
    }
   ],
   "source": [
    "# lets try to pass #scoops as string\n",
    "ice_cream_mix = IceCreamMix2(\"PB&J\", Flavor.mint, (Topping.cookies, Topping.sprinkles), '2')\n",
    "ice_cream_mix\n",
    "# it will be converted to int as pydantic supports type coersion"
   ]
  },
  {
   "cell_type": "markdown",
   "metadata": {},
   "source": [
    "# Extending capabilities using BaseModel\n",
    " - serialization\n",
    " - First class JSON support"
   ]
  },
  {
   "cell_type": "code",
   "execution_count": 25,
   "metadata": {},
   "outputs": [],
   "source": [
    "from pydantic import BaseModel"
   ]
  },
  {
   "cell_type": "code",
   "execution_count": 26,
   "metadata": {},
   "outputs": [],
   "source": [
    "class IceCreamMix3(BaseModel):\n",
    "    name: str\n",
    "    flavor: Flavor\n",
    "    toppings: Tuple[Topping, ...]\n",
    "    scoops: int"
   ]
  },
  {
   "cell_type": "code",
   "execution_count": 29,
   "metadata": {},
   "outputs": [
    {
     "data": {
      "text/plain": [
       "IceCreamMix3(name='PB&J', flavor=<Flavor.mint: 'mint'>, toppings=(<Topping.cookies: 'cookies'>, <Topping.sprinkles: 'sprinkles'>), scoops=2)"
      ]
     },
     "execution_count": 29,
     "metadata": {},
     "output_type": "execute_result"
    }
   ],
   "source": [
    "# BaseModel requires keyword arguments\n",
    "ice_cream_mix = IceCreamMix3(name = \"PB&J\", \n",
    "                             flavor = Flavor.mint, \n",
    "                             toppings = (Topping.cookies, Topping.sprinkles), \n",
    "                             scoops = '2')\n",
    "ice_cream_mix"
   ]
  },
  {
   "cell_type": "code",
   "execution_count": 30,
   "metadata": {},
   "outputs": [
    {
     "data": {
      "text/plain": [
       "'{\"name\": \"PB&J\", \"flavor\": \"mint\", \"toppings\": [\"cookies\", \"sprinkles\"], \"scoops\": 2}'"
      ]
     },
     "execution_count": 30,
     "metadata": {},
     "output_type": "execute_result"
    }
   ],
   "source": [
    "ice_cream_mix.json()"
   ]
  },
  {
   "cell_type": "code",
   "execution_count": 31,
   "metadata": {},
   "outputs": [
    {
     "data": {
      "text/plain": [
       "IceCreamMix3(name='PB&J', flavor=<Flavor.mint: 'mint'>, toppings=(<Topping.cookies: 'cookies'>, <Topping.sprinkles: 'sprinkles'>), scoops=2)"
      ]
     },
     "execution_count": 31,
     "metadata": {},
     "output_type": "execute_result"
    }
   ],
   "source": [
    "# create object from JSON\n",
    "ice_cream_mix_json = IceCreamMix3.parse_raw('{\"name\": \"PB&J\", \"flavor\": \"mint\", \"toppings\": [\"cookies\", \"sprinkles\"], \"scoops\": 2}')\n",
    "ice_cream_mix_json"
   ]
  },
  {
   "cell_type": "code",
   "execution_count": 34,
   "metadata": {},
   "outputs": [
    {
     "name": "stdout",
     "output_type": "stream",
     "text": [
      "[\n",
      "  {\n",
      "    \"loc\": [\n",
      "      \"flavor\"\n",
      "    ],\n",
      "    \"msg\": \"value is not a valid enumeration member; permitted: 'chocolate', 'vanilla', 'strawberry', 'mint', 'coffee', 'peanut butter'\",\n",
      "    \"type\": \"type_error.enum\",\n",
      "    \"ctx\": {\n",
      "      \"enum_values\": [\n",
      "        \"chocolate\",\n",
      "        \"vanilla\",\n",
      "        \"strawberry\",\n",
      "        \"mint\",\n",
      "        \"coffee\",\n",
      "        \"peanut butter\"\n",
      "      ]\n",
      "    }\n",
      "  }\n",
      "]\n"
     ]
    }
   ],
   "source": [
    "from pydantic import ValidationError\n",
    "# print error as JSON\n",
    "try:\n",
    "    ice_cream_mix = IceCreamMix3(name = \"PB&J\", \n",
    "                                 flavor = 'blood', \n",
    "                                 toppings = (Topping.cookies, Topping.sprinkles), \n",
    "                                 scoops = '2')\n",
    "except ValidationError as e:\n",
    "    print(e.json())"
   ]
  },
  {
   "cell_type": "markdown",
   "metadata": {},
   "source": [
    "# Restricting field values"
   ]
  },
  {
   "cell_type": "code",
   "execution_count": 36,
   "metadata": {},
   "outputs": [],
   "source": [
    "from pydantic import Field\n",
    "\n",
    "class IceCreamMix4(BaseModel):\n",
    "    name: str\n",
    "    flavor: Flavor\n",
    "    toppings: Tuple[Topping, ...]\n",
    "    scoops: int = Field(..., gt=0, lt=5)  # ... means required field, greater than 0 and less than 5"
   ]
  },
  {
   "cell_type": "code",
   "execution_count": 42,
   "metadata": {},
   "outputs": [
    {
     "name": "stdout",
     "output_type": "stream",
     "text": [
      "[\n",
      "  {\n",
      "    \"loc\": [\n",
      "      \"scoops\"\n",
      "    ],\n",
      "    \"msg\": \"ensure this value is less than 5\",\n",
      "    \"type\": \"value_error.number.not_lt\",\n",
      "    \"ctx\": {\n",
      "      \"limit_value\": 5\n",
      "    }\n",
      "  }\n",
      "]\n"
     ]
    }
   ],
   "source": [
    "try:\n",
    "    ice_cream_mix = IceCreamMix4(name = \"PB&J\", \n",
    "                                 flavor = Flavor.vanilla, \n",
    "                                 toppings = (Topping.cookies, Topping.sprinkles), \n",
    "                                 scoops = 5)\n",
    "except ValidationError as e:\n",
    "    print(e.json())"
   ]
  },
  {
   "cell_type": "markdown",
   "metadata": {},
   "source": [
    "# Adding Custom Validators"
   ]
  },
  {
   "cell_type": "code",
   "execution_count": 43,
   "metadata": {},
   "outputs": [],
   "source": [
    "from pydantic import validator"
   ]
  },
  {
   "cell_type": "code",
   "execution_count": 44,
   "metadata": {},
   "outputs": [],
   "source": [
    "class IceCreamMix5(BaseModel):\n",
    "    name: str\n",
    "    flavor: Flavor\n",
    "    toppings: Tuple[Topping, ...]\n",
    "    scoops: int = Field(..., gt=0, lt=5)\n",
    "        \n",
    "    @validator('toppings')\n",
    "    def check_toppings(cls, toppings):\n",
    "        \"\"\"Ensure that there aren't too many toppings\"\"\"\n",
    "        if len(toppings) > 3:\n",
    "            raise ValueError('Too many toppings')\n",
    "        return toppings"
   ]
  },
  {
   "cell_type": "code",
   "execution_count": 46,
   "metadata": {},
   "outputs": [
    {
     "name": "stdout",
     "output_type": "stream",
     "text": [
      "[\n",
      "  {\n",
      "    \"loc\": [\n",
      "      \"toppings\"\n",
      "    ],\n",
      "    \"msg\": \"Too many toppings\",\n",
      "    \"type\": \"value_error\"\n",
      "  }\n",
      "]\n"
     ]
    }
   ],
   "source": [
    "try:\n",
    "    ice_cream_mix = IceCreamMix5(name = \"PB&J\", \n",
    "                                 flavor = Flavor.vanilla, \n",
    "                                 toppings = (Topping.cookies, Topping.sprinkles, Topping.brownie, Topping.hot_fudge), \n",
    "                                 scoops = 3)\n",
    "except ValidationError as e:\n",
    "    print(e.json())"
   ]
  },
  {
   "cell_type": "markdown",
   "metadata": {},
   "source": [
    "# Using root_validator to validate complete object\n",
    "Let's assume that we aren't allowed to use cookies topping with mint flavor."
   ]
  },
  {
   "cell_type": "code",
   "execution_count": 48,
   "metadata": {},
   "outputs": [],
   "source": [
    "from pydantic import root_validator\n",
    "\n",
    "class IceCreamMix6(BaseModel):\n",
    "    name: str\n",
    "    flavor: Flavor\n",
    "    toppings: Tuple[Topping, ...]\n",
    "    scoops: int = Field(..., gt=0, lt=5)\n",
    "        \n",
    "    @validator('toppings')\n",
    "    def check_toppings(cls, toppings):\n",
    "        \"\"\"Ensure that there aren't too many toppings\"\"\"\n",
    "        if len(toppings) > 3:\n",
    "            raise ValueError('Too many toppings')\n",
    "        return toppings\n",
    "    \n",
    "    @root_validator\n",
    "    def check_topping_and_flavor(cls, values):\n",
    "        \"\"\"Ensure cookies topping isn't used with mint flavor\"\"\"\n",
    "        flavor = values.get('flavor')\n",
    "        toppings = values.get('toppings')\n",
    "        if flavor == Flavor.mint and Topping.cookies in toppings:\n",
    "            raise ValueError(\"Mint flavor can't be used with cookies topping.\")\n",
    "        return values"
   ]
  },
  {
   "cell_type": "code",
   "execution_count": 49,
   "metadata": {},
   "outputs": [
    {
     "name": "stdout",
     "output_type": "stream",
     "text": [
      "[\n",
      "  {\n",
      "    \"loc\": [\n",
      "      \"__root__\"\n",
      "    ],\n",
      "    \"msg\": \"Mint flavor can't be used with cookies topping.\",\n",
      "    \"type\": \"value_error\"\n",
      "  }\n",
      "]\n"
     ]
    }
   ],
   "source": [
    "try:\n",
    "    ice_cream_mix = IceCreamMix6(name = \"PB&J\", \n",
    "                                 flavor = Flavor.mint, \n",
    "                                 toppings = (Topping.cookies, Topping.sprinkles), \n",
    "                                 scoops = 3)\n",
    "except ValidationError as e:\n",
    "    print(e.json())"
   ]
  },
  {
   "cell_type": "code",
   "execution_count": null,
   "metadata": {},
   "outputs": [],
   "source": []
  }
 ],
 "metadata": {
  "kernelspec": {
   "display_name": "Python 3",
   "language": "python",
   "name": "python3"
  },
  "language_info": {
   "codemirror_mode": {
    "name": "ipython",
    "version": 3
   },
   "file_extension": ".py",
   "mimetype": "text/x-python",
   "name": "python",
   "nbconvert_exporter": "python",
   "pygments_lexer": "ipython3",
   "version": "3.8.5"
  }
 },
 "nbformat": 4,
 "nbformat_minor": 4
}
