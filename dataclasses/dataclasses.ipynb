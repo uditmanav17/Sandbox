{
 "cells": [
  {
   "cell_type": "markdown",
   "metadata": {},
   "source": [
    "# Dataclasses\n",
    " * [Source](https://www.youtube.com/watch?v=T-TwcmT6Rcw)\n",
    " * [Slides](https://www.dropbox.com/s/m8pwkkz43qz5pgt/HettingerPycon2018.pdf)"
   ]
  },
  {
   "cell_type": "code",
   "execution_count": 33,
   "metadata": {},
   "outputs": [],
   "source": [
    "from dataclasses import dataclass, fields\n",
    "from dataclasses import asdict, astuple, replace, field\n",
    "from pprint import pprint as pp"
   ]
  },
  {
   "cell_type": "markdown",
   "metadata": {},
   "source": [
    "## Creating Dataclass"
   ]
  },
  {
   "cell_type": "code",
   "execution_count": 5,
   "metadata": {},
   "outputs": [],
   "source": [
    "@dataclass\n",
    "class Color:\n",
    "    hue: int\n",
    "    saturation: float\n",
    "    lightness: float = 0.5"
   ]
  },
  {
   "cell_type": "markdown",
   "metadata": {},
   "source": [
    "## Creating object"
   ]
  },
  {
   "cell_type": "code",
   "execution_count": 6,
   "metadata": {},
   "outputs": [
    {
     "data": {
      "text/plain": [
       "Color(hue=33, saturation=1.0, lightness=0.5)"
      ]
     },
     "execution_count": 6,
     "metadata": {},
     "output_type": "execute_result"
    }
   ],
   "source": [
    "c = Color(33, 1.)\n",
    "c  # nice wrapper to display object, not available in normal classes"
   ]
  },
  {
   "cell_type": "code",
   "execution_count": 7,
   "metadata": {},
   "outputs": [
    {
     "name": "stdout",
     "output_type": "stream",
     "text": [
      "33 1.0 0.5\n"
     ]
    }
   ],
   "source": [
    "print(c.hue, c.saturation, c.lightness)"
   ]
  },
  {
   "cell_type": "markdown",
   "metadata": {},
   "source": [
    "## Replacing Attributes"
   ]
  },
  {
   "cell_type": "code",
   "execution_count": 8,
   "metadata": {},
   "outputs": [
    {
     "name": "stdout",
     "output_type": "stream",
     "text": [
      "Color(hue=43, saturation=1.0, lightness=0.5)\n"
     ]
    }
   ],
   "source": [
    "# dataclasses are mutable by default, to make them immutable use @dataclass(frozen=True)\n",
    "c.hue = 43\n",
    "print(c)"
   ]
  },
  {
   "cell_type": "code",
   "execution_count": 9,
   "metadata": {},
   "outputs": [
    {
     "name": "stdout",
     "output_type": "stream",
     "text": [
      "Color(hue=43, saturation=1.0, lightness=0.5)\n"
     ]
    }
   ],
   "source": [
    "replace(c, hue=53)  # creates new obj\n",
    "print(c)"
   ]
  },
  {
   "cell_type": "code",
   "execution_count": 10,
   "metadata": {},
   "outputs": [
    {
     "name": "stdout",
     "output_type": "stream",
     "text": [
      "Color(hue=53, saturation=1.0, lightness=0.5)\n"
     ]
    }
   ],
   "source": [
    "d = replace(c, hue=53)  # creates new obj\n",
    "print(d)"
   ]
  },
  {
   "cell_type": "markdown",
   "metadata": {},
   "source": [
    "## Display attributes as dictionary/tuple"
   ]
  },
  {
   "cell_type": "code",
   "execution_count": 12,
   "metadata": {},
   "outputs": [
    {
     "data": {
      "text/plain": [
       "{'hue': 43, 'saturation': 1.0, 'lightness': 0.5}"
      ]
     },
     "execution_count": 12,
     "metadata": {},
     "output_type": "execute_result"
    }
   ],
   "source": [
    "asdict(c)"
   ]
  },
  {
   "cell_type": "code",
   "execution_count": 13,
   "metadata": {},
   "outputs": [
    {
     "data": {
      "text/plain": [
       "(53, 1.0, 0.5)"
      ]
     },
     "execution_count": 13,
     "metadata": {},
     "output_type": "execute_result"
    }
   ],
   "source": [
    "astuple(d)"
   ]
  },
  {
   "cell_type": "markdown",
   "metadata": {},
   "source": [
    "## Automatic Annotations"
   ]
  },
  {
   "cell_type": "code",
   "execution_count": 15,
   "metadata": {},
   "outputs": [
    {
     "data": {
      "text/plain": [
       "{'hue': int, 'saturation': float, 'lightness': float}"
      ]
     },
     "execution_count": 15,
     "metadata": {},
     "output_type": "execute_result"
    }
   ],
   "source": [
    "Color.__annotations__"
   ]
  },
  {
   "cell_type": "markdown",
   "metadata": {},
   "source": [
    "## Iterating over list of class objects"
   ]
  },
  {
   "cell_type": "code",
   "execution_count": 17,
   "metadata": {},
   "outputs": [
    {
     "ename": "TypeError",
     "evalue": "'<' not supported between instances of 'Color' and 'Color'",
     "output_type": "error",
     "traceback": [
      "\u001b[1;31m---------------------------------------------------------------------------\u001b[0m",
      "\u001b[1;31mTypeError\u001b[0m                                 Traceback (most recent call last)",
      "\u001b[1;32m<ipython-input-17-549f7c447b50>\u001b[0m in \u001b[0;36m<module>\u001b[1;34m\u001b[0m\n\u001b[0;32m      6\u001b[0m ]\n\u001b[0;32m      7\u001b[0m \u001b[1;33m\u001b[0m\u001b[0m\n\u001b[1;32m----> 8\u001b[1;33m \u001b[0mpp\u001b[0m\u001b[1;33m(\u001b[0m\u001b[0msorted\u001b[0m\u001b[1;33m(\u001b[0m\u001b[0mcolors\u001b[0m\u001b[1;33m)\u001b[0m\u001b[1;33m)\u001b[0m\u001b[1;33m\u001b[0m\u001b[1;33m\u001b[0m\u001b[0m\n\u001b[0m",
      "\u001b[1;31mTypeError\u001b[0m: '<' not supported between instances of 'Color' and 'Color'"
     ]
    }
   ],
   "source": [
    "# ordering is not supported by default \n",
    "colors = [\n",
    "    Color(33, 0.10), \n",
    "    Color(12, 0.17), \n",
    "    Color(34, 0.13), \n",
    "    Color(65, 0.19), \n",
    "]\n",
    "\n",
    "pp(sorted(colors))"
   ]
  },
  {
   "cell_type": "code",
   "execution_count": 18,
   "metadata": {},
   "outputs": [],
   "source": [
    "@dataclass(order=True)\n",
    "class Color:\n",
    "    hue: int\n",
    "    saturation: float\n",
    "    lightness: float = 0.5"
   ]
  },
  {
   "cell_type": "code",
   "execution_count": 19,
   "metadata": {},
   "outputs": [
    {
     "name": "stdout",
     "output_type": "stream",
     "text": [
      "[Color(hue=12, saturation=0.17, lightness=0.5),\n",
      " Color(hue=33, saturation=0.1, lightness=0.5),\n",
      " Color(hue=34, saturation=0.13, lightness=0.5),\n",
      " Color(hue=65, saturation=0.19, lightness=0.5)]\n"
     ]
    }
   ],
   "source": [
    "colors = [\n",
    "    Color(33, 0.10), \n",
    "    Color(12, 0.17), \n",
    "    Color(34, 0.13), \n",
    "    Color(65, 0.19), \n",
    "]\n",
    "\n",
    "pp(sorted(colors))"
   ]
  },
  {
   "cell_type": "markdown",
   "metadata": {},
   "source": [
    "## Additional Functionalities"
   ]
  },
  {
   "cell_type": "code",
   "execution_count": 23,
   "metadata": {},
   "outputs": [],
   "source": [
    "from datetime import datetime\n",
    "\n",
    "@dataclass(order=True, unsafe_hash=True)\n",
    "class Employee:\n",
    "    emp_id: int = field()\n",
    "    name: str = field()\n",
    "    gender: str = field()\n",
    "    salary: int = field(hash=False, repr=False, metadata={\"units\":\"bitcoins\"})\n",
    "    age: int = field(hash=False)\n",
    "    viewed_by: list = field(default_factory=list, compare=False, repr=False)\n",
    "    \n",
    "    def access(self, viewer_id):\n",
    "        self.viewed_by.append((viewer_id, datetime.now()))"
   ]
  },
  {
   "cell_type": "code",
   "execution_count": 25,
   "metadata": {},
   "outputs": [],
   "source": [
    "e1 = Employee(\n",
    "    emp_id = \"1234567\", # as str\n",
    "    name = \"Abc\",\n",
    "    gender = \"male\",\n",
    "    salary = 500000, \n",
    "    age = 0x30, # in Hex\n",
    ")\n",
    "\n",
    "e2 = Employee(\n",
    "    emp_id = \"98765432\", # as str\n",
    "    name = \"Xyz\",\n",
    "    gender = \"female\",\n",
    "    salary = 900000, \n",
    "    age = 0x20, # in Hex\n",
    ")"
   ]
  },
  {
   "cell_type": "code",
   "execution_count": 26,
   "metadata": {},
   "outputs": [
    {
     "name": "stdout",
     "output_type": "stream",
     "text": [
      "Employee(emp_id='1234567', name='Abc', gender='male', age=48)\n",
      "Employee(emp_id='98765432', name='Xyz', gender='female', age=32)\n"
     ]
    }
   ],
   "source": [
    "# doesn't display sensitive fields\n",
    "print(e1)\n",
    "print(e2)"
   ]
  },
  {
   "cell_type": "code",
   "execution_count": 27,
   "metadata": {},
   "outputs": [],
   "source": [
    "e1.access(\"me\")\n",
    "e1.access(\"you\")"
   ]
  },
  {
   "cell_type": "code",
   "execution_count": 28,
   "metadata": {},
   "outputs": [
    {
     "name": "stdout",
     "output_type": "stream",
     "text": [
      "[('me', datetime.datetime(2020, 9, 16, 19, 23, 19, 963526)),\n",
      " ('you', datetime.datetime(2020, 9, 16, 19, 23, 19, 963526))]\n"
     ]
    }
   ],
   "source": [
    "pp(e1.viewed_by) "
   ]
  },
  {
   "cell_type": "code",
   "execution_count": 29,
   "metadata": {},
   "outputs": [
    {
     "name": "stdout",
     "output_type": "stream",
     "text": [
      "[Employee(emp_id='1234567', name='Abc', gender='male', age=48),\n",
      " Employee(emp_id='98765432', name='Xyz', gender='female', age=32)]\n"
     ]
    }
   ],
   "source": [
    "pp(sorted([e1, e2]))  # not sorted on all fields"
   ]
  },
  {
   "cell_type": "code",
   "execution_count": 30,
   "metadata": {},
   "outputs": [
    {
     "name": "stdout",
     "output_type": "stream",
     "text": [
      "{Employee(emp_id='1234567', name='Abc', gender='male', age=48): 'Data '\n",
      "                                                                'Scientist',\n",
      " Employee(emp_id='98765432', name='Xyz', gender='female', age=32): 'SDE'}\n"
     ]
    }
   ],
   "source": [
    "# employees can be hashed\n",
    "assignments = {e1:\"Data Scientist\", e2:\"SDE\"}\n",
    "pp(assignments)"
   ]
  },
  {
   "cell_type": "code",
   "execution_count": 36,
   "metadata": {},
   "outputs": [
    {
     "name": "stdout",
     "output_type": "stream",
     "text": [
      "Field(name='salary',type=<class 'int'>,default=<dataclasses._MISSING_TYPE object at 0x000001B6690A0648>,default_factory=<dataclasses._MISSING_TYPE object at 0x000001B6690A0648>,init=True,repr=False,hash=False,compare=True,metadata=mappingproxy({'units': 'bitcoins'}),_field_type=_FIELD)\n"
     ]
    }
   ],
   "source": [
    "pp(fields(e1)[3])"
   ]
  },
  {
   "cell_type": "code",
   "execution_count": null,
   "metadata": {},
   "outputs": [],
   "source": []
  }
 ],
 "metadata": {
  "kernelspec": {
   "display_name": "Python 3",
   "language": "python",
   "name": "python3"
  },
  "language_info": {
   "codemirror_mode": {
    "name": "ipython",
    "version": 3
   },
   "file_extension": ".py",
   "mimetype": "text/x-python",
   "name": "python",
   "nbconvert_exporter": "python",
   "pygments_lexer": "ipython3",
   "version": "3.7.7"
  },
  "toc": {
   "base_numbering": 1,
   "nav_menu": {},
   "number_sections": true,
   "sideBar": true,
   "skip_h1_title": false,
   "title_cell": "Table of Contents",
   "title_sidebar": "Contents",
   "toc_cell": false,
   "toc_position": {
    "height": "calc(100% - 180px)",
    "left": "10px",
    "top": "150px",
    "width": "273.2px"
   },
   "toc_section_display": true,
   "toc_window_display": true
  }
 },
 "nbformat": 4,
 "nbformat_minor": 4
}
