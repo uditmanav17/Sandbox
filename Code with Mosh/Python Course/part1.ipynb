{
 "cells": [
  {
   "cell_type": "markdown",
   "metadata": {},
   "source": [
    "# Exceptions\n",
    "### Resources\n",
    " * [Exception Heirarchy](https://docs.python.org/3/library/exceptions.html)"
   ]
  },
  {
   "cell_type": "code",
   "execution_count": 7,
   "metadata": {},
   "outputs": [],
   "source": [
    "def exception_func():\n",
    "    try:\n",
    "        age = int(input(\"Enter age - \"))\n",
    "        x = 10 / age\n",
    "    except (ValueError, ZeroDivisionError) as e:\n",
    "        print(\"Error MSG -\", e)\n",
    "        print(\"joint exceptions!\")\n",
    "    except ZeroDivisionError as e:\n",
    "        print(\"trying to divide by zero!\")\n",
    "    else:\n",
    "        print(\"no exceptions thrown\")\n",
    "    finally:\n",
    "        print(\"all done!\")"
   ]
  },
  {
   "cell_type": "code",
   "execution_count": 8,
   "metadata": {},
   "outputs": [
    {
     "name": "stdout",
     "output_type": "stream",
     "text": [
      "Enter age - 1\n",
      "no exceptions thrown\n",
      "all done!\n"
     ]
    }
   ],
   "source": [
    "exception_func()"
   ]
  },
  {
   "cell_type": "code",
   "execution_count": 9,
   "metadata": {},
   "outputs": [
    {
     "name": "stdout",
     "output_type": "stream",
     "text": [
      "Enter age - 0\n",
      "Error MSG - division by zero\n",
      "joint exceptions!\n",
      "all done!\n"
     ]
    }
   ],
   "source": [
    "exception_func()"
   ]
  },
  {
   "cell_type": "markdown",
   "metadata": {},
   "source": [
    "# Copying File"
   ]
  },
  {
   "cell_type": "code",
   "execution_count": 24,
   "metadata": {},
   "outputs": [
    {
     "name": "stdout",
     "output_type": "stream",
     "text": [
      "Overwriting text.txt\n"
     ]
    }
   ],
   "source": [
    "%%writefile text.txt\r\n",
    "\r\n",
    "Hello, its me again!\r\n",
    "came to see you again!"
   ]
  },
  {
   "cell_type": "code",
   "execution_count": 25,
   "metadata": {},
   "outputs": [],
   "source": [
    "with open(\"text.txt\") as f1, open(\"text2.txt\", \"w\") as f2:\n",
    "    f1_content = f1.read()\n",
    "    f2.write(f1_content)"
   ]
  },
  {
   "cell_type": "code",
   "execution_count": 26,
   "metadata": {},
   "outputs": [
    {
     "name": "stdout",
     "output_type": "stream",
     "text": [
      "\n",
      "Hello, its me again!\n",
      "came to see you again!\n"
     ]
    }
   ],
   "source": [
    "# linux\r\n",
    "# !cat text2.txt  \r\n",
    "\r\n",
    "# windows\r\n",
    "!type text2.txt  "
   ]
  },
  {
   "cell_type": "markdown",
   "metadata": {},
   "source": [
    "# Calculating execution time"
   ]
  },
  {
   "cell_type": "code",
   "execution_count": 30,
   "metadata": {},
   "outputs": [
    {
     "name": "stdout",
     "output_type": "stream",
     "text": [
      "code1 time - 0.004004599999916536\n",
      "code2 time - 0.0015891000000465283\n"
     ]
    }
   ],
   "source": [
    "from timeit import timeit\n",
    "\n",
    "code1 = \"\"\"\r\n",
    "def calc_factor(age):\r\n",
    "    if age <= 0:\r\n",
    "        raise ValueError(\"Age can't be zero of less!\")\r\n",
    "    return 10 / age\r\n",
    "    \r\n",
    "try:\r\n",
    "    calc_factor(0)\r\n",
    "except ValueError as e:\r\n",
    "    #print(e)\r\n",
    "    pass\r\n",
    "\"\"\"\n",
    "\n",
    "code2 = \"\"\"\r\n",
    "def calc_factor(age):\r\n",
    "    if age <= 0:\r\n",
    "        return None\r\n",
    "    return 10 / age\r\n",
    "    \r\n",
    "if calc_factor(0) is None:\r\n",
    "    pass\r\n",
    "\"\"\"\n",
    "\n",
    "print(f\"code1 time - {timeit(code1, number=10000)}\")\n",
    "print(f\"code2 time - {timeit(code2, number=10000)}\")"
   ]
  },
  {
   "cell_type": "code",
   "execution_count": 39,
   "metadata": {},
   "outputs": [
    {
     "name": "stdout",
     "output_type": "stream",
     "text": [
      "590 ns ± 110 ns per loop (mean ± std. dev. of 5 runs, 1000 loops each)\n"
     ]
    }
   ],
   "source": [
    "%%timeit -n 1000 -r 5\n",
    "\n",
    "\n",
    "def calc_factor(age):\n",
    "    if age <= 0:\n",
    "        raise ValueError(\"Age can't be zero of less!\")\n",
    "    return 10 / age\n",
    "\n",
    "\n",
    "try:\n",
    "    calc_factor(0)\n",
    "except ValueError as e:\n",
    "    # print(e)\n",
    "    pass"
   ]
  },
  {
   "cell_type": "markdown",
   "metadata": {},
   "source": [
    "# Classes\n",
    " * [Magic Methods](https://rszalski.github.io/magicmethods/)"
   ]
  },
  {
   "cell_type": "markdown",
   "metadata": {},
   "source": [
    "## Example 1"
   ]
  },
  {
   "cell_type": "code",
   "execution_count": 52,
   "metadata": {},
   "outputs": [],
   "source": [
    "class Point:\n",
    "    # class attribute, shared across all instances of class\n",
    "    default_color = \"red\"\n",
    "\n",
    "    def __init__(self, x, y):\n",
    "        self.x = x\n",
    "        self.y = y\n",
    "\n",
    "    def __repr__(self):\n",
    "        return f\"Point({self.x}, {self.y})\"\n",
    "\n",
    "    # factory method can be used for complex initialization/calls\n",
    "    @classmethod\n",
    "    def zero(cls):\n",
    "        return cls(0, 0)\n",
    "\n",
    "    # adding 2 points\n",
    "    def __add__(self, other):\n",
    "        if isinstance(other, Point):\n",
    "            return Point(self.x + other.x, self.y + other.y)\n",
    "        raise TypeError(\"both should be of type Point\")\n",
    "\n",
    "    def __eq__(self, other):\n",
    "        if isinstance(other, Point):\n",
    "            return all([self.x == other.x, self.y == other.y])\n",
    "        raise TypeError(\"both should be of type Point\")\n",
    "\n",
    "    def __gt__(self, other):\n",
    "        if isinstance(other, Point):\n",
    "            return all([self.x > other.x, self.y > other.y])\n",
    "        raise TypeError(\"both should be of type Point\")"
   ]
  },
  {
   "cell_type": "code",
   "execution_count": 53,
   "metadata": {},
   "outputs": [
    {
     "name": "stdout",
     "output_type": "stream",
     "text": [
      "Point.default_color='red'\n",
      "p1=Point(0, 0)\n",
      "p1.default_color='red'\n",
      "\n",
      "p2=Point(1, 2)\n",
      "p2.default_color='red'\n",
      "\n",
      "p1.default_color='yellow'\n",
      "p2.default_color='yellow'\n",
      "\n",
      "p3.default_color='yellow'\n",
      "\n",
      "Point(3, 5)\n",
      "p4 == Point(3, 5) -> True\n",
      "p4 > p1 -> True\n",
      "p4 < p1 -> False\n"
     ]
    }
   ],
   "source": [
    "print(f\"{Point.default_color=}\")\n",
    "\n",
    "p1 = Point.zero()\n",
    "print(f\"{p1=}\")\n",
    "print(f\"{p1.default_color=}\\n\")\n",
    "\n",
    "p2 = Point(1, 2)\n",
    "print(f\"{p2=}\")\n",
    "print(f\"{p2.default_color=}\\n\")\n",
    "\n",
    "Point.default_color = \"yellow\"\n",
    "\n",
    "print(f\"{p1.default_color=}\")\n",
    "print(f\"{p2.default_color=}\\n\")\n",
    "\n",
    "p3 = Point(2, 3)\n",
    "print(f\"{p3.default_color=}\\n\")\n",
    "\n",
    "p4 = p2 + p3\n",
    "print(p4)\n",
    "\n",
    "print(f\"p4 == Point(3, 5) -> {p4 == Point(3, 5)}\")\n",
    "print(f\"p4 > p1 -> {p4 > p1}\")\n",
    "print(f\"p4 < p1 -> {p4 < p1}\")"
   ]
  },
  {
   "cell_type": "markdown",
   "metadata": {},
   "source": [
    "## Example 2"
   ]
  },
  {
   "cell_type": "code",
   "execution_count": 65,
   "metadata": {},
   "outputs": [],
   "source": [
    "class TagCloud:\n",
    "    def __init__(self):\n",
    "        self.tags = {}\n",
    "\n",
    "    def add(self, tag):\n",
    "        self.tags[tag.lower()] = self.tags.get(tag, 0) + 1\n",
    "\n",
    "    def __getitem__(self, tag):\n",
    "        return self.tags.get(tag, 0)\n",
    "\n",
    "    def __setitem__(self, tag, value):\n",
    "        self.tags[tag.lower()] = value\n",
    "\n",
    "    def __len__(self):\n",
    "        return len(self.tags)\n",
    "\n",
    "    def __iter__(self):\n",
    "        return iter(self.tags)"
   ]
  },
  {
   "cell_type": "code",
   "execution_count": 66,
   "metadata": {},
   "outputs": [
    {
     "name": "stdout",
     "output_type": "stream",
     "text": [
      "{'python': 3}\n",
      "cloud[\"python\"] = 3\n",
      "{'python': 3, 'abc': 9}\n",
      "cloud[\"abc\"] = 9\n",
      "len(cloud) = 2\n",
      "python\n",
      "abc\n"
     ]
    }
   ],
   "source": [
    "cloud = TagCloud()\n",
    "cloud.add(\"Python\")\n",
    "cloud.add(\"python\")\n",
    "cloud.add(\"python\")\n",
    "print(cloud.tags)\n",
    "print(f'{cloud[\"python\"] = }')\n",
    "\n",
    "cloud[\"abc\"] = 9\n",
    "print(cloud.tags)\n",
    "print(f'{cloud[\"abc\"] = }')\n",
    "\n",
    "print(f\"{len(cloud) = }\")\n",
    "\n",
    "for ele in cloud:\n",
    "    print(ele)"
   ]
  },
  {
   "cell_type": "markdown",
   "metadata": {},
   "source": [
    "## Private Members"
   ]
  },
  {
   "cell_type": "code",
   "execution_count": 67,
   "metadata": {},
   "outputs": [],
   "source": [
    "class TagCloud2:\n",
    "    def __init__(self):\n",
    "        self.__tags = {}\n",
    "\n",
    "    def add(self, tag):\n",
    "        self.__tags[tag.lower()] = self.__tags.get(tag, 0) + 1\n",
    "\n",
    "    def __getitem__(self, tag):\n",
    "        return self.__tags.get(tag, 0)\n",
    "\n",
    "    def __setitem__(self, tag, value):\n",
    "        self.__tags[tag.lower()] = value\n",
    "\n",
    "    def __len__(self):\n",
    "        return len(self.__tags)\n",
    "\n",
    "    def __iter__(self):\n",
    "        return iter(self.__tags)"
   ]
  },
  {
   "cell_type": "code",
   "execution_count": 69,
   "metadata": {},
   "outputs": [
    {
     "name": "stdout",
     "output_type": "stream",
     "text": [
      "['_TagCloud2__tags', '__class__', '__delattr__', '__dict__', '__dir__', '__doc__', '__eq__', '__format__', '__ge__', '__getattribute__', '__getitem__', '__gt__', '__hash__', '__init__', '__init_subclass__', '__iter__', '__le__', '__len__', '__lt__', '__module__', '__ne__', '__new__', '__reduce__', '__reduce_ex__', '__repr__', '__setattr__', '__setitem__', '__sizeof__', '__str__', '__subclasshook__', '__weakref__', 'add']\n"
     ]
    }
   ],
   "source": [
    "cloud = TagCloud2()\n",
    "cloud.add(\"Python\")\n",
    "cloud.add(\"python\")\n",
    "cloud.add(\"python\")\n",
    "print(dir(cloud))"
   ]
  },
  {
   "cell_type": "code",
   "execution_count": 70,
   "metadata": {},
   "outputs": [
    {
     "name": "stdout",
     "output_type": "stream",
     "text": [
      "{'python': 3}\n"
     ]
    }
   ],
   "source": [
    "print(cloud._TagCloud2__tags)"
   ]
  },
  {
   "cell_type": "markdown",
   "metadata": {},
   "source": [
    "## Properties"
   ]
  },
  {
   "cell_type": "code",
   "execution_count": 78,
   "metadata": {},
   "outputs": [],
   "source": [
    "# UNPYTHONIC\n",
    "\n",
    "\n",
    "class Product:\n",
    "    def __init__(self, price):\n",
    "        self.set_price(price)\n",
    "\n",
    "    def set_price(self, price):\n",
    "        if price < 0:\n",
    "            raise ValueError(\"Price can't be negative!\")\n",
    "        self.__price = price\n",
    "\n",
    "    def get_price(self):\n",
    "        return self.__price\n",
    "\n",
    "    price = property(get_price, set_price)"
   ]
  },
  {
   "cell_type": "code",
   "execution_count": 79,
   "metadata": {},
   "outputs": [
    {
     "name": "stdout",
     "output_type": "stream",
     "text": [
      "10\n",
      "20\n"
     ]
    },
    {
     "ename": "ValueError",
     "evalue": "Price can't be negative!",
     "output_type": "error",
     "traceback": [
      "\u001b[1;31m---------------------------------------------------------------------------\u001b[0m",
      "\u001b[1;31mValueError\u001b[0m                                Traceback (most recent call last)",
      "\u001b[1;32m<ipython-input-79-70ba4d6de118>\u001b[0m in \u001b[0;36m<module>\u001b[1;34m\u001b[0m\n\u001b[0;32m      5\u001b[0m \u001b[0mprint\u001b[0m\u001b[1;33m(\u001b[0m\u001b[0mp\u001b[0m\u001b[1;33m.\u001b[0m\u001b[0mprice\u001b[0m\u001b[1;33m)\u001b[0m\u001b[1;33m\u001b[0m\u001b[1;33m\u001b[0m\u001b[0m\n\u001b[0;32m      6\u001b[0m \u001b[1;33m\u001b[0m\u001b[0m\n\u001b[1;32m----> 7\u001b[1;33m \u001b[0mp\u001b[0m\u001b[1;33m.\u001b[0m\u001b[0mprice\u001b[0m \u001b[1;33m=\u001b[0m \u001b[1;33m-\u001b[0m\u001b[1;36m1\u001b[0m\u001b[1;33m\u001b[0m\u001b[1;33m\u001b[0m\u001b[0m\n\u001b[0m\u001b[0;32m      8\u001b[0m \u001b[0mprint\u001b[0m\u001b[1;33m(\u001b[0m\u001b[0mp\u001b[0m\u001b[1;33m.\u001b[0m\u001b[0mprice\u001b[0m\u001b[1;33m)\u001b[0m\u001b[1;33m\u001b[0m\u001b[1;33m\u001b[0m\u001b[0m\n",
      "\u001b[1;32m<ipython-input-78-e51c63663ea1>\u001b[0m in \u001b[0;36mset_price\u001b[1;34m(self, price)\u001b[0m\n\u001b[0;32m      5\u001b[0m     \u001b[1;32mdef\u001b[0m \u001b[0mset_price\u001b[0m\u001b[1;33m(\u001b[0m\u001b[0mself\u001b[0m\u001b[1;33m,\u001b[0m \u001b[0mprice\u001b[0m\u001b[1;33m)\u001b[0m\u001b[1;33m:\u001b[0m\u001b[1;33m\u001b[0m\u001b[1;33m\u001b[0m\u001b[0m\n\u001b[0;32m      6\u001b[0m         \u001b[1;32mif\u001b[0m \u001b[0mprice\u001b[0m \u001b[1;33m<\u001b[0m \u001b[1;36m0\u001b[0m\u001b[1;33m:\u001b[0m\u001b[1;33m\u001b[0m\u001b[1;33m\u001b[0m\u001b[0m\n\u001b[1;32m----> 7\u001b[1;33m             \u001b[1;32mraise\u001b[0m \u001b[0mValueError\u001b[0m\u001b[1;33m(\u001b[0m\u001b[1;34m\"Price can't be negative!\"\u001b[0m\u001b[1;33m)\u001b[0m\u001b[1;33m\u001b[0m\u001b[1;33m\u001b[0m\u001b[0m\n\u001b[0m\u001b[0;32m      8\u001b[0m         \u001b[0mself\u001b[0m\u001b[1;33m.\u001b[0m\u001b[0m__price\u001b[0m \u001b[1;33m=\u001b[0m \u001b[0mprice\u001b[0m\u001b[1;33m\u001b[0m\u001b[1;33m\u001b[0m\u001b[0m\n\u001b[0;32m      9\u001b[0m \u001b[1;33m\u001b[0m\u001b[0m\n",
      "\u001b[1;31mValueError\u001b[0m: Price can't be negative!"
     ]
    }
   ],
   "source": [
    "p = Product(10)\n",
    "print(p.price)\n",
    "\n",
    "p.price = 20\n",
    "print(p.price)\n",
    "\n",
    "p.price = -1\n",
    "print(p.price)"
   ]
  },
  {
   "cell_type": "code",
   "execution_count": 83,
   "metadata": {},
   "outputs": [],
   "source": [
    "class Product2:\n",
    "    def __init__(self, price):\n",
    "        self.price = price\n",
    "\n",
    "    @property\n",
    "    def price(self):\n",
    "        return self.__price\n",
    "\n",
    "    @price.setter\n",
    "    def price(self, price):\n",
    "        if price < 0:\n",
    "            raise ValueError(\"Price can't be negative!\")\n",
    "        self.__price = price"
   ]
  },
  {
   "cell_type": "code",
   "execution_count": 84,
   "metadata": {},
   "outputs": [
    {
     "name": "stdout",
     "output_type": "stream",
     "text": [
      "10\n",
      "20\n"
     ]
    },
    {
     "ename": "ValueError",
     "evalue": "Price can't be negative!",
     "output_type": "error",
     "traceback": [
      "\u001b[1;31m---------------------------------------------------------------------------\u001b[0m",
      "\u001b[1;31mValueError\u001b[0m                                Traceback (most recent call last)",
      "\u001b[1;32m<ipython-input-84-4fc55385aee5>\u001b[0m in \u001b[0;36m<module>\u001b[1;34m\u001b[0m\n\u001b[0;32m      5\u001b[0m \u001b[0mprint\u001b[0m\u001b[1;33m(\u001b[0m\u001b[0mp\u001b[0m\u001b[1;33m.\u001b[0m\u001b[0mprice\u001b[0m\u001b[1;33m)\u001b[0m\u001b[1;33m\u001b[0m\u001b[1;33m\u001b[0m\u001b[0m\n\u001b[0;32m      6\u001b[0m \u001b[1;33m\u001b[0m\u001b[0m\n\u001b[1;32m----> 7\u001b[1;33m \u001b[0mp\u001b[0m\u001b[1;33m.\u001b[0m\u001b[0mprice\u001b[0m \u001b[1;33m=\u001b[0m \u001b[1;33m-\u001b[0m\u001b[1;36m1\u001b[0m\u001b[1;33m\u001b[0m\u001b[1;33m\u001b[0m\u001b[0m\n\u001b[0m\u001b[0;32m      8\u001b[0m \u001b[0mprint\u001b[0m\u001b[1;33m(\u001b[0m\u001b[0mp\u001b[0m\u001b[1;33m.\u001b[0m\u001b[0mprice\u001b[0m\u001b[1;33m)\u001b[0m\u001b[1;33m\u001b[0m\u001b[1;33m\u001b[0m\u001b[0m\n",
      "\u001b[1;32m<ipython-input-83-6d2a206cf780>\u001b[0m in \u001b[0;36mprice\u001b[1;34m(self, price)\u001b[0m\n\u001b[0;32m     10\u001b[0m     \u001b[1;32mdef\u001b[0m \u001b[0mprice\u001b[0m\u001b[1;33m(\u001b[0m\u001b[0mself\u001b[0m\u001b[1;33m,\u001b[0m \u001b[0mprice\u001b[0m\u001b[1;33m)\u001b[0m\u001b[1;33m:\u001b[0m\u001b[1;33m\u001b[0m\u001b[1;33m\u001b[0m\u001b[0m\n\u001b[0;32m     11\u001b[0m         \u001b[1;32mif\u001b[0m \u001b[0mprice\u001b[0m \u001b[1;33m<\u001b[0m \u001b[1;36m0\u001b[0m\u001b[1;33m:\u001b[0m\u001b[1;33m\u001b[0m\u001b[1;33m\u001b[0m\u001b[0m\n\u001b[1;32m---> 12\u001b[1;33m             \u001b[1;32mraise\u001b[0m \u001b[0mValueError\u001b[0m\u001b[1;33m(\u001b[0m\u001b[1;34m\"Price can't be negative!\"\u001b[0m\u001b[1;33m)\u001b[0m\u001b[1;33m\u001b[0m\u001b[1;33m\u001b[0m\u001b[0m\n\u001b[0m\u001b[0;32m     13\u001b[0m         \u001b[0mself\u001b[0m\u001b[1;33m.\u001b[0m\u001b[0m__price\u001b[0m \u001b[1;33m=\u001b[0m \u001b[0mprice\u001b[0m\u001b[1;33m\u001b[0m\u001b[1;33m\u001b[0m\u001b[0m\n\u001b[0;32m     14\u001b[0m \u001b[1;33m\u001b[0m\u001b[0m\n",
      "\u001b[1;31mValueError\u001b[0m: Price can't be negative!"
     ]
    }
   ],
   "source": [
    "p = Product2(10)\n",
    "print(p.price)\n",
    "\n",
    "p.price = 20\n",
    "print(p.price)\n",
    "\n",
    "p.price = -1\n",
    "print(p.price)"
   ]
  },
  {
   "cell_type": "markdown",
   "metadata": {},
   "source": [
    "## Inheritance and method overriding"
   ]
  },
  {
   "cell_type": "code",
   "execution_count": 85,
   "metadata": {},
   "outputs": [],
   "source": [
    "class Animal:\n",
    "    def __init__(self) -> None:\n",
    "        print(\"animal constructor\")\n",
    "        self.age = 1\n",
    "\n",
    "    def eat(self):\n",
    "        print(\"eat\")\n",
    "\n",
    "\n",
    "class Mammal(Animal):\n",
    "    def __init__(self) -> None:\n",
    "        # base class constructor called to initialize age attribute\n",
    "        # method overriding\n",
    "        super().__init__()\n",
    "        print(\"mammal constructor\")\n",
    "        self.weight = 2\n",
    "\n",
    "    def walk(self):\n",
    "        print(\"walk\")\n",
    "\n",
    "\n",
    "class Fish(Animal):\n",
    "    def swim(self):\n",
    "        print(\"swim\")"
   ]
  },
  {
   "cell_type": "code",
   "execution_count": 87,
   "metadata": {},
   "outputs": [
    {
     "name": "stdout",
     "output_type": "stream",
     "text": [
      "animal constructor\n",
      "mammal constructor\n",
      "eat\n",
      "walk\n",
      "m.age = 1\n",
      "m.weight = 2\n",
      "\n",
      "animal constructor\n",
      "eat\n",
      "swim\n",
      "\n",
      "isinstance(m, Mammal) = True\n",
      "isinstance(m, Animal) = True\n",
      "isinstance(m, object) = True\n",
      "issubclass(Mammal, Animal) = True\n"
     ]
    }
   ],
   "source": [
    "m = Mammal()\n",
    "m.eat()\n",
    "m.walk()\n",
    "print(f\"{m.age = }\")\n",
    "print(f\"{m.weight = }\")\n",
    "print()\n",
    "\n",
    "f = Fish()\n",
    "f.eat()\n",
    "f.swim()\n",
    "print()\n",
    "\n",
    "# Useful Class Functions\n",
    "print(f\"{isinstance(m, Mammal) = }\")\n",
    "print(f\"{isinstance(m, Animal) = }\")\n",
    "print(f\"{isinstance(m, object) = }\")\n",
    "print(f\"{issubclass(Mammal, Animal) = }\")"
   ]
  },
  {
   "cell_type": "markdown",
   "metadata": {},
   "source": [
    "## Abstract Base Class"
   ]
  },
  {
   "cell_type": "code",
   "execution_count": 88,
   "metadata": {},
   "outputs": [],
   "source": [
    "from abc import ABC, abstractmethod\n",
    "\n",
    "\n",
    "class InvalidOperationError(Exception):\n",
    "    pass\n",
    "\n",
    "\n",
    "class Stream(ABC):\n",
    "    def __init__(self) -> None:\n",
    "        self.opened = False\n",
    "\n",
    "    def open(self):\n",
    "        if self.opened:\n",
    "            raise InvalidOperationError(\"Stream Already open.\")\n",
    "        self.opened = True\n",
    "\n",
    "    def close(self):\n",
    "        if not self.opened:\n",
    "            raise InvalidOperationError(\"Stream Already closed.\")\n",
    "        self.opened = False\n",
    "\n",
    "    @abstractmethod\n",
    "    def read(self):\n",
    "        pass\n",
    "\n",
    "\n",
    "class FileStream(Stream):\n",
    "    def read(self):\n",
    "        print(\"Reading data from file.\")\n",
    "\n",
    "\n",
    "class NetworkStream(Stream):\n",
    "    def read(self):\n",
    "        print(\"Reading data from network.\")"
   ]
  },
  {
   "cell_type": "code",
   "execution_count": 89,
   "metadata": {},
   "outputs": [
    {
     "ename": "TypeError",
     "evalue": "Can't instantiate abstract class Stream with abstract methods read",
     "output_type": "error",
     "traceback": [
      "\u001b[1;31m---------------------------------------------------------------------------\u001b[0m",
      "\u001b[1;31mTypeError\u001b[0m                                 Traceback (most recent call last)",
      "\u001b[1;32m<ipython-input-89-f9b0acce0318>\u001b[0m in \u001b[0;36m<module>\u001b[1;34m\u001b[0m\n\u001b[0;32m      1\u001b[0m \u001b[1;31m# can't directly create abstract class objects\u001b[0m\u001b[1;33m\u001b[0m\u001b[1;33m\u001b[0m\u001b[1;33m\u001b[0m\u001b[0m\n\u001b[1;32m----> 2\u001b[1;33m \u001b[0mstream\u001b[0m \u001b[1;33m=\u001b[0m \u001b[0mStream\u001b[0m\u001b[1;33m(\u001b[0m\u001b[1;33m)\u001b[0m\u001b[1;33m\u001b[0m\u001b[1;33m\u001b[0m\u001b[0m\n\u001b[0m",
      "\u001b[1;31mTypeError\u001b[0m: Can't instantiate abstract class Stream with abstract methods read"
     ]
    }
   ],
   "source": [
    "# can't directly create abstract class objects\n",
    "stream = Stream()"
   ]
  },
  {
   "cell_type": "code",
   "execution_count": 91,
   "metadata": {},
   "outputs": [
    {
     "ename": "TypeError",
     "evalue": "Can't instantiate abstract class MemoryStream with abstract methods read",
     "output_type": "error",
     "traceback": [
      "\u001b[1;31m---------------------------------------------------------------------------\u001b[0m",
      "\u001b[1;31mTypeError\u001b[0m                                 Traceback (most recent call last)",
      "\u001b[1;32m<ipython-input-91-7c139c0d3ef5>\u001b[0m in \u001b[0;36m<module>\u001b[1;34m\u001b[0m\n\u001b[0;32m      2\u001b[0m     \u001b[1;32mpass\u001b[0m\u001b[1;33m\u001b[0m\u001b[1;33m\u001b[0m\u001b[0m\n\u001b[0;32m      3\u001b[0m \u001b[1;33m\u001b[0m\u001b[0m\n\u001b[1;32m----> 4\u001b[1;33m \u001b[0mms\u001b[0m \u001b[1;33m=\u001b[0m \u001b[0mMemoryStream\u001b[0m\u001b[1;33m(\u001b[0m\u001b[1;33m)\u001b[0m\u001b[1;33m\u001b[0m\u001b[1;33m\u001b[0m\u001b[0m\n\u001b[0m\u001b[0;32m      5\u001b[0m \u001b[0mms\u001b[0m\u001b[1;33m.\u001b[0m\u001b[0mopen\u001b[0m\u001b[1;33m(\u001b[0m\u001b[1;33m)\u001b[0m\u001b[1;33m\u001b[0m\u001b[1;33m\u001b[0m\u001b[0m\n",
      "\u001b[1;31mTypeError\u001b[0m: Can't instantiate abstract class MemoryStream with abstract methods read"
     ]
    }
   ],
   "source": [
    "# need to implement abstract method or this class will also be considered abstract\n",
    "class MemoryStream(Stream):\n",
    "    pass\n",
    "\n",
    "\n",
    "ms = MemoryStream()\n",
    "ms.open()"
   ]
  },
  {
   "cell_type": "code",
   "execution_count": 93,
   "metadata": {},
   "outputs": [
    {
     "name": "stdout",
     "output_type": "stream",
     "text": [
      "reading memory stream.\n"
     ]
    }
   ],
   "source": [
    "# need to implement abstract method or this class will also be considered abstract\n",
    "# now it's a concrete class\n",
    "class MemoryStream(Stream):\n",
    "    def read(self):\n",
    "        print(\"reading memory stream.\")\n",
    "\n",
    "\n",
    "ms = MemoryStream()\n",
    "ms.read()"
   ]
  },
  {
   "cell_type": "markdown",
   "metadata": {},
   "source": [
    "## Polymorphism"
   ]
  },
  {
   "cell_type": "code",
   "execution_count": 94,
   "metadata": {},
   "outputs": [
    {
     "name": "stdout",
     "output_type": "stream",
     "text": [
      "DropDown\n",
      "Textbox\n"
     ]
    }
   ],
   "source": [
    "class UIControl(ABC):\n",
    "    @abstractmethod\n",
    "    def draw(self):\n",
    "        pass\n",
    "\n",
    "\n",
    "class TextBox(UIControl):\n",
    "    def draw(self):\n",
    "        print(\"Textbox\")\n",
    "\n",
    "\n",
    "class DropDown(UIControl):\n",
    "    def draw(self):\n",
    "        print(\"DropDown\")\n",
    "\n",
    "\n",
    "# draw is taking different forms based on objects supplied to it\n",
    "def draw(controls):\n",
    "    for control in controls:\n",
    "        control.draw()\n",
    "\n",
    "\n",
    "ddl = DropDown()\n",
    "tbox = TextBox()\n",
    "\n",
    "draw([ddl, tbox])"
   ]
  },
  {
   "cell_type": "markdown",
   "metadata": {},
   "source": [
    "## Extending built-in Classes"
   ]
  },
  {
   "cell_type": "code",
   "execution_count": 95,
   "metadata": {},
   "outputs": [
    {
     "name": "stdout",
     "output_type": "stream",
     "text": [
      "Appending object - a\n",
      "Appending object - b\n",
      "Appending object - c\n",
      "Appending object - d\n",
      "['a', 'b', 'c', 'd']\n"
     ]
    }
   ],
   "source": [
    "class TrackableList(list):\n",
    "    def append(self, obj):\n",
    "        print(\"Appending object -\", obj)\n",
    "        super().append(obj)\n",
    "\n",
    "\n",
    "li = TrackableList()\n",
    "li.append(\"a\")\n",
    "li.append(\"b\")\n",
    "li.append(\"c\")\n",
    "li.append(\"d\")\n",
    "print(li)"
   ]
  },
  {
   "cell_type": "markdown",
   "metadata": {},
   "source": [
    "## Namedtuples\n",
    " * can be used to create objects which don't have any methods\n",
    " * IMMUTABLE"
   ]
  },
  {
   "cell_type": "code",
   "execution_count": 1,
   "metadata": {},
   "outputs": [
    {
     "name": "stdout",
     "output_type": "stream",
     "text": [
      "True\n",
      "1 2\n"
     ]
    },
    {
     "ename": "AttributeError",
     "evalue": "can't set attribute",
     "output_type": "error",
     "traceback": [
      "\u001b[1;31m---------------------------------------------------------------------------\u001b[0m",
      "\u001b[1;31mAttributeError\u001b[0m                            Traceback (most recent call last)",
      "\u001b[1;32m<ipython-input-1-b738bfa0abba>\u001b[0m in \u001b[0;36m<module>\u001b[1;34m\u001b[0m\n\u001b[0;32m      9\u001b[0m \u001b[0mprint\u001b[0m\u001b[1;33m(\u001b[0m\u001b[0mp1\u001b[0m\u001b[1;33m.\u001b[0m\u001b[0mx\u001b[0m\u001b[1;33m,\u001b[0m \u001b[0mp1\u001b[0m\u001b[1;33m.\u001b[0m\u001b[0my\u001b[0m\u001b[1;33m)\u001b[0m\u001b[1;33m\u001b[0m\u001b[1;33m\u001b[0m\u001b[0m\n\u001b[0;32m     10\u001b[0m \u001b[1;31m# immutable error\u001b[0m\u001b[1;33m\u001b[0m\u001b[1;33m\u001b[0m\u001b[1;33m\u001b[0m\u001b[0m\n\u001b[1;32m---> 11\u001b[1;33m \u001b[0mp1\u001b[0m\u001b[1;33m.\u001b[0m\u001b[0mx\u001b[0m \u001b[1;33m=\u001b[0m \u001b[1;36m1\u001b[0m\u001b[1;33m\u001b[0m\u001b[1;33m\u001b[0m\u001b[0m\n\u001b[0m",
      "\u001b[1;31mAttributeError\u001b[0m: can't set attribute"
     ]
    }
   ],
   "source": [
    "from collections import namedtuple\n",
    "\n",
    "Point = namedtuple(\"Point\", [\"x\", \"y\"])\n",
    "\n",
    "p1 = Point(x=1, y=2)\n",
    "p2 = Point(x=1, y=2)\n",
    "\n",
    "print(p1 == p2)\n",
    "print(p1.x, p1.y)\n",
    "# immutable error\n",
    "p1.x = 1"
   ]
  },
  {
   "cell_type": "code",
   "execution_count": null,
   "metadata": {},
   "outputs": [],
   "source": []
  }
 ],
 "metadata": {
  "kernelspec": {
   "display_name": "Python 3",
   "language": "python",
   "name": "python3"
  },
  "language_info": {
   "codemirror_mode": {
    "name": "ipython",
    "version": 3
   },
   "file_extension": ".py",
   "mimetype": "text/x-python",
   "name": "python",
   "nbconvert_exporter": "python",
   "pygments_lexer": "ipython3",
   "version": "3.8.5"
  }
 },
 "nbformat": 4,
 "nbformat_minor": 4
}
