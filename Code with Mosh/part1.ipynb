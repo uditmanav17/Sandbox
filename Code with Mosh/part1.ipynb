{
 "cells": [
  {
   "cell_type": "markdown",
   "source": [
    "# Exceptions\n",
    "### Resources\n",
    " * [Exception Heirarchy](https://docs.python.org/3/library/exceptions.html)"
   ],
   "metadata": {}
  },
  {
   "cell_type": "code",
   "execution_count": 7,
   "source": [
    "def exception_func():\r\n",
    "    try:\r\n",
    "        age = int(input(\"Enter age - \"))\r\n",
    "        x = 10/age\r\n",
    "    except (ValueError, ZeroDivisionError) as e:\r\n",
    "        print(\"Error MSG -\", e)\r\n",
    "        print(\"joint exceptions!\")\r\n",
    "    except ZeroDivisionError as e:\r\n",
    "        print(\"trying to divide by zero!\")\r\n",
    "    else:\r\n",
    "        print(\"no exceptions thrown\")\r\n",
    "    finally:\r\n",
    "        print(\"all done!\")"
   ],
   "outputs": [],
   "metadata": {}
  },
  {
   "cell_type": "code",
   "execution_count": 8,
   "source": [
    "exception_func()"
   ],
   "outputs": [
    {
     "output_type": "stream",
     "name": "stdout",
     "text": [
      "Enter age - 1\n",
      "no exceptions thrown\n",
      "all done!\n"
     ]
    }
   ],
   "metadata": {}
  },
  {
   "cell_type": "code",
   "execution_count": 9,
   "source": [
    "exception_func()"
   ],
   "outputs": [
    {
     "output_type": "stream",
     "name": "stdout",
     "text": [
      "Enter age - 0\n",
      "Error MSG - division by zero\n",
      "joint exceptions!\n",
      "all done!\n"
     ]
    }
   ],
   "metadata": {}
  },
  {
   "cell_type": "markdown",
   "source": [
    "# Copying File"
   ],
   "metadata": {}
  },
  {
   "cell_type": "code",
   "execution_count": 24,
   "source": [
    "%%writefile text.txt\r\n",
    "\r\n",
    "Hello, its me again!\r\n",
    "came to see you again!"
   ],
   "outputs": [
    {
     "output_type": "stream",
     "name": "stdout",
     "text": [
      "Overwriting text.txt\n"
     ]
    }
   ],
   "metadata": {}
  },
  {
   "cell_type": "code",
   "execution_count": 25,
   "source": [
    "with open(\"text.txt\") as f1, open(\"text2.txt\", \"w\") as f2:\r\n",
    "    f1_content = f1.read()\r\n",
    "    f2.write(f1_content)"
   ],
   "outputs": [],
   "metadata": {}
  },
  {
   "cell_type": "code",
   "execution_count": 26,
   "source": [
    "# linux\r\n",
    "# !cat text2.txt  \r\n",
    "\r\n",
    "# windows\r\n",
    "!type text2.txt  "
   ],
   "outputs": [
    {
     "output_type": "stream",
     "name": "stdout",
     "text": [
      "\n",
      "Hello, its me again!\n",
      "came to see you again!\n"
     ]
    }
   ],
   "metadata": {}
  },
  {
   "cell_type": "markdown",
   "source": [
    "# Calculating execution time"
   ],
   "metadata": {}
  },
  {
   "cell_type": "code",
   "execution_count": 30,
   "source": [
    "from timeit import timeit\r\n",
    "\r\n",
    "code1 = \"\"\"\r\n",
    "def calc_factor(age):\r\n",
    "    if age <= 0:\r\n",
    "        raise ValueError(\"Age can't be zero of less!\")\r\n",
    "    return 10 / age\r\n",
    "    \r\n",
    "try:\r\n",
    "    calc_factor(0)\r\n",
    "except ValueError as e:\r\n",
    "    #print(e)\r\n",
    "    pass\r\n",
    "\"\"\"\r\n",
    "\r\n",
    "code2 = \"\"\"\r\n",
    "def calc_factor(age):\r\n",
    "    if age <= 0:\r\n",
    "        return None\r\n",
    "    return 10 / age\r\n",
    "    \r\n",
    "if calc_factor(0) is None:\r\n",
    "    pass\r\n",
    "\"\"\"\r\n",
    "\r\n",
    "print(f\"code1 time - {timeit(code1, number=10000)}\")\r\n",
    "print(f\"code2 time - {timeit(code2, number=10000)}\")"
   ],
   "outputs": [
    {
     "output_type": "stream",
     "name": "stdout",
     "text": [
      "code1 time - 0.004004599999916536\n",
      "code2 time - 0.0015891000000465283\n"
     ]
    }
   ],
   "metadata": {}
  },
  {
   "cell_type": "code",
   "execution_count": 39,
   "source": [
    "%%timeit -n 1000 -r 5\r\n",
    "\r\n",
    "def calc_factor(age):\r\n",
    "    if age <= 0:\r\n",
    "        raise ValueError(\"Age can't be zero of less!\")\r\n",
    "    return 10 / age\r\n",
    "    \r\n",
    "try:\r\n",
    "    calc_factor(0)\r\n",
    "except ValueError as e:\r\n",
    "    #print(e)\r\n",
    "    pass\r\n"
   ],
   "outputs": [
    {
     "output_type": "stream",
     "name": "stdout",
     "text": [
      "590 ns ± 110 ns per loop (mean ± std. dev. of 5 runs, 1000 loops each)\n"
     ]
    }
   ],
   "metadata": {}
  },
  {
   "cell_type": "markdown",
   "source": [
    "# Classes\n",
    " * [Magic Methods](https://rszalski.github.io/magicmethods/)"
   ],
   "metadata": {}
  },
  {
   "cell_type": "markdown",
   "source": [
    "## Example 1"
   ],
   "metadata": {}
  },
  {
   "cell_type": "code",
   "execution_count": 52,
   "source": [
    "class Point:\r\n",
    "    # class attribute, shared across all instances of class\r\n",
    "    default_color = \"red\"\r\n",
    "    \r\n",
    "    def __init__(self, x, y):\r\n",
    "        self.x = x\r\n",
    "        self.y = y\r\n",
    "\r\n",
    "    def __repr__(self):\r\n",
    "        return f\"Point({self.x}, {self.y})\"\r\n",
    "    \r\n",
    "    # factory method can be used for complex initialization/calls\r\n",
    "    @classmethod\r\n",
    "    def zero(cls):\r\n",
    "        return cls(0, 0)\r\n",
    "    \r\n",
    "    # adding 2 points\r\n",
    "    def __add__(self, other):\r\n",
    "        if isinstance(other, Point):\r\n",
    "            return Point(self.x + other.x, self.y + other.y)\r\n",
    "        raise TypeError(\"both should be of type Point\")\r\n",
    "        \r\n",
    "    def __eq__(self, other):\r\n",
    "        if isinstance(other, Point):\r\n",
    "            return all([self.x == other.x, self.y == other.y]) \r\n",
    "        raise TypeError(\"both should be of type Point\")\r\n",
    "        \r\n",
    "    def __gt__(self, other):\r\n",
    "        if isinstance(other, Point):\r\n",
    "            return all([self.x > other.x, self.y > other.y])\r\n",
    "        raise TypeError(\"both should be of type Point\")\r\n",
    "        \r\n",
    "        \r\n",
    "        "
   ],
   "outputs": [],
   "metadata": {}
  },
  {
   "cell_type": "code",
   "execution_count": 53,
   "source": [
    "print(f\"{Point.default_color=}\")\r\n",
    "\r\n",
    "p1 = Point.zero()\r\n",
    "print(f\"{p1=}\")\r\n",
    "print(f\"{p1.default_color=}\\n\")\r\n",
    "\r\n",
    "p2 = Point(1, 2)\r\n",
    "print(f\"{p2=}\")\r\n",
    "print(f\"{p2.default_color=}\\n\")\r\n",
    "\r\n",
    "Point.default_color = \"yellow\"\r\n",
    "\r\n",
    "print(f\"{p1.default_color=}\")\r\n",
    "print(f\"{p2.default_color=}\\n\")\r\n",
    "\r\n",
    "p3 = Point(2, 3)\r\n",
    "print(f\"{p3.default_color=}\\n\")\r\n",
    "\r\n",
    "p4 = p2 + p3\r\n",
    "print(p4)\r\n",
    "\r\n",
    "print(f\"p4 == Point(3, 5) -> {p4 == Point(3, 5)}\")\r\n",
    "print(f\"p4 > p1 -> {p4 > p1}\")\r\n",
    "print(f\"p4 < p1 -> {p4 < p1}\")"
   ],
   "outputs": [
    {
     "output_type": "stream",
     "name": "stdout",
     "text": [
      "Point.default_color='red'\n",
      "p1=Point(0, 0)\n",
      "p1.default_color='red'\n",
      "\n",
      "p2=Point(1, 2)\n",
      "p2.default_color='red'\n",
      "\n",
      "p1.default_color='yellow'\n",
      "p2.default_color='yellow'\n",
      "\n",
      "p3.default_color='yellow'\n",
      "\n",
      "Point(3, 5)\n",
      "p4 == Point(3, 5) -> True\n",
      "p4 > p1 -> True\n",
      "p4 < p1 -> False\n"
     ]
    }
   ],
   "metadata": {}
  },
  {
   "cell_type": "markdown",
   "source": [
    "## Example 2"
   ],
   "metadata": {}
  },
  {
   "cell_type": "code",
   "execution_count": 65,
   "source": [
    "class TagCloud:\r\n",
    "    def __init__(self):\r\n",
    "        self.tags = {}\r\n",
    "        \r\n",
    "    def add(self, tag):\r\n",
    "        self.tags[tag.lower()] = self.tags.get(tag, 0) + 1\r\n",
    "        \r\n",
    "    def __getitem__(self, tag):\r\n",
    "        return self.tags.get(tag, 0)\r\n",
    "    \r\n",
    "    def __setitem__(self, tag, value):\r\n",
    "        self.tags[tag.lower()] = value\r\n",
    "        \r\n",
    "    def __len__(self):\r\n",
    "        return len(self.tags)\r\n",
    "    \r\n",
    "    def __iter__(self):\r\n",
    "        return iter(self.tags)\r\n",
    "        "
   ],
   "outputs": [],
   "metadata": {}
  },
  {
   "cell_type": "code",
   "execution_count": 66,
   "source": [
    "cloud = TagCloud()\r\n",
    "cloud.add(\"Python\")\r\n",
    "cloud.add(\"python\")\r\n",
    "cloud.add(\"python\")\r\n",
    "print(cloud.tags)\r\n",
    "print(f'{cloud[\"python\"] = }')\r\n",
    "\r\n",
    "cloud[\"abc\"] = 9\r\n",
    "print(cloud.tags)\r\n",
    "print(f'{cloud[\"abc\"] = }')\r\n",
    "\r\n",
    "print(f\"{len(cloud) = }\")\r\n",
    "\r\n",
    "for ele in cloud:\r\n",
    "    print(ele)"
   ],
   "outputs": [
    {
     "output_type": "stream",
     "name": "stdout",
     "text": [
      "{'python': 3}\n",
      "cloud[\"python\"] = 3\n",
      "{'python': 3, 'abc': 9}\n",
      "cloud[\"abc\"] = 9\n",
      "len(cloud) = 2\n",
      "python\n",
      "abc\n"
     ]
    }
   ],
   "metadata": {}
  },
  {
   "cell_type": "markdown",
   "source": [
    "## Private Members"
   ],
   "metadata": {}
  },
  {
   "cell_type": "code",
   "execution_count": 67,
   "source": [
    "class TagCloud2:\r\n",
    "    def __init__(self):\r\n",
    "        self.__tags = {}\r\n",
    "\r\n",
    "    def add(self, tag):\r\n",
    "        self.__tags[tag.lower()] = self.__tags.get(tag, 0) + 1\r\n",
    "\r\n",
    "    def __getitem__(self, tag):\r\n",
    "        return self.__tags.get(tag, 0)\r\n",
    "\r\n",
    "    def __setitem__(self, tag, value):\r\n",
    "        self.__tags[tag.lower()] = value\r\n",
    "\r\n",
    "    def __len__(self):\r\n",
    "        return len(self.__tags)\r\n",
    "\r\n",
    "    def __iter__(self):\r\n",
    "        return iter(self.__tags)\r\n"
   ],
   "outputs": [],
   "metadata": {}
  },
  {
   "cell_type": "code",
   "execution_count": 69,
   "source": [
    "cloud = TagCloud2()\r\n",
    "cloud.add(\"Python\")\r\n",
    "cloud.add(\"python\")\r\n",
    "cloud.add(\"python\")\r\n",
    "print(dir(cloud))"
   ],
   "outputs": [
    {
     "output_type": "stream",
     "name": "stdout",
     "text": [
      "['_TagCloud2__tags', '__class__', '__delattr__', '__dict__', '__dir__', '__doc__', '__eq__', '__format__', '__ge__', '__getattribute__', '__getitem__', '__gt__', '__hash__', '__init__', '__init_subclass__', '__iter__', '__le__', '__len__', '__lt__', '__module__', '__ne__', '__new__', '__reduce__', '__reduce_ex__', '__repr__', '__setattr__', '__setitem__', '__sizeof__', '__str__', '__subclasshook__', '__weakref__', 'add']\n"
     ]
    }
   ],
   "metadata": {}
  },
  {
   "cell_type": "code",
   "execution_count": 70,
   "source": [
    "print(cloud._TagCloud2__tags)"
   ],
   "outputs": [
    {
     "output_type": "stream",
     "name": "stdout",
     "text": [
      "{'python': 3}\n"
     ]
    }
   ],
   "metadata": {}
  },
  {
   "cell_type": "markdown",
   "source": [
    "## Properties"
   ],
   "metadata": {}
  },
  {
   "cell_type": "code",
   "execution_count": 78,
   "source": [
    "# UNPYTHONIC\r\n",
    "\r\n",
    "class Product:\r\n",
    "    def __init__(self, price):\r\n",
    "        self.set_price(price)\r\n",
    "    \r\n",
    "    def set_price(self, price):\r\n",
    "        if price < 0:\r\n",
    "            raise ValueError(\"Price can't be negative!\")\r\n",
    "        self.__price = price\r\n",
    "        \r\n",
    "    def get_price(self):\r\n",
    "        return self.__price\r\n",
    "    \r\n",
    "    price = property(get_price, set_price)"
   ],
   "outputs": [],
   "metadata": {}
  },
  {
   "cell_type": "code",
   "execution_count": 79,
   "source": [
    "p = Product(10)\r\n",
    "print(p.price)\r\n",
    "\r\n",
    "p.price = 20\r\n",
    "print(p.price)\r\n",
    "\r\n",
    "p.price = -1\r\n",
    "print(p.price)"
   ],
   "outputs": [
    {
     "output_type": "stream",
     "name": "stdout",
     "text": [
      "10\n",
      "20\n"
     ]
    },
    {
     "output_type": "error",
     "ename": "ValueError",
     "evalue": "Price can't be negative!",
     "traceback": [
      "\u001b[1;31m---------------------------------------------------------------------------\u001b[0m",
      "\u001b[1;31mValueError\u001b[0m                                Traceback (most recent call last)",
      "\u001b[1;32m<ipython-input-79-70ba4d6de118>\u001b[0m in \u001b[0;36m<module>\u001b[1;34m\u001b[0m\n\u001b[0;32m      5\u001b[0m \u001b[0mprint\u001b[0m\u001b[1;33m(\u001b[0m\u001b[0mp\u001b[0m\u001b[1;33m.\u001b[0m\u001b[0mprice\u001b[0m\u001b[1;33m)\u001b[0m\u001b[1;33m\u001b[0m\u001b[1;33m\u001b[0m\u001b[0m\n\u001b[0;32m      6\u001b[0m \u001b[1;33m\u001b[0m\u001b[0m\n\u001b[1;32m----> 7\u001b[1;33m \u001b[0mp\u001b[0m\u001b[1;33m.\u001b[0m\u001b[0mprice\u001b[0m \u001b[1;33m=\u001b[0m \u001b[1;33m-\u001b[0m\u001b[1;36m1\u001b[0m\u001b[1;33m\u001b[0m\u001b[1;33m\u001b[0m\u001b[0m\n\u001b[0m\u001b[0;32m      8\u001b[0m \u001b[0mprint\u001b[0m\u001b[1;33m(\u001b[0m\u001b[0mp\u001b[0m\u001b[1;33m.\u001b[0m\u001b[0mprice\u001b[0m\u001b[1;33m)\u001b[0m\u001b[1;33m\u001b[0m\u001b[1;33m\u001b[0m\u001b[0m\n",
      "\u001b[1;32m<ipython-input-78-e51c63663ea1>\u001b[0m in \u001b[0;36mset_price\u001b[1;34m(self, price)\u001b[0m\n\u001b[0;32m      5\u001b[0m     \u001b[1;32mdef\u001b[0m \u001b[0mset_price\u001b[0m\u001b[1;33m(\u001b[0m\u001b[0mself\u001b[0m\u001b[1;33m,\u001b[0m \u001b[0mprice\u001b[0m\u001b[1;33m)\u001b[0m\u001b[1;33m:\u001b[0m\u001b[1;33m\u001b[0m\u001b[1;33m\u001b[0m\u001b[0m\n\u001b[0;32m      6\u001b[0m         \u001b[1;32mif\u001b[0m \u001b[0mprice\u001b[0m \u001b[1;33m<\u001b[0m \u001b[1;36m0\u001b[0m\u001b[1;33m:\u001b[0m\u001b[1;33m\u001b[0m\u001b[1;33m\u001b[0m\u001b[0m\n\u001b[1;32m----> 7\u001b[1;33m             \u001b[1;32mraise\u001b[0m \u001b[0mValueError\u001b[0m\u001b[1;33m(\u001b[0m\u001b[1;34m\"Price can't be negative!\"\u001b[0m\u001b[1;33m)\u001b[0m\u001b[1;33m\u001b[0m\u001b[1;33m\u001b[0m\u001b[0m\n\u001b[0m\u001b[0;32m      8\u001b[0m         \u001b[0mself\u001b[0m\u001b[1;33m.\u001b[0m\u001b[0m__price\u001b[0m \u001b[1;33m=\u001b[0m \u001b[0mprice\u001b[0m\u001b[1;33m\u001b[0m\u001b[1;33m\u001b[0m\u001b[0m\n\u001b[0;32m      9\u001b[0m \u001b[1;33m\u001b[0m\u001b[0m\n",
      "\u001b[1;31mValueError\u001b[0m: Price can't be negative!"
     ]
    }
   ],
   "metadata": {}
  },
  {
   "cell_type": "code",
   "execution_count": 83,
   "source": [
    "class Product2:\r\n",
    "    def __init__(self, price):\r\n",
    "        self.price = price\r\n",
    "        \r\n",
    "    @property\r\n",
    "    def price(self):\r\n",
    "        return self.__price\r\n",
    "    \r\n",
    "    @price.setter\r\n",
    "    def price(self, price):\r\n",
    "        if price < 0:\r\n",
    "            raise ValueError(\"Price can't be negative!\")\r\n",
    "        self.__price = price\r\n",
    "    \r\n",
    "    "
   ],
   "outputs": [],
   "metadata": {}
  },
  {
   "cell_type": "code",
   "execution_count": 84,
   "source": [
    "p = Product2(10)\r\n",
    "print(p.price)\r\n",
    "\r\n",
    "p.price = 20\r\n",
    "print(p.price)\r\n",
    "\r\n",
    "p.price = -1\r\n",
    "print(p.price)"
   ],
   "outputs": [
    {
     "output_type": "stream",
     "name": "stdout",
     "text": [
      "10\n",
      "20\n"
     ]
    },
    {
     "output_type": "error",
     "ename": "ValueError",
     "evalue": "Price can't be negative!",
     "traceback": [
      "\u001b[1;31m---------------------------------------------------------------------------\u001b[0m",
      "\u001b[1;31mValueError\u001b[0m                                Traceback (most recent call last)",
      "\u001b[1;32m<ipython-input-84-4fc55385aee5>\u001b[0m in \u001b[0;36m<module>\u001b[1;34m\u001b[0m\n\u001b[0;32m      5\u001b[0m \u001b[0mprint\u001b[0m\u001b[1;33m(\u001b[0m\u001b[0mp\u001b[0m\u001b[1;33m.\u001b[0m\u001b[0mprice\u001b[0m\u001b[1;33m)\u001b[0m\u001b[1;33m\u001b[0m\u001b[1;33m\u001b[0m\u001b[0m\n\u001b[0;32m      6\u001b[0m \u001b[1;33m\u001b[0m\u001b[0m\n\u001b[1;32m----> 7\u001b[1;33m \u001b[0mp\u001b[0m\u001b[1;33m.\u001b[0m\u001b[0mprice\u001b[0m \u001b[1;33m=\u001b[0m \u001b[1;33m-\u001b[0m\u001b[1;36m1\u001b[0m\u001b[1;33m\u001b[0m\u001b[1;33m\u001b[0m\u001b[0m\n\u001b[0m\u001b[0;32m      8\u001b[0m \u001b[0mprint\u001b[0m\u001b[1;33m(\u001b[0m\u001b[0mp\u001b[0m\u001b[1;33m.\u001b[0m\u001b[0mprice\u001b[0m\u001b[1;33m)\u001b[0m\u001b[1;33m\u001b[0m\u001b[1;33m\u001b[0m\u001b[0m\n",
      "\u001b[1;32m<ipython-input-83-6d2a206cf780>\u001b[0m in \u001b[0;36mprice\u001b[1;34m(self, price)\u001b[0m\n\u001b[0;32m     10\u001b[0m     \u001b[1;32mdef\u001b[0m \u001b[0mprice\u001b[0m\u001b[1;33m(\u001b[0m\u001b[0mself\u001b[0m\u001b[1;33m,\u001b[0m \u001b[0mprice\u001b[0m\u001b[1;33m)\u001b[0m\u001b[1;33m:\u001b[0m\u001b[1;33m\u001b[0m\u001b[1;33m\u001b[0m\u001b[0m\n\u001b[0;32m     11\u001b[0m         \u001b[1;32mif\u001b[0m \u001b[0mprice\u001b[0m \u001b[1;33m<\u001b[0m \u001b[1;36m0\u001b[0m\u001b[1;33m:\u001b[0m\u001b[1;33m\u001b[0m\u001b[1;33m\u001b[0m\u001b[0m\n\u001b[1;32m---> 12\u001b[1;33m             \u001b[1;32mraise\u001b[0m \u001b[0mValueError\u001b[0m\u001b[1;33m(\u001b[0m\u001b[1;34m\"Price can't be negative!\"\u001b[0m\u001b[1;33m)\u001b[0m\u001b[1;33m\u001b[0m\u001b[1;33m\u001b[0m\u001b[0m\n\u001b[0m\u001b[0;32m     13\u001b[0m         \u001b[0mself\u001b[0m\u001b[1;33m.\u001b[0m\u001b[0m__price\u001b[0m \u001b[1;33m=\u001b[0m \u001b[0mprice\u001b[0m\u001b[1;33m\u001b[0m\u001b[1;33m\u001b[0m\u001b[0m\n\u001b[0;32m     14\u001b[0m \u001b[1;33m\u001b[0m\u001b[0m\n",
      "\u001b[1;31mValueError\u001b[0m: Price can't be negative!"
     ]
    }
   ],
   "metadata": {}
  },
  {
   "cell_type": "markdown",
   "source": [
    "## Inheritance and method overriding"
   ],
   "metadata": {}
  },
  {
   "cell_type": "code",
   "execution_count": 85,
   "source": [
    "class Animal:\r\n",
    "    def __init__(self) -> None:\r\n",
    "        print(\"animal constructor\")\r\n",
    "        self.age = 1\r\n",
    "\r\n",
    "    def eat(self):\r\n",
    "        print(\"eat\")\r\n",
    "\r\n",
    "\r\n",
    "class Mammal(Animal):\r\n",
    "    def __init__(self) -> None:\r\n",
    "        # base class constructor called to initialize age attribute\r\n",
    "        # method overriding\r\n",
    "        super().__init__()\r\n",
    "        print(\"mammal constructor\")\r\n",
    "        self.weight = 2\r\n",
    "\r\n",
    "    def walk(self):\r\n",
    "        print(\"walk\")\r\n",
    "\r\n",
    "\r\n",
    "class Fish(Animal):\r\n",
    "    def swim(self):\r\n",
    "        print(\"swim\")"
   ],
   "outputs": [],
   "metadata": {}
  },
  {
   "cell_type": "code",
   "execution_count": 87,
   "source": [
    "m = Mammal()\r\n",
    "m.eat()\r\n",
    "m.walk()\r\n",
    "print(f\"{m.age = }\")\r\n",
    "print(f\"{m.weight = }\")\r\n",
    "print()\r\n",
    "\r\n",
    "f = Fish()\r\n",
    "f.eat()\r\n",
    "f.swim()\r\n",
    "print()\r\n",
    "\r\n",
    "# Useful Class Functions\r\n",
    "print(f\"{isinstance(m, Mammal) = }\")\r\n",
    "print(f\"{isinstance(m, Animal) = }\")\r\n",
    "print(f\"{isinstance(m, object) = }\")\r\n",
    "print(f\"{issubclass(Mammal, Animal) = }\")\r\n"
   ],
   "outputs": [
    {
     "output_type": "stream",
     "name": "stdout",
     "text": [
      "animal constructor\n",
      "mammal constructor\n",
      "eat\n",
      "walk\n",
      "m.age = 1\n",
      "m.weight = 2\n",
      "\n",
      "animal constructor\n",
      "eat\n",
      "swim\n",
      "\n",
      "isinstance(m, Mammal) = True\n",
      "isinstance(m, Animal) = True\n",
      "isinstance(m, object) = True\n",
      "issubclass(Mammal, Animal) = True\n"
     ]
    }
   ],
   "metadata": {}
  },
  {
   "cell_type": "markdown",
   "source": [
    "## Abstract Base Class"
   ],
   "metadata": {}
  },
  {
   "cell_type": "code",
   "execution_count": 88,
   "source": [
    "from abc import ABC, abstractmethod\r\n",
    "\r\n",
    "\r\n",
    "class InvalidOperationError(Exception):\r\n",
    "    pass\r\n",
    "\r\n",
    "\r\n",
    "class Stream(ABC):\r\n",
    "    def __init__(self) -> None:\r\n",
    "        self.opened = False\r\n",
    "\r\n",
    "    def open(self):\r\n",
    "        if self.opened:\r\n",
    "            raise InvalidOperationError(\"Stream Already open.\")\r\n",
    "        self.opened = True\r\n",
    "\r\n",
    "    def close(self):\r\n",
    "        if not self.opened:\r\n",
    "            raise InvalidOperationError(\"Stream Already closed.\")\r\n",
    "        self.opened = False\r\n",
    "\r\n",
    "    @abstractmethod\r\n",
    "    def read(self):\r\n",
    "        pass\r\n",
    "\r\n",
    "\r\n",
    "class FileStream(Stream):\r\n",
    "    def read(self):\r\n",
    "        print(\"Reading data from file.\")\r\n",
    "\r\n",
    "\r\n",
    "class NetworkStream(Stream):\r\n",
    "    def read(self):\r\n",
    "        print(\"Reading data from network.\")\r\n",
    "\r\n"
   ],
   "outputs": [],
   "metadata": {}
  },
  {
   "cell_type": "code",
   "execution_count": 89,
   "source": [
    "# can't directly create abstract class objects\r\n",
    "stream = Stream()"
   ],
   "outputs": [
    {
     "output_type": "error",
     "ename": "TypeError",
     "evalue": "Can't instantiate abstract class Stream with abstract methods read",
     "traceback": [
      "\u001b[1;31m---------------------------------------------------------------------------\u001b[0m",
      "\u001b[1;31mTypeError\u001b[0m                                 Traceback (most recent call last)",
      "\u001b[1;32m<ipython-input-89-f9b0acce0318>\u001b[0m in \u001b[0;36m<module>\u001b[1;34m\u001b[0m\n\u001b[0;32m      1\u001b[0m \u001b[1;31m# can't directly create abstract class objects\u001b[0m\u001b[1;33m\u001b[0m\u001b[1;33m\u001b[0m\u001b[1;33m\u001b[0m\u001b[0m\n\u001b[1;32m----> 2\u001b[1;33m \u001b[0mstream\u001b[0m \u001b[1;33m=\u001b[0m \u001b[0mStream\u001b[0m\u001b[1;33m(\u001b[0m\u001b[1;33m)\u001b[0m\u001b[1;33m\u001b[0m\u001b[1;33m\u001b[0m\u001b[0m\n\u001b[0m",
      "\u001b[1;31mTypeError\u001b[0m: Can't instantiate abstract class Stream with abstract methods read"
     ]
    }
   ],
   "metadata": {}
  },
  {
   "cell_type": "code",
   "execution_count": 91,
   "source": [
    "# need to implement abstract method or this class will also be considered abstract\r\n",
    "class MemoryStream(Stream):\r\n",
    "    pass\r\n",
    "\r\n",
    "ms = MemoryStream()\r\n",
    "ms.open()"
   ],
   "outputs": [
    {
     "output_type": "error",
     "ename": "TypeError",
     "evalue": "Can't instantiate abstract class MemoryStream with abstract methods read",
     "traceback": [
      "\u001b[1;31m---------------------------------------------------------------------------\u001b[0m",
      "\u001b[1;31mTypeError\u001b[0m                                 Traceback (most recent call last)",
      "\u001b[1;32m<ipython-input-91-7c139c0d3ef5>\u001b[0m in \u001b[0;36m<module>\u001b[1;34m\u001b[0m\n\u001b[0;32m      2\u001b[0m     \u001b[1;32mpass\u001b[0m\u001b[1;33m\u001b[0m\u001b[1;33m\u001b[0m\u001b[0m\n\u001b[0;32m      3\u001b[0m \u001b[1;33m\u001b[0m\u001b[0m\n\u001b[1;32m----> 4\u001b[1;33m \u001b[0mms\u001b[0m \u001b[1;33m=\u001b[0m \u001b[0mMemoryStream\u001b[0m\u001b[1;33m(\u001b[0m\u001b[1;33m)\u001b[0m\u001b[1;33m\u001b[0m\u001b[1;33m\u001b[0m\u001b[0m\n\u001b[0m\u001b[0;32m      5\u001b[0m \u001b[0mms\u001b[0m\u001b[1;33m.\u001b[0m\u001b[0mopen\u001b[0m\u001b[1;33m(\u001b[0m\u001b[1;33m)\u001b[0m\u001b[1;33m\u001b[0m\u001b[1;33m\u001b[0m\u001b[0m\n",
      "\u001b[1;31mTypeError\u001b[0m: Can't instantiate abstract class MemoryStream with abstract methods read"
     ]
    }
   ],
   "metadata": {}
  },
  {
   "cell_type": "code",
   "execution_count": 93,
   "source": [
    "# need to implement abstract method or this class will also be considered abstract\r\n",
    "# now it's a concrete class\r\n",
    "class MemoryStream(Stream):\r\n",
    "    def read(self):\r\n",
    "        print(\"reading memory stream.\")\r\n",
    "\r\n",
    "ms = MemoryStream()\r\n",
    "ms.read()"
   ],
   "outputs": [
    {
     "output_type": "stream",
     "name": "stdout",
     "text": [
      "reading memory stream.\n"
     ]
    }
   ],
   "metadata": {}
  },
  {
   "cell_type": "markdown",
   "source": [
    "## Polymorphism"
   ],
   "metadata": {}
  },
  {
   "cell_type": "code",
   "execution_count": 94,
   "source": [
    "class UIControl(ABC):\r\n",
    "    @abstractmethod\r\n",
    "    def draw(self):\r\n",
    "        pass\r\n",
    "\r\n",
    "\r\n",
    "class TextBox(UIControl):\r\n",
    "    def draw(self):\r\n",
    "        print(\"Textbox\")\r\n",
    "\r\n",
    "\r\n",
    "class DropDown(UIControl):\r\n",
    "    def draw(self):\r\n",
    "        print(\"DropDown\")\r\n",
    "\r\n",
    "\r\n",
    "# draw is taking different forms based on objects supplied to it\r\n",
    "def draw(controls):\r\n",
    "    for control in controls:\r\n",
    "        control.draw()\r\n",
    "\r\n",
    "\r\n",
    "ddl = DropDown()\r\n",
    "tbox = TextBox()\r\n",
    "\r\n",
    "draw([ddl, tbox])\r\n"
   ],
   "outputs": [
    {
     "output_type": "stream",
     "name": "stdout",
     "text": [
      "DropDown\n",
      "Textbox\n"
     ]
    }
   ],
   "metadata": {}
  },
  {
   "cell_type": "markdown",
   "source": [
    "## Extending built-in Classes"
   ],
   "metadata": {}
  },
  {
   "cell_type": "code",
   "execution_count": 95,
   "source": [
    "class TrackableList(list):\r\n",
    "    def append(self, obj):\r\n",
    "        print(\"Appending object -\", obj)\r\n",
    "        super().append(obj)\r\n",
    "        \r\n",
    "li = TrackableList()\r\n",
    "li.append(\"a\")\r\n",
    "li.append(\"b\")\r\n",
    "li.append(\"c\")\r\n",
    "li.append(\"d\")\r\n",
    "print(li)"
   ],
   "outputs": [
    {
     "output_type": "stream",
     "name": "stdout",
     "text": [
      "Appending object - a\n",
      "Appending object - b\n",
      "Appending object - c\n",
      "Appending object - d\n",
      "['a', 'b', 'c', 'd']\n"
     ]
    }
   ],
   "metadata": {}
  },
  {
   "cell_type": "markdown",
   "source": [
    "## Namedtuples\n",
    " * can be used to create objects which don't have any methods\n",
    " * IMMUTABLE"
   ],
   "metadata": {}
  },
  {
   "cell_type": "code",
   "execution_count": 1,
   "source": [
    "from collections import namedtuple\r\n",
    "\r\n",
    "Point = namedtuple(\"Point\", [\"x\", \"y\"])\r\n",
    "\r\n",
    "p1 = Point(x=1, y=2)\r\n",
    "p2 = Point(x=1, y=2)\r\n",
    "\r\n",
    "print(p1 == p2)\r\n",
    "print(p1.x, p1.y)\r\n",
    "# immutable error\r\n",
    "p1.x = 1\r\n"
   ],
   "outputs": [
    {
     "output_type": "stream",
     "name": "stdout",
     "text": [
      "True\n",
      "1 2\n"
     ]
    },
    {
     "output_type": "error",
     "ename": "AttributeError",
     "evalue": "can't set attribute",
     "traceback": [
      "\u001b[1;31m---------------------------------------------------------------------------\u001b[0m",
      "\u001b[1;31mAttributeError\u001b[0m                            Traceback (most recent call last)",
      "\u001b[1;32m<ipython-input-1-b738bfa0abba>\u001b[0m in \u001b[0;36m<module>\u001b[1;34m\u001b[0m\n\u001b[0;32m      9\u001b[0m \u001b[0mprint\u001b[0m\u001b[1;33m(\u001b[0m\u001b[0mp1\u001b[0m\u001b[1;33m.\u001b[0m\u001b[0mx\u001b[0m\u001b[1;33m,\u001b[0m \u001b[0mp1\u001b[0m\u001b[1;33m.\u001b[0m\u001b[0my\u001b[0m\u001b[1;33m)\u001b[0m\u001b[1;33m\u001b[0m\u001b[1;33m\u001b[0m\u001b[0m\n\u001b[0;32m     10\u001b[0m \u001b[1;31m# immutable error\u001b[0m\u001b[1;33m\u001b[0m\u001b[1;33m\u001b[0m\u001b[1;33m\u001b[0m\u001b[0m\n\u001b[1;32m---> 11\u001b[1;33m \u001b[0mp1\u001b[0m\u001b[1;33m.\u001b[0m\u001b[0mx\u001b[0m \u001b[1;33m=\u001b[0m \u001b[1;36m1\u001b[0m\u001b[1;33m\u001b[0m\u001b[1;33m\u001b[0m\u001b[0m\n\u001b[0m",
      "\u001b[1;31mAttributeError\u001b[0m: can't set attribute"
     ]
    }
   ],
   "metadata": {}
  },
  {
   "cell_type": "code",
   "execution_count": null,
   "source": [],
   "outputs": [],
   "metadata": {}
  }
 ],
 "metadata": {
  "kernelspec": {
   "display_name": "Python 3",
   "language": "python",
   "name": "python3"
  },
  "language_info": {
   "codemirror_mode": {
    "name": "ipython",
    "version": 3
   },
   "file_extension": ".py",
   "mimetype": "text/x-python",
   "name": "python",
   "nbconvert_exporter": "python",
   "pygments_lexer": "ipython3",
   "version": "3.8.5"
  }
 },
 "nbformat": 4,
 "nbformat_minor": 4
}