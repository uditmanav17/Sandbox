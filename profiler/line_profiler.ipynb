{
 "cells": [
  {
   "cell_type": "markdown",
   "source": [
    "## [Line profiler](https://github.com/pyutils/line_profiler)\r\n",
    "\r\n",
    "0. Install line_profiler - conda install line_profiler\r\n",
    "1. Write python script\r\n",
    "2. Add @profile to functions you want to profile (no need to import)\r\n",
    "3. Run profiler on script\r\n",
    "4. Check report"
   ],
   "metadata": {}
  },
  {
   "cell_type": "code",
   "execution_count": 7,
   "source": [
    "%%writefile numsum.py\r\n",
    "\r\n",
    "@profile\r\n",
    "def twoNumberSum(arr, target):\r\n",
    "    items = set()\r\n",
    "    answers = []\r\n",
    "    for num in arr:\r\n",
    "        if target - num in items:\r\n",
    "            answers.append([num, target - num])\r\n",
    "        items.add(num)\r\n",
    "    return answers\r\n",
    "\r\n",
    "twoNumberSum([3, 5, -4, 8, 11, 1, -1, 6], 10)\r\n",
    "twoNumberSum([4, 6], 10)\r\n",
    "twoNumberSum([4, 6, 1], 5)\r\n",
    "twoNumberSum([4, 6, 1, -3], 3)\r\n",
    "twoNumberSum([1, 2, 3, 4, 5, 6, 7, 8, 9], 17)\r\n",
    "twoNumberSum([1, 2, 3, 4, 5, 6, 7, 8, 9, 15], 18)"
   ],
   "outputs": [
    {
     "output_type": "stream",
     "name": "stdout",
     "text": [
      "Writing numsum.py\n"
     ]
    }
   ],
   "metadata": {}
  },
  {
   "cell_type": "code",
   "execution_count": 8,
   "source": [
    "# go to shell and execute the kernprof command\r\n",
    "!kernprof -l numsum.py"
   ],
   "outputs": [
    {
     "output_type": "stream",
     "name": "stdout",
     "text": [
      "Wrote profile results to numsum.py.lprof\n"
     ]
    }
   ],
   "metadata": {}
  },
  {
   "cell_type": "code",
   "execution_count": 9,
   "source": [
    "# a new filewill be created <scriptname>.lprof\r\n",
    "# check profiling results via below command\r\n",
    "!python -m line_profiler numsum.py.lprof >> stats.txt"
   ],
   "outputs": [],
   "metadata": {}
  },
  {
   "cell_type": "code",
   "execution_count": 10,
   "source": [
    "!cat stats.txt"
   ],
   "outputs": [
    {
     "output_type": "stream",
     "name": "stdout",
     "text": [
      "Timer unit: 1e-07 s\n",
      "\n",
      "Total time: 4.7e-05 s\n",
      "File: numsum.py\n",
      "Function: twoNumberSum at line 3\n",
      "\n",
      "Line #      Hits         Time  Per Hit   % Time  Line Contents\n",
      "==============================================================\n",
      "     3                                           @profile\n",
      "     4                                           \n",
      "     5                                           def twoNumberSum(arr, target):\n",
      "     6                                           \n",
      "     7         6         59.0      9.8     12.6      items = set()\n",
      "     8                                           \n",
      "     9         6         20.0      3.3      4.3      answers = []\n",
      "    10                                           \n",
      "    11        42        108.0      2.6     23.0      for num in arr:\n",
      "    12                                           \n",
      "    13        36        111.0      3.1     23.6          if target - num in items:\n",
      "    14                                           \n",
      "    15         6         28.0      4.7      6.0              answers.append([num, target - num])\n",
      "    16                                           \n",
      "    17        36        130.0      3.6     27.7          items.add(num)\n",
      "    18                                           \n",
      "    19         6         14.0      2.3      3.0      return answers\n",
      "\n"
     ]
    }
   ],
   "metadata": {}
  },
  {
   "cell_type": "code",
   "execution_count": null,
   "source": [],
   "outputs": [],
   "metadata": {}
  }
 ],
 "metadata": {
  "orig_nbformat": 4,
  "language_info": {
   "name": "python",
   "version": "3.8.5",
   "mimetype": "text/x-python",
   "codemirror_mode": {
    "name": "ipython",
    "version": 3
   },
   "pygments_lexer": "ipython3",
   "nbconvert_exporter": "python",
   "file_extension": ".py"
  },
  "kernelspec": {
   "name": "python3",
   "display_name": "Python 3.8.5 64-bit ('ipy2': conda)"
  },
  "interpreter": {
   "hash": "70d61a9ee6891865912e7c305f02dc8fa4dcf70c3f4f768d086d196530632da1"
  }
 },
 "nbformat": 4,
 "nbformat_minor": 2
}