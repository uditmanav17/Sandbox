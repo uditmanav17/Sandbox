{
 "cells": [
  {
   "cell_type": "markdown",
   "metadata": {},
   "source": [
    "# File Handling Basics"
   ]
  },
  {
   "cell_type": "markdown",
   "metadata": {},
   "source": [
    "## Reading whole file in one go, returns string"
   ]
  },
  {
   "cell_type": "code",
   "execution_count": 1,
   "metadata": {},
   "outputs": [
    {
     "data": {
      "text/plain": [
       "\"Jan 31 00:09:39 ubuntu.local ticky: INFO Created ticket [#4217] (mdouglas)\\nJan 31 00:16:25 ubuntu.local ticky: INFO Closed ticket [#1754] (noel)\\nJan 31 00:21:30 ubuntu.local ticky: ERROR The ticket was modified while updating (breee)\\nJan 31 00:44:34 ubuntu.local ticky: ERROR Permission denied while closing ticket (ac)\\nJan 31 01:00:50 ubuntu.local ticky: INFO Commented on ticket [#4709] (blossom)\\nJan 31 01:29:16 ubuntu.local ticky: INFO Commented on ticket [#6518] (rr.robinson)\\nJan 31 01:33:12 ubuntu.local ticky: ERROR Tried to add information to closed ticket (mcintosh)\\nJan 31 01:43:10 ubuntu.local ticky: ERROR Tried to add information to closed ticket (jackowens)\\nJan 31 01:49:29 ubuntu.local ticky: ERROR Tried to add information to closed ticket (mdouglas)\\nJan 31 02:30:04 ubuntu.local ticky: ERROR Timeout while retrieving information (oren)\\nJan 31 02:55:31 ubuntu.local ticky: ERROR Ticket doesn't exist (xlg)\\nJan 31 03:05:35 ubuntu.local ticky: ERROR Timeout while retrieving information (ahmed.miller)\\nJan 31 03:08:55 ubuntu.local ticky: ERROR Ticket doesn't exist (blossom)\\nJan 31 03:39:27 ubuntu.local ticky: ERROR The ticket was modified while updating (bpacheco)\\nJan 31 03:47:24 ubuntu.local ticky: ERROR Ticket doesn't exist (enim.non)\\nJan 31 04:30:04 ubuntu.local ticky: ERROR Permission denied while closing ticket (rr.robinson)\\nJan 31 04:31:49 ubuntu.local ticky: ERROR Tried to add information to closed ticket (oren)\\nJan 31 04:32:49 ubuntu.local ticky: ERROR Timeout while retrieving information (mcintosh)\\nJan 31 04:44:23 ubuntu.local ticky: ERROR Timeout while retrieving information (ahmed.miller)\\nJan 31 04:44:46 ubuntu.local ticky: ERROR Connection to DB failed (jackowens)\\nJan 31 04:49:28 ubuntu.local ticky: ERROR Permission denied while closing ticket (flavia)\\nJan 31 05:12:39 ubuntu.local ticky: ERROR Tried to add information to closed ticket (oren)\\nJan 31 05:18:45 ubuntu.local ticky: ERROR Tried to add information to closed ticket (sri)\\nJan 31 05:23:14 ubuntu.local ticky: INFO Commented on ticket [#1097] (breee)\\nJan 31 05:35:00 ubuntu.local ticky: ERROR Connection to DB failed (nonummy)\\nJan 31 05:45:30 ubuntu.local ticky: INFO Created ticket [#7115] (noel)\\nJan 31 05:51:30 ubuntu.local ticky: ERROR The ticket was modified while updating (flavia)\\nJan 31 05:57:46 ubuntu.local ticky: INFO Commented on ticket [#2253] (nonummy)\\nJan 31 06:12:02 ubuntu.local ticky: ERROR Connection to DB failed (oren)\\nJan 31 06:26:38 ubuntu.local ticky: ERROR Timeout while retrieving information (xlg)\\nJan 31 06:32:26 ubuntu.local ticky: INFO Created ticket [#7298] (ahmed.miller)\\n\""
      ]
     },
     "execution_count": 1,
     "metadata": {},
     "output_type": "execute_result"
    }
   ],
   "source": [
    "with open('sample.txt') as f:\n",
    "    content = f.read()\n",
    "content"
   ]
  },
  {
   "cell_type": "markdown",
   "metadata": {},
   "source": [
    "## Read whole file in one go, break at \"\\n\", returns list"
   ]
  },
  {
   "cell_type": "code",
   "execution_count": 2,
   "metadata": {},
   "outputs": [
    {
     "data": {
      "text/plain": [
       "['Jan 31 00:09:39 ubuntu.local ticky: INFO Created ticket [#4217] (mdouglas)\\n',\n",
       " 'Jan 31 00:16:25 ubuntu.local ticky: INFO Closed ticket [#1754] (noel)\\n',\n",
       " 'Jan 31 00:21:30 ubuntu.local ticky: ERROR The ticket was modified while updating (breee)\\n',\n",
       " 'Jan 31 00:44:34 ubuntu.local ticky: ERROR Permission denied while closing ticket (ac)\\n',\n",
       " 'Jan 31 01:00:50 ubuntu.local ticky: INFO Commented on ticket [#4709] (blossom)\\n',\n",
       " 'Jan 31 01:29:16 ubuntu.local ticky: INFO Commented on ticket [#6518] (rr.robinson)\\n',\n",
       " 'Jan 31 01:33:12 ubuntu.local ticky: ERROR Tried to add information to closed ticket (mcintosh)\\n',\n",
       " 'Jan 31 01:43:10 ubuntu.local ticky: ERROR Tried to add information to closed ticket (jackowens)\\n',\n",
       " 'Jan 31 01:49:29 ubuntu.local ticky: ERROR Tried to add information to closed ticket (mdouglas)\\n',\n",
       " 'Jan 31 02:30:04 ubuntu.local ticky: ERROR Timeout while retrieving information (oren)\\n',\n",
       " \"Jan 31 02:55:31 ubuntu.local ticky: ERROR Ticket doesn't exist (xlg)\\n\",\n",
       " 'Jan 31 03:05:35 ubuntu.local ticky: ERROR Timeout while retrieving information (ahmed.miller)\\n',\n",
       " \"Jan 31 03:08:55 ubuntu.local ticky: ERROR Ticket doesn't exist (blossom)\\n\",\n",
       " 'Jan 31 03:39:27 ubuntu.local ticky: ERROR The ticket was modified while updating (bpacheco)\\n',\n",
       " \"Jan 31 03:47:24 ubuntu.local ticky: ERROR Ticket doesn't exist (enim.non)\\n\",\n",
       " 'Jan 31 04:30:04 ubuntu.local ticky: ERROR Permission denied while closing ticket (rr.robinson)\\n',\n",
       " 'Jan 31 04:31:49 ubuntu.local ticky: ERROR Tried to add information to closed ticket (oren)\\n',\n",
       " 'Jan 31 04:32:49 ubuntu.local ticky: ERROR Timeout while retrieving information (mcintosh)\\n',\n",
       " 'Jan 31 04:44:23 ubuntu.local ticky: ERROR Timeout while retrieving information (ahmed.miller)\\n',\n",
       " 'Jan 31 04:44:46 ubuntu.local ticky: ERROR Connection to DB failed (jackowens)\\n',\n",
       " 'Jan 31 04:49:28 ubuntu.local ticky: ERROR Permission denied while closing ticket (flavia)\\n',\n",
       " 'Jan 31 05:12:39 ubuntu.local ticky: ERROR Tried to add information to closed ticket (oren)\\n',\n",
       " 'Jan 31 05:18:45 ubuntu.local ticky: ERROR Tried to add information to closed ticket (sri)\\n',\n",
       " 'Jan 31 05:23:14 ubuntu.local ticky: INFO Commented on ticket [#1097] (breee)\\n',\n",
       " 'Jan 31 05:35:00 ubuntu.local ticky: ERROR Connection to DB failed (nonummy)\\n',\n",
       " 'Jan 31 05:45:30 ubuntu.local ticky: INFO Created ticket [#7115] (noel)\\n',\n",
       " 'Jan 31 05:51:30 ubuntu.local ticky: ERROR The ticket was modified while updating (flavia)\\n',\n",
       " 'Jan 31 05:57:46 ubuntu.local ticky: INFO Commented on ticket [#2253] (nonummy)\\n',\n",
       " 'Jan 31 06:12:02 ubuntu.local ticky: ERROR Connection to DB failed (oren)\\n',\n",
       " 'Jan 31 06:26:38 ubuntu.local ticky: ERROR Timeout while retrieving information (xlg)\\n',\n",
       " 'Jan 31 06:32:26 ubuntu.local ticky: INFO Created ticket [#7298] (ahmed.miller)\\n']"
      ]
     },
     "execution_count": 2,
     "metadata": {},
     "output_type": "execute_result"
    }
   ],
   "source": [
    "with open('sample.txt') as f:\n",
    "    content = f.readlines()\n",
    "content"
   ]
  },
  {
   "cell_type": "markdown",
   "metadata": {},
   "source": [
    "## Read file line by line, useful in cases where file is too large"
   ]
  },
  {
   "cell_type": "code",
   "execution_count": 10,
   "metadata": {},
   "outputs": [
    {
     "name": "stdout",
     "output_type": "stream",
     "text": [
      "Jan 31 00:09:39 ubuntu.local ticky: INFO Created ticket [#4217] (mdouglas)\n",
      "Jan 31 00:16:25 ubuntu.local ticky: INFO Closed ticket [#1754] (noel)\n",
      "Jan 31 00:21:30 ubuntu.local ticky: ERROR The ticket was modified while updating (breee)\n",
      "Jan 31 00:44:34 ubuntu.local ticky: ERROR Permission denied while closing ticket (ac)\n",
      "Jan 31 01:00:50 ubuntu.local ticky: INFO Commented on ticket [#4709] (blossom)\n",
      "Jan 31 01:29:16 ubuntu.local ticky: INFO Commented on ticket [#6518] (rr.robinson)\n",
      "Jan 31 01:33:12 ubuntu.local ticky: ERROR Tried to add information to closed ticket (mcintosh)\n",
      "Jan 31 01:43:10 ubuntu.local ticky: ERROR Tried to add information to closed ticket (jackowens)\n",
      "Jan 31 01:49:29 ubuntu.local ticky: ERROR Tried to add information to closed ticket (mdouglas)\n",
      "Jan 31 02:30:04 ubuntu.local ticky: ERROR Timeout while retrieving information (oren)\n",
      "Jan 31 02:55:31 ubuntu.local ticky: ERROR Ticket doesn't exist (xlg)\n",
      "Jan 31 03:05:35 ubuntu.local ticky: ERROR Timeout while retrieving information (ahmed.miller)\n",
      "Jan 31 03:08:55 ubuntu.local ticky: ERROR Ticket doesn't exist (blossom)\n",
      "Jan 31 03:39:27 ubuntu.local ticky: ERROR The ticket was modified while updating (bpacheco)\n",
      "Jan 31 03:47:24 ubuntu.local ticky: ERROR Ticket doesn't exist (enim.non)\n",
      "Jan 31 04:30:04 ubuntu.local ticky: ERROR Permission denied while closing ticket (rr.robinson)\n",
      "Jan 31 04:31:49 ubuntu.local ticky: ERROR Tried to add information to closed ticket (oren)\n",
      "Jan 31 04:32:49 ubuntu.local ticky: ERROR Timeout while retrieving information (mcintosh)\n",
      "Jan 31 04:44:23 ubuntu.local ticky: ERROR Timeout while retrieving information (ahmed.miller)\n",
      "Jan 31 04:44:46 ubuntu.local ticky: ERROR Connection to DB failed (jackowens)\n",
      "Jan 31 04:49:28 ubuntu.local ticky: ERROR Permission denied while closing ticket (flavia)\n",
      "Jan 31 05:12:39 ubuntu.local ticky: ERROR Tried to add information to closed ticket (oren)\n",
      "Jan 31 05:18:45 ubuntu.local ticky: ERROR Tried to add information to closed ticket (sri)\n",
      "Jan 31 05:23:14 ubuntu.local ticky: INFO Commented on ticket [#1097] (breee)\n",
      "Jan 31 05:35:00 ubuntu.local ticky: ERROR Connection to DB failed (nonummy)\n",
      "Jan 31 05:45:30 ubuntu.local ticky: INFO Created ticket [#7115] (noel)\n",
      "Jan 31 05:51:30 ubuntu.local ticky: ERROR The ticket was modified while updating (flavia)\n",
      "Jan 31 05:57:46 ubuntu.local ticky: INFO Commented on ticket [#2253] (nonummy)\n",
      "Jan 31 06:12:02 ubuntu.local ticky: ERROR Connection to DB failed (oren)\n",
      "Jan 31 06:26:38 ubuntu.local ticky: ERROR Timeout while retrieving information (xlg)\n",
      "Jan 31 06:32:26 ubuntu.local ticky: INFO Created ticket [#7298] (ahmed.miller)\n"
     ]
    }
   ],
   "source": [
    "# with open('sample.txt') as f:\n",
    "#     content = f.readline()\n",
    "#     while content:\n",
    "#         print(content, end='')\n",
    "#         content = f.readline()\n",
    "\n",
    "# Another, better way\n",
    "with open('sample.txt') as f:\n",
    "    for line in f:\n",
    "        print(line, end='')"
   ]
  },
  {
   "cell_type": "markdown",
   "metadata": {},
   "source": [
    "## Read first N lines "
   ]
  },
  {
   "cell_type": "code",
   "execution_count": 4,
   "metadata": {},
   "outputs": [
    {
     "name": "stdout",
     "output_type": "stream",
     "text": [
      "['Jan 31 00:09:39 ubuntu.local ticky: INFO Created ticket [#4217] (mdouglas)\\n', 'Jan 31 00:16:25 ubuntu.local ticky: INFO Closed ticket [#1754] (noel)\\n', 'Jan 31 00:21:30 ubuntu.local ticky: ERROR The ticket was modified while updating (breee)\\n']\n"
     ]
    }
   ],
   "source": [
    "from itertools import islice\n",
    "N = 3\n",
    "with open(\"sample.txt\") as myfile:\n",
    "    head = list(islice(myfile, N))\n",
    "print(head)"
   ]
  },
  {
   "cell_type": "code",
   "execution_count": 5,
   "metadata": {},
   "outputs": [
    {
     "name": "stdout",
     "output_type": "stream",
     "text": [
      "['Jan 31 00:09:39 ubuntu.local ticky: INFO Created ticket [#4217] (mdouglas)\\n', 'Jan 31 00:16:25 ubuntu.local ticky: INFO Closed ticket [#1754] (noel)\\n', 'Jan 31 00:21:30 ubuntu.local ticky: ERROR The ticket was modified while updating (breee)\\n']\n"
     ]
    }
   ],
   "source": [
    "# another way to read first N lines\n",
    "N = 3\n",
    "with open(\"sample.txt\") as myfile:\n",
    "    head = [next(myfile) for x in range(N)]\n",
    "print(head)"
   ]
  },
  {
   "cell_type": "markdown",
   "metadata": {},
   "source": [
    "## Reading N lines at a time, iteratively"
   ]
  },
  {
   "cell_type": "code",
   "execution_count": 6,
   "metadata": {},
   "outputs": [
    {
     "name": "stdout",
     "output_type": "stream",
     "text": [
      "['Jan 31 00:09:39 ubuntu.local ticky: INFO Created ticket [#4217] (mdouglas)\\n', 'Jan 31 00:16:25 ubuntu.local ticky: INFO Closed ticket [#1754] (noel)\\n', 'Jan 31 00:21:30 ubuntu.local ticky: ERROR The ticket was modified while updating (breee)\\n', 'Jan 31 00:44:34 ubuntu.local ticky: ERROR Permission denied while closing ticket (ac)\\n', 'Jan 31 01:00:50 ubuntu.local ticky: INFO Commented on ticket [#4709] (blossom)\\n', 'Jan 31 01:29:16 ubuntu.local ticky: INFO Commented on ticket [#6518] (rr.robinson)\\n', 'Jan 31 01:33:12 ubuntu.local ticky: ERROR Tried to add information to closed ticket (mcintosh)\\n']\n",
      "['Jan 31 01:43:10 ubuntu.local ticky: ERROR Tried to add information to closed ticket (jackowens)\\n', 'Jan 31 01:49:29 ubuntu.local ticky: ERROR Tried to add information to closed ticket (mdouglas)\\n', 'Jan 31 02:30:04 ubuntu.local ticky: ERROR Timeout while retrieving information (oren)\\n', \"Jan 31 02:55:31 ubuntu.local ticky: ERROR Ticket doesn't exist (xlg)\\n\", 'Jan 31 03:05:35 ubuntu.local ticky: ERROR Timeout while retrieving information (ahmed.miller)\\n', \"Jan 31 03:08:55 ubuntu.local ticky: ERROR Ticket doesn't exist (blossom)\\n\", 'Jan 31 03:39:27 ubuntu.local ticky: ERROR The ticket was modified while updating (bpacheco)\\n']\n",
      "[\"Jan 31 03:47:24 ubuntu.local ticky: ERROR Ticket doesn't exist (enim.non)\\n\", 'Jan 31 04:30:04 ubuntu.local ticky: ERROR Permission denied while closing ticket (rr.robinson)\\n', 'Jan 31 04:31:49 ubuntu.local ticky: ERROR Tried to add information to closed ticket (oren)\\n', 'Jan 31 04:32:49 ubuntu.local ticky: ERROR Timeout while retrieving information (mcintosh)\\n', 'Jan 31 04:44:23 ubuntu.local ticky: ERROR Timeout while retrieving information (ahmed.miller)\\n', 'Jan 31 04:44:46 ubuntu.local ticky: ERROR Connection to DB failed (jackowens)\\n', 'Jan 31 04:49:28 ubuntu.local ticky: ERROR Permission denied while closing ticket (flavia)\\n']\n",
      "['Jan 31 05:12:39 ubuntu.local ticky: ERROR Tried to add information to closed ticket (oren)\\n', 'Jan 31 05:18:45 ubuntu.local ticky: ERROR Tried to add information to closed ticket (sri)\\n', 'Jan 31 05:23:14 ubuntu.local ticky: INFO Commented on ticket [#1097] (breee)\\n', 'Jan 31 05:35:00 ubuntu.local ticky: ERROR Connection to DB failed (nonummy)\\n', 'Jan 31 05:45:30 ubuntu.local ticky: INFO Created ticket [#7115] (noel)\\n', 'Jan 31 05:51:30 ubuntu.local ticky: ERROR The ticket was modified while updating (flavia)\\n', 'Jan 31 05:57:46 ubuntu.local ticky: INFO Commented on ticket [#2253] (nonummy)\\n']\n",
      "['Jan 31 06:12:02 ubuntu.local ticky: ERROR Connection to DB failed (oren)\\n', 'Jan 31 06:26:38 ubuntu.local ticky: ERROR Timeout while retrieving information (xlg)\\n', 'Jan 31 06:32:26 ubuntu.local ticky: INFO Created ticket [#7298] (ahmed.miller)\\n']\n"
     ]
    }
   ],
   "source": [
    "from itertools import islice\n",
    "N = 15\n",
    "with open(\"sample.txt\") as myfile:\n",
    "    head = list(islice(myfile, N))\n",
    "    while head:\n",
    "        print(head)\n",
    "        head = list(islice(myfile, N))"
   ]
  },
  {
   "cell_type": "code",
   "execution_count": 14,
   "metadata": {},
   "outputs": [
    {
     "name": "stdout",
     "output_type": "stream",
     "text": [
      "['Jan 31 00:09:39 ubuntu.local ticky: INFO Created ticket [#4217] (mdouglas)\\n', 'Jan 31 00:16:25 ubuntu.local ticky: INFO Closed ticket [#1754] (noel)\\n', 'Jan 31 00:21:30 ubuntu.local ticky: ERROR The ticket was modified while updating (breee)\\n', 'Jan 31 00:44:34 ubuntu.local ticky: ERROR Permission denied while closing ticket (ac)\\n', 'Jan 31 01:00:50 ubuntu.local ticky: INFO Commented on ticket [#4709] (blossom)\\n', 'Jan 31 01:29:16 ubuntu.local ticky: INFO Commented on ticket [#6518] (rr.robinson)\\n', 'Jan 31 01:33:12 ubuntu.local ticky: ERROR Tried to add information to closed ticket (mcintosh)\\n', 'Jan 31 01:43:10 ubuntu.local ticky: ERROR Tried to add information to closed ticket (jackowens)\\n', 'Jan 31 01:49:29 ubuntu.local ticky: ERROR Tried to add information to closed ticket (mdouglas)\\n', 'Jan 31 02:30:04 ubuntu.local ticky: ERROR Timeout while retrieving information (oren)\\n', \"Jan 31 02:55:31 ubuntu.local ticky: ERROR Ticket doesn't exist (xlg)\\n\", 'Jan 31 03:05:35 ubuntu.local ticky: ERROR Timeout while retrieving information (ahmed.miller)\\n', \"Jan 31 03:08:55 ubuntu.local ticky: ERROR Ticket doesn't exist (blossom)\\n\", 'Jan 31 03:39:27 ubuntu.local ticky: ERROR The ticket was modified while updating (bpacheco)\\n', \"Jan 31 03:47:24 ubuntu.local ticky: ERROR Ticket doesn't exist (enim.non)\\n\"]\n",
      "['Jan 31 04:30:04 ubuntu.local ticky: ERROR Permission denied while closing ticket (rr.robinson)\\n', 'Jan 31 04:31:49 ubuntu.local ticky: ERROR Tried to add information to closed ticket (oren)\\n', 'Jan 31 04:32:49 ubuntu.local ticky: ERROR Timeout while retrieving information (mcintosh)\\n', 'Jan 31 04:44:23 ubuntu.local ticky: ERROR Timeout while retrieving information (ahmed.miller)\\n', 'Jan 31 04:44:46 ubuntu.local ticky: ERROR Connection to DB failed (jackowens)\\n', 'Jan 31 04:49:28 ubuntu.local ticky: ERROR Permission denied while closing ticket (flavia)\\n', 'Jan 31 05:12:39 ubuntu.local ticky: ERROR Tried to add information to closed ticket (oren)\\n', 'Jan 31 05:18:45 ubuntu.local ticky: ERROR Tried to add information to closed ticket (sri)\\n', 'Jan 31 05:23:14 ubuntu.local ticky: INFO Commented on ticket [#1097] (breee)\\n', 'Jan 31 05:35:00 ubuntu.local ticky: ERROR Connection to DB failed (nonummy)\\n', 'Jan 31 05:45:30 ubuntu.local ticky: INFO Created ticket [#7115] (noel)\\n', 'Jan 31 05:51:30 ubuntu.local ticky: ERROR The ticket was modified while updating (flavia)\\n', 'Jan 31 05:57:46 ubuntu.local ticky: INFO Commented on ticket [#2253] (nonummy)\\n', 'Jan 31 06:12:02 ubuntu.local ticky: ERROR Connection to DB failed (oren)\\n', 'Jan 31 06:26:38 ubuntu.local ticky: ERROR Timeout while retrieving information (xlg)\\n']\n"
     ]
    },
    {
     "ename": "StopIteration",
     "evalue": "",
     "output_type": "error",
     "traceback": [
      "\u001b[1;31m---------------------------------------------------------------------------\u001b[0m",
      "\u001b[1;31mStopIteration\u001b[0m                             Traceback (most recent call last)",
      "\u001b[1;32m<ipython-input-14-c5a982b73daa>\u001b[0m in \u001b[0;36m<module>\u001b[1;34m\u001b[0m\n\u001b[0;32m      7\u001b[0m     \u001b[1;32mwhile\u001b[0m \u001b[0mhead\u001b[0m\u001b[1;33m:\u001b[0m\u001b[1;33m\u001b[0m\u001b[1;33m\u001b[0m\u001b[0m\n\u001b[0;32m      8\u001b[0m         \u001b[0mprint\u001b[0m\u001b[1;33m(\u001b[0m\u001b[0mhead\u001b[0m\u001b[1;33m)\u001b[0m\u001b[1;33m\u001b[0m\u001b[1;33m\u001b[0m\u001b[0m\n\u001b[1;32m----> 9\u001b[1;33m         \u001b[0mhead\u001b[0m \u001b[1;33m=\u001b[0m \u001b[1;33m[\u001b[0m\u001b[0mnext\u001b[0m\u001b[1;33m(\u001b[0m\u001b[0mmyfile\u001b[0m\u001b[1;33m)\u001b[0m \u001b[1;32mfor\u001b[0m \u001b[0mx\u001b[0m \u001b[1;32min\u001b[0m \u001b[0mrange\u001b[0m\u001b[1;33m(\u001b[0m\u001b[0mN\u001b[0m\u001b[1;33m)\u001b[0m\u001b[1;33m]\u001b[0m\u001b[1;33m\u001b[0m\u001b[1;33m\u001b[0m\u001b[0m\n\u001b[0m",
      "\u001b[1;32m<ipython-input-14-c5a982b73daa>\u001b[0m in \u001b[0;36m<listcomp>\u001b[1;34m(.0)\u001b[0m\n\u001b[0;32m      7\u001b[0m     \u001b[1;32mwhile\u001b[0m \u001b[0mhead\u001b[0m\u001b[1;33m:\u001b[0m\u001b[1;33m\u001b[0m\u001b[1;33m\u001b[0m\u001b[0m\n\u001b[0;32m      8\u001b[0m         \u001b[0mprint\u001b[0m\u001b[1;33m(\u001b[0m\u001b[0mhead\u001b[0m\u001b[1;33m)\u001b[0m\u001b[1;33m\u001b[0m\u001b[1;33m\u001b[0m\u001b[0m\n\u001b[1;32m----> 9\u001b[1;33m         \u001b[0mhead\u001b[0m \u001b[1;33m=\u001b[0m \u001b[1;33m[\u001b[0m\u001b[0mnext\u001b[0m\u001b[1;33m(\u001b[0m\u001b[0mmyfile\u001b[0m\u001b[1;33m)\u001b[0m \u001b[1;32mfor\u001b[0m \u001b[0mx\u001b[0m \u001b[1;32min\u001b[0m \u001b[0mrange\u001b[0m\u001b[1;33m(\u001b[0m\u001b[0mN\u001b[0m\u001b[1;33m)\u001b[0m\u001b[1;33m]\u001b[0m\u001b[1;33m\u001b[0m\u001b[1;33m\u001b[0m\u001b[0m\n\u001b[0m",
      "\u001b[1;31mStopIteration\u001b[0m: "
     ]
    }
   ],
   "source": [
    "# another way to read N lines, iteratively, \n",
    "# THIS WILL THROW StopIteration ERROR, if N is not multiple of number of lines in file\n",
    "# Needs to handle stopIteration error explictly\n",
    "N = 15\n",
    "with open(\"sample.txt\") as myfile:\n",
    "    head = [next(myfile) for x in range(N)]\n",
    "    while head:\n",
    "        print(head)\n",
    "        head = [next(myfile) for x in range(N)]"
   ]
  },
  {
   "cell_type": "code",
   "execution_count": null,
   "metadata": {},
   "outputs": [],
   "source": []
  }
 ],
 "metadata": {
  "kernelspec": {
   "display_name": "Python 3",
   "language": "python",
   "name": "python3"
  },
  "language_info": {
   "codemirror_mode": {
    "name": "ipython",
    "version": 3
   },
   "file_extension": ".py",
   "mimetype": "text/x-python",
   "name": "python",
   "nbconvert_exporter": "python",
   "pygments_lexer": "ipython3",
   "version": "3.7.7"
  }
 },
 "nbformat": 4,
 "nbformat_minor": 4
}
