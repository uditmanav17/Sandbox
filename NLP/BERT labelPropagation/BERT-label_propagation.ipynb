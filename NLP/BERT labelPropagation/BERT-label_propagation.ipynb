{
  "nbformat": 4,
  "nbformat_minor": 0,
  "metadata": {
    "colab": {
      "name": "Exploration - BERT, label propagation.ipynb",
      "provenance": [],
      "collapsed_sections": [],
      "toc_visible": true
    },
    "kernelspec": {
      "name": "python3",
      "display_name": "Python 3"
    }
  },
  "cells": [
    {
      "cell_type": "markdown",
      "metadata": {
        "id": "jFmDkzgzWGqK",
        "colab_type": "text"
      },
      "source": [
        "# Experimental Problem Statement\n",
        "Using label propagation, classify a subset set of textual data to appropriate classes. Using the trained model, classify the remaining datapoints to appropriate clusters.\n",
        "\n",
        "Well, since its just a demo, we are not gonna do manual labelling, instead we are gonna - \n",
        "\n",
        "* Pick a fully labelled dataset of form (text, labels)\n",
        "* Split this into train, test set\n",
        "* Retain labels of train set (to verify results)\n",
        "* Train a clustering algo on train set (assuming, for simplicity, k=#clusters in our data)\n",
        "* Classify test data to check\n",
        "* Evaluate results\n",
        "\n",
        "Along the way, going to explore some exciting new libraries.\n",
        "\n"
      ]
    },
    {
      "cell_type": "code",
      "metadata": {
        "id": "xQiTRhr_MVZN",
        "colab_type": "code",
        "colab": {
          "base_uri": "https://localhost:8080/",
          "height": 1000
        },
        "outputId": "c29036c1-5772-403c-9ffe-6b21986eb34c"
      },
      "source": [
        "!pip install texthero"
      ],
      "execution_count": 2,
      "outputs": [
        {
          "output_type": "stream",
          "text": [
            "Collecting texthero\n",
            "  Downloading https://files.pythonhosted.org/packages/1f/5a/a9d33b799fe53011de79d140ad6d86c440a2da1ae8a7b24e851ee2f8bde8/texthero-1.0.9-py3-none-any.whl\n",
            "Collecting nltk>=3.3\n",
            "\u001b[?25l  Downloading https://files.pythonhosted.org/packages/92/75/ce35194d8e3022203cca0d2f896dbb88689f9b3fce8e9f9cff942913519d/nltk-3.5.zip (1.4MB)\n",
            "\u001b[K     |████████████████████████████████| 1.4MB 4.0MB/s \n",
            "\u001b[?25hRequirement already satisfied: matplotlib>=3.1.0 in /usr/local/lib/python3.6/dist-packages (from texthero) (3.2.2)\n",
            "Requirement already satisfied: numpy>=1.17 in /usr/local/lib/python3.6/dist-packages (from texthero) (1.18.5)\n",
            "Requirement already satisfied: spacy>=2.2.2 in /usr/local/lib/python3.6/dist-packages (from texthero) (2.2.4)\n",
            "Requirement already satisfied: plotly>=4.2.0 in /usr/local/lib/python3.6/dist-packages (from texthero) (4.4.1)\n",
            "Requirement already satisfied: pandas>=1.0.2 in /usr/local/lib/python3.6/dist-packages (from texthero) (1.0.5)\n",
            "Requirement already satisfied: wordcloud>=1.5.0 in /usr/local/lib/python3.6/dist-packages (from texthero) (1.5.0)\n",
            "Requirement already satisfied: scikit-learn>=0.22 in /usr/local/lib/python3.6/dist-packages (from texthero) (0.22.2.post1)\n",
            "Requirement already satisfied: tqdm>=4.3 in /usr/local/lib/python3.6/dist-packages (from texthero) (4.41.1)\n",
            "Requirement already satisfied: gensim>=3.6.0 in /usr/local/lib/python3.6/dist-packages (from texthero) (3.6.0)\n",
            "Collecting unidecode>=1.1.1\n",
            "\u001b[?25l  Downloading https://files.pythonhosted.org/packages/d0/42/d9edfed04228bacea2d824904cae367ee9efd05e6cce7ceaaedd0b0ad964/Unidecode-1.1.1-py2.py3-none-any.whl (238kB)\n",
            "\u001b[K     |████████████████████████████████| 245kB 17.7MB/s \n",
            "\u001b[?25hRequirement already satisfied: click in /usr/local/lib/python3.6/dist-packages (from nltk>=3.3->texthero) (7.1.2)\n",
            "Requirement already satisfied: joblib in /usr/local/lib/python3.6/dist-packages (from nltk>=3.3->texthero) (0.16.0)\n",
            "Requirement already satisfied: regex in /usr/local/lib/python3.6/dist-packages (from nltk>=3.3->texthero) (2019.12.20)\n",
            "Requirement already satisfied: kiwisolver>=1.0.1 in /usr/local/lib/python3.6/dist-packages (from matplotlib>=3.1.0->texthero) (1.2.0)\n",
            "Requirement already satisfied: cycler>=0.10 in /usr/local/lib/python3.6/dist-packages (from matplotlib>=3.1.0->texthero) (0.10.0)\n",
            "Requirement already satisfied: python-dateutil>=2.1 in /usr/local/lib/python3.6/dist-packages (from matplotlib>=3.1.0->texthero) (2.8.1)\n",
            "Requirement already satisfied: pyparsing!=2.0.4,!=2.1.2,!=2.1.6,>=2.0.1 in /usr/local/lib/python3.6/dist-packages (from matplotlib>=3.1.0->texthero) (2.4.7)\n",
            "Requirement already satisfied: thinc==7.4.0 in /usr/local/lib/python3.6/dist-packages (from spacy>=2.2.2->texthero) (7.4.0)\n",
            "Requirement already satisfied: setuptools in /usr/local/lib/python3.6/dist-packages (from spacy>=2.2.2->texthero) (49.1.0)\n",
            "Requirement already satisfied: cymem<2.1.0,>=2.0.2 in /usr/local/lib/python3.6/dist-packages (from spacy>=2.2.2->texthero) (2.0.3)\n",
            "Requirement already satisfied: plac<1.2.0,>=0.9.6 in /usr/local/lib/python3.6/dist-packages (from spacy>=2.2.2->texthero) (1.1.3)\n",
            "Requirement already satisfied: wasabi<1.1.0,>=0.4.0 in /usr/local/lib/python3.6/dist-packages (from spacy>=2.2.2->texthero) (0.7.0)\n",
            "Requirement already satisfied: requests<3.0.0,>=2.13.0 in /usr/local/lib/python3.6/dist-packages (from spacy>=2.2.2->texthero) (2.23.0)\n",
            "Requirement already satisfied: srsly<1.1.0,>=1.0.2 in /usr/local/lib/python3.6/dist-packages (from spacy>=2.2.2->texthero) (1.0.2)\n",
            "Requirement already satisfied: catalogue<1.1.0,>=0.0.7 in /usr/local/lib/python3.6/dist-packages (from spacy>=2.2.2->texthero) (1.0.0)\n",
            "Requirement already satisfied: preshed<3.1.0,>=3.0.2 in /usr/local/lib/python3.6/dist-packages (from spacy>=2.2.2->texthero) (3.0.2)\n",
            "Requirement already satisfied: murmurhash<1.1.0,>=0.28.0 in /usr/local/lib/python3.6/dist-packages (from spacy>=2.2.2->texthero) (1.0.2)\n",
            "Requirement already satisfied: blis<0.5.0,>=0.4.0 in /usr/local/lib/python3.6/dist-packages (from spacy>=2.2.2->texthero) (0.4.1)\n",
            "Requirement already satisfied: six in /usr/local/lib/python3.6/dist-packages (from plotly>=4.2.0->texthero) (1.12.0)\n",
            "Requirement already satisfied: retrying>=1.3.3 in /usr/local/lib/python3.6/dist-packages (from plotly>=4.2.0->texthero) (1.3.3)\n",
            "Requirement already satisfied: pytz>=2017.2 in /usr/local/lib/python3.6/dist-packages (from pandas>=1.0.2->texthero) (2018.9)\n",
            "Requirement already satisfied: pillow in /usr/local/lib/python3.6/dist-packages (from wordcloud>=1.5.0->texthero) (7.0.0)\n",
            "Requirement already satisfied: scipy>=0.17.0 in /usr/local/lib/python3.6/dist-packages (from scikit-learn>=0.22->texthero) (1.4.1)\n",
            "Requirement already satisfied: smart-open>=1.2.1 in /usr/local/lib/python3.6/dist-packages (from gensim>=3.6.0->texthero) (2.1.0)\n",
            "Requirement already satisfied: idna<3,>=2.5 in /usr/local/lib/python3.6/dist-packages (from requests<3.0.0,>=2.13.0->spacy>=2.2.2->texthero) (2.10)\n",
            "Requirement already satisfied: certifi>=2017.4.17 in /usr/local/lib/python3.6/dist-packages (from requests<3.0.0,>=2.13.0->spacy>=2.2.2->texthero) (2020.6.20)\n",
            "Requirement already satisfied: urllib3!=1.25.0,!=1.25.1,<1.26,>=1.21.1 in /usr/local/lib/python3.6/dist-packages (from requests<3.0.0,>=2.13.0->spacy>=2.2.2->texthero) (1.24.3)\n",
            "Requirement already satisfied: chardet<4,>=3.0.2 in /usr/local/lib/python3.6/dist-packages (from requests<3.0.0,>=2.13.0->spacy>=2.2.2->texthero) (3.0.4)\n",
            "Requirement already satisfied: importlib-metadata>=0.20; python_version < \"3.8\" in /usr/local/lib/python3.6/dist-packages (from catalogue<1.1.0,>=0.0.7->spacy>=2.2.2->texthero) (1.7.0)\n",
            "Requirement already satisfied: boto3 in /usr/local/lib/python3.6/dist-packages (from smart-open>=1.2.1->gensim>=3.6.0->texthero) (1.14.20)\n",
            "Requirement already satisfied: boto in /usr/local/lib/python3.6/dist-packages (from smart-open>=1.2.1->gensim>=3.6.0->texthero) (2.49.0)\n",
            "Requirement already satisfied: zipp>=0.5 in /usr/local/lib/python3.6/dist-packages (from importlib-metadata>=0.20; python_version < \"3.8\"->catalogue<1.1.0,>=0.0.7->spacy>=2.2.2->texthero) (3.1.0)\n",
            "Requirement already satisfied: jmespath<1.0.0,>=0.7.1 in /usr/local/lib/python3.6/dist-packages (from boto3->smart-open>=1.2.1->gensim>=3.6.0->texthero) (0.10.0)\n",
            "Requirement already satisfied: s3transfer<0.4.0,>=0.3.0 in /usr/local/lib/python3.6/dist-packages (from boto3->smart-open>=1.2.1->gensim>=3.6.0->texthero) (0.3.3)\n",
            "Requirement already satisfied: botocore<1.18.0,>=1.17.20 in /usr/local/lib/python3.6/dist-packages (from boto3->smart-open>=1.2.1->gensim>=3.6.0->texthero) (1.17.20)\n",
            "Requirement already satisfied: docutils<0.16,>=0.10 in /usr/local/lib/python3.6/dist-packages (from botocore<1.18.0,>=1.17.20->boto3->smart-open>=1.2.1->gensim>=3.6.0->texthero) (0.15.2)\n",
            "Building wheels for collected packages: nltk\n",
            "  Building wheel for nltk (setup.py) ... \u001b[?25l\u001b[?25hdone\n",
            "  Created wheel for nltk: filename=nltk-3.5-cp36-none-any.whl size=1434675 sha256=4722af3814dcc61ad354fad23a5bf50cd99468840d8b7df122fb2da502851eff\n",
            "  Stored in directory: /root/.cache/pip/wheels/ae/8c/3f/b1fe0ba04555b08b57ab52ab7f86023639a526d8bc8d384306\n",
            "Successfully built nltk\n",
            "Installing collected packages: nltk, unidecode, texthero\n",
            "  Found existing installation: nltk 3.2.5\n",
            "    Uninstalling nltk-3.2.5:\n",
            "      Successfully uninstalled nltk-3.2.5\n",
            "Successfully installed nltk-3.5 texthero-1.0.9 unidecode-1.1.1\n"
          ],
          "name": "stdout"
        }
      ]
    },
    {
      "cell_type": "markdown",
      "metadata": {
        "id": "p8g0VtfCZjo6",
        "colab_type": "text"
      },
      "source": [
        "# importing libraries"
      ]
    },
    {
      "cell_type": "code",
      "metadata": {
        "id": "FLRKB6AuLjtv",
        "colab_type": "code",
        "colab": {}
      },
      "source": [
        "import texthero as hero\n",
        "import pandas as pd\n",
        "import numpy as np\n",
        "from sklearn.model_selection import train_test_split"
      ],
      "execution_count": 24,
      "outputs": []
    },
    {
      "cell_type": "markdown",
      "metadata": {
        "id": "VsJMeVkvLqko",
        "colab_type": "text"
      },
      "source": [
        "# Texthero \n",
        "* [Github](https://github.com/jbesomi/texthero)\n",
        "* [Docs](https://texthero.org/)"
      ]
    },
    {
      "cell_type": "markdown",
      "metadata": {
        "id": "xT4cxXJ8T-LQ",
        "colab_type": "text"
      },
      "source": [
        "## loading data"
      ]
    },
    {
      "cell_type": "code",
      "metadata": {
        "id": "-w2znuYKMUC5",
        "colab_type": "code",
        "colab": {
          "base_uri": "https://localhost:8080/",
          "height": 206
        },
        "outputId": "a5d5bafe-9bb8-4536-9697-226de1f1c18a"
      },
      "source": [
        "# import data\n",
        "file_path = r\"https://raw.githubusercontent.com/jbesomi/texthero/master/dataset/bbcsport.csv\"\n",
        "df = pd.read_csv(file_path)\n",
        "display(df.head())"
      ],
      "execution_count": 5,
      "outputs": [
        {
          "output_type": "display_data",
          "data": {
            "text/html": [
              "<div>\n",
              "<style scoped>\n",
              "    .dataframe tbody tr th:only-of-type {\n",
              "        vertical-align: middle;\n",
              "    }\n",
              "\n",
              "    .dataframe tbody tr th {\n",
              "        vertical-align: top;\n",
              "    }\n",
              "\n",
              "    .dataframe thead th {\n",
              "        text-align: right;\n",
              "    }\n",
              "</style>\n",
              "<table border=\"1\" class=\"dataframe\">\n",
              "  <thead>\n",
              "    <tr style=\"text-align: right;\">\n",
              "      <th></th>\n",
              "      <th>text</th>\n",
              "      <th>topic</th>\n",
              "    </tr>\n",
              "  </thead>\n",
              "  <tbody>\n",
              "    <tr>\n",
              "      <th>0</th>\n",
              "      <td>Claxton hunting first major medal\\n\\nBritish h...</td>\n",
              "      <td>athletics</td>\n",
              "    </tr>\n",
              "    <tr>\n",
              "      <th>1</th>\n",
              "      <td>O'Sullivan could run in Worlds\\n\\nSonia O'Sull...</td>\n",
              "      <td>athletics</td>\n",
              "    </tr>\n",
              "    <tr>\n",
              "      <th>2</th>\n",
              "      <td>Greene sets sights on world title\\n\\nMaurice G...</td>\n",
              "      <td>athletics</td>\n",
              "    </tr>\n",
              "    <tr>\n",
              "      <th>3</th>\n",
              "      <td>IAAF launches fight against drugs\\n\\nThe IAAF ...</td>\n",
              "      <td>athletics</td>\n",
              "    </tr>\n",
              "    <tr>\n",
              "      <th>4</th>\n",
              "      <td>Dibaba breaks 5,000m world record\\n\\nEthiopia'...</td>\n",
              "      <td>athletics</td>\n",
              "    </tr>\n",
              "  </tbody>\n",
              "</table>\n",
              "</div>"
            ],
            "text/plain": [
              "                                                text      topic\n",
              "0  Claxton hunting first major medal\\n\\nBritish h...  athletics\n",
              "1  O'Sullivan could run in Worlds\\n\\nSonia O'Sull...  athletics\n",
              "2  Greene sets sights on world title\\n\\nMaurice G...  athletics\n",
              "3  IAAF launches fight against drugs\\n\\nThe IAAF ...  athletics\n",
              "4  Dibaba breaks 5,000m world record\\n\\nEthiopia'...  athletics"
            ]
          },
          "metadata": {
            "tags": []
          }
        }
      ]
    },
    {
      "cell_type": "markdown",
      "metadata": {
        "id": "1OgHWx9HUffU",
        "colab_type": "text"
      },
      "source": [
        "## get distinct labels"
      ]
    },
    {
      "cell_type": "code",
      "metadata": {
        "id": "KxZmN-c1MtES",
        "colab_type": "code",
        "colab": {
          "base_uri": "https://localhost:8080/",
          "height": 127
        },
        "outputId": "b7fc3204-bd8f-4910-8ea0-7ae329a360a6"
      },
      "source": [
        "# check values of labels\n",
        "df['topic'].value_counts()"
      ],
      "execution_count": 10,
      "outputs": [
        {
          "output_type": "execute_result",
          "data": {
            "text/plain": [
              "football     265\n",
              "rugby        147\n",
              "cricket      124\n",
              "athletics    101\n",
              "tennis       100\n",
              "Name: topic, dtype: int64"
            ]
          },
          "metadata": {
            "tags": []
          },
          "execution_count": 10
        }
      ]
    },
    {
      "cell_type": "code",
      "metadata": {
        "id": "mNy0rJiuNS5L",
        "colab_type": "code",
        "colab": {
          "base_uri": "https://localhost:8080/",
          "height": 183
        },
        "outputId": "13adb7cd-ad0d-4562-fbb9-5a9d861d0985"
      },
      "source": [
        "# first row before prep\n",
        "df['text'][0]"
      ],
      "execution_count": 11,
      "outputs": [
        {
          "output_type": "execute_result",
          "data": {
            "application/vnd.google.colaboratory.intrinsic": {
              "type": "string"
            },
            "text/plain": [
              "'Claxton hunting first major medal\\n\\nBritish hurdler Sarah Claxton is confident she can win her first major medal at next month\\'s European Indoor Championships in Madrid.\\n\\nThe 25-year-old has already smashed the British record over 60m hurdles twice this season, setting a new mark of 7.96 seconds to win the AAAs title. \"I am quite confident,\" said Claxton. \"But I take each race as it comes. \"As long as I keep up my training but not do too much I think there is a chance of a medal.\" Claxton has won the national 60m hurdles title for the past three years but has struggled to translate her domestic success to the international stage. Now, the Scotland-born athlete owns the equal fifth-fastest time in the world this year. And at last week\\'s Birmingham Grand Prix, Claxton left European medal favourite Russian Irina Shevchenko trailing in sixth spot.\\n\\nFor the first time, Claxton has only been preparing for a campaign over the hurdles - which could explain her leap in form. In previous seasons, the 25-year-old also contested the long jump but since moving from Colchester to London she has re-focused her attentions. Claxton will see if her new training regime pays dividends at the European Indoors which take place on 5-6 March.\\n'"
            ]
          },
          "metadata": {
            "tags": []
          },
          "execution_count": 11
        }
      ]
    },
    {
      "cell_type": "code",
      "metadata": {
        "id": "q-9DfAdPSowt",
        "colab_type": "code",
        "colab": {
          "base_uri": "https://localhost:8080/",
          "height": 164
        },
        "outputId": "334151cf-7c46-4cbf-8999-a11e11c5f39e"
      },
      "source": [
        "# clean pipeline - https://texthero.org/docs/api/texthero.preprocessing.clean.html#texthero.preprocessing.clean\n",
        "# first row after perp\n",
        "hero.clean(df['text'])[0]"
      ],
      "execution_count": 12,
      "outputs": [
        {
          "output_type": "execute_result",
          "data": {
            "application/vnd.google.colaboratory.intrinsic": {
              "type": "string"
            },
            "text/plain": [
              "'claxton hunting first major medal british hurdler sarah claxton confident win first major medal next month european indoor championships madrid year old already smashed british record 60m hurdles twice season setting new mark seconds win aaas title quite confident said claxton take race comes long keep training much think chance medal claxton national 60m hurdles title past three years struggled translate domestic success international stage scotland born athlete owns equal fifth fastest time world year last week birmingham grand prix claxton left european medal favourite russian irina shevchenko trailing sixth spot first time claxton preparing campaign hurdles could explain leap form previous seasons year old also contested long jump since moving colchester london focused attentions claxton see new training regime pays dividends european indoors take place march'"
            ]
          },
          "metadata": {
            "tags": []
          },
          "execution_count": 12
        }
      ]
    },
    {
      "cell_type": "markdown",
      "metadata": {
        "id": "BrfZev-PUBSJ",
        "colab_type": "text"
      },
      "source": [
        "## preprocessing"
      ]
    },
    {
      "cell_type": "code",
      "metadata": {
        "id": "37WV1Z82Szqc",
        "colab_type": "code",
        "colab": {
          "base_uri": "https://localhost:8080/",
          "height": 206
        },
        "outputId": "fd0d065e-a620-45e5-937f-9f2ee50736e6"
      },
      "source": [
        "df['text'] = hero.clean(df['text'])\n",
        "df.head()"
      ],
      "execution_count": 13,
      "outputs": [
        {
          "output_type": "execute_result",
          "data": {
            "text/html": [
              "<div>\n",
              "<style scoped>\n",
              "    .dataframe tbody tr th:only-of-type {\n",
              "        vertical-align: middle;\n",
              "    }\n",
              "\n",
              "    .dataframe tbody tr th {\n",
              "        vertical-align: top;\n",
              "    }\n",
              "\n",
              "    .dataframe thead th {\n",
              "        text-align: right;\n",
              "    }\n",
              "</style>\n",
              "<table border=\"1\" class=\"dataframe\">\n",
              "  <thead>\n",
              "    <tr style=\"text-align: right;\">\n",
              "      <th></th>\n",
              "      <th>text</th>\n",
              "      <th>topic</th>\n",
              "    </tr>\n",
              "  </thead>\n",
              "  <tbody>\n",
              "    <tr>\n",
              "      <th>0</th>\n",
              "      <td>claxton hunting first major medal british hurd...</td>\n",
              "      <td>athletics</td>\n",
              "    </tr>\n",
              "    <tr>\n",
              "      <th>1</th>\n",
              "      <td>sullivan could run worlds sonia sullivan indic...</td>\n",
              "      <td>athletics</td>\n",
              "    </tr>\n",
              "    <tr>\n",
              "      <th>2</th>\n",
              "      <td>greene sets sights world title maurice greene ...</td>\n",
              "      <td>athletics</td>\n",
              "    </tr>\n",
              "    <tr>\n",
              "      <th>3</th>\n",
              "      <td>iaaf launches fight drugs iaaf athletics world...</td>\n",
              "      <td>athletics</td>\n",
              "    </tr>\n",
              "    <tr>\n",
              "      <th>4</th>\n",
              "      <td>dibaba breaks 000m world record ethiopia tirun...</td>\n",
              "      <td>athletics</td>\n",
              "    </tr>\n",
              "  </tbody>\n",
              "</table>\n",
              "</div>"
            ],
            "text/plain": [
              "                                                text      topic\n",
              "0  claxton hunting first major medal british hurd...  athletics\n",
              "1  sullivan could run worlds sonia sullivan indic...  athletics\n",
              "2  greene sets sights world title maurice greene ...  athletics\n",
              "3  iaaf launches fight drugs iaaf athletics world...  athletics\n",
              "4  dibaba breaks 000m world record ethiopia tirun...  athletics"
            ]
          },
          "metadata": {
            "tags": []
          },
          "execution_count": 13
        }
      ]
    },
    {
      "cell_type": "code",
      "metadata": {
        "id": "HEefHVIFUY4F",
        "colab_type": "code",
        "colab": {
          "base_uri": "https://localhost:8080/",
          "height": 206
        },
        "outputId": "e10b8118-c5ad-49b4-ec9a-b4146779d358"
      },
      "source": [
        "df2 = df.sample(frac=1) # shuffle dataset\n",
        "df2.head()"
      ],
      "execution_count": 20,
      "outputs": [
        {
          "output_type": "execute_result",
          "data": {
            "text/html": [
              "<div>\n",
              "<style scoped>\n",
              "    .dataframe tbody tr th:only-of-type {\n",
              "        vertical-align: middle;\n",
              "    }\n",
              "\n",
              "    .dataframe tbody tr th {\n",
              "        vertical-align: top;\n",
              "    }\n",
              "\n",
              "    .dataframe thead th {\n",
              "        text-align: right;\n",
              "    }\n",
              "</style>\n",
              "<table border=\"1\" class=\"dataframe\">\n",
              "  <thead>\n",
              "    <tr style=\"text-align: right;\">\n",
              "      <th></th>\n",
              "      <th>text</th>\n",
              "      <th>topic</th>\n",
              "    </tr>\n",
              "  </thead>\n",
              "  <tbody>\n",
              "    <tr>\n",
              "      <th>581</th>\n",
              "      <td>dallaglio man end controversy lawrence dallagl...</td>\n",
              "      <td>rugby</td>\n",
              "    </tr>\n",
              "    <tr>\n",
              "      <th>635</th>\n",
              "      <td>tindall aiming earn lions spot bath england ce...</td>\n",
              "      <td>rugby</td>\n",
              "    </tr>\n",
              "    <tr>\n",
              "      <th>279</th>\n",
              "      <td>legendary dutch boss michels dies legendary du...</td>\n",
              "      <td>football</td>\n",
              "    </tr>\n",
              "    <tr>\n",
              "      <th>113</th>\n",
              "      <td>england slump defeat fourth one day internatio...</td>\n",
              "      <td>cricket</td>\n",
              "    </tr>\n",
              "    <tr>\n",
              "      <th>443</th>\n",
              "      <td>stars shine tsunami benefit ronaldinho world x...</td>\n",
              "      <td>football</td>\n",
              "    </tr>\n",
              "  </tbody>\n",
              "</table>\n",
              "</div>"
            ],
            "text/plain": [
              "                                                  text     topic\n",
              "581  dallaglio man end controversy lawrence dallagl...     rugby\n",
              "635  tindall aiming earn lions spot bath england ce...     rugby\n",
              "279  legendary dutch boss michels dies legendary du...  football\n",
              "113  england slump defeat fourth one day internatio...   cricket\n",
              "443  stars shine tsunami benefit ronaldinho world x...  football"
            ]
          },
          "metadata": {
            "tags": []
          },
          "execution_count": 20
        }
      ]
    },
    {
      "cell_type": "markdown",
      "metadata": {
        "id": "jmFuN5S5VKU1",
        "colab_type": "text"
      },
      "source": [
        "## Stratified sampling"
      ]
    },
    {
      "cell_type": "code",
      "metadata": {
        "id": "eE5C1TZMVNn-",
        "colab_type": "code",
        "colab": {
          "base_uri": "https://localhost:8080/",
          "height": 421
        },
        "outputId": "c1beadc6-16f4-47f4-f8c6-78c23ec78373"
      },
      "source": [
        "# first split data and labels\n",
        "X = df2.pop('text')\n",
        "display(X[:10])\n",
        "y = df2.pop('topic')\n",
        "print(y[:10])"
      ],
      "execution_count": 22,
      "outputs": [
        {
          "output_type": "display_data",
          "data": {
            "text/plain": [
              "581    dallaglio man end controversy lawrence dallagl...\n",
              "635    tindall aiming earn lions spot bath england ce...\n",
              "279    legendary dutch boss michels dies legendary du...\n",
              "113    england slump defeat fourth one day internatio...\n",
              "443    stars shine tsunami benefit ronaldinho world x...\n",
              "685    moya emotional davis cup win carlos moya descr...\n",
              "448    year remember club football south america cont...\n",
              "168    england claim historic series win fifth test c...\n",
              "415    clean sweep impossible mourinho chelsea boss j...\n",
              "119    auckland set fortwenty20 twenty20 internationa...\n",
              "Name: text, dtype: object"
            ]
          },
          "metadata": {
            "tags": []
          }
        },
        {
          "output_type": "stream",
          "text": [
            "581       rugby\n",
            "635       rugby\n",
            "279    football\n",
            "113     cricket\n",
            "443    football\n",
            "685      tennis\n",
            "448    football\n",
            "168     cricket\n",
            "415    football\n",
            "119     cricket\n",
            "Name: topic, dtype: object\n"
          ],
          "name": "stdout"
        }
      ]
    },
    {
      "cell_type": "code",
      "metadata": {
        "id": "_pieQ5e4TgR7",
        "colab_type": "code",
        "colab": {
          "base_uri": "https://localhost:8080/",
          "height": 90
        },
        "outputId": "1fb220fd-3180-435a-c087-672949a96818"
      },
      "source": [
        "# use stratified sampling\n",
        "X_train, X_test, y_train, y_test = train_test_split( X, y, test_size=0.4, random_state=42, stratify=y)\n",
        "\n",
        "print(f\"X_train.shape - {X_train.shape}\")\n",
        "print(f\"X_test.shape - {X_test.shape}\")\n",
        "print(f\"y_train.shape - {y_train.shape}\")\n",
        "print(f\"y_test.shape - {y_test.shape}\")"
      ],
      "execution_count": 25,
      "outputs": [
        {
          "output_type": "stream",
          "text": [
            "X_train.shape - (442,)\n",
            "X_test.shape - (295,)\n",
            "y_train.shape - (442,)\n",
            "y_test.shape - (295,)\n"
          ],
          "name": "stdout"
        }
      ]
    },
    {
      "cell_type": "code",
      "metadata": {
        "id": "btpW_WrOaHbB",
        "colab_type": "code",
        "colab": {
          "base_uri": "https://localhost:8080/",
          "height": 127
        },
        "outputId": "3308daec-9a2c-4a94-cf53-01585cb59806"
      },
      "source": [
        "y_train.value_counts()"
      ],
      "execution_count": 31,
      "outputs": [
        {
          "output_type": "execute_result",
          "data": {
            "text/plain": [
              "football     159\n",
              "rugby         88\n",
              "cricket       74\n",
              "athletics     61\n",
              "tennis        60\n",
              "Name: topic, dtype: int64"
            ]
          },
          "metadata": {
            "tags": []
          },
          "execution_count": 31
        }
      ]
    },
    {
      "cell_type": "markdown",
      "metadata": {
        "id": "G0eH2d_KTsr2",
        "colab_type": "text"
      },
      "source": [
        "Now, data is pretty much ready."
      ]
    },
    {
      "cell_type": "markdown",
      "metadata": {
        "id": "oIS_dN8ebDDE",
        "colab_type": "text"
      },
      "source": [
        "# BERT Embedding (sentence transformers)\n",
        "Converting text data to its respective BERT Embedding"
      ]
    },
    {
      "cell_type": "code",
      "metadata": {
        "id": "fdeGSqoRaNDT",
        "colab_type": "code",
        "colab": {
          "base_uri": "https://localhost:8080/",
          "height": 864
        },
        "outputId": "4b560d45-bb6d-4738-c890-a40ac2aad664"
      },
      "source": [
        "# install required packages\n",
        "!pip install sentence_transformers"
      ],
      "execution_count": 32,
      "outputs": [
        {
          "output_type": "stream",
          "text": [
            "Collecting sentence_transformers\n",
            "\u001b[?25l  Downloading https://files.pythonhosted.org/packages/d5/23/833e0620753a36cb2f18e2e4a4f72fd8c49c123c3f07744b69f8a592e083/sentence-transformers-0.3.0.tar.gz (61kB)\n",
            "\u001b[K     |████████████████████████████████| 71kB 2.1MB/s \n",
            "\u001b[?25hCollecting transformers>=3.0.2\n",
            "\u001b[?25l  Downloading https://files.pythonhosted.org/packages/27/3c/91ed8f5c4e7ef3227b4119200fc0ed4b4fd965b1f0172021c25701087825/transformers-3.0.2-py3-none-any.whl (769kB)\n",
            "\u001b[K     |████████████████████████████████| 778kB 4.7MB/s \n",
            "\u001b[?25hRequirement already satisfied: tqdm in /usr/local/lib/python3.6/dist-packages (from sentence_transformers) (4.41.1)\n",
            "Requirement already satisfied: torch>=1.0.1 in /usr/local/lib/python3.6/dist-packages (from sentence_transformers) (1.5.1+cu101)\n",
            "Requirement already satisfied: numpy in /usr/local/lib/python3.6/dist-packages (from sentence_transformers) (1.18.5)\n",
            "Requirement already satisfied: scikit-learn in /usr/local/lib/python3.6/dist-packages (from sentence_transformers) (0.22.2.post1)\n",
            "Requirement already satisfied: scipy in /usr/local/lib/python3.6/dist-packages (from sentence_transformers) (1.4.1)\n",
            "Requirement already satisfied: nltk in /usr/local/lib/python3.6/dist-packages (from sentence_transformers) (3.5)\n",
            "Requirement already satisfied: filelock in /usr/local/lib/python3.6/dist-packages (from transformers>=3.0.2->sentence_transformers) (3.0.12)\n",
            "Requirement already satisfied: requests in /usr/local/lib/python3.6/dist-packages (from transformers>=3.0.2->sentence_transformers) (2.23.0)\n",
            "Collecting tokenizers==0.8.1.rc1\n",
            "\u001b[?25l  Downloading https://files.pythonhosted.org/packages/40/d0/30d5f8d221a0ed981a186c8eb986ce1c94e3a6e87f994eae9f4aa5250217/tokenizers-0.8.1rc1-cp36-cp36m-manylinux1_x86_64.whl (3.0MB)\n",
            "\u001b[K     |████████████████████████████████| 3.0MB 40.4MB/s \n",
            "\u001b[?25hRequirement already satisfied: regex!=2019.12.17 in /usr/local/lib/python3.6/dist-packages (from transformers>=3.0.2->sentence_transformers) (2019.12.20)\n",
            "Requirement already satisfied: packaging in /usr/local/lib/python3.6/dist-packages (from transformers>=3.0.2->sentence_transformers) (20.4)\n",
            "Collecting sentencepiece!=0.1.92\n",
            "\u001b[?25l  Downloading https://files.pythonhosted.org/packages/d4/a4/d0a884c4300004a78cca907a6ff9a5e9fe4f090f5d95ab341c53d28cbc58/sentencepiece-0.1.91-cp36-cp36m-manylinux1_x86_64.whl (1.1MB)\n",
            "\u001b[K     |████████████████████████████████| 1.1MB 41.4MB/s \n",
            "\u001b[?25hRequirement already satisfied: dataclasses; python_version < \"3.7\" in /usr/local/lib/python3.6/dist-packages (from transformers>=3.0.2->sentence_transformers) (0.7)\n",
            "Collecting sacremoses\n",
            "\u001b[?25l  Downloading https://files.pythonhosted.org/packages/7d/34/09d19aff26edcc8eb2a01bed8e98f13a1537005d31e95233fd48216eed10/sacremoses-0.0.43.tar.gz (883kB)\n",
            "\u001b[K     |████████████████████████████████| 890kB 37.3MB/s \n",
            "\u001b[?25hRequirement already satisfied: future in /usr/local/lib/python3.6/dist-packages (from torch>=1.0.1->sentence_transformers) (0.16.0)\n",
            "Requirement already satisfied: joblib>=0.11 in /usr/local/lib/python3.6/dist-packages (from scikit-learn->sentence_transformers) (0.16.0)\n",
            "Requirement already satisfied: click in /usr/local/lib/python3.6/dist-packages (from nltk->sentence_transformers) (7.1.2)\n",
            "Requirement already satisfied: urllib3!=1.25.0,!=1.25.1,<1.26,>=1.21.1 in /usr/local/lib/python3.6/dist-packages (from requests->transformers>=3.0.2->sentence_transformers) (1.24.3)\n",
            "Requirement already satisfied: chardet<4,>=3.0.2 in /usr/local/lib/python3.6/dist-packages (from requests->transformers>=3.0.2->sentence_transformers) (3.0.4)\n",
            "Requirement already satisfied: certifi>=2017.4.17 in /usr/local/lib/python3.6/dist-packages (from requests->transformers>=3.0.2->sentence_transformers) (2020.6.20)\n",
            "Requirement already satisfied: idna<3,>=2.5 in /usr/local/lib/python3.6/dist-packages (from requests->transformers>=3.0.2->sentence_transformers) (2.10)\n",
            "Requirement already satisfied: pyparsing>=2.0.2 in /usr/local/lib/python3.6/dist-packages (from packaging->transformers>=3.0.2->sentence_transformers) (2.4.7)\n",
            "Requirement already satisfied: six in /usr/local/lib/python3.6/dist-packages (from packaging->transformers>=3.0.2->sentence_transformers) (1.12.0)\n",
            "Building wheels for collected packages: sentence-transformers, sacremoses\n",
            "  Building wheel for sentence-transformers (setup.py) ... \u001b[?25l\u001b[?25hdone\n",
            "  Created wheel for sentence-transformers: filename=sentence_transformers-0.3.0-cp36-none-any.whl size=86756 sha256=282c166318d725417a316428a9fe6f05cbb232336e538b2e601e62ed7f5702ee\n",
            "  Stored in directory: /root/.cache/pip/wheels/b8/23/85/85d6a9a6c68f0625a1ecdaad903bb0a78df058c10cf74f9de4\n",
            "  Building wheel for sacremoses (setup.py) ... \u001b[?25l\u001b[?25hdone\n",
            "  Created wheel for sacremoses: filename=sacremoses-0.0.43-cp36-none-any.whl size=893260 sha256=4d91ac6dda0a630a6fc46efa7707aa762fba9102bcf0e42b8542603eec174f05\n",
            "  Stored in directory: /root/.cache/pip/wheels/29/3c/fd/7ce5c3f0666dab31a50123635e6fb5e19ceb42ce38d4e58f45\n",
            "Successfully built sentence-transformers sacremoses\n",
            "Installing collected packages: tokenizers, sentencepiece, sacremoses, transformers, sentence-transformers\n",
            "Successfully installed sacremoses-0.0.43 sentence-transformers-0.3.0 sentencepiece-0.1.91 tokenizers-0.8.1rc1 transformers-3.0.2\n"
          ],
          "name": "stdout"
        }
      ]
    },
    {
      "cell_type": "code",
      "metadata": {
        "id": "JJVFjlD-pgdu",
        "colab_type": "code",
        "colab": {
          "base_uri": "https://localhost:8080/",
          "height": 35
        },
        "outputId": "864c17b4-3acf-4046-e352-2f7f56882b8f"
      },
      "source": [
        "# load sentence transformer\n",
        "from sentence_transformers import SentenceTransformer\n",
        "model = SentenceTransformer('bert-base-nli-mean-tokens')"
      ],
      "execution_count": 33,
      "outputs": [
        {
          "output_type": "stream",
          "text": [
            "100%|██████████| 405M/405M [00:18<00:00, 22.4MB/s]\n"
          ],
          "name": "stderr"
        }
      ]
    },
    {
      "cell_type": "code",
      "metadata": {
        "id": "z--5sjxspkpe",
        "colab_type": "code",
        "colab": {
          "base_uri": "https://localhost:8080/",
          "height": 1000
        },
        "outputId": "6680b278-679a-4858-9f22-f2bf9864491b"
      },
      "source": [
        "# encode sentences\n",
        "sentence_embeddings = model.encode(X_train.values)\n",
        "sentence_embeddings[:1]"
      ],
      "execution_count": 37,
      "outputs": [
        {
          "output_type": "execute_result",
          "data": {
            "text/plain": [
              "[array([-6.93976223e-01,  7.83699453e-01,  9.26330566e-01,  2.49521956e-02,\n",
              "         2.86809921e-01, -7.39871621e-01,  4.10335571e-01, -1.54682100e-01,\n",
              "         6.01563770e-05, -2.78232336e-01,  1.45814195e-01,  1.92639157e-01,\n",
              "         9.29617763e-01,  1.28118753e-01, -7.53376722e-01,  2.47169361e-01,\n",
              "        -2.85266459e-01, -5.84301129e-02,  9.24009308e-02, -4.99616235e-01,\n",
              "        -5.45259893e-01, -6.68091774e-01,  4.75908309e-01,  4.17963594e-01,\n",
              "         1.13358235e+00,  1.28798306e+00,  9.82014313e-02, -5.72121292e-02,\n",
              "        -8.98514390e-01,  3.94042164e-01, -8.15320909e-01,  1.88305810e-01,\n",
              "        -3.54986459e-01, -3.03160876e-01, -2.80413061e-01,  7.13681698e-01,\n",
              "         2.02751562e-01,  1.95934057e-01, -5.06866649e-02, -4.95628655e-01,\n",
              "        -1.95234478e-01,  1.37083769e-01, -1.45521253e-01, -5.30138135e-01,\n",
              "        -1.91455436e+00,  6.43194690e-02, -1.02247250e+00,  3.94341618e-01,\n",
              "         9.29148138e-01, -1.13072026e+00,  1.93696782e-01,  5.29716074e-01,\n",
              "        -3.04365437e-03, -3.67638886e-01, -6.52695119e-01, -1.53572708e-01,\n",
              "        -5.96395135e-01, -4.07208860e-01, -1.06993365e+00, -1.08536363e+00,\n",
              "        -4.88495231e-01,  5.21761775e-01, -7.61664748e-01, -3.38195235e-01,\n",
              "        -1.48862988e-01, -8.83793309e-02,  8.56704473e-01,  5.04942983e-02,\n",
              "        -6.93522573e-01, -6.32076859e-01, -2.32522897e-02, -6.89461589e-01,\n",
              "        -5.43681204e-01, -1.29011348e-01,  4.86658663e-01, -7.15977967e-01,\n",
              "        -5.03444254e-01,  1.43763283e-02,  1.42973137e+00,  6.69826388e-01,\n",
              "         4.06694710e-01, -7.03609049e-01,  2.56978035e-01,  6.17726296e-02,\n",
              "         9.47990060e-01, -6.29185885e-02,  8.68740439e-01, -1.02337539e+00,\n",
              "        -6.11091793e-01,  6.68334782e-01,  7.30449915e-01, -5.83744109e-01,\n",
              "         9.18786883e-01, -1.52047262e-01, -1.32387078e+00,  6.30232245e-02,\n",
              "         2.63267308e-01, -3.63771915e-01, -6.14511430e-01,  1.75034255e-01,\n",
              "        -5.72294854e-02, -3.88138562e-01, -1.07395887e+00,  7.78019667e-01,\n",
              "        -4.01675820e-01,  5.20425558e-01, -5.85822642e-01, -6.78558111e-01,\n",
              "         1.07118152e-01, -1.40614077e-01,  1.65240705e+00, -1.03373086e+00,\n",
              "        -8.16981554e-01, -5.73106930e-02,  2.04191227e-02, -1.29336321e+00,\n",
              "         4.22608554e-02,  1.29093027e+00,  5.17017126e-01, -2.75529653e-01,\n",
              "         4.92411584e-01, -8.20587516e-01,  1.79215476e-01,  5.08308560e-02,\n",
              "         3.15532714e-01,  5.51899195e-01, -5.86681783e-01,  9.26985443e-01,\n",
              "        -8.81069601e-01,  4.03482057e-02,  1.56201273e-02, -4.39954475e-02,\n",
              "         1.42098114e-01,  1.81426153e-01,  5.68925023e-01,  4.82326865e-01,\n",
              "         5.73700853e-02, -7.00707793e-01,  4.43541668e-02, -5.72561383e-01,\n",
              "         6.85761392e-01, -3.28108400e-01, -2.41832599e-01, -2.58706748e-01,\n",
              "        -2.57714599e-01, -3.64496469e-01,  5.10520160e-01, -6.44822121e-01,\n",
              "         7.70308673e-01,  1.22458905e-01,  3.66702944e-01, -1.80899426e-01,\n",
              "        -1.14999759e+00, -2.15577021e-01, -2.71095872e-01,  1.26056433e-01,\n",
              "        -9.47766423e-01, -2.47524858e-01, -1.05267957e-01,  3.28619987e-01,\n",
              "        -1.42204776e-01,  2.67610162e-01, -1.30046964e-01,  1.19358325e+00,\n",
              "         7.52995849e-01, -5.06127357e-01,  1.47331822e+00, -6.43679857e-01,\n",
              "         5.76367557e-01, -4.19845402e-01, -7.03957140e-01,  1.58379722e+00,\n",
              "         2.69646096e+00,  8.00393403e-01,  7.43102014e-01, -3.64835262e-01,\n",
              "         4.94771034e-01, -1.12222123e+00, -1.23326516e+00, -2.01221108e-01,\n",
              "        -2.65463032e-02, -5.60606241e-01, -1.26867521e+00,  1.42241585e+00,\n",
              "         1.11691821e+00, -6.64280206e-02,  1.24022448e+00, -3.27912308e-02,\n",
              "        -2.60471880e-01, -5.64450979e-01, -1.92490026e-01,  1.92536175e-01,\n",
              "         3.78663659e-01, -3.76412243e-01, -2.36712739e-01,  2.36262560e-01,\n",
              "         4.56018060e-01,  5.73662937e-01,  3.93222630e-01,  5.03411233e-01,\n",
              "        -5.16005158e-01,  4.87637132e-01, -1.08614102e-01, -2.54456550e-01,\n",
              "        -4.53994960e-01,  5.47018528e-01,  1.09146035e+00,  1.97838321e-01,\n",
              "        -1.02616692e+00, -5.37342541e-02, -2.55173951e-01,  3.37260246e-01,\n",
              "         1.19113624e+00, -3.83527279e-01,  2.55129129e-01, -2.08247872e-03,\n",
              "        -1.22251004e-01, -2.22751036e-01, -2.57021133e-02, -2.13634506e-01,\n",
              "         4.75122631e-01,  3.95485491e-01, -1.09812653e+00, -1.20077552e-02,\n",
              "        -1.14025086e-01, -9.43396147e-03, -7.71519989e-02, -1.24375522e+00,\n",
              "        -3.64517808e-01,  4.21225518e-01, -1.30719215e-01,  1.86092392e-01,\n",
              "        -2.43349224e-01, -4.33663577e-01,  4.57157046e-01, -1.07036270e-01,\n",
              "        -1.06133568e+00,  6.29683733e-01,  1.05188763e+00, -6.61558986e-01,\n",
              "         3.16688150e-01,  2.55360991e-01,  3.42355877e-01,  5.82712591e-01,\n",
              "         3.40111263e-04,  3.98647428e-01,  1.18106580e+00, -4.34828028e-02,\n",
              "        -3.87013763e-01, -5.90612411e-01, -9.04499054e-01,  3.93948853e-01,\n",
              "         1.62370041e-01, -7.74668038e-01, -8.54281127e-01, -1.49854332e-01,\n",
              "         1.12742469e-01,  7.52980053e-01, -2.94205874e-01,  1.73117965e-01,\n",
              "         5.29052988e-02, -1.87359035e-01,  3.98336887e-01,  3.71475190e-01,\n",
              "        -1.26604771e-03, -2.06181988e-01, -6.56025410e-01,  7.37410709e-02,\n",
              "        -3.08111548e-01,  4.80660319e-01, -2.58408099e-01,  1.89336762e-01,\n",
              "        -1.92068234e-01,  6.27809167e-01, -1.50545955e-01,  3.56482983e-01,\n",
              "        -9.71841395e-01,  2.22209021e-02,  9.76246297e-01,  4.49432254e-01,\n",
              "        -9.05303359e-01,  3.43894571e-01, -4.55953814e-02, -2.05381542e-01,\n",
              "        -2.69509256e-01,  8.04131329e-01, -2.98137009e-01,  8.62414539e-02,\n",
              "        -1.39901280e-01, -2.76883572e-01,  6.61977768e-01, -7.86451399e-01,\n",
              "         1.84732586e-01, -1.52662843e-01, -1.46491766e-01, -7.70493746e-02,\n",
              "         9.39323366e-01, -7.50933826e-01,  1.23775637e+00,  2.99907792e-02,\n",
              "        -4.82123435e-01,  2.30710611e-01, -1.14152610e+00, -2.50146568e-01,\n",
              "         5.48135340e-01, -5.80225945e-01,  2.25984469e-01,  1.49908677e-01,\n",
              "        -8.28488991e-02, -6.45564795e-01, -8.04573417e-01, -9.69924569e-01,\n",
              "         5.39438546e-01,  1.04768085e+00,  4.51656133e-01,  4.27945793e-01,\n",
              "        -1.86136007e-01, -2.55916476e-01,  1.56759411e-01, -3.72727633e-01,\n",
              "        -6.15178049e-01, -5.40511847e-01,  1.30843297e-01,  1.79219618e-01,\n",
              "         2.51314908e-01, -9.36440110e-01,  1.36178453e-03,  7.48435706e-02,\n",
              "        -4.11992460e-01,  2.46548235e-01,  7.40878701e-01,  3.46542336e-02,\n",
              "         4.94436562e-01,  1.16377342e+00, -2.21786827e-01, -2.62727857e-01,\n",
              "        -7.42926657e-01,  3.76455665e-01, -2.08599996e-02,  4.05498296e-01,\n",
              "         2.37990713e+00, -3.82314801e-01,  6.61805153e-01,  2.97979653e-01,\n",
              "        -1.41051441e-01, -5.05162477e-01, -3.27406526e-01,  9.78432417e-01,\n",
              "        -1.23004770e+00, -4.88734245e-02,  3.60202163e-01, -1.28049672e-01,\n",
              "         1.55933714e+00, -8.01302016e-01,  2.67209679e-01,  8.83300960e-01,\n",
              "        -8.72702479e-01,  3.82322282e-01, -3.94309729e-01, -3.25985610e-01,\n",
              "        -3.95019054e-01,  4.52758998e-01,  1.80722717e-02,  5.81340939e-02,\n",
              "        -2.87936389e-01,  4.64934200e-01, -5.08821726e-01,  2.15625465e-02,\n",
              "        -1.95814669e-01, -1.05843616e+00,  4.26700205e-01,  1.13521123e+00,\n",
              "        -8.54157925e-01, -2.38132030e-01,  5.46510696e-01, -8.62428010e-01,\n",
              "        -9.05606091e-01,  6.40281856e-01, -1.98897824e-01,  1.05652258e-01,\n",
              "         8.23491588e-02, -6.14084780e-01,  2.29254499e-01,  1.17533553e+00,\n",
              "        -1.73181087e-01, -1.15341125e-02, -9.87211838e-02,  1.52432797e-02,\n",
              "         2.76770383e-01, -4.94171411e-01,  3.55287582e-01,  7.29753613e-01,\n",
              "        -1.28191128e-01, -2.49869257e-01,  5.87827742e-01, -9.04756635e-02,\n",
              "         1.91030413e-01, -3.81908059e-01,  4.13258672e-01, -3.08564678e-02,\n",
              "        -3.88809741e-01, -6.52867258e-01,  7.59318173e-01, -8.22606802e-01,\n",
              "         3.03552181e-01, -5.83186328e-01,  4.36613381e-01, -8.84110391e-01,\n",
              "        -2.20193878e-01, -1.70947224e-01, -5.37144653e-02, -6.07995570e-01,\n",
              "         9.17233109e-01, -6.28771782e-02, -2.48919040e-01, -1.28411874e-01,\n",
              "         5.78444488e-02,  1.32159367e-01, -1.25438809e+00,  4.46323007e-01,\n",
              "        -3.84185985e-02,  4.33149993e-01,  6.77065492e-01, -1.38590336e+00,\n",
              "         7.54965663e-01, -6.40933871e-01,  6.23881109e-02, -3.07795882e-01,\n",
              "        -7.64970839e-01, -2.59520918e-01,  2.87691387e-03,  3.03614825e-01,\n",
              "        -8.80303204e-01,  4.06395763e-01,  1.13160074e+00, -3.59002650e-01,\n",
              "         8.37361872e-01, -7.02106059e-01, -2.14413609e-02, -4.50443000e-01,\n",
              "        -4.94596452e-01, -8.45639706e-01,  6.77696168e-01, -6.45255089e-01,\n",
              "         4.61764680e-03,  3.41814518e-01, -9.12614316e-02, -5.79594076e-01,\n",
              "         2.77395397e-01,  1.72912717e-01,  6.74702168e-01, -8.27591658e-01,\n",
              "         6.64695323e-01,  1.67306751e-01, -5.29529117e-02, -9.74740684e-02,\n",
              "        -2.84165263e-01, -1.11337826e-01, -1.33356392e+00, -1.49022162e-01,\n",
              "         5.90986490e-01, -6.44712299e-02,  8.42320263e-01,  2.25664854e-01,\n",
              "         7.80781746e-01, -4.04457562e-02, -2.30657354e-01, -4.11335081e-01,\n",
              "         2.02655524e-01, -6.86117411e-01,  2.40491778e-01,  4.51325476e-01,\n",
              "         9.48876023e-01,  1.02395177e+00,  2.32779309e-01, -8.33610356e-01,\n",
              "         4.85279918e-01,  1.01074481e+00,  4.70100939e-01,  1.93691447e-01,\n",
              "        -5.66122651e-01, -6.44341171e-01, -3.57796192e-01,  5.60374081e-01,\n",
              "        -2.20140237e-02,  4.60181653e-01, -3.18981081e-01, -1.11376561e-01,\n",
              "        -3.91014218e-02, -2.22618207e-01,  5.40090740e-01,  7.22831428e-01,\n",
              "         1.16640747e-01, -2.46998116e-01,  7.06742823e-01, -8.29288542e-01,\n",
              "        -1.15483284e-01,  3.36168781e-02,  9.35183913e-02, -2.83470124e-01,\n",
              "         4.42538738e-01, -4.85442758e-01,  2.64145970e-01, -3.15491587e-01,\n",
              "         5.08501351e-01,  2.72070587e-01, -3.83554050e-03, -3.92344058e-01,\n",
              "        -2.28127897e-01, -5.56817167e-02,  1.85607016e-01, -3.39441091e-01,\n",
              "         1.26689148e+00,  2.06118941e-01,  3.17769170e-01,  7.18378305e-01,\n",
              "         4.05322731e-01, -3.95598441e-01, -5.88159978e-01, -1.86064780e-01,\n",
              "         7.44577289e-01,  1.85103282e-01,  5.67378402e-01, -1.58578269e-02,\n",
              "        -5.06099880e-01,  3.25168729e-01,  1.22624099e-01,  3.32691312e-01,\n",
              "        -1.96778029e-01, -6.26015365e-02, -4.80574578e-01, -2.03612432e-01,\n",
              "         4.61356282e-01,  2.28905275e-01, -8.65353942e-01,  5.80149740e-02,\n",
              "        -6.41443610e-01, -3.62493128e-01, -8.29342529e-02, -1.03339314e-01,\n",
              "         3.89653519e-02, -1.19001821e-01,  2.89404243e-01, -1.55186996e-01,\n",
              "        -5.37927508e-01,  3.41764480e-01,  1.95709899e-01, -4.40580457e-01,\n",
              "        -8.08482230e-01, -7.51570046e-01, -5.49071252e-01, -7.54657537e-02,\n",
              "         1.08012247e+00,  1.25326574e+00, -4.90530133e-01,  7.61350870e-01,\n",
              "         5.11890166e-02,  1.73610598e-01,  4.04012799e-02,  1.27727008e+00,\n",
              "         1.13812126e-02,  6.70210838e-01, -7.40383685e-01, -5.30381024e-01,\n",
              "         1.15075015e-01,  3.77426445e-01, -3.60589594e-01, -1.09077752e+00,\n",
              "        -9.36248422e-01,  8.16487610e-01,  2.12575138e-01,  1.58316612e-01,\n",
              "        -3.45466882e-01,  6.79006815e-01, -3.70889485e-01, -8.53843868e-01,\n",
              "        -1.77172899e-01,  4.58198301e-02,  3.34848195e-01,  1.76015630e-01,\n",
              "        -2.76342392e-01, -8.44400600e-02, -5.17171681e-01,  3.22957397e-01,\n",
              "        -4.00693178e-01, -2.69860774e-01, -2.07434744e-01,  1.73549533e+00,\n",
              "        -1.68639123e-01, -5.50038517e-01, -6.32747412e-01, -1.96997538e-01,\n",
              "         8.00984681e-01,  7.93899953e-01, -1.93291344e-02,  3.09949666e-01,\n",
              "         3.69088858e-01,  2.18643829e-01,  5.53251386e-01, -6.04968727e-01,\n",
              "         3.38627063e-02, -3.68042588e-01, -6.84214056e-01, -3.08316816e-02,\n",
              "        -4.80208248e-01,  4.73463893e-01,  2.55880475e-01,  6.97683170e-02,\n",
              "        -4.53396291e-01,  1.57508418e-01,  3.38691622e-01, -6.51829302e-01,\n",
              "        -4.23570722e-01, -3.65943581e-01, -5.29771075e-02, -4.42517072e-01,\n",
              "         7.16636419e-01, -3.27315450e-01, -6.33646727e-01, -2.39888504e-01,\n",
              "         2.87234336e-02,  5.56122065e-01, -2.81209916e-01, -5.03474772e-01,\n",
              "         5.18800497e-01, -7.91612923e-01, -2.01898038e-01, -2.08347410e-01,\n",
              "        -8.13931048e-01, -2.92314559e-01, -1.56510845e-01, -2.24165335e-01,\n",
              "        -9.85300466e-02, -1.71810091e-01, -1.84358880e-01,  8.18815351e-01,\n",
              "        -4.57738340e-01,  6.20522141e-01,  1.13260582e-01,  7.40609527e-01,\n",
              "        -6.77906811e-01,  1.83326435e+00, -8.73573363e-01, -5.83366871e-01,\n",
              "         1.12387978e-01, -3.62282634e-01,  3.89670223e-01,  1.43810853e-01,\n",
              "         6.14979684e-01,  4.56969380e-01,  3.26933652e-01,  1.17087245e+00,\n",
              "        -2.33268872e-01, -5.51336944e-01, -8.05896699e-01, -4.56488319e-03,\n",
              "         1.41094387e-01, -1.54322654e-01,  5.83249470e-03,  1.09618223e+00,\n",
              "        -2.11408123e-01,  2.44484305e-01,  1.38354272e-01, -2.34256070e-02,\n",
              "         2.78867334e-01, -2.74459422e-01, -2.54739374e-01,  4.50509101e-01,\n",
              "        -3.42310339e-01, -1.57475799e-01,  5.37517443e-02,  2.86334038e-01,\n",
              "         4.57002252e-01, -4.37009595e-02,  3.74003977e-01,  2.92221475e-02,\n",
              "        -8.94198835e-01,  1.51581466e-01,  3.31371337e-01, -1.28410769e+00,\n",
              "         1.85576826e-01, -8.95015895e-01, -4.39948440e-02, -6.45167530e-01,\n",
              "         9.50173140e-02, -5.50963767e-02, -7.45198250e-01, -3.72411162e-01,\n",
              "        -7.06958175e-01,  4.09508914e-01,  5.92196882e-01, -2.69351840e-01,\n",
              "         4.90016341e-02, -3.79538864e-01, -2.63637632e-01, -4.86685634e-01,\n",
              "        -7.45805144e-01,  2.00245500e-01,  1.14000869e+00,  6.34530902e-01,\n",
              "        -1.44680250e+00,  9.96220410e-01, -7.34783649e-01, -1.13778841e+00,\n",
              "         6.07346535e-01,  2.49747425e-01, -6.88918769e-01,  3.75879198e-01,\n",
              "         4.30602133e-01, -3.60064209e-01,  2.20571935e-01,  7.70963192e-01,\n",
              "         4.29179072e-01,  3.33774060e-01,  2.63876677e-01,  2.28191182e-01,\n",
              "         1.71273559e-01,  2.71161739e-02, -5.27594388e-01,  3.29210490e-01,\n",
              "         5.69264054e-01, -9.18640271e-02,  3.69274884e-01, -1.51069391e+00,\n",
              "         1.81775823e-01, -6.46871448e-01,  2.82672569e-02,  2.97358006e-01,\n",
              "        -1.45265326e-01,  3.49591702e-01,  1.88371196e-01, -8.16988468e-01,\n",
              "         4.18129712e-02, -2.04892978e-01,  7.18491822e-02, -2.80782908e-01,\n",
              "         3.26266617e-01, -6.72252774e-01, -4.45335865e-01, -2.15260482e+00,\n",
              "        -9.36970057e-04,  1.18527897e-01, -6.11448050e-01, -4.75116342e-01,\n",
              "         9.35648233e-02,  4.06981081e-01, -4.28560138e-01, -1.37516603e-01,\n",
              "        -1.88854393e-02,  4.53970522e-01,  1.89202160e-01, -4.45225835e-01,\n",
              "         1.20673470e-01,  1.25020587e+00, -2.43089899e-01,  4.14238513e-01,\n",
              "        -4.24472541e-01, -5.41683018e-01,  2.49520153e-01, -9.01117206e-01,\n",
              "        -1.35219002e+00, -4.48281705e-01,  8.18127453e-01, -1.03964221e+00,\n",
              "        -5.66301355e-03, -7.41923034e-01, -1.61311701e-02, -1.30628422e-01],\n",
              "       dtype=float32)]"
            ]
          },
          "metadata": {
            "tags": []
          },
          "execution_count": 37
        }
      ]
    },
    {
      "cell_type": "code",
      "metadata": {
        "id": "qfLIuhEtp-d-",
        "colab_type": "code",
        "colab": {
          "base_uri": "https://localhost:8080/",
          "height": 90
        },
        "outputId": "b6f914fe-0176-4cac-8402-602c999da6e4"
      },
      "source": [
        "print(type(sentence_embeddings))\n",
        "print(len(sentence_embeddings))\n",
        "print(type(sentence_embeddings[0]))\n",
        "print(len(sentence_embeddings[0]))"
      ],
      "execution_count": 40,
      "outputs": [
        {
          "output_type": "stream",
          "text": [
            "<class 'list'>\n",
            "442\n",
            "<class 'numpy.ndarray'>\n",
            "768\n"
          ],
          "name": "stdout"
        }
      ]
    },
    {
      "cell_type": "markdown",
      "metadata": {
        "id": "n1CVZfROrXTW",
        "colab_type": "text"
      },
      "source": [
        "So, every sentence (442 total) are converted to their BERT Embedding of dimension 768 each. Now, data is ready for clustering."
      ]
    },
    {
      "cell_type": "markdown",
      "metadata": {
        "id": "iPP10vvmr_6B",
        "colab_type": "text"
      },
      "source": [
        "# Clustering"
      ]
    },
    {
      "cell_type": "markdown",
      "metadata": {
        "id": "Cac1xaqCv4d6",
        "colab_type": "text"
      },
      "source": [
        "### performing KMeans"
      ]
    },
    {
      "cell_type": "code",
      "metadata": {
        "id": "N-WK6n7eqQCP",
        "colab_type": "code",
        "colab": {
          "base_uri": "https://localhost:8080/",
          "height": 72
        },
        "outputId": "b9e0766d-7414-4f10-d734-f7690c1dd827"
      },
      "source": [
        "from sklearn.cluster import KMeans\n",
        "\n",
        "num_clusters = 5\n",
        "\n",
        "clustering_model = KMeans(n_clusters=num_clusters, \n",
        "                          init ='k-means++',\n",
        "                          max_iter=300, \n",
        "                          random_state=42, \n",
        "                          n_init=10)\n",
        "clustering_model.fit(sentence_embeddings)"
      ],
      "execution_count": 122,
      "outputs": [
        {
          "output_type": "execute_result",
          "data": {
            "text/plain": [
              "KMeans(algorithm='auto', copy_x=True, init='k-means++', max_iter=300,\n",
              "       n_clusters=5, n_init=10, n_jobs=None, precompute_distances='auto',\n",
              "       random_state=42, tol=0.0001, verbose=0)"
            ]
          },
          "metadata": {
            "tags": []
          },
          "execution_count": 122
        }
      ]
    },
    {
      "cell_type": "markdown",
      "metadata": {
        "id": "ENc68eLevzHy",
        "colab_type": "text"
      },
      "source": [
        "### Dimensionality Reduction for Visualisation"
      ]
    },
    {
      "cell_type": "code",
      "metadata": {
        "id": "-Lm08RKlv2eY",
        "colab_type": "code",
        "colab": {}
      },
      "source": [
        "# reducing dimension of datapoint from 768 to 3 via\n",
        "# PCA\n",
        "from sklearn.decomposition import PCA\n",
        "pca = PCA(n_components=3)\n",
        "X3D_pca = pca.fit_transform(sentence_embeddings)"
      ],
      "execution_count": 123,
      "outputs": []
    },
    {
      "cell_type": "code",
      "metadata": {
        "id": "lEskMQCwy-1v",
        "colab_type": "code",
        "colab": {
          "base_uri": "https://localhost:8080/",
          "height": 146
        },
        "outputId": "ab2c06cd-4430-4908-d7f9-3083eac92cae"
      },
      "source": [
        "X3D_pca"
      ],
      "execution_count": 124,
      "outputs": [
        {
          "output_type": "execute_result",
          "data": {
            "text/plain": [
              "array([[ 6.19280641,  0.52879973, -0.25125083],\n",
              "       [-5.21612761,  0.61272091,  2.618107  ],\n",
              "       [ 0.85989599, -1.39813148,  1.22471501],\n",
              "       ...,\n",
              "       [-3.07752585,  4.31565073, -0.45486551],\n",
              "       [-0.35382425, -4.04219549, -1.11109172],\n",
              "       [-2.48603508,  3.58541882, -3.23355054]])"
            ]
          },
          "metadata": {
            "tags": []
          },
          "execution_count": 124
        }
      ]
    },
    {
      "cell_type": "code",
      "metadata": {
        "id": "4iKhyKkNtEsi",
        "colab_type": "code",
        "colab": {
          "base_uri": "https://localhost:8080/",
          "height": 206
        },
        "outputId": "c4392c25-d3f9-4c05-9663-acb692c1f0c5"
      },
      "source": [
        "# lets check\n",
        "clustered_df = pd.DataFrame({\n",
        "    'sentence' : X_train.values,\n",
        "    'cluster' : clustering_model.labels_,\n",
        "    'orig_label' : y_train.values, \n",
        "    'dim_X' : X3D_pca[:, 0],\n",
        "    'dim_Y' : X3D_pca[:, 1],\n",
        "    'dim_Z' : X3D_pca[:, 2],\n",
        "})\n",
        "clustered_df.head()"
      ],
      "execution_count": 125,
      "outputs": [
        {
          "output_type": "execute_result",
          "data": {
            "text/html": [
              "<div>\n",
              "<style scoped>\n",
              "    .dataframe tbody tr th:only-of-type {\n",
              "        vertical-align: middle;\n",
              "    }\n",
              "\n",
              "    .dataframe tbody tr th {\n",
              "        vertical-align: top;\n",
              "    }\n",
              "\n",
              "    .dataframe thead th {\n",
              "        text-align: right;\n",
              "    }\n",
              "</style>\n",
              "<table border=\"1\" class=\"dataframe\">\n",
              "  <thead>\n",
              "    <tr style=\"text-align: right;\">\n",
              "      <th></th>\n",
              "      <th>sentence</th>\n",
              "      <th>cluster</th>\n",
              "      <th>orig_label</th>\n",
              "      <th>dim_X</th>\n",
              "      <th>dim_Y</th>\n",
              "      <th>dim_Z</th>\n",
              "    </tr>\n",
              "  </thead>\n",
              "  <tbody>\n",
              "    <tr>\n",
              "      <th>0</th>\n",
              "      <td>holmes starts gb events kelly holmes start ser...</td>\n",
              "      <td>3</td>\n",
              "      <td>athletics</td>\n",
              "      <td>6.192806</td>\n",
              "      <td>0.528800</td>\n",
              "      <td>-0.251251</td>\n",
              "    </tr>\n",
              "    <tr>\n",
              "      <th>1</th>\n",
              "      <td>sri lankans cleared misconduct two sri lanka c...</td>\n",
              "      <td>4</td>\n",
              "      <td>cricket</td>\n",
              "      <td>-5.216128</td>\n",
              "      <td>0.612721</td>\n",
              "      <td>2.618107</td>\n",
              "    </tr>\n",
              "    <tr>\n",
              "      <th>2</th>\n",
              "      <td>collins calls chambers return world 100m champ...</td>\n",
              "      <td>2</td>\n",
              "      <td>athletics</td>\n",
              "      <td>0.859896</td>\n",
              "      <td>-1.398131</td>\n",
              "      <td>1.224715</td>\n",
              "    </tr>\n",
              "    <tr>\n",
              "      <th>3</th>\n",
              "      <td>liverpool revel night glory liverpool manager ...</td>\n",
              "      <td>0</td>\n",
              "      <td>football</td>\n",
              "      <td>1.242166</td>\n",
              "      <td>-0.552439</td>\n",
              "      <td>-2.502913</td>\n",
              "    </tr>\n",
              "    <tr>\n",
              "      <th>4</th>\n",
              "      <td>henman overcomes rival rusedski tim henman sav...</td>\n",
              "      <td>1</td>\n",
              "      <td>tennis</td>\n",
              "      <td>2.078091</td>\n",
              "      <td>3.451220</td>\n",
              "      <td>1.524083</td>\n",
              "    </tr>\n",
              "  </tbody>\n",
              "</table>\n",
              "</div>"
            ],
            "text/plain": [
              "                                            sentence  ...     dim_Z\n",
              "0  holmes starts gb events kelly holmes start ser...  ... -0.251251\n",
              "1  sri lankans cleared misconduct two sri lanka c...  ...  2.618107\n",
              "2  collins calls chambers return world 100m champ...  ...  1.224715\n",
              "3  liverpool revel night glory liverpool manager ...  ... -2.502913\n",
              "4  henman overcomes rival rusedski tim henman sav...  ...  1.524083\n",
              "\n",
              "[5 rows x 6 columns]"
            ]
          },
          "metadata": {
            "tags": []
          },
          "execution_count": 125
        }
      ]
    },
    {
      "cell_type": "markdown",
      "metadata": {
        "id": "55RxaC3qzTiS",
        "colab_type": "text"
      },
      "source": [
        "## Visualising clusters via plotly"
      ]
    },
    {
      "cell_type": "code",
      "metadata": {
        "id": "jM6wHRihzYkD",
        "colab_type": "code",
        "colab": {
          "base_uri": "https://localhost:8080/",
          "height": 542
        },
        "outputId": "051f9fe4-81d7-4437-ebd9-199e22438cd7"
      },
      "source": [
        "import plotly.graph_objects as go\n",
        "\n",
        "# create new figure\n",
        "fig = go.Figure()\n",
        "\n",
        "cluster_label = clustering_model.labels_\n",
        "\n",
        "# plot data\n",
        "for cluster in set(cluster_label):\n",
        "    original_labels = list(clustered_df[clustered_df['cluster']==cluster]['orig_label'].values)\n",
        "    cl = [cluster] * len(original_labels)\n",
        "    # print(original_labels)\n",
        "    fig.add_trace(\n",
        "        go.Scatter3d(\n",
        "            x=list(clustered_df[clustered_df['cluster']==cluster]['dim_X'].values), \n",
        "            y=list(clustered_df[clustered_df['cluster']==cluster]['dim_Y'].values), \n",
        "            z=list(clustered_df[clustered_df['cluster']==cluster]['dim_Z'].values), \n",
        "            name=f\"Cluster {cluster}\",\n",
        "            mode=\"markers\",\n",
        "            marker=dict(\n",
        "                # color=cols,\n",
        "                size=5,\n",
        "                # line=dict(width=0.5, color='DarkSlateGrey')\n",
        "            ), \n",
        "            # showlegend=True,\n",
        "            # to display multiple, variables of custom data\n",
        "            customdata= tuple(zip(original_labels, cl)),\n",
        "            # To modify hover data, labels\n",
        "            hovertemplate='L:%{customdata[0]}<br>C:%{customdata[1]}', \n",
        "        )\n",
        "    )\n",
        "\n",
        "# for 3D plots, Embedded Scene are used\n",
        "from plotly.graph_objs.layout import Scene\n",
        "from plotly.graph_objs.layout.scene import XAxis, YAxis, ZAxis\n",
        "fig.update_layout(\n",
        "    showlegend=True,\n",
        "    legend=dict(\n",
        "        y=0.99,\n",
        "        x=0.01,\n",
        "    ),\n",
        "    scene=Scene(\n",
        "        xaxis=XAxis(title='X'),\n",
        "        yaxis=YAxis(title='Y'),\n",
        "        zaxis=ZAxis(title='Z')\n",
        "    ),\n",
        "    margin=dict(l=0, r=0, b=0, t=0),  # tight Layout\n",
        ")\n",
        "fig.show()"
      ],
      "execution_count": 126,
      "outputs": [
        {
          "output_type": "display_data",
          "data": {
            "text/html": [
              "<html>\n",
              "<head><meta charset=\"utf-8\" /></head>\n",
              "<body>\n",
              "    <div>\n",
              "            <script src=\"https://cdnjs.cloudflare.com/ajax/libs/mathjax/2.7.5/MathJax.js?config=TeX-AMS-MML_SVG\"></script><script type=\"text/javascript\">if (window.MathJax) {MathJax.Hub.Config({SVG: {font: \"STIX-Web\"}});}</script>\n",
              "                <script type=\"text/javascript\">window.PlotlyConfig = {MathJaxConfig: 'local'};</script>\n",
              "        <script src=\"https://cdn.plot.ly/plotly-latest.min.js\"></script>    \n",
              "            <div id=\"4fb24ca9-71c3-4be6-98fd-553c2abc5d88\" class=\"plotly-graph-div\" style=\"height:525px; width:100%;\"></div>\n",
              "            <script type=\"text/javascript\">\n",
              "                \n",
              "                    window.PLOTLYENV=window.PLOTLYENV || {};\n",
              "                    \n",
              "                if (document.getElementById(\"4fb24ca9-71c3-4be6-98fd-553c2abc5d88\")) {\n",
              "                    Plotly.newPlot(\n",
              "                        '4fb24ca9-71c3-4be6-98fd-553c2abc5d88',\n",
              "                        [{\"customdata\": [[\"football\", 0], [\"rugby\", 0], [\"football\", 0], [\"rugby\", 0], [\"football\", 0], [\"football\", 0], [\"football\", 0], [\"football\", 0], [\"rugby\", 0], [\"football\", 0], [\"football\", 0], [\"football\", 0], [\"football\", 0], [\"rugby\", 0], [\"rugby\", 0], [\"rugby\", 0], [\"football\", 0], [\"rugby\", 0], [\"rugby\", 0], [\"football\", 0], [\"football\", 0], [\"rugby\", 0], [\"football\", 0], [\"tennis\", 0], [\"football\", 0], [\"rugby\", 0], [\"rugby\", 0], [\"rugby\", 0], [\"football\", 0], [\"football\", 0], [\"football\", 0], [\"football\", 0], [\"rugby\", 0], [\"rugby\", 0], [\"football\", 0], [\"football\", 0], [\"football\", 0], [\"rugby\", 0], [\"rugby\", 0], [\"football\", 0], [\"football\", 0], [\"rugby\", 0], [\"football\", 0], [\"football\", 0], [\"football\", 0], [\"football\", 0], [\"football\", 0], [\"rugby\", 0], [\"football\", 0], [\"football\", 0], [\"football\", 0], [\"football\", 0], [\"football\", 0], [\"football\", 0], [\"rugby\", 0], [\"rugby\", 0], [\"football\", 0], [\"rugby\", 0], [\"football\", 0], [\"football\", 0], [\"football\", 0], [\"football\", 0], [\"rugby\", 0], [\"football\", 0], [\"rugby\", 0], [\"football\", 0], [\"football\", 0], [\"football\", 0], [\"rugby\", 0], [\"football\", 0], [\"football\", 0], [\"rugby\", 0], [\"football\", 0], [\"football\", 0], [\"rugby\", 0], [\"football\", 0], [\"football\", 0], [\"rugby\", 0], [\"rugby\", 0], [\"rugby\", 0], [\"rugby\", 0], [\"rugby\", 0], [\"football\", 0], [\"rugby\", 0], [\"football\", 0], [\"football\", 0], [\"rugby\", 0], [\"football\", 0], [\"rugby\", 0], [\"rugby\", 0], [\"football\", 0], [\"rugby\", 0], [\"rugby\", 0], [\"rugby\", 0], [\"football\", 0], [\"football\", 0], [\"football\", 0], [\"rugby\", 0], [\"football\", 0], [\"rugby\", 0], [\"football\", 0], [\"rugby\", 0], [\"rugby\", 0], [\"football\", 0], [\"rugby\", 0], [\"rugby\", 0], [\"football\", 0], [\"football\", 0], [\"football\", 0], [\"football\", 0], [\"football\", 0], [\"rugby\", 0], [\"rugby\", 0], [\"rugby\", 0], [\"football\", 0], [\"football\", 0], [\"football\", 0], [\"football\", 0], [\"rugby\", 0], [\"football\", 0], [\"football\", 0], [\"football\", 0], [\"football\", 0], [\"rugby\", 0], [\"football\", 0], [\"football\", 0], [\"rugby\", 0], [\"football\", 0], [\"rugby\", 0], [\"football\", 0]], \"hovertemplate\": \"L:%{customdata[0]}<br>C:%{customdata[1]}\", \"marker\": {\"size\": 5}, \"mode\": \"markers\", \"name\": \"Cluster 0\", \"type\": \"scatter3d\", \"x\": [1.2421656080970627, -0.3428401248804809, 1.7763537732484398, -1.0828231771882288, 0.9807490259041148, 2.107238494817413, 0.8743042960846331, 0.3263205285873503, 0.4536644055031475, 2.0031117259790054, 2.819629278324944, 0.5428758323262761, 1.0607184224331874, 1.1701849391959542, -1.13633446711484, -1.5879824944761265, 1.1264962374092866, 0.42277890830187537, -1.0218186964189833, 0.583382721679624, 2.323396606619982, 2.0905447036386744, 0.5139933686328654, 0.9676686094139398, 1.472458605249083, 2.265813862386305, 1.0275018004373186, 2.352320258008154, 1.425808889242031, 0.8995304909410947, 0.17920158654428428, 1.3723111798160088, 1.0147457973932377, 0.9535194312802331, 2.339467217742504, 0.7508839918801284, 2.6452676216498854, 0.5248728976067243, -2.2640830910576617, 0.266111655174828, 1.6101774595210585, 1.7720754193433477, 0.11538207534606684, 1.1699297475504167, -0.3622006444313949, 0.8465055764717352, 0.23642427067693492, 0.49646870106317137, 3.006622476200523, 3.317516001963607, 2.760534460003229, 1.1242650555681533, 2.4896867784698253, 2.2628903299022105, 0.5001753000212441, 1.1606389208523864, 0.5518607857513663, -0.5151193858498138, 2.7898341011813876, 1.2666927856425405, 1.4760431200123838, 1.0640495264817371, -0.6069726815119166, -0.34211330784291794, -0.6088372104247238, 1.016379717288153, -0.6368891599700716, 0.8579517942645195, 0.551357330292224, 3.0179057032106593, 1.347918976451937, 0.19243524973856957, 2.663456638597553, 0.9232828246872284, -0.6944695604414038, 1.206835716558458, 0.4482517080036797, -1.1337083001925496, -0.11036563155290773, -1.4084450152474515, -0.021447501572522707, -0.19736470056528288, 2.292925772228461, -0.9302133514147573, 0.5081100456806981, 3.170402498875936, 0.4067282770456016, 2.857269589897809, 0.7776299228847794, -0.7493599747782224, 0.26663343191787725, 2.6379598920728005, 0.44493092403513285, -0.26900953672031014, 2.537354607373419, 3.5397716973921636, 0.7853449630272333, -0.3446582117020139, 0.23415137641905756, 0.4444599972641972, 0.7846487974819127, 2.812897569014579, 1.698913647877651, 1.3047950757389262, 0.7037551799607046, 1.259504817119542, 1.206835716558458, 0.525304780842298, 2.379652703295714, 1.4735500010973432, 2.7653921691176175, 0.5595653656401287, -0.33845322048018744, 0.2613058838056553, 1.4914941036742573, 1.8021969547153665, -0.09836654530505012, 1.8540941916136802, -0.7205654873115204, 2.72187041769, -0.2519850497088417, 2.0288764320054966, 0.13043419582887714, -0.9838112954884243, 2.857827041028438, 3.2181910820342514, -1.0703787815128634, 2.8195181033868955, 0.38743422180291864, 1.4076564980322734], \"y\": [-0.5524389805603046, 0.19702129023583395, 0.2811480993724027, 1.5318720632824376, -2.1101707679066166, -0.39429135295796736, -2.177233751806458, -3.5074371034849348, -0.9145746431644802, -1.6258768428806654, 0.12368236903741428, -0.01320558631721789, -0.6564014513905561, 1.3261280292767228, -0.6546881410152915, 1.1865302808919351, -1.9923430740883685, -0.5929363399937971, -1.592706316286985, -1.0030893737262963, -1.3559650902817966, 0.22400193106090543, -1.5781493966393187, 0.2735779058726878, -1.8285348068134397, 1.6567434910750956, 1.1139690921577834, 1.9910718872046818, -1.3392519126825355, -2.568089342974891, -0.4925219386204953, -0.8663187500880927, 1.0092068514362746, -0.01851722036945175, -0.48919437645183955, -2.5601786748294812, -1.9017286062884484, 1.2678953754704183, 0.32637530759866606, -3.5746171218719263, -0.03467099469297063, 1.05907781354005, -1.5385784061868175, -1.258020781613707, -1.9303522373368027, -0.907172105763872, -1.8867939367118047, -1.1611205018114805, 0.1357757359290786, 0.6740404985259265, 0.9945250500629292, -0.2470818721701864, 1.4057698843619701, -1.4186958928425544, 1.0765845459623204, 1.7413006788700598, -2.8623677051560117, 0.6532466259571974, -0.031842720081189595, -0.20348217055371046, -0.8819422944853633, -1.6693046542571366, 1.3805777089530447, -2.6952246316212882, -0.09619128479757935, -3.7662367811634896, -2.052531204416834, -3.183922004870898, 1.3087243731047828, -0.4706259782349253, -1.8999687843006812, -1.052351954685597, 1.2482123672219094, -3.9573491148945097, 0.7409106497130407, -0.0017144252380698769, -0.789860917812951, -0.5915531486966243, 0.7490748699289796, 0.6797104545350824, 2.7076425560267463, -1.4966959784154028, -1.9920393412638275, 0.2351405598729516, -4.05433628314655, -1.0020779983817227, 0.4193389043436289, -0.3881633707314344, -0.10178151573070322, -1.5731488780294054, -1.2273169374368023, 2.962654363933904, 0.199064725422399, 0.34255849255777815, -1.0023699946400326, -3.1794982971982977, -1.5773965077302228, 2.922685619580966, -0.8108525422120222, 1.2816179868654825, -2.4057443185434972, 3.002205561995244, 0.14326249358823753, -1.3141322157702628, 1.1275259413183676, 2.1784288846590356, -0.0017144252380698769, -2.9743616600267027, -1.5664452518464531, -1.961035400197312, -0.9343057359626703, -0.005578840816346795, -0.1427562690062314, -0.18864215134293724, -0.7324947926134852, -0.16564586029509795, -2.934523137106365, -1.127614310378683, 0.6637226942160938, 0.4836903720259127, -0.402373221468059, -0.6485054507255819, -3.4119042047751056, 1.4326745863754113, -1.918386599142181, -2.3518371582854196, -0.45338269324009883, -0.8209152496704993, 0.4509149057381829, -1.4764371721125478], \"z\": [-2.5029128528962334, -0.9911170783179927, -1.6196076379023947, -2.7277552236177347, -1.3680591843244478, -2.8950873255123084, -0.8848747525994168, -1.978558716090883, 0.004139989976312128, -1.5913276811095685, -1.7401468325301335, -2.943743717765628, -0.683655660147566, -4.872488237894889, -2.40641651534705, -0.08566918357167559, -1.4269424514277196, -4.842320277240135, -3.3016659042911263, -0.580698193747518, -0.6234411699550805, -4.101618749723245, -0.8956350890514317, -1.0983044356556249, -3.8804130902142386, -3.8629846002067856, -5.59477854321438, -2.5575936945057385, -2.16454568107259, -1.6476748556634337, -1.3782273268476497, -4.733092378630923, -0.27640604716133477, -3.740075732166924, -3.0749864751914897, -1.1663840239290375, -2.280375408712416, -1.78271121456572, -1.9721842367448388, -1.1961909559150228, -2.200555870317839, -1.5624346046844801, -0.9917161121876685, -2.5010290243902498, -2.646141486331785, -2.0760886404671837, -2.264047324892791, -1.6000117122401147, -1.8268058900982975, -3.457217542730334, 0.33531322738909697, -0.954547203185671, -3.3990015684510557, 0.06693443634035329, -0.3765064832027663, -2.3837226081796135, -2.445782936837272, -4.057029474373052, -0.8372394621214109, -2.355681635372394, -2.630012760510685, -4.07519708290581, -2.4488551079030754, -1.2508039633707875, -1.4994612815393855, -3.0642275866297797, -1.7549127596959966, -5.033727958588889, -3.841239118368882, -2.950322660406734, -3.059827838535495, -1.3288877563939823, -1.099143966200224, -3.581955152066595, -2.8616226825196502, 0.0584792473730963, -3.7027308972811888, -1.2489477728342342, -0.7694239457852696, -3.4878523203665623, -3.487105045359992, -2.5431849034492, 0.38162606861281645, -4.1102781409919285, -2.3705324074710443, -4.526661364866279, -4.118674549817203, -3.147462660451522, -1.6493199714352462, -2.1364174694256737, -1.4938485819417, -4.21170481167153, -3.33098822617855, -3.869266934744604, -0.8993811654136317, -3.072802548131526, -2.4122865507123796, -3.546818292187451, -1.1713808737709224, -3.225933783864578, -4.0195673086880115, -4.31205928278301, -2.5391434849158627, -1.1322474026984402, -1.7055309706287975, -5.2868053420027445, 0.0584792473730963, -2.3261064998621523, -4.273012233413849, -0.4992268017771762, -2.742841566928699, -3.208772083979021, -2.07750779042563, -2.02553094367225, -1.7988084251158984, -3.3807165753678343, -1.528604396812118, 0.06679954053684657, -0.42973750782987763, -0.973431359128949, -1.5965600078307465, -4.606554583654256, -1.4497644100884788, -3.860930751559296, -3.7593986148176373, -2.8456469869252006, -1.8683411689309362, -0.2955833621881238, -3.6920288454846655, -1.130737268868188]}, {\"customdata\": [[\"tennis\", 1], [\"tennis\", 1], [\"tennis\", 1], [\"football\", 1], [\"tennis\", 1], [\"tennis\", 1], [\"tennis\", 1], [\"tennis\", 1], [\"tennis\", 1], [\"tennis\", 1], [\"tennis\", 1], [\"tennis\", 1], [\"tennis\", 1], [\"tennis\", 1], [\"tennis\", 1], [\"tennis\", 1], [\"tennis\", 1], [\"tennis\", 1], [\"tennis\", 1], [\"tennis\", 1], [\"tennis\", 1], [\"tennis\", 1], [\"tennis\", 1], [\"tennis\", 1], [\"tennis\", 1], [\"tennis\", 1], [\"tennis\", 1], [\"tennis\", 1], [\"tennis\", 1], [\"tennis\", 1], [\"tennis\", 1], [\"tennis\", 1], [\"tennis\", 1], [\"tennis\", 1], [\"tennis\", 1], [\"tennis\", 1], [\"tennis\", 1], [\"football\", 1], [\"tennis\", 1], [\"tennis\", 1], [\"tennis\", 1], [\"tennis\", 1], [\"tennis\", 1], [\"tennis\", 1], [\"tennis\", 1], [\"tennis\", 1], [\"tennis\", 1], [\"tennis\", 1], [\"tennis\", 1], [\"tennis\", 1], [\"tennis\", 1], [\"tennis\", 1], [\"tennis\", 1], [\"tennis\", 1], [\"tennis\", 1], [\"tennis\", 1], [\"tennis\", 1]], \"hovertemplate\": \"L:%{customdata[0]}<br>C:%{customdata[1]}\", \"marker\": {\"size\": 5}, \"mode\": \"markers\", \"name\": \"Cluster 1\", \"type\": \"scatter3d\", \"x\": [2.078090650231232, 3.1524962855990535, -0.10529999105503327, 2.0552506290273165, 0.8842883361277782, 3.133684248001387, 4.598962787341503, 3.903490437752851, 0.3092859350121088, 0.5713292413401908, -1.0656126864876656, 2.3274074621246084, 0.7680597318133913, 4.225584405828388, 2.5303684726953777, 3.161817536996006, 2.9509793028790963, 2.228996397310028, -0.05584348591588939, 5.053283457863657, 4.418520005415009, 2.186660649442525, 0.6994499352136433, 1.3502833042457587, 4.6984880073548645, 4.033479767142036, 0.3092859350121088, 1.7228243421184601, 0.6079725512096911, 2.2175114561990688, 3.759445611549136, 1.2082989181207806, 3.677421399865939, 2.7268355940182865, 0.6018788524550089, 3.9827510238867196, -0.002505272440003045, 0.7443859005434758, 4.062233408319294, 3.4089025070341927, 3.122296768101625, 1.3184314620858848, 2.592756681002972, 0.0484846665243922, 1.899380537667861, 3.677421399865939, 2.7174740273834086, 1.6418567719664263, 2.380374838422275, 2.465765075530784, 2.7121111157317537, 0.13302628748306194, 1.555172931309979, 1.1672607146610576, 3.866756661156933, 1.0509637726988028, 2.0914160807395197], \"y\": [3.45121994865139, 2.1749665855819833, 0.8339127119298378, -0.20228122647181013, 1.8867319365386241, 2.5984707878395095, 4.691656393547896, 3.4023125566930084, 0.7417572090734899, 0.6851160124489432, 0.06126782739833184, 1.4389474951562782, 1.0259443993040636, 2.4916620777961045, 0.3583775368022663, 3.6146461843263165, 0.44663804194290113, 2.451309692769773, 1.4539709749685796, 3.52786810174473, 2.8985134693196097, 1.7095678432118857, 1.3587931992789377, 0.8659990793247482, 3.180482289907067, 2.8884484603448373, 0.7417572090734899, 1.0564913240574476, 2.3397059989193414, 2.342577554142665, 4.866426939923534, 1.8316255138561495, 2.7017264611798177, 2.8376849320785307, 1.2154192727779078, 0.41249506034724065, 1.3159942027245197, 1.7604315136392683, 3.132849808451477, 2.8688323424129374, 2.501199075218622, 0.780662424531124, 1.005932209969195, 3.089807963279556, 2.9226874791261435, 2.7017264611798177, 1.9743578936870279, 2.535685740103395, 2.8769213754846183, 2.6937291242706936, 2.917376905989391, 1.3766501226298948, -0.38280202409138997, 1.362839595197968, 3.46260818579565, 1.6792768284235484, 1.7993531747470715], \"z\": [1.524082709709655, 4.146545400235261, 3.774530931711868, 1.8377276319331644, 2.871926539817316, 0.02246627057023808, 3.6200456738673017, 0.430837166311322, 3.450455424584266, 6.47062337103649, 5.219171351737878, 2.00179639449072, 5.290597943527587, 3.5569068605840215, 5.545487449778855, 1.4202097843165635, 2.1990113510121514, 2.28098235264858, 2.4560069302988823, -0.49449466695566235, 3.4556849095020734, 1.2732401814316834, 4.298683907523388, 3.6070610406722756, 2.4002187136926874, 4.5821574803864324, 3.450455424584266, 0.5353386430338615, 2.204466919084904, 2.510927436479247, 1.529141422639243, 4.975586292002246, 5.583590595809302, 0.6397573003638126, 3.0145552167440126, 3.9414281436985177, 4.057275232559363, 2.0556706094619477, 2.499375576919004, 2.6524588511786145, 0.10286403406804354, 3.4469802705173938, -0.6381452205672922, 4.378603301170155, -0.2863950528211267, 5.583590595809302, 0.4621418672288205, 2.1676805141413844, 4.100046221156436, 3.630653356246414, 4.393366859309002, 2.4344830817484033, 4.387825449546826, 2.5763755066446765, 5.0750988609281915, 0.9293606520434806, 3.243900619685194]}, {\"customdata\": [[\"athletics\", 2], [\"rugby\", 2], [\"football\", 2], [\"football\", 2], [\"football\", 2], [\"football\", 2], [\"football\", 2], [\"football\", 2], [\"football\", 2], [\"football\", 2], [\"football\", 2], [\"football\", 2], [\"rugby\", 2], [\"football\", 2], [\"tennis\", 2], [\"football\", 2], [\"football\", 2], [\"football\", 2], [\"rugby\", 2], [\"football\", 2], [\"football\", 2], [\"football\", 2], [\"football\", 2], [\"football\", 2], [\"rugby\", 2], [\"athletics\", 2], [\"rugby\", 2], [\"rugby\", 2], [\"football\", 2], [\"football\", 2], [\"rugby\", 2], [\"football\", 2], [\"football\", 2], [\"rugby\", 2], [\"football\", 2], [\"cricket\", 2], [\"football\", 2], [\"football\", 2], [\"rugby\", 2], [\"rugby\", 2], [\"rugby\", 2], [\"football\", 2], [\"football\", 2], [\"football\", 2], [\"cricket\", 2], [\"rugby\", 2], [\"rugby\", 2], [\"athletics\", 2], [\"football\", 2], [\"football\", 2], [\"rugby\", 2], [\"football\", 2], [\"rugby\", 2], [\"football\", 2], [\"football\", 2], [\"football\", 2], [\"rugby\", 2], [\"football\", 2], [\"rugby\", 2], [\"football\", 2], [\"football\", 2], [\"rugby\", 2], [\"rugby\", 2], [\"athletics\", 2], [\"rugby\", 2], [\"football\", 2], [\"football\", 2], [\"football\", 2], [\"rugby\", 2], [\"tennis\", 2], [\"football\", 2], [\"football\", 2], [\"football\", 2], [\"football\", 2], [\"football\", 2], [\"football\", 2], [\"rugby\", 2], [\"athletics\", 2], [\"football\", 2], [\"football\", 2], [\"football\", 2], [\"cricket\", 2], [\"football\", 2], [\"football\", 2], [\"rugby\", 2], [\"football\", 2], [\"rugby\", 2], [\"athletics\", 2], [\"football\", 2], [\"athletics\", 2], [\"rugby\", 2], [\"football\", 2], [\"football\", 2], [\"football\", 2], [\"athletics\", 2], [\"rugby\", 2], [\"rugby\", 2], [\"football\", 2], [\"athletics\", 2], [\"rugby\", 2], [\"rugby\", 2], [\"athletics\", 2], [\"football\", 2], [\"athletics\", 2], [\"football\", 2], [\"football\", 2], [\"rugby\", 2], [\"football\", 2], [\"rugby\", 2], [\"rugby\", 2], [\"football\", 2], [\"football\", 2], [\"football\", 2], [\"football\", 2], [\"athletics\", 2], [\"football\", 2], [\"football\", 2], [\"football\", 2], [\"rugby\", 2], [\"football\", 2], [\"rugby\", 2], [\"football\", 2], [\"football\", 2], [\"rugby\", 2], [\"football\", 2], [\"rugby\", 2], [\"football\", 2], [\"football\", 2], [\"football\", 2], [\"football\", 2], [\"rugby\", 2], [\"football\", 2]], \"hovertemplate\": \"L:%{customdata[0]}<br>C:%{customdata[1]}\", \"marker\": {\"size\": 5}, \"mode\": \"markers\", \"name\": \"Cluster 2\", \"type\": \"scatter3d\", \"x\": [0.8598959921230671, -2.4460932427733275, 0.024118687769848574, -0.39224793192944174, -0.8239345681799853, -0.9011311270215409, -0.587570049347687, -0.8550173729002729, 0.2587068696227299, -2.4048364686768875, 0.10327782688497533, -1.035048360924069, -3.271088321561852, -2.5216769232963845, -0.13394972719966688, -0.6287467595479644, -0.6500242236957692, 0.08132302820595787, -2.435741569704121, -3.3449326245089015, -0.9716432564353824, -2.5862356450512163, -0.7923900238200047, -2.6336560411132797, -1.9320451190121783, -0.8728935398703609, -4.876726086559955, -4.6505010153095485, -1.5468820066981748, -0.8999847431688764, -2.143696415029504, -2.348126272751068, 0.5959774639461212, -0.911742789898659, -2.718244661196217, -3.212358540492192, -0.609139844809379, -1.0643550002125226, -2.5465208144109206, -1.1771876791572815, -3.4509477055180153, -0.5504404595272318, -0.6410616657768925, 0.34810770572065003, -3.2587581718065315, -1.4360984265142898, -2.2371033667366147, -0.031785462614697696, -1.8092575632324082, -0.8702414668592853, -1.7531450308921133, 0.10929478907401759, -1.8654144238749584, -3.427145352418938, -2.889125724134329, -1.7935772896437883, -0.4474153267805911, 1.3750064994224578, -2.9926286758575467, -2.094766126571156, -1.4004310105672433, -0.6809545772507936, -3.6937335666384383, -0.38100643859516253, -2.349586205026054, -2.429168757629221, -3.178719691126999, -2.294188984369811, -2.3275584982145183, -1.5465563497016845, -2.6336560411132797, -3.5772349693049996, -1.943348191721856, -1.54975956095327, -1.9369638500427977, 0.1551678376038489, -1.1109068521894139, -1.4782293583734056, -0.6474061013542489, -3.182895106096294, -2.833476584955581, -3.568784718771451, -1.3256767145725987, 0.16334413966310707, -3.095218029958462, -3.1903641689286335, -2.0963200442128245, -0.4142445593410235, 0.4795788379699294, -0.7256143077203002, -2.0795567576916767, -0.9365678884053978, 0.9309387009219326, 1.192810124659057, -1.5640922513923008, -1.9202501886018706, -1.770970028029431, -1.8264633853756074, -0.415014531378712, -1.1165768895629595, -2.761838292076385, -0.49762832934771706, -3.5988322020055925, -1.6222454442825611, -0.785803684870833, 1.2854603620855571, -2.0728467292145054, 0.2104341381946505, -2.130083874624023, -4.823817183605189, -0.7147096476139996, -2.1488771824712347, -2.328647367186489, -2.6185644813892477, -1.4600847832285613, -1.7723723940161447, -0.26294449888655635, -0.7835248030753518, -1.2612782875867006, -0.9110459850262816, -1.563576897726783, -0.2384552436244171, -2.5885172541199757, -3.271088321561852, -0.7426187892430383, -4.105046929581618, -1.733083515754977, 0.40559624962031804, -0.5827597997327156, -1.7083251053334498, -1.0584526740899258, -0.35382425458966976], \"y\": [-1.3981314776533864, -1.859196560293164, -2.3185594937792033, -2.512982934613558, -3.2894570432685684, -2.183612335165502, -3.3917931564417443, -3.985155033035047, -2.9460085405982728, -3.8446541120182207, -0.848971299157391, -2.9986676602610913, -0.4892260630545648, -3.3051983440380814, -0.4438339331950015, -1.921076790620073, -1.6168157911803294, -3.1703550753655425, -1.0223099352948828, -3.746367566214374, -2.4013827868960056, -3.8142733954111154, -3.016109466438633, -4.604724012787285, -2.6922884112932914, -1.5111867468752556, -3.1677361980651066, -2.3628801914380393, -3.9536031537981144, -1.2714908813447627, -1.3284037845598007, -3.0702928126860574, -2.2466423032138567, -1.0222688476379918, -3.1508236848021505, -0.2393413368419971, -4.025972030956788, -3.7587250930616456, -2.8723217813884903, -0.4555945502483347, -2.564705897943692, -2.523133674361228, -2.239640882106364, -3.9196551626428877, -1.527386242576997, -1.9518109929184566, -1.939364287518167, -0.5025536650239186, -2.9602766735956623, -2.601664562636924, -1.3150557735384472, -2.6213178991007506, -0.40329030678669553, -5.432957638437494, -3.5903798187422806, -5.302831495533424, 0.07443664320956762, -3.24452114437786, -0.6179716796139921, -4.343483407852296, -3.0284328557763773, 0.047233080808861024, -1.827943425974487, 0.6000855656915459, -0.9764397845204851, -4.059321826188389, -3.0581564486406037, -4.974228094576927, -0.07105670503306014, -0.6553712270921099, -4.604724012787285, -4.637472693602094, -3.9021808444503323, -3.811805837118553, -3.504591427796159, -1.7113667940171482, -0.30824867665822364, -2.3763481399966553, -2.964774732614963, -3.801199019176123, -3.9585941843732244, -1.6389596647583893, -2.358538127614133, -1.5305617528143767, 0.15147236814894824, -1.2677421845371541, -1.2266626346183696, -1.1261434955819787, -2.211679404524795, -1.3690815231442324, -3.4072984377708444, -2.468606473557976, -3.618454590679742, -2.2814373125946523, -1.8805929136300794, -1.6221385772990338, -1.2679309197879933, -4.4381060415490685, -1.9627970687985585, -0.8311440543608241, -3.324895921061833, -0.2856766269772914, -4.367592041114876, -0.5265691339079748, -3.656113259937251, -1.2695575922446252, -0.9147725986841505, -4.4124148204823275, -0.8644384514399339, -3.6214331682213055, -3.639398161900368, -2.4186977785459853, -3.961056473566458, -3.7232692787361534, -2.6700728767012114, -3.564097191851758, -2.577649849521833, -4.54372834550757, -1.4521334613496297, -2.90491536193575, -1.6636950214467947, -1.8798121424202787, -3.7801830164875234, -0.4892260630545648, -3.1429799883088685, -2.04114623051823, -3.064603595633827, -3.2132612587289557, -3.967740266678367, -3.5902621526095557, -0.20030150072297617, -4.042195493880248], \"z\": [1.2247150071582888, -0.10858395878569635, 3.0425321783423556, -0.15320269275497156, -1.8697748899529176, 0.6503183360541815, -0.9992335340043685, -1.3663050403575996, 0.7563162239305183, 2.083466857932894, 1.4875050921855324, -0.1797284265963213, 1.3718871236957184, 0.5207562219211009, 0.8932094563343488, 2.417094568195851, -0.054879371046524746, -0.8282921961424985, 1.9766258373945274, 3.647559736866046, -0.5756162887783592, 1.1540907542512309, 0.48897173838550334, 0.689056574955311, -2.1316512265418504, 4.262263388767725, 3.586172366118898, 0.9001987791575811, 0.34275136998039596, 0.3860828248682564, -0.6020166943635694, 0.872647979487497, 0.4143276806594958, 0.7530151868597385, 2.245102986333379, 1.3788670422790934, 0.5578576513001211, -0.4023794967982757, -0.8526107646625308, -0.35063926705181686, -0.23994788837298683, 1.745508552845617, 0.41209024805711236, -0.4057016101244984, 2.6262260514167113, -1.4924492532576248, 0.5022404178717133, 4.943782090104309, 0.26869746422615676, 1.5228378506214686, -0.8313542170087135, 0.3592869424332339, 0.8899694216899371, 1.8292729984914333, 0.238892204000286, 1.0157399635356394, -0.0024284988510771244, 0.744143110425789, -1.0499566497207184, 1.3144693462335277, 1.4246869813408936, 0.25568004569815583, 1.0433981804903472, 3.587525526975102, -0.1514529144787763, 1.4829118995487456, 2.2749378569245113, 0.8334454395032037, -1.1806546402127789, 5.403540560053285, 0.689056574955311, 3.546293752694771, 0.07215458566499493, 1.5124131619548669, 1.74129114295102, 0.8412791299125437, 0.6482254545025385, 4.402012914657372, 2.0772107380852347, 2.123284864258183, 2.2806464305452914, -0.04019308892568572, -1.0568594465681098, 2.8454896451318907, -1.1104855462666168, 1.164843596689332, -0.2626818274170241, 1.1624450714933017, 1.5421916383513499, 5.564483964221425, -0.4001623899103128, 3.3415242541505155, -0.41497571724211585, 1.4020579323954414, 3.238950347404431, 0.7619588657547053, -0.47594866808984604, -0.8114556714562884, 4.603754289305702, 0.13381528568873707, -1.010303062253582, 1.512577893114839, 2.6321615281017015, 3.760887503081347, 1.148547046390129, 0.4699888167669561, -0.8133308047772811, -1.6047017208017214, -0.3706719142961557, 0.75864566103308, -0.5589776924965436, 2.093491690464765, -0.2519183232960561, 0.410891302477187, 4.530049524360164, -0.3014053325419946, 1.682476506531743, 1.120055369000287, 0.2986830007659022, -1.1679927203759948, -0.8330074580686566, 0.32139851532872793, 1.490193199334783, 1.3718871236957184, 1.1270852446920945, -1.412252948379863, -0.8913914177012132, 0.3239535456286472, 0.2997616349262706, 0.1598823121788898, 0.11141249044122918, -1.1110917223254526]}, {\"customdata\": [[\"athletics\", 3], [\"athletics\", 3], [\"athletics\", 3], [\"athletics\", 3], [\"athletics\", 3], [\"athletics\", 3], [\"athletics\", 3], [\"athletics\", 3], [\"athletics\", 3], [\"athletics\", 3], [\"athletics\", 3], [\"athletics\", 3], [\"athletics\", 3], [\"athletics\", 3], [\"athletics\", 3], [\"football\", 3], [\"athletics\", 3], [\"athletics\", 3], [\"athletics\", 3], [\"athletics\", 3], [\"athletics\", 3], [\"athletics\", 3], [\"athletics\", 3], [\"athletics\", 3], [\"athletics\", 3], [\"athletics\", 3], [\"tennis\", 3], [\"athletics\", 3], [\"athletics\", 3], [\"athletics\", 3], [\"athletics\", 3], [\"athletics\", 3], [\"athletics\", 3], [\"athletics\", 3], [\"athletics\", 3], [\"athletics\", 3], [\"athletics\", 3], [\"athletics\", 3], [\"athletics\", 3], [\"athletics\", 3], [\"athletics\", 3], [\"athletics\", 3], [\"athletics\", 3], [\"athletics\", 3], [\"athletics\", 3], [\"athletics\", 3], [\"tennis\", 3], [\"athletics\", 3], [\"athletics\", 3], [\"athletics\", 3], [\"athletics\", 3], [\"athletics\", 3]], \"hovertemplate\": \"L:%{customdata[0]}<br>C:%{customdata[1]}\", \"marker\": {\"size\": 5}, \"mode\": \"markers\", \"name\": \"Cluster 3\", \"type\": \"scatter3d\", \"x\": [6.192806410974951, 2.0463815033241253, 4.504877718047085, 2.925673773500095, 2.0251094326798076, 4.473503318946713, 4.193039411208944, 1.3712626860707806, 2.8949871091443873, 1.7979294905196117, 3.343212554891655, 5.632662035275256, 4.873418815178177, 2.7623868846548847, 6.029592454511129, 1.926748056466622, 5.847366582984603, 6.0778646542766435, 3.2409569978842336, 6.04172493453331, 4.87738306251678, 1.0538256964316595, 2.3503091923256867, 6.045656849693058, 4.85854637525475, 3.4170755401862176, 3.196111789427618, 5.556450806847669, 2.179475598044494, 5.815448565874434, 2.440313700068618, 7.406617335927225, 5.815448565874434, 2.787912348936012, 6.51512481816964, 4.256402550048829, 4.143452556377277, 5.073326558687054, 1.4206109952831136, 5.359307197276054, 5.585725455975234, 5.295091825645676, 4.011693246822613, 4.728384082791259, 4.008333661092543, 6.566726596086168, 2.819370409716578, 5.664848865017423, 4.93818373487721, 3.763246503567835, 4.624654040398105, 4.546747934307392], \"y\": [0.5287997315235391, 0.28579208351100527, 0.9389733608271603, -0.9994515820734787, -0.4479612873059931, 0.18823420839362284, 0.5782049774656992, -0.06972186427457584, 0.163203742346415, -1.8112762314951352, -1.5913316804487672, 0.7512113053867921, -0.01863839237292734, -0.4801666905341052, 0.5335184090574865, -0.15415001886937518, 1.2719844015303834, 2.6868909436844906, 0.79853886194101, 1.8135559037826388, 1.3254347538074722, -2.0599991439462397, -0.35132516684514986, 0.6110509217483986, 0.29410319089294745, -1.5587629168651052, 1.0075858946528469, 2.1148313796983893, -0.767798758958283, 1.8510686378745107, 1.5426880698011929, 2.4449651245912123, 1.8510686378745107, -1.029132297285445, 1.2961264844992861, 0.6179698865419628, -0.08796681655557961, 0.07041690934443195, -1.071279619248939, 2.7261786256025933, 1.0089122286372953, 1.2093298878298275, 1.5468722638305759, 1.2580734059761816, 0.25062445431527314, 1.7495113360809356, 0.6200943067461436, 0.4438042078396087, 0.23061179452004024, 0.13399510379779203, 1.9407348499905817, -0.4124194532055998], \"z\": [-0.2512508318710602, 0.8038184707213439, 1.4843483895969418, 4.322877119058362, 0.42952029533706804, -0.2777353061937858, 0.4353890575328363, 0.8656465226388645, -0.07354728122105196, 1.4610877610361654, 1.3245179057558767, -0.8225028862044006, 1.550266643005568, 2.051748717634178, 1.9097243170177518, 2.0116253774199255, 0.62973642468284, 1.307907543763499, -0.0008325161917163384, 1.9079920847867302, 1.047492918672883, 3.7234732899250322, 2.2495460759324297, 1.0993770762370079, 0.4272627649307222, 2.427681418813577, -0.16094228441710096, -0.8337349448804854, 0.5601004716252238, -1.6620855597735984, 2.1714852130569366, 0.1014088379593247, -1.6620855597735984, 0.29882266330154217, 1.9619294009686574, -0.11948705953887312, 0.021013970001119757, 2.079807162533611, 1.201757133855284, -0.22768139358389522, 1.3773514915674765, -2.6455577312592524, -1.8411541747319713, 0.654035541620227, 3.1725717334392094, 0.2069720378798844, -0.2246802712563637, -0.041540653094590214, 1.4312828279256768, 1.833601940646786, 1.145998435374646, 1.7807057117974032]}, {\"customdata\": [[\"cricket\", 4], [\"cricket\", 4], [\"cricket\", 4], [\"cricket\", 4], [\"cricket\", 4], [\"cricket\", 4], [\"cricket\", 4], [\"cricket\", 4], [\"cricket\", 4], [\"cricket\", 4], [\"cricket\", 4], [\"cricket\", 4], [\"cricket\", 4], [\"cricket\", 4], [\"cricket\", 4], [\"cricket\", 4], [\"cricket\", 4], [\"cricket\", 4], [\"cricket\", 4], [\"cricket\", 4], [\"cricket\", 4], [\"cricket\", 4], [\"cricket\", 4], [\"cricket\", 4], [\"cricket\", 4], [\"cricket\", 4], [\"cricket\", 4], [\"cricket\", 4], [\"cricket\", 4], [\"cricket\", 4], [\"cricket\", 4], [\"cricket\", 4], [\"cricket\", 4], [\"cricket\", 4], [\"cricket\", 4], [\"cricket\", 4], [\"cricket\", 4], [\"cricket\", 4], [\"cricket\", 4], [\"cricket\", 4], [\"cricket\", 4], [\"cricket\", 4], [\"cricket\", 4], [\"cricket\", 4], [\"cricket\", 4], [\"cricket\", 4], [\"cricket\", 4], [\"cricket\", 4], [\"cricket\", 4], [\"cricket\", 4], [\"cricket\", 4], [\"cricket\", 4], [\"cricket\", 4], [\"cricket\", 4], [\"cricket\", 4], [\"cricket\", 4], [\"cricket\", 4], [\"cricket\", 4], [\"cricket\", 4], [\"cricket\", 4], [\"cricket\", 4], [\"cricket\", 4], [\"cricket\", 4], [\"cricket\", 4], [\"cricket\", 4], [\"cricket\", 4], [\"cricket\", 4], [\"cricket\", 4], [\"cricket\", 4], [\"cricket\", 4], [\"cricket\", 4]], \"hovertemplate\": \"L:%{customdata[0]}<br>C:%{customdata[1]}\", \"marker\": {\"size\": 5}, \"mode\": \"markers\", \"name\": \"Cluster 4\", \"type\": \"scatter3d\", \"x\": [-5.216127610011984, -4.062707531057439, -1.5591676300492934, -5.384586658167779, -5.213695971067277, -4.306051245313866, -4.879359539362285, -6.346046645592119, -3.401017168912598, -4.361355877312119, -4.768145812288164, -2.3857179244042155, -4.381818681889074, -2.2934840588440797, -4.348076281473741, -3.7834564422457895, -3.754254778837276, -4.702854661568543, -4.343890974949909, -3.9847135003615177, -3.3972320360423285, -5.022147117377437, -3.8674349419428395, -5.4442386984044795, -5.0717647434463915, -5.3076531640566085, -1.6603097108424714, -1.592843066993336, -5.777226925251198, -5.698562264498449, -3.418175512909825, -3.0334235272495893, -1.9374835523742249, -4.586541170890839, -2.943073876945001, -3.5848988162776196, -3.6370570111248153, -4.554056489954132, -5.777226925251198, -4.8028840208535115, -3.0090147594728176, -1.423201436227277, -2.65210585368542, -0.7148299886195218, -4.616427520882546, -3.351338254959253, -4.35021511117406, -2.6426978774600705, -3.614414040048866, -3.457393552634663, -5.413445498570822, -3.021412828827193, -4.063670486607496, -2.01537361262538, -3.173860335468212, -2.0830422857708664, -5.909225944467562, -6.007832283153311, -4.7401469987661375, -4.843922022918219, -3.719177244560386, -2.516423394202506, -0.08377241659563223, -2.8714480191331004, -1.2340880090528041, -1.935957751620888, -4.7401469987661375, -2.0656253651770045, -5.489552532662327, -3.0775258506121865, -2.486035083440429], \"y\": [0.6127209145633984, 1.4686163340186755, 4.270991733590299, 4.657227955282979, 2.4706638171124418, 2.7375598026888355, 4.707855459121356, 4.379058565473547, 4.428699408785745, 6.386808200750332, 2.876972678303672, 5.224808148483963, 5.211092381738948, 2.3279418250373047, 5.06361365863995, 2.9602191460307226, 0.48141303222674525, 1.6736111347813074, 6.237056262601771, 2.2951463383739528, 1.8050090409873398, 2.666274207780209, 6.013433301187482, 4.416783071741029, 2.852567508273051, 2.6793128049171804, 5.278897937079365, 2.530160163280466, 2.411574098812427, 4.144904398051494, 3.810351908856821, 2.549178565306306, 2.713937546896352, 1.062249937001182, 3.7808353758094637, 7.1475249191706975, 3.803531769670407, 5.1939341025420545, 2.411574098812427, 4.271475918309067, 7.285938400218218, 4.339409002145611, 6.488445873988033, 2.4503386116109014, 0.8253944867072027, 1.6587486620374394, 3.6408337549329604, 1.9109432029741902, 3.5278039405981545, 7.1394429753996285, 1.1302864229124894, 3.516602280704303, 2.238356734078444, 4.1178137084819735, 0.009745456812189811, 4.00572466011749, 4.944626044187809, 1.3807827852086556, 3.753626149465064, 3.5826169120286537, 5.277495959751507, 5.252602250092385, 3.7880408262699268, 5.501631446732797, 4.07634482743379, 3.4663234018667515, 3.753626149465064, 4.162455802772186, 2.210610167873169, 4.3156507289419475, 3.5854188247287717], \"z\": [2.6181069994380763, 1.4133578083596965, -2.3937062479496887, -0.15861619399828486, -2.153814507267675, 1.3091104559548634, -0.9559613346933638, 1.1277673396734527, -1.1820653129492906, -1.1284640337670655, 1.0140091688685575, -2.200997068919772, -0.6489623851321186, -0.8375614794482835, -1.4147051913809048, -0.2711900307484182, 1.7328826073115002, -0.7299769296805082, -0.2213516928610217, 1.933562017489468, 3.1735905833491165, 1.741566447920551, -0.11418212692457051, -1.1459757608561596, -0.05334849547642531, 1.5597269219691448, -1.331475833329577, -3.7970594495282133, 1.1434579730944963, -0.16414455031929445, 0.42004767074591587, 0.12144889499411692, -0.1982207308643219, -0.24089359884789197, -2.6899334222996365, -0.6278671441380866, 0.4353834590694146, -0.8649463858213963, 1.1434579730944963, -0.09939619201220187, -0.21473606918192378, -2.689557334269145, 0.3978178819689422, 0.49133059102843657, 1.6994325944145257, 0.49189245882357563, -0.07550458017904756, -0.5775310423025043, 0.553898144592286, -0.8179244233034559, 1.840075403998845, -1.685335249728609, -1.379218149904219, -2.3336325768167665, 1.0130800351072493, -3.80687561000623, -0.2799283158047822, 0.12935506662343063, 0.6095577651911624, -0.7276904939973609, -0.32667428389969433, -2.191717817857171, 1.231635333726285, -3.0389194633405894, -2.2243686894108463, 0.7607392082552803, 0.6095577651911624, -1.2757272399925408, 2.1366701018166077, -0.45486551197651287, -3.2335505446250843]}],\n",
              "                        {\"legend\": {\"x\": 0.01, \"y\": 0.99}, \"margin\": {\"b\": 0, \"l\": 0, \"r\": 0, \"t\": 0}, \"scene\": {\"xaxis\": {\"title\": {\"text\": \"X\"}}, \"yaxis\": {\"title\": {\"text\": \"Y\"}}, \"zaxis\": {\"title\": {\"text\": \"Z\"}}}, \"showlegend\": true, \"template\": {\"data\": {\"bar\": [{\"error_x\": {\"color\": \"#2a3f5f\"}, \"error_y\": {\"color\": \"#2a3f5f\"}, \"marker\": {\"line\": {\"color\": \"#E5ECF6\", \"width\": 0.5}}, \"type\": \"bar\"}], \"barpolar\": [{\"marker\": {\"line\": {\"color\": \"#E5ECF6\", \"width\": 0.5}}, \"type\": \"barpolar\"}], \"carpet\": [{\"aaxis\": {\"endlinecolor\": \"#2a3f5f\", \"gridcolor\": \"white\", \"linecolor\": \"white\", \"minorgridcolor\": \"white\", \"startlinecolor\": \"#2a3f5f\"}, \"baxis\": {\"endlinecolor\": \"#2a3f5f\", \"gridcolor\": \"white\", \"linecolor\": \"white\", \"minorgridcolor\": \"white\", \"startlinecolor\": \"#2a3f5f\"}, \"type\": \"carpet\"}], \"choropleth\": [{\"colorbar\": {\"outlinewidth\": 0, \"ticks\": \"\"}, \"type\": \"choropleth\"}], \"contour\": [{\"colorbar\": {\"outlinewidth\": 0, \"ticks\": \"\"}, \"colorscale\": [[0.0, \"#0d0887\"], [0.1111111111111111, \"#46039f\"], [0.2222222222222222, \"#7201a8\"], [0.3333333333333333, \"#9c179e\"], [0.4444444444444444, \"#bd3786\"], [0.5555555555555556, \"#d8576b\"], [0.6666666666666666, \"#ed7953\"], [0.7777777777777778, \"#fb9f3a\"], [0.8888888888888888, \"#fdca26\"], [1.0, \"#f0f921\"]], \"type\": \"contour\"}], \"contourcarpet\": [{\"colorbar\": {\"outlinewidth\": 0, \"ticks\": \"\"}, \"type\": \"contourcarpet\"}], \"heatmap\": [{\"colorbar\": {\"outlinewidth\": 0, \"ticks\": \"\"}, \"colorscale\": [[0.0, \"#0d0887\"], [0.1111111111111111, \"#46039f\"], [0.2222222222222222, \"#7201a8\"], [0.3333333333333333, \"#9c179e\"], [0.4444444444444444, \"#bd3786\"], [0.5555555555555556, \"#d8576b\"], [0.6666666666666666, \"#ed7953\"], [0.7777777777777778, \"#fb9f3a\"], [0.8888888888888888, \"#fdca26\"], [1.0, \"#f0f921\"]], \"type\": \"heatmap\"}], \"heatmapgl\": [{\"colorbar\": {\"outlinewidth\": 0, \"ticks\": \"\"}, \"colorscale\": [[0.0, \"#0d0887\"], [0.1111111111111111, \"#46039f\"], [0.2222222222222222, \"#7201a8\"], [0.3333333333333333, \"#9c179e\"], [0.4444444444444444, \"#bd3786\"], [0.5555555555555556, \"#d8576b\"], [0.6666666666666666, \"#ed7953\"], [0.7777777777777778, \"#fb9f3a\"], [0.8888888888888888, \"#fdca26\"], [1.0, \"#f0f921\"]], \"type\": \"heatmapgl\"}], \"histogram\": [{\"marker\": {\"colorbar\": {\"outlinewidth\": 0, \"ticks\": \"\"}}, \"type\": \"histogram\"}], \"histogram2d\": [{\"colorbar\": {\"outlinewidth\": 0, \"ticks\": \"\"}, \"colorscale\": [[0.0, \"#0d0887\"], [0.1111111111111111, \"#46039f\"], [0.2222222222222222, \"#7201a8\"], [0.3333333333333333, \"#9c179e\"], [0.4444444444444444, \"#bd3786\"], [0.5555555555555556, \"#d8576b\"], [0.6666666666666666, \"#ed7953\"], [0.7777777777777778, \"#fb9f3a\"], [0.8888888888888888, \"#fdca26\"], [1.0, \"#f0f921\"]], \"type\": \"histogram2d\"}], \"histogram2dcontour\": [{\"colorbar\": {\"outlinewidth\": 0, \"ticks\": \"\"}, \"colorscale\": [[0.0, \"#0d0887\"], [0.1111111111111111, \"#46039f\"], [0.2222222222222222, \"#7201a8\"], [0.3333333333333333, \"#9c179e\"], [0.4444444444444444, \"#bd3786\"], [0.5555555555555556, \"#d8576b\"], [0.6666666666666666, \"#ed7953\"], [0.7777777777777778, \"#fb9f3a\"], [0.8888888888888888, \"#fdca26\"], [1.0, \"#f0f921\"]], \"type\": \"histogram2dcontour\"}], \"mesh3d\": [{\"colorbar\": {\"outlinewidth\": 0, \"ticks\": \"\"}, \"type\": \"mesh3d\"}], \"parcoords\": [{\"line\": {\"colorbar\": {\"outlinewidth\": 0, \"ticks\": \"\"}}, \"type\": \"parcoords\"}], \"pie\": [{\"automargin\": true, \"type\": \"pie\"}], \"scatter\": [{\"marker\": {\"colorbar\": {\"outlinewidth\": 0, \"ticks\": \"\"}}, \"type\": \"scatter\"}], \"scatter3d\": [{\"line\": {\"colorbar\": {\"outlinewidth\": 0, \"ticks\": \"\"}}, \"marker\": {\"colorbar\": {\"outlinewidth\": 0, \"ticks\": \"\"}}, \"type\": \"scatter3d\"}], \"scattercarpet\": [{\"marker\": {\"colorbar\": {\"outlinewidth\": 0, \"ticks\": \"\"}}, \"type\": \"scattercarpet\"}], \"scattergeo\": [{\"marker\": {\"colorbar\": {\"outlinewidth\": 0, \"ticks\": \"\"}}, \"type\": \"scattergeo\"}], \"scattergl\": [{\"marker\": {\"colorbar\": {\"outlinewidth\": 0, \"ticks\": \"\"}}, \"type\": \"scattergl\"}], \"scattermapbox\": [{\"marker\": {\"colorbar\": {\"outlinewidth\": 0, \"ticks\": \"\"}}, \"type\": \"scattermapbox\"}], \"scatterpolar\": [{\"marker\": {\"colorbar\": {\"outlinewidth\": 0, \"ticks\": \"\"}}, \"type\": \"scatterpolar\"}], \"scatterpolargl\": [{\"marker\": {\"colorbar\": {\"outlinewidth\": 0, \"ticks\": \"\"}}, \"type\": \"scatterpolargl\"}], \"scatterternary\": [{\"marker\": {\"colorbar\": {\"outlinewidth\": 0, \"ticks\": \"\"}}, \"type\": \"scatterternary\"}], \"surface\": [{\"colorbar\": {\"outlinewidth\": 0, \"ticks\": \"\"}, \"colorscale\": [[0.0, \"#0d0887\"], [0.1111111111111111, \"#46039f\"], [0.2222222222222222, \"#7201a8\"], [0.3333333333333333, \"#9c179e\"], [0.4444444444444444, \"#bd3786\"], [0.5555555555555556, \"#d8576b\"], [0.6666666666666666, \"#ed7953\"], [0.7777777777777778, \"#fb9f3a\"], [0.8888888888888888, \"#fdca26\"], [1.0, \"#f0f921\"]], \"type\": \"surface\"}], \"table\": [{\"cells\": {\"fill\": {\"color\": \"#EBF0F8\"}, \"line\": {\"color\": \"white\"}}, \"header\": {\"fill\": {\"color\": \"#C8D4E3\"}, \"line\": {\"color\": \"white\"}}, \"type\": \"table\"}]}, \"layout\": {\"annotationdefaults\": {\"arrowcolor\": \"#2a3f5f\", \"arrowhead\": 0, \"arrowwidth\": 1}, \"coloraxis\": {\"colorbar\": {\"outlinewidth\": 0, \"ticks\": \"\"}}, \"colorscale\": {\"diverging\": [[0, \"#8e0152\"], [0.1, \"#c51b7d\"], [0.2, \"#de77ae\"], [0.3, \"#f1b6da\"], [0.4, \"#fde0ef\"], [0.5, \"#f7f7f7\"], [0.6, \"#e6f5d0\"], [0.7, \"#b8e186\"], [0.8, \"#7fbc41\"], [0.9, \"#4d9221\"], [1, \"#276419\"]], \"sequential\": [[0.0, \"#0d0887\"], [0.1111111111111111, \"#46039f\"], [0.2222222222222222, \"#7201a8\"], [0.3333333333333333, \"#9c179e\"], [0.4444444444444444, \"#bd3786\"], [0.5555555555555556, \"#d8576b\"], [0.6666666666666666, \"#ed7953\"], [0.7777777777777778, \"#fb9f3a\"], [0.8888888888888888, \"#fdca26\"], [1.0, \"#f0f921\"]], \"sequentialminus\": [[0.0, \"#0d0887\"], [0.1111111111111111, \"#46039f\"], [0.2222222222222222, \"#7201a8\"], [0.3333333333333333, \"#9c179e\"], [0.4444444444444444, \"#bd3786\"], [0.5555555555555556, \"#d8576b\"], [0.6666666666666666, \"#ed7953\"], [0.7777777777777778, \"#fb9f3a\"], [0.8888888888888888, \"#fdca26\"], [1.0, \"#f0f921\"]]}, \"colorway\": [\"#636efa\", \"#EF553B\", \"#00cc96\", \"#ab63fa\", \"#FFA15A\", \"#19d3f3\", \"#FF6692\", \"#B6E880\", \"#FF97FF\", \"#FECB52\"], \"font\": {\"color\": \"#2a3f5f\"}, \"geo\": {\"bgcolor\": \"white\", \"lakecolor\": \"white\", \"landcolor\": \"#E5ECF6\", \"showlakes\": true, \"showland\": true, \"subunitcolor\": \"white\"}, \"hoverlabel\": {\"align\": \"left\"}, \"hovermode\": \"closest\", \"mapbox\": {\"style\": \"light\"}, \"paper_bgcolor\": \"white\", \"plot_bgcolor\": \"#E5ECF6\", \"polar\": {\"angularaxis\": {\"gridcolor\": \"white\", \"linecolor\": \"white\", \"ticks\": \"\"}, \"bgcolor\": \"#E5ECF6\", \"radialaxis\": {\"gridcolor\": \"white\", \"linecolor\": \"white\", \"ticks\": \"\"}}, \"scene\": {\"xaxis\": {\"backgroundcolor\": \"#E5ECF6\", \"gridcolor\": \"white\", \"gridwidth\": 2, \"linecolor\": \"white\", \"showbackground\": true, \"ticks\": \"\", \"zerolinecolor\": \"white\"}, \"yaxis\": {\"backgroundcolor\": \"#E5ECF6\", \"gridcolor\": \"white\", \"gridwidth\": 2, \"linecolor\": \"white\", \"showbackground\": true, \"ticks\": \"\", \"zerolinecolor\": \"white\"}, \"zaxis\": {\"backgroundcolor\": \"#E5ECF6\", \"gridcolor\": \"white\", \"gridwidth\": 2, \"linecolor\": \"white\", \"showbackground\": true, \"ticks\": \"\", \"zerolinecolor\": \"white\"}}, \"shapedefaults\": {\"line\": {\"color\": \"#2a3f5f\"}}, \"ternary\": {\"aaxis\": {\"gridcolor\": \"white\", \"linecolor\": \"white\", \"ticks\": \"\"}, \"baxis\": {\"gridcolor\": \"white\", \"linecolor\": \"white\", \"ticks\": \"\"}, \"bgcolor\": \"#E5ECF6\", \"caxis\": {\"gridcolor\": \"white\", \"linecolor\": \"white\", \"ticks\": \"\"}}, \"title\": {\"x\": 0.05}, \"xaxis\": {\"automargin\": true, \"gridcolor\": \"white\", \"linecolor\": \"white\", \"ticks\": \"\", \"title\": {\"standoff\": 15}, \"zerolinecolor\": \"white\", \"zerolinewidth\": 2}, \"yaxis\": {\"automargin\": true, \"gridcolor\": \"white\", \"linecolor\": \"white\", \"ticks\": \"\", \"title\": {\"standoff\": 15}, \"zerolinecolor\": \"white\", \"zerolinewidth\": 2}}}},\n",
              "                        {\"responsive\": true}\n",
              "                    ).then(function(){\n",
              "                            \n",
              "var gd = document.getElementById('4fb24ca9-71c3-4be6-98fd-553c2abc5d88');\n",
              "var x = new MutationObserver(function (mutations, observer) {{\n",
              "        var display = window.getComputedStyle(gd).display;\n",
              "        if (!display || display === 'none') {{\n",
              "            console.log([gd, 'removed!']);\n",
              "            Plotly.purge(gd);\n",
              "            observer.disconnect();\n",
              "        }}\n",
              "}});\n",
              "\n",
              "// Listen for the removal of the full notebook cells\n",
              "var notebookContainer = gd.closest('#notebook-container');\n",
              "if (notebookContainer) {{\n",
              "    x.observe(notebookContainer, {childList: true});\n",
              "}}\n",
              "\n",
              "// Listen for the clearing of the current output cell\n",
              "var outputEl = gd.closest('.output');\n",
              "if (outputEl) {{\n",
              "    x.observe(outputEl, {childList: true});\n",
              "}}\n",
              "\n",
              "                        })\n",
              "                };\n",
              "                \n",
              "            </script>\n",
              "        </div>\n",
              "</body>\n",
              "</html>"
            ]
          },
          "metadata": {
            "tags": []
          }
        }
      ]
    },
    {
      "cell_type": "markdown",
      "metadata": {
        "id": "3tI35DL8RT2I",
        "colab_type": "text"
      },
      "source": [
        "So, based on the datapoints from clustering, it looks like clusters are as folows:\n",
        "* C0 - Rugby/Football\n",
        "* C1 - Tennis\n",
        "* C2 - Rugby/Football\n",
        "* C3 - Athletics\n",
        "* C4 - Cricket"
      ]
    },
    {
      "cell_type": "markdown",
      "metadata": {
        "id": "Vf0fJPedL1fg",
        "colab_type": "text"
      },
      "source": [
        "# Label Propagation\n",
        "Now that we are satisfied with our clusters, we can use the trained model to classify remaining datapoints."
      ]
    },
    {
      "cell_type": "markdown",
      "metadata": {
        "id": "vvJGHh3HN-ls",
        "colab_type": "text"
      },
      "source": [
        "## preparing test data for prediction"
      ]
    },
    {
      "cell_type": "code",
      "metadata": {
        "id": "NJ2KBPCFKVte",
        "colab_type": "code",
        "colab": {}
      },
      "source": [
        "# convert test data to BERT Embeddings\n",
        "test_sentence_embeddings = model.encode(X_test.values)"
      ],
      "execution_count": 128,
      "outputs": []
    },
    {
      "cell_type": "code",
      "metadata": {
        "id": "4Z8k_0udOx2D",
        "colab_type": "code",
        "colab": {}
      },
      "source": [
        "# predict labels\n",
        "y_preds = clustering_model.predict(test_sentence_embeddings)"
      ],
      "execution_count": 129,
      "outputs": []
    },
    {
      "cell_type": "code",
      "metadata": {
        "id": "7Eq0XVJlPZcD",
        "colab_type": "code",
        "colab": {}
      },
      "source": [
        "# reducing dimensions for visualisation\n",
        "X3D_pca_test = pca.transform(test_sentence_embeddings)"
      ],
      "execution_count": 130,
      "outputs": []
    },
    {
      "cell_type": "code",
      "metadata": {
        "id": "qoKYMjIePCjc",
        "colab_type": "code",
        "colab": {
          "base_uri": "https://localhost:8080/",
          "height": 206
        },
        "outputId": "087db0b6-6f10-4f99-ffe1-425392547d6c"
      },
      "source": [
        "# making df of predicted results\n",
        "# lets check\n",
        "test_clustered_df = pd.DataFrame({\n",
        "    'sentence' : X_test.values,\n",
        "    'cluster' : y_preds,\n",
        "    'orig_label' : y_test.values, \n",
        "    'dim_X' : X3D_pca_test[:, 0],\n",
        "    'dim_Y' : X3D_pca_test[:, 1],\n",
        "    'dim_Z' : X3D_pca_test[:, 2],\n",
        "})\n",
        "test_clustered_df.head()"
      ],
      "execution_count": 131,
      "outputs": [
        {
          "output_type": "execute_result",
          "data": {
            "text/html": [
              "<div>\n",
              "<style scoped>\n",
              "    .dataframe tbody tr th:only-of-type {\n",
              "        vertical-align: middle;\n",
              "    }\n",
              "\n",
              "    .dataframe tbody tr th {\n",
              "        vertical-align: top;\n",
              "    }\n",
              "\n",
              "    .dataframe thead th {\n",
              "        text-align: right;\n",
              "    }\n",
              "</style>\n",
              "<table border=\"1\" class=\"dataframe\">\n",
              "  <thead>\n",
              "    <tr style=\"text-align: right;\">\n",
              "      <th></th>\n",
              "      <th>sentence</th>\n",
              "      <th>cluster</th>\n",
              "      <th>orig_label</th>\n",
              "      <th>dim_X</th>\n",
              "      <th>dim_Y</th>\n",
              "      <th>dim_Z</th>\n",
              "    </tr>\n",
              "  </thead>\n",
              "  <tbody>\n",
              "    <tr>\n",
              "      <th>0</th>\n",
              "      <td>benitez issues warning gerrard liverpool manag...</td>\n",
              "      <td>0</td>\n",
              "      <td>football</td>\n",
              "      <td>2.798531</td>\n",
              "      <td>-2.126052</td>\n",
              "      <td>-2.312530</td>\n",
              "    </tr>\n",
              "    <tr>\n",
              "      <th>1</th>\n",
              "      <td>dibaba breaks 000m world record ethiopia tirun...</td>\n",
              "      <td>3</td>\n",
              "      <td>athletics</td>\n",
              "      <td>4.443296</td>\n",
              "      <td>1.418262</td>\n",
              "      <td>1.953027</td>\n",
              "    </tr>\n",
              "    <tr>\n",
              "      <th>2</th>\n",
              "      <td>wilkinson miss ireland match england take irel...</td>\n",
              "      <td>2</td>\n",
              "      <td>rugby</td>\n",
              "      <td>-1.782344</td>\n",
              "      <td>-1.460831</td>\n",
              "      <td>1.227924</td>\n",
              "    </tr>\n",
              "    <tr>\n",
              "      <th>3</th>\n",
              "      <td>johnson announces june retirement former engla...</td>\n",
              "      <td>0</td>\n",
              "      <td>rugby</td>\n",
              "      <td>0.800188</td>\n",
              "      <td>1.005502</td>\n",
              "      <td>-2.018701</td>\n",
              "    </tr>\n",
              "    <tr>\n",
              "      <th>4</th>\n",
              "      <td>redknapp poised saints southampton set unveil ...</td>\n",
              "      <td>2</td>\n",
              "      <td>football</td>\n",
              "      <td>-1.740087</td>\n",
              "      <td>-3.323201</td>\n",
              "      <td>0.220110</td>\n",
              "    </tr>\n",
              "  </tbody>\n",
              "</table>\n",
              "</div>"
            ],
            "text/plain": [
              "                                            sentence  ...     dim_Z\n",
              "0  benitez issues warning gerrard liverpool manag...  ... -2.312530\n",
              "1  dibaba breaks 000m world record ethiopia tirun...  ...  1.953027\n",
              "2  wilkinson miss ireland match england take irel...  ...  1.227924\n",
              "3  johnson announces june retirement former engla...  ... -2.018701\n",
              "4  redknapp poised saints southampton set unveil ...  ...  0.220110\n",
              "\n",
              "[5 rows x 6 columns]"
            ]
          },
          "metadata": {
            "tags": []
          },
          "execution_count": 131
        }
      ]
    },
    {
      "cell_type": "code",
      "metadata": {
        "id": "RUxE533eP5bX",
        "colab_type": "code",
        "colab": {
          "base_uri": "https://localhost:8080/",
          "height": 542
        },
        "outputId": "c4e2a42f-4c92-4172-bf9a-5cec91efdaae"
      },
      "source": [
        "import plotly.graph_objects as go\n",
        "\n",
        "# create new figure\n",
        "fig = go.Figure()\n",
        "\n",
        "cluster_label = y_preds\n",
        "\n",
        "# plot data\n",
        "for cluster in set(y_preds):\n",
        "    original_labels = list(test_clustered_df[test_clustered_df['cluster']==cluster]['orig_label'].values)\n",
        "    cl = [cluster] * len(original_labels)\n",
        "    # print(original_labels)\n",
        "    fig.add_trace(\n",
        "        go.Scatter3d(\n",
        "            x=list(test_clustered_df[test_clustered_df['cluster']==cluster]['dim_X'].values), \n",
        "            y=list(test_clustered_df[test_clustered_df['cluster']==cluster]['dim_Y'].values), \n",
        "            z=list(test_clustered_df[test_clustered_df['cluster']==cluster]['dim_Z'].values), \n",
        "            name=f\"Cluster {cluster}\",\n",
        "            mode=\"markers\",\n",
        "            marker=dict(\n",
        "                # color=cols,\n",
        "                size=5,\n",
        "                # line=dict(width=0.5, color='DarkSlateGrey')\n",
        "            ), \n",
        "            # to display multiple, variables of custom data\n",
        "            customdata= tuple(zip(original_labels, cl)),\n",
        "            # To modify hover data, labels\n",
        "            hovertemplate='L:%{customdata[0]}<br>C:%{customdata[1]}', \n",
        "        )\n",
        "    )\n",
        "\n",
        "# for 3D plots, Embedded Scene are used\n",
        "from plotly.graph_objs.layout import Scene\n",
        "from plotly.graph_objs.layout.scene import XAxis, YAxis, ZAxis\n",
        "fig.update_layout(\n",
        "    showlegend=True,\n",
        "    legend=dict(\n",
        "        y=0.99,\n",
        "        x=0.01,\n",
        "    ),\n",
        "    scene=Scene(\n",
        "        xaxis=XAxis(title='X'),\n",
        "        yaxis=YAxis(title='Y'),\n",
        "        zaxis=ZAxis(title='Z')\n",
        "    ),\n",
        "    margin=dict(l=0, r=0, b=0, t=0),  # tight Layout\n",
        ")\n",
        "fig.show()"
      ],
      "execution_count": 132,
      "outputs": [
        {
          "output_type": "display_data",
          "data": {
            "text/html": [
              "<html>\n",
              "<head><meta charset=\"utf-8\" /></head>\n",
              "<body>\n",
              "    <div>\n",
              "            <script src=\"https://cdnjs.cloudflare.com/ajax/libs/mathjax/2.7.5/MathJax.js?config=TeX-AMS-MML_SVG\"></script><script type=\"text/javascript\">if (window.MathJax) {MathJax.Hub.Config({SVG: {font: \"STIX-Web\"}});}</script>\n",
              "                <script type=\"text/javascript\">window.PlotlyConfig = {MathJaxConfig: 'local'};</script>\n",
              "        <script src=\"https://cdn.plot.ly/plotly-latest.min.js\"></script>    \n",
              "            <div id=\"988b6124-79ef-4ede-8c6a-0dadb05af66f\" class=\"plotly-graph-div\" style=\"height:525px; width:100%;\"></div>\n",
              "            <script type=\"text/javascript\">\n",
              "                \n",
              "                    window.PLOTLYENV=window.PLOTLYENV || {};\n",
              "                    \n",
              "                if (document.getElementById(\"988b6124-79ef-4ede-8c6a-0dadb05af66f\")) {\n",
              "                    Plotly.newPlot(\n",
              "                        '988b6124-79ef-4ede-8c6a-0dadb05af66f',\n",
              "                        [{\"customdata\": [[\"football\", 0], [\"rugby\", 0], [\"football\", 0], [\"football\", 0], [\"football\", 0], [\"rugby\", 0], [\"rugby\", 0], [\"rugby\", 0], [\"rugby\", 0], [\"rugby\", 0], [\"football\", 0], [\"football\", 0], [\"rugby\", 0], [\"rugby\", 0], [\"rugby\", 0], [\"rugby\", 0], [\"rugby\", 0], [\"football\", 0], [\"football\", 0], [\"football\", 0], [\"rugby\", 0], [\"rugby\", 0], [\"rugby\", 0], [\"rugby\", 0], [\"rugby\", 0], [\"rugby\", 0], [\"football\", 0], [\"football\", 0], [\"football\", 0], [\"football\", 0], [\"football\", 0], [\"football\", 0], [\"rugby\", 0], [\"rugby\", 0], [\"rugby\", 0], [\"football\", 0], [\"football\", 0], [\"rugby\", 0], [\"football\", 0], [\"rugby\", 0], [\"rugby\", 0], [\"rugby\", 0], [\"rugby\", 0], [\"football\", 0], [\"football\", 0], [\"football\", 0], [\"football\", 0], [\"football\", 0], [\"rugby\", 0], [\"football\", 0], [\"cricket\", 0], [\"football\", 0], [\"football\", 0], [\"football\", 0], [\"football\", 0], [\"football\", 0], [\"rugby\", 0], [\"football\", 0], [\"rugby\", 0], [\"football\", 0], [\"rugby\", 0], [\"football\", 0], [\"football\", 0], [\"football\", 0], [\"football\", 0], [\"rugby\", 0], [\"football\", 0], [\"football\", 0], [\"rugby\", 0], [\"cricket\", 0], [\"football\", 0], [\"rugby\", 0], [\"football\", 0], [\"rugby\", 0], [\"football\", 0], [\"rugby\", 0], [\"rugby\", 0], [\"football\", 0], [\"rugby\", 0], [\"rugby\", 0], [\"football\", 0], [\"football\", 0], [\"football\", 0], [\"football\", 0], [\"rugby\", 0], [\"football\", 0], [\"football\", 0], [\"rugby\", 0], [\"rugby\", 0], [\"rugby\", 0], [\"rugby\", 0], [\"football\", 0], [\"football\", 0], [\"football\", 0], [\"football\", 0], [\"football\", 0], [\"rugby\", 0], [\"football\", 0], [\"rugby\", 0], [\"rugby\", 0]], \"hovertemplate\": \"L:%{customdata[0]}<br>C:%{customdata[1]}\", \"marker\": {\"size\": 5}, \"mode\": \"markers\", \"name\": \"Cluster 0\", \"type\": \"scatter3d\", \"x\": [2.798530981332045, 0.8001879795732209, 2.811083943877487, 0.7180340876683655, 1.5544413752314927, -0.7616739435990862, -0.9580423614939378, -0.286068468416255, -0.20525262022569948, 2.2024140564839665, 1.9335262006437253, -0.275626497030786, -2.210087962858556, -0.777491207251469, -0.25845761031366915, -1.5569168840518581, 0.10646079948018339, 2.964123368134617, 2.07590544509619, 0.30218711429451117, -1.7127093947269532, -0.28528829029590963, 0.9681142071495217, -0.32091070246958314, -0.3555447325086806, 0.49735835999802513, 2.6794153732941535, 1.5857113959757145, 0.8537649093001762, 1.473391634663768, 0.7635636276231684, 1.2349952256139132, -0.6773492627843412, -0.2445001565304411, 1.6435146313739437, 1.904640386767372, 1.5265038671050688, 0.26632621209164686, 1.5724725163121616, -0.3657674969462492, -0.9693526817458941, -0.5375010619075984, -1.9405931104904417, 1.8668663064336126, 2.854923588880887, 0.4335141685317969, 2.9499146042242606, 2.240412110073978, -0.5895553242122263, -0.2238116919031148, 0.7387092339520578, 1.1730861085380326, 1.677711282662404, 2.6897751365763636, -0.43853166404902433, 1.204073897016456, -1.6315555755468352, 0.6858424072896133, -1.4091649255108973, 2.0073450527585446, -0.10637647565417904, 0.8136280635213062, 1.6022154236013093, 1.2254101106147992, 1.4821998968268173, 0.6211395176996387, 0.5007451567691288, 2.8133271007831966, 0.0750416672803567, 0.13478440092224211, 2.0569231735436517, 0.8666746046706951, 1.6258682052898248, -0.7597237197393487, 0.8776166512231465, 1.1330427540835197, -1.3789336716036744, 2.785871108120364, -0.3106346908134018, -0.5845119836490559, 0.03239504490634879, 1.2730357758172057, 3.341908822452947, 0.3002919344654693, 0.19243524973856949, 0.05127895401979145, 2.1536103400603883, -0.15715137749423716, -0.5125722783927396, 0.5036562345231934, -1.3844583681211309, 0.6862801085455247, 3.868902396680716, 1.7546500812552264, 2.4893727717138545, 1.1549139597099793, -1.3060876224971536, 2.384412062615852, -0.13540002667856224, -1.1136613910804645], \"y\": [-2.1260524413356006, 1.0055015671775462, -1.7809090717411853, -1.8311081054449754, -1.4053707415329564, -0.19483788794115878, -0.016501310607963227, -0.3002951270529867, 3.0942203118823635, 1.1453969054833482, -0.7211946496104599, -2.14058042133815, -0.8636001286331585, -1.8157250550620532, 2.1891352276903895, 0.3804914960789929, 0.4371397606193913, -2.299304418853836, -1.5358972739093077, -2.401998635401757, -2.5624582085034224, -0.9631418769678805, 1.3431088718857631, 1.2362963885603055, -0.008228985646106246, 0.392185931045719, 3.5339910593525765, -2.1564681544088935, -1.5697372718736595, 1.823674578780897, 0.32800833492086334, -1.6680341256207378, 0.03605846283259234, -0.1920970426076692, -0.7164083647788483, -1.3621828514125278, -1.6716976047090466, 0.6311033654375003, -1.6648932783697254, -1.0617233297351876, -0.5233344903702155, 1.7547128187061367, 0.27597655230994583, -0.6350500168763058, -0.865477288435506, -0.9742232859541444, -1.1912820924557341, -0.1668568296442035, 1.1846800026952504, -3.4541611848247205, 2.491562658661543, -0.4905788181463922, -2.8921630779282173, -0.9170827717480644, -1.7604480525861739, -0.7459295775075319, 0.7965331629301914, -0.9867835898291513, 1.4430770570801137, 0.13270668240825076, 0.8595194078000473, -1.840506204650719, -0.1889854092769545, -1.914627052356659, -1.6162721734682837, -0.17051103798140282, -3.5614367358481345, 2.1670164027097556, -0.11085678893937602, 3.0973539780615056, 1.059691501001288, 1.5359862548173329, -3.1556995520114115, 0.6766688440588268, -2.381665939212547, 1.2874682974841756, -2.2408560163292037, -1.492265472751571, -0.27320864162225506, 0.7628472315169162, -1.6544296999527348, -0.368415270501312, 2.1208253027541506, -3.299348366263933, -1.052351954685597, -3.6108245561574925, -1.2786538369569702, -0.5764789165700345, 0.14752552522288329, 0.9101476686650183, -0.10673234977418518, -0.1987789866135668, -1.0862406246640026, -2.173591148445837, -3.380908818654796, -0.5488240565902622, 1.487042530800645, -0.5653643887110547, 0.08494258191513845, -1.2231915414921581], \"z\": [-2.3125299759890883, -2.0187009871607704, -2.6890002976767193, -0.08900587010417552, -1.3393630017339184, -1.4868519644435612, -2.733993178133886, -4.202617799572352, -3.227090772099454, -5.654818236283823, -0.05261312254794681, -1.507676975660622, -2.7803531238576484, -4.11491406125684, -1.6836368605007213, -1.766701025602088, -2.922410800665494, -1.0877512644789797, -2.589253711034117, -2.0194646275834787, -2.7622681945270084, -1.4853647988767538, -4.591734463201346, -2.526673876358332, -2.7404784067139936, -0.8047228191336939, -1.3216840475459144, -0.4258468422456423, -1.6690644660446932, -3.393718044493795, -2.469471251848581, -1.179288145857071, -2.189303809625534, -3.491634765747806, -3.9113321522199396, -2.490787158649865, 0.8223579151854561, -2.7979409904758636, -1.062687362640058, -4.529252278149172, -2.6599266740179193, -1.3946777341767036, -2.562664975967219, -1.680122046835322, -5.425147117249216, -2.5567708762569166, -5.231804811558129, -3.127397043192799, -4.254123621774001, -2.3226530279936255, -2.765588207848189, 1.2188636872778884, -3.133159778661832, 1.7392023374069838, -1.5335230967950948, -1.0923532751662712, -0.521864586238126, -0.6201211195994316, -2.786715309502061, -1.920394793514295, -1.3608275932633178, -1.6572054600360406, -2.588914864801945, -1.505572321154134, 0.25792038247355287, -4.617120192649196, -2.310262325016624, -1.8214330822116387, -2.964117324812769, -2.805569452671712, -5.5201923116845055, -2.7355762495735947, -0.38980118675836056, -2.697973670252731, -0.4424115501755763, -3.381173320695006, -2.5845115347773624, -0.48855903381339555, -1.7010007990435443, -3.0399646210996716, -3.904358593115245, 0.44959759874141414, -3.0742894069566638, -1.6901632664721506, -1.3288877563939812, -2.8453690091589783, -3.199526372928401, -0.9443781270538014, -2.4548151824248827, -1.120102070556415, -2.1885240034507194, -0.05197817070471018, -3.9902464260516695, -2.665825931520195, -2.0820679590087035, -1.8251468879131398, -1.1481992589858803, 0.6617373733050858, -0.8094463947097188, -1.143706076956797]}, {\"customdata\": [[\"tennis\", 1], [\"tennis\", 1], [\"tennis\", 1], [\"tennis\", 1], [\"tennis\", 1], [\"tennis\", 1], [\"tennis\", 1], [\"tennis\", 1], [\"tennis\", 1], [\"tennis\", 1], [\"tennis\", 1], [\"tennis\", 1], [\"tennis\", 1], [\"tennis\", 1], [\"tennis\", 1], [\"tennis\", 1], [\"tennis\", 1], [\"tennis\", 1], [\"tennis\", 1], [\"tennis\", 1], [\"tennis\", 1], [\"tennis\", 1], [\"tennis\", 1], [\"tennis\", 1], [\"tennis\", 1], [\"tennis\", 1], [\"tennis\", 1], [\"tennis\", 1], [\"tennis\", 1], [\"tennis\", 1], [\"tennis\", 1], [\"tennis\", 1], [\"tennis\", 1], [\"tennis\", 1], [\"tennis\", 1], [\"tennis\", 1], [\"tennis\", 1], [\"tennis\", 1]], \"hovertemplate\": \"L:%{customdata[0]}<br>C:%{customdata[1]}\", \"marker\": {\"size\": 5}, \"mode\": \"markers\", \"name\": \"Cluster 1\", \"type\": \"scatter3d\", \"x\": [3.825830453920948, -0.15602471894113581, 1.6464265145467847, 2.376504549159452, 3.1097471331996047, 3.604531285804393, 3.694002533185603, 1.598358548211559, 5.73941862441557, 2.7721629937881174, 1.6589313398987269, 0.449021632441027, 1.7758415747573582, 2.7524157486687857, 1.5153305301287634, 2.4050928807115914, 3.1443585501602724, 2.3371088587183864, 4.175208967548172, 1.1740260333159023, 2.642077927614688, 3.981297138121559, 2.792734023536484, 2.240168366462434, -1.2292395579042719, 1.0509637726988028, 0.45407325148968747, 4.089806112000955, 2.388631034093259, 5.445836414696657, 2.8428799466490178, 2.7036601337277375, 1.5713415131303559, 3.8870384644964453, 4.726185419008266, 1.3864352213304711, 2.8426708107775154, 4.126245273330705], \"y\": [3.27401784461198, 0.25907572762010567, 1.0398966271952104, 2.433686241679796, 3.195438085102861, 3.389293313406275, 3.8015926309085746, 2.6499834661795525, 3.4661855959032506, 2.382860596199572, 1.8455779910187906, -0.8708086986258259, 0.7334144072473524, 1.6326091210942504, 1.9954098886648537, 1.8560762620778486, 3.0400221827013745, 1.6418883689198989, 2.80975855447695, 0.23589896083153294, 2.6448704641008627, 3.6552961244942193, 1.8971428695482648, 0.5850983113350807, 0.25769168627479205, 1.6792768284235489, 1.6587680224321002, 3.0768287380414288, 2.249981777593256, 3.017791607470295, 1.8837979524747572, 2.9795384714479876, 1.2506121877028944, 2.5429738978492074, 3.3779071882595746, 0.6629074279663415, 0.7362694842077189, 4.2763157057926895], \"z\": [5.017154467382951, 4.986011778391176, 0.536313318930206, 1.2218535911747388, 2.7667538096533812, 1.7827891396328903, 0.8504147150249619, 1.4431923283057635, 1.2889471826086625, -0.09305890974322982, 1.9256505344192432, 5.349207233519461, 1.7367082818467474, 1.5889447152147151, 2.1090003889740494, 1.5006631720084578, 1.5199003511148854, 2.0283682805013403, 5.067354731246862, 3.280910171870774, 1.214016301957973, 1.194712240399387, 6.006409945408497, 2.318548078469596, 5.229697072056755, 0.9293606520434794, 1.9885682430512523, 5.460921333191784, 1.209846664316924, 3.6080303959464732, 6.0565854260514875, 1.9007961277091452, 1.934392689497415, 2.3867592270045286, 4.228182718499231, 2.015215882385738, 3.8172801186898004, 0.8094156476009411]}, {\"customdata\": [[\"rugby\", 2], [\"football\", 2], [\"athletics\", 2], [\"football\", 2], [\"athletics\", 2], [\"rugby\", 2], [\"athletics\", 2], [\"football\", 2], [\"football\", 2], [\"football\", 2], [\"football\", 2], [\"football\", 2], [\"football\", 2], [\"athletics\", 2], [\"tennis\", 2], [\"football\", 2], [\"football\", 2], [\"football\", 2], [\"rugby\", 2], [\"rugby\", 2], [\"football\", 2], [\"football\", 2], [\"football\", 2], [\"rugby\", 2], [\"athletics\", 2], [\"football\", 2], [\"football\", 2], [\"rugby\", 2], [\"rugby\", 2], [\"football\", 2], [\"athletics\", 2], [\"rugby\", 2], [\"football\", 2], [\"football\", 2], [\"athletics\", 2], [\"rugby\", 2], [\"athletics\", 2], [\"football\", 2], [\"football\", 2], [\"football\", 2], [\"football\", 2], [\"athletics\", 2], [\"athletics\", 2], [\"rugby\", 2], [\"athletics\", 2], [\"football\", 2], [\"football\", 2], [\"football\", 2], [\"athletics\", 2], [\"football\", 2], [\"football\", 2], [\"tennis\", 2], [\"athletics\", 2], [\"athletics\", 2], [\"football\", 2], [\"football\", 2], [\"football\", 2], [\"football\", 2], [\"football\", 2], [\"football\", 2], [\"football\", 2], [\"rugby\", 2], [\"football\", 2], [\"football\", 2], [\"football\", 2], [\"rugby\", 2], [\"athletics\", 2], [\"cricket\", 2], [\"football\", 2], [\"athletics\", 2], [\"football\", 2], [\"football\", 2], [\"rugby\", 2], [\"football\", 2], [\"athletics\", 2], [\"football\", 2], [\"football\", 2], [\"football\", 2], [\"rugby\", 2], [\"football\", 2], [\"cricket\", 2], [\"football\", 2], [\"cricket\", 2], [\"football\", 2], [\"football\", 2], [\"football\", 2], [\"football\", 2], [\"football\", 2]], \"hovertemplate\": \"L:%{customdata[0]}<br>C:%{customdata[1]}\", \"marker\": {\"size\": 5}, \"mode\": \"markers\", \"name\": \"Cluster 2\", \"type\": \"scatter3d\", \"x\": [-1.7823437904854607, -1.7400868388038568, -0.8279370869722626, 0.21714675945099907, -0.8813977585296315, -3.933798396605284, -1.4800564878428994, -1.1757842725335652, 0.2965480261097592, -0.1486694624975043, -1.790401747383938, -2.634697529916622, 0.7753455636219051, -1.3806178186388436, -1.081554299691306, -2.0606792366480438, 1.0415338796038487, -0.9177961064753232, -2.5551814224626987, -1.1810962937334204, -1.0647554299442148, -1.6423893281368054, -0.2679746016059246, -2.762923759883708, -1.06436171937444, -0.5204109901961622, 0.5065630784621773, -2.216112261032008, -3.0071970184839145, -0.410003215164319, -0.5353515487391517, -3.013016866869127, -1.4981139482492891, -0.1818550070710752, -0.22376494421681092, -1.0100949667377486, -0.796634890087022, -2.6872575962505145, -1.2230240299599062, 1.3576813325763206, -0.30721408846856935, -1.807295032419805, -0.7646647492676499, -1.711456021189115, -0.39988163139618016, -1.2460193474560386, -0.6200245584001794, -2.3855443704397947, -1.2616798291593476, -0.2465802784007568, -1.071929724841105, -0.8668162509218105, 0.5252673911638751, -0.7591961671432974, -0.5085828168194759, -0.537548860064943, -2.638779595663494, -1.6008332697366434, -1.7720476902840732, -2.409739573845011, -1.4512020517942879, -2.259012739586524, -0.810706060222655, 0.10929478907401736, 1.2497705847228358, -1.8582666092243088, 0.7634948155426289, -2.035327953651357, -1.4257427531413946, -2.7637392760075836, 0.5947916810161236, -2.429168757629222, -2.426933599267352, -1.2041012001132425, -1.4701886155448685, -2.355932379058598, -2.8897728616578147, 0.3937879406079164, -2.30312835509411, -0.28187612202183354, -4.346846723464065, -3.633752566221155, -4.744396508832265, -1.146766021330622, -0.2055676625639107, -0.8441338263803053, -1.1240157532073913, -1.7145996884331964], \"y\": [-1.4608305816065916, -3.3232007758983437, -0.7917418194729113, -0.1937488357411764, -0.9214852599608703, -1.8973551508789113, -2.5261829904999193, -2.6771048360931635, -3.3934427909264664, -3.3552087973827325, -4.948849725907709, -3.496114346282617, -2.3143674369888654, -2.4504627028994714, -1.160206181903701, -2.239267224718829, -1.550214757445615, -2.7188984432517267, -1.670093157327968, -0.7686673008891234, -3.264297481852635, -3.087298050560854, -2.116029025060633, -3.1237602291768045, -2.005428935025533, -2.567998444500431, -3.678344745005967, 0.19151418347757423, -0.6883041245578732, -2.7957191431979505, -1.7062419974406633, -0.2535703438643912, -3.268663524265814, -2.566333137101077, -1.5788846936063154, -1.4716048502587, -0.907681980568863, -4.060321351419653, -3.689405003762527, -1.5117240244047305, -3.0416300255566586, -2.173174608063259, -1.7577204015098178, -1.4709096172425862, 0.6212386313563781, -3.250945174316648, -2.125848877590911, -3.5457713028246354, -2.62653669629135, 0.5166407545866578, -3.1954314741827528, 0.28777763048615124, -2.185765437511482, -0.8098915195639588, -2.4629001368156413, -2.4612859829675084, -4.056165991289339, -2.5066666113524616, -3.3761519764491057, -4.5403954978412555, -2.0734515634557464, -1.0559403240459986, -1.6276091697842339, -2.6213178991007506, -2.534442434580728, -2.1185858470220804, 0.15370199347947439, 0.02175706125564582, -2.212652205004442, -1.0620247457328116, -1.9680431513077776, -4.059321826188387, -1.5264618947033177, -3.23333664099754, -1.545621646021643, -2.3801756836633254, -3.9285186232977374, -1.850496501233998, -1.510892913150276, -2.5700958873070245, -0.5879277532909425, -3.6422645376085185, -0.31828819800935826, -3.93952584065614, -2.645344366141072, -2.800199906740234, -4.834438333568518, -5.324754708138981], \"z\": [1.2279241847109357, 0.22011043062037514, 2.7144144770120526, 2.3946182138980014, 6.098208656515463, -0.16550256248609924, 4.194088818405494, 1.751383832617273, 0.7330479539278467, 0.843078621331793, 1.771540272828171, 2.978355199985956, 1.1252022158455999, 4.595391768981404, 1.48613924798848, -0.6374658769261519, 1.3734949903363671, -0.4256626757536584, 1.78442166690024, -0.1708877244624643, -0.029922583864597823, -0.07713141848146624, -0.9261504589836121, 0.4932666416569163, 2.867003224792348, 1.2013785778275123, -0.8688339598449718, -0.6667128199728092, -0.9495736552286466, 1.2794613643149328, 4.182066185484771, -0.1765451670180363, 2.853214747057577, 0.29444670998154854, 5.5085676535196, -0.5056461661391429, 0.6842506106312777, 1.4402140225103717, -1.7337681753671128, 0.6503217818681024, 1.1329672163646123, 4.043353277739217, 4.0529082113724115, 1.0319028952516744, 3.531793664579439, -1.6704258934113427, 0.5249329556713926, 1.4221703121969482, 3.4137937410355645, 0.45735779103772073, 2.4521096119675763, 3.201430097447467, 2.5779611830421327, 3.8428161491227444, 0.5460135436243612, 0.874958209367295, 0.1213194859091679, -0.17123325747683266, 2.39361716271953, 1.1289814511347207, 2.6119762204123864, 1.0069019329539939, -0.38445595197254373, 0.35928694243323583, 1.0792154281265884, -0.3254264635084504, 3.5079907427793353, 0.09999744986941955, 1.5722202671881045, 3.6158498437842823, -0.1726095137063507, 1.4829118995487443, -0.5546327876967984, 1.7529275659422217, 5.997692491532371, -0.2023481182822426, 2.6490403698171407, 0.1131009214248606, 1.6136778285485618, -0.7768758090027281, 1.4950016345133372, 1.215622760970686, 1.7253783701169398, -1.41462278548296, 1.1880173693381124, 1.295359107073816, 1.5787508251300548, 1.3039877317661344]}, {\"customdata\": [[\"athletics\", 3], [\"athletics\", 3], [\"athletics\", 3], [\"athletics\", 3], [\"athletics\", 3], [\"football\", 3], [\"athletics\", 3], [\"athletics\", 3], [\"athletics\", 3], [\"athletics\", 3], [\"athletics\", 3], [\"athletics\", 3], [\"athletics\", 3], [\"athletics\", 3], [\"athletics\", 3], [\"athletics\", 3], [\"athletics\", 3], [\"athletics\", 3], [\"athletics\", 3], [\"athletics\", 3], [\"athletics\", 3], [\"athletics\", 3], [\"athletics\", 3], [\"athletics\", 3]], \"hovertemplate\": \"L:%{customdata[0]}<br>C:%{customdata[1]}\", \"marker\": {\"size\": 5}, \"mode\": \"markers\", \"name\": \"Cluster 3\", \"type\": \"scatter3d\", \"x\": [4.443295843488503, 2.2785294452045375, 5.261288955468858, 1.4877058130034346, 5.06283929351538, 4.936892065366628, 1.4816498329121313, 5.402245677637679, 6.098343329385723, 2.5315203021649735, 4.785749175555687, 5.511021010354492, 4.723086490915186, 5.293583300907765, 4.901765374821824, 4.902081038311779, 5.364345370996639, 5.6048265886069, 5.6390703819495425, 5.613108812247175, 2.4408415324478083, 6.192806410974962, 5.084509410995826, 4.679871512461715], \"y\": [1.4182621378995404, -1.0368785711623358, 1.5365938261219525, -1.609461173673544, 2.060224097606767, 0.6703451806095776, -0.6007632627392827, 0.6902438860273853, 1.4593955708834125, 0.16534274074157584, 1.3047165626186814, 0.5399474101652286, 0.15654683025011693, -0.22099396134571414, 0.6140369894169642, -0.15581000359832203, 1.973507750982177, 3.068103449314802, 0.6226932763528988, 1.4921039212716594, 0.1333461657654268, 0.5287997315235393, -0.37128004292190814, 0.4185732872437262], \"z\": [1.9530273163147518, 1.5195929169693123, 0.07829027364940051, 3.4913310470228938, -0.22968014390066166, 0.9142719885662608, -0.6134280925787295, 0.5356103504911721, -1.2280509471472967, 0.17357232492060973, 0.3909152026586112, 0.045526751588890024, 1.0869161156470157, -0.39654290808215653, 0.5892440011215077, 0.453649861083379, -0.9586574708280998, 0.7102486919846703, 0.6185766437432398, -2.092477738821115, -0.09667964059236138, -0.25125083187105907, 0.04913911576505898, 0.1424261412501039]}, {\"customdata\": [[\"cricket\", 4], [\"cricket\", 4], [\"cricket\", 4], [\"cricket\", 4], [\"cricket\", 4], [\"cricket\", 4], [\"cricket\", 4], [\"cricket\", 4], [\"cricket\", 4], [\"cricket\", 4], [\"cricket\", 4], [\"cricket\", 4], [\"cricket\", 4], [\"cricket\", 4], [\"cricket\", 4], [\"cricket\", 4], [\"cricket\", 4], [\"cricket\", 4], [\"cricket\", 4], [\"cricket\", 4], [\"cricket\", 4], [\"cricket\", 4], [\"cricket\", 4], [\"cricket\", 4], [\"cricket\", 4], [\"cricket\", 4], [\"cricket\", 4], [\"cricket\", 4], [\"cricket\", 4], [\"cricket\", 4], [\"cricket\", 4], [\"cricket\", 4], [\"cricket\", 4], [\"cricket\", 4], [\"cricket\", 4], [\"cricket\", 4], [\"cricket\", 4], [\"cricket\", 4], [\"cricket\", 4], [\"cricket\", 4], [\"cricket\", 4], [\"cricket\", 4], [\"cricket\", 4], [\"cricket\", 4], [\"cricket\", 4]], \"hovertemplate\": \"L:%{customdata[0]}<br>C:%{customdata[1]}\", \"marker\": {\"size\": 5}, \"mode\": \"markers\", \"name\": \"Cluster 4\", \"type\": \"scatter3d\", \"x\": [-6.038630092956799, -2.52021466350197, -3.234842257083156, -4.348374151358745, -1.5047408719605957, -3.116663242717628, -1.73609957911433, -3.3747512791914414, -2.234436851721098, -2.6732243736704264, -4.4517614318800565, -5.247288829533313, -2.452728638816543, -2.9365238577891786, -2.9973500627676932, -4.445228064167121, -2.545801741651814, -3.0461714505121664, -5.48384725525063, -1.2369289786122584, -3.834023964342954, -3.046906564760472, -2.772141435732058, -2.0232626971190744, -5.444238698404478, -3.753703833074386, -2.451863010362005, -5.018053118233097, -5.378891010717446, -2.616851240018472, -2.162580467976414, -2.158253544279026, -0.43722617641801986, -5.856083232618217, -3.2188542450723103, -4.058059763536312, -5.407286312125908, -2.1158701524123185, -3.3289868203307575, -3.761848916758486, -3.8250276903992613, -5.504409749135034, -0.8764091513351158, -5.252790697650579, -1.4681713199823934], \"y\": [0.05647202415879694, 1.786466896966433, 4.416411204338704, 2.5803560992779833, 2.963254587789803, 6.7318765889844006, 2.546963371872865, 4.489223369954181, 3.9375875317356597, 3.7247727600976246, 2.3814860582853594, 5.1584004726300225, 2.5701154144257097, 2.3188741627807543, 1.9798854268631705, 0.5462745733217527, 6.753509033487589, 3.56184487025138, 0.5177613305581438, 2.90491388809708, 2.8514804722000884, 2.1579457892182785, 4.8383141473056295, 4.840585832739738, 4.416783071741032, 4.644689469988657, 5.321305126497938, 1.301072476280628, 2.6038553547754546, 3.4392016424743583, 4.873999075587665, 2.203259331544671, 4.391286987027552, 1.8388384207099495, 3.279124586112392, 6.156930996590721, 2.200859751354104, 5.700058141791736, -0.07366154846178016, 2.9681624473376593, 5.168211468949648, 3.176009009878336, 2.209768420146384, 4.842208578750479, 4.680032477771173], \"z\": [1.155568130168374, 0.8542441883317898, 0.010339838329750828, -0.16967230251037718, -4.631989954730843, -1.6615338837580087, -0.5667614478818943, -1.2622796023931147, 0.9419917437231533, -2.281401166633999, 1.0918520843227546, 0.2979719256874699, -2.997865436402322, 0.8304207738228921, -0.07159003132159017, 0.9704141604771953, -0.8674524266961698, 0.7600009193812969, 3.0871088379329805, -2.392512153322281, 0.8145285620717654, 1.1238394905214388, -0.15399578120216756, -1.7410665158467675, -1.145975760856162, 0.018485936394766186, -1.4447859757468087, 1.0927949774248673, 0.3271722606688009, 0.6024063099676877, -1.7585380301803544, 1.2235384022729696, -0.8174233266196822, 1.4978753352260945, 0.012580603684351266, -2.1457125588268315, 2.0161772926168315, -2.2079801020523164, -0.19309975414024805, -0.3984014032053306, -1.2161913584480764, 0.6253212267648275, -1.2022170942590358, 0.5113335555730983, -2.2467811723267355]}],\n",
              "                        {\"legend\": {\"x\": 0.01, \"y\": 0.99}, \"margin\": {\"b\": 0, \"l\": 0, \"r\": 0, \"t\": 0}, \"scene\": {\"xaxis\": {\"title\": {\"text\": \"X\"}}, \"yaxis\": {\"title\": {\"text\": \"Y\"}}, \"zaxis\": {\"title\": {\"text\": \"Z\"}}}, \"showlegend\": true, \"template\": {\"data\": {\"bar\": [{\"error_x\": {\"color\": \"#2a3f5f\"}, \"error_y\": {\"color\": \"#2a3f5f\"}, \"marker\": {\"line\": {\"color\": \"#E5ECF6\", \"width\": 0.5}}, \"type\": \"bar\"}], \"barpolar\": [{\"marker\": {\"line\": {\"color\": \"#E5ECF6\", \"width\": 0.5}}, \"type\": \"barpolar\"}], \"carpet\": [{\"aaxis\": {\"endlinecolor\": \"#2a3f5f\", \"gridcolor\": \"white\", \"linecolor\": \"white\", \"minorgridcolor\": \"white\", \"startlinecolor\": \"#2a3f5f\"}, \"baxis\": {\"endlinecolor\": \"#2a3f5f\", \"gridcolor\": \"white\", \"linecolor\": \"white\", \"minorgridcolor\": \"white\", \"startlinecolor\": \"#2a3f5f\"}, \"type\": \"carpet\"}], \"choropleth\": [{\"colorbar\": {\"outlinewidth\": 0, \"ticks\": \"\"}, \"type\": \"choropleth\"}], \"contour\": [{\"colorbar\": {\"outlinewidth\": 0, \"ticks\": \"\"}, \"colorscale\": [[0.0, \"#0d0887\"], [0.1111111111111111, \"#46039f\"], [0.2222222222222222, \"#7201a8\"], [0.3333333333333333, \"#9c179e\"], [0.4444444444444444, \"#bd3786\"], [0.5555555555555556, \"#d8576b\"], [0.6666666666666666, \"#ed7953\"], [0.7777777777777778, \"#fb9f3a\"], [0.8888888888888888, \"#fdca26\"], [1.0, \"#f0f921\"]], \"type\": \"contour\"}], \"contourcarpet\": [{\"colorbar\": {\"outlinewidth\": 0, \"ticks\": \"\"}, \"type\": \"contourcarpet\"}], \"heatmap\": [{\"colorbar\": {\"outlinewidth\": 0, \"ticks\": \"\"}, \"colorscale\": [[0.0, \"#0d0887\"], [0.1111111111111111, \"#46039f\"], [0.2222222222222222, \"#7201a8\"], [0.3333333333333333, \"#9c179e\"], [0.4444444444444444, \"#bd3786\"], [0.5555555555555556, \"#d8576b\"], [0.6666666666666666, \"#ed7953\"], [0.7777777777777778, \"#fb9f3a\"], [0.8888888888888888, \"#fdca26\"], [1.0, \"#f0f921\"]], \"type\": \"heatmap\"}], \"heatmapgl\": [{\"colorbar\": {\"outlinewidth\": 0, \"ticks\": \"\"}, \"colorscale\": [[0.0, \"#0d0887\"], [0.1111111111111111, \"#46039f\"], [0.2222222222222222, \"#7201a8\"], [0.3333333333333333, \"#9c179e\"], [0.4444444444444444, \"#bd3786\"], [0.5555555555555556, \"#d8576b\"], [0.6666666666666666, \"#ed7953\"], [0.7777777777777778, \"#fb9f3a\"], [0.8888888888888888, \"#fdca26\"], [1.0, \"#f0f921\"]], \"type\": \"heatmapgl\"}], \"histogram\": [{\"marker\": {\"colorbar\": {\"outlinewidth\": 0, \"ticks\": \"\"}}, \"type\": \"histogram\"}], \"histogram2d\": [{\"colorbar\": {\"outlinewidth\": 0, \"ticks\": \"\"}, \"colorscale\": [[0.0, \"#0d0887\"], [0.1111111111111111, \"#46039f\"], [0.2222222222222222, \"#7201a8\"], [0.3333333333333333, \"#9c179e\"], [0.4444444444444444, \"#bd3786\"], [0.5555555555555556, \"#d8576b\"], [0.6666666666666666, \"#ed7953\"], [0.7777777777777778, \"#fb9f3a\"], [0.8888888888888888, \"#fdca26\"], [1.0, \"#f0f921\"]], \"type\": \"histogram2d\"}], \"histogram2dcontour\": [{\"colorbar\": {\"outlinewidth\": 0, \"ticks\": \"\"}, \"colorscale\": [[0.0, \"#0d0887\"], [0.1111111111111111, \"#46039f\"], [0.2222222222222222, \"#7201a8\"], [0.3333333333333333, \"#9c179e\"], [0.4444444444444444, \"#bd3786\"], [0.5555555555555556, \"#d8576b\"], [0.6666666666666666, \"#ed7953\"], [0.7777777777777778, \"#fb9f3a\"], [0.8888888888888888, \"#fdca26\"], [1.0, \"#f0f921\"]], \"type\": \"histogram2dcontour\"}], \"mesh3d\": [{\"colorbar\": {\"outlinewidth\": 0, \"ticks\": \"\"}, \"type\": \"mesh3d\"}], \"parcoords\": [{\"line\": {\"colorbar\": {\"outlinewidth\": 0, \"ticks\": \"\"}}, \"type\": \"parcoords\"}], \"pie\": [{\"automargin\": true, \"type\": \"pie\"}], \"scatter\": [{\"marker\": {\"colorbar\": {\"outlinewidth\": 0, \"ticks\": \"\"}}, \"type\": \"scatter\"}], \"scatter3d\": [{\"line\": {\"colorbar\": {\"outlinewidth\": 0, \"ticks\": \"\"}}, \"marker\": {\"colorbar\": {\"outlinewidth\": 0, \"ticks\": \"\"}}, \"type\": \"scatter3d\"}], \"scattercarpet\": [{\"marker\": {\"colorbar\": {\"outlinewidth\": 0, \"ticks\": \"\"}}, \"type\": \"scattercarpet\"}], \"scattergeo\": [{\"marker\": {\"colorbar\": {\"outlinewidth\": 0, \"ticks\": \"\"}}, \"type\": \"scattergeo\"}], \"scattergl\": [{\"marker\": {\"colorbar\": {\"outlinewidth\": 0, \"ticks\": \"\"}}, \"type\": \"scattergl\"}], \"scattermapbox\": [{\"marker\": {\"colorbar\": {\"outlinewidth\": 0, \"ticks\": \"\"}}, \"type\": \"scattermapbox\"}], \"scatterpolar\": [{\"marker\": {\"colorbar\": {\"outlinewidth\": 0, \"ticks\": \"\"}}, \"type\": \"scatterpolar\"}], \"scatterpolargl\": [{\"marker\": {\"colorbar\": {\"outlinewidth\": 0, \"ticks\": \"\"}}, \"type\": \"scatterpolargl\"}], \"scatterternary\": [{\"marker\": {\"colorbar\": {\"outlinewidth\": 0, \"ticks\": \"\"}}, \"type\": \"scatterternary\"}], \"surface\": [{\"colorbar\": {\"outlinewidth\": 0, \"ticks\": \"\"}, \"colorscale\": [[0.0, \"#0d0887\"], [0.1111111111111111, \"#46039f\"], [0.2222222222222222, \"#7201a8\"], [0.3333333333333333, \"#9c179e\"], [0.4444444444444444, \"#bd3786\"], [0.5555555555555556, \"#d8576b\"], [0.6666666666666666, \"#ed7953\"], [0.7777777777777778, \"#fb9f3a\"], [0.8888888888888888, \"#fdca26\"], [1.0, \"#f0f921\"]], \"type\": \"surface\"}], \"table\": [{\"cells\": {\"fill\": {\"color\": \"#EBF0F8\"}, \"line\": {\"color\": \"white\"}}, \"header\": {\"fill\": {\"color\": \"#C8D4E3\"}, \"line\": {\"color\": \"white\"}}, \"type\": \"table\"}]}, \"layout\": {\"annotationdefaults\": {\"arrowcolor\": \"#2a3f5f\", \"arrowhead\": 0, \"arrowwidth\": 1}, \"coloraxis\": {\"colorbar\": {\"outlinewidth\": 0, \"ticks\": \"\"}}, \"colorscale\": {\"diverging\": [[0, \"#8e0152\"], [0.1, \"#c51b7d\"], [0.2, \"#de77ae\"], [0.3, \"#f1b6da\"], [0.4, \"#fde0ef\"], [0.5, \"#f7f7f7\"], [0.6, \"#e6f5d0\"], [0.7, \"#b8e186\"], [0.8, \"#7fbc41\"], [0.9, \"#4d9221\"], [1, \"#276419\"]], \"sequential\": [[0.0, \"#0d0887\"], [0.1111111111111111, \"#46039f\"], [0.2222222222222222, \"#7201a8\"], [0.3333333333333333, \"#9c179e\"], [0.4444444444444444, \"#bd3786\"], [0.5555555555555556, \"#d8576b\"], [0.6666666666666666, \"#ed7953\"], [0.7777777777777778, \"#fb9f3a\"], [0.8888888888888888, \"#fdca26\"], [1.0, \"#f0f921\"]], \"sequentialminus\": [[0.0, \"#0d0887\"], [0.1111111111111111, \"#46039f\"], [0.2222222222222222, \"#7201a8\"], [0.3333333333333333, \"#9c179e\"], [0.4444444444444444, \"#bd3786\"], [0.5555555555555556, \"#d8576b\"], [0.6666666666666666, \"#ed7953\"], [0.7777777777777778, \"#fb9f3a\"], [0.8888888888888888, \"#fdca26\"], [1.0, \"#f0f921\"]]}, \"colorway\": [\"#636efa\", \"#EF553B\", \"#00cc96\", \"#ab63fa\", \"#FFA15A\", \"#19d3f3\", \"#FF6692\", \"#B6E880\", \"#FF97FF\", \"#FECB52\"], \"font\": {\"color\": \"#2a3f5f\"}, \"geo\": {\"bgcolor\": \"white\", \"lakecolor\": \"white\", \"landcolor\": \"#E5ECF6\", \"showlakes\": true, \"showland\": true, \"subunitcolor\": \"white\"}, \"hoverlabel\": {\"align\": \"left\"}, \"hovermode\": \"closest\", \"mapbox\": {\"style\": \"light\"}, \"paper_bgcolor\": \"white\", \"plot_bgcolor\": \"#E5ECF6\", \"polar\": {\"angularaxis\": {\"gridcolor\": \"white\", \"linecolor\": \"white\", \"ticks\": \"\"}, \"bgcolor\": \"#E5ECF6\", \"radialaxis\": {\"gridcolor\": \"white\", \"linecolor\": \"white\", \"ticks\": \"\"}}, \"scene\": {\"xaxis\": {\"backgroundcolor\": \"#E5ECF6\", \"gridcolor\": \"white\", \"gridwidth\": 2, \"linecolor\": \"white\", \"showbackground\": true, \"ticks\": \"\", \"zerolinecolor\": \"white\"}, \"yaxis\": {\"backgroundcolor\": \"#E5ECF6\", \"gridcolor\": \"white\", \"gridwidth\": 2, \"linecolor\": \"white\", \"showbackground\": true, \"ticks\": \"\", \"zerolinecolor\": \"white\"}, \"zaxis\": {\"backgroundcolor\": \"#E5ECF6\", \"gridcolor\": \"white\", \"gridwidth\": 2, \"linecolor\": \"white\", \"showbackground\": true, \"ticks\": \"\", \"zerolinecolor\": \"white\"}}, \"shapedefaults\": {\"line\": {\"color\": \"#2a3f5f\"}}, \"ternary\": {\"aaxis\": {\"gridcolor\": \"white\", \"linecolor\": \"white\", \"ticks\": \"\"}, \"baxis\": {\"gridcolor\": \"white\", \"linecolor\": \"white\", \"ticks\": \"\"}, \"bgcolor\": \"#E5ECF6\", \"caxis\": {\"gridcolor\": \"white\", \"linecolor\": \"white\", \"ticks\": \"\"}}, \"title\": {\"x\": 0.05}, \"xaxis\": {\"automargin\": true, \"gridcolor\": \"white\", \"linecolor\": \"white\", \"ticks\": \"\", \"title\": {\"standoff\": 15}, \"zerolinecolor\": \"white\", \"zerolinewidth\": 2}, \"yaxis\": {\"automargin\": true, \"gridcolor\": \"white\", \"linecolor\": \"white\", \"ticks\": \"\", \"title\": {\"standoff\": 15}, \"zerolinecolor\": \"white\", \"zerolinewidth\": 2}}}},\n",
              "                        {\"responsive\": true}\n",
              "                    ).then(function(){\n",
              "                            \n",
              "var gd = document.getElementById('988b6124-79ef-4ede-8c6a-0dadb05af66f');\n",
              "var x = new MutationObserver(function (mutations, observer) {{\n",
              "        var display = window.getComputedStyle(gd).display;\n",
              "        if (!display || display === 'none') {{\n",
              "            console.log([gd, 'removed!']);\n",
              "            Plotly.purge(gd);\n",
              "            observer.disconnect();\n",
              "        }}\n",
              "}});\n",
              "\n",
              "// Listen for the removal of the full notebook cells\n",
              "var notebookContainer = gd.closest('#notebook-container');\n",
              "if (notebookContainer) {{\n",
              "    x.observe(notebookContainer, {childList: true});\n",
              "}}\n",
              "\n",
              "// Listen for the clearing of the current output cell\n",
              "var outputEl = gd.closest('.output');\n",
              "if (outputEl) {{\n",
              "    x.observe(outputEl, {childList: true});\n",
              "}}\n",
              "\n",
              "                        })\n",
              "                };\n",
              "                \n",
              "            </script>\n",
              "        </div>\n",
              "</body>\n",
              "</html>"
            ]
          },
          "metadata": {
            "tags": []
          }
        }
      ]
    },
    {
      "cell_type": "markdown",
      "metadata": {
        "id": "uO0tmXurS5Xh",
        "colab_type": "text"
      },
      "source": [
        "## Verify result"
      ]
    },
    {
      "cell_type": "code",
      "metadata": {
        "id": "gl8OAG9YQhoJ",
        "colab_type": "code",
        "colab": {}
      },
      "source": [
        "# make a label mapper\n",
        "mapping_ = {\n",
        "    0: 'rugby',\n",
        "    1: 'tennis',\n",
        "    2: 'football',\n",
        "    3: 'athletics',\n",
        "    4: 'cricket'\n",
        "}"
      ],
      "execution_count": 133,
      "outputs": []
    },
    {
      "cell_type": "code",
      "metadata": {
        "id": "AouCroosWykA",
        "colab_type": "code",
        "colab": {
          "base_uri": "https://localhost:8080/",
          "height": 35
        },
        "outputId": "879f7359-1936-4288-8b52-17a0a2859ee1"
      },
      "source": [
        "correct = sum(test_clustered_df['orig_label'] == test_clustered_df['cluster'].map(mapping_))\n",
        "correct"
      ],
      "execution_count": 134,
      "outputs": [
        {
          "output_type": "execute_result",
          "data": {
            "text/plain": [
              "203"
            ]
          },
          "metadata": {
            "tags": []
          },
          "execution_count": 134
        }
      ]
    },
    {
      "cell_type": "code",
      "metadata": {
        "id": "TguDOOLaYEkD",
        "colab_type": "code",
        "colab": {
          "base_uri": "https://localhost:8080/",
          "height": 35
        },
        "outputId": "aebf741a-59c0-4d06-b2a8-f77c2b9b3448"
      },
      "source": [
        "total = test_clustered_df.shape[0]\n",
        "total"
      ],
      "execution_count": 135,
      "outputs": [
        {
          "output_type": "execute_result",
          "data": {
            "text/plain": [
              "295"
            ]
          },
          "metadata": {
            "tags": []
          },
          "execution_count": 135
        }
      ]
    },
    {
      "cell_type": "code",
      "metadata": {
        "id": "o2xfD7zwdo0O",
        "colab_type": "code",
        "colab": {
          "base_uri": "https://localhost:8080/",
          "height": 35
        },
        "outputId": "38506175-5236-4270-f88f-c7f124def68d"
      },
      "source": [
        "percent_correct = correct/total\n",
        "percent_correct"
      ],
      "execution_count": 136,
      "outputs": [
        {
          "output_type": "execute_result",
          "data": {
            "text/plain": [
              "0.688135593220339"
            ]
          },
          "metadata": {
            "tags": []
          },
          "execution_count": 136
        }
      ]
    },
    {
      "cell_type": "markdown",
      "metadata": {
        "id": "poj-1gGVcho2",
        "colab_type": "text"
      },
      "source": [
        "Great! We were able to correctly classify 68.8% labels correctly."
      ]
    }
  ]
}