{
  "nbformat": 4,
  "nbformat_minor": 0,
  "metadata": {
    "colab": {
      "name": "Exploration - BERT, label propagation.ipynb",
      "provenance": [],
      "collapsed_sections": [],
      "toc_visible": true
    },
    "kernelspec": {
      "name": "python3",
      "display_name": "Python 3"
    }
  },
  "cells": [
    {
      "cell_type": "markdown",
      "metadata": {
        "id": "jFmDkzgzWGqK"
      },
      "source": [
        "# Experimental Problem Statement\n",
        "Using label propagation, classify a subset set of textual data to appropriate classes. Using the trained model, classify the remaining datapoints to appropriate clusters.\n",
        "\n",
        "Well, since its just a demo, we are not gonna do manual labelling, instead we are gonna - \n",
        "\n",
        "* Pick a fully labelled dataset of form (text, labels)\n",
        "* Split this into train, test set\n",
        "* Retain labels of train set (to verify results)\n",
        "* Train a clustering algo on train set (assuming, for simplicity, k=#clusters in our data)\n",
        "* Classify test data to check\n",
        "* Evaluate results\n",
        "\n",
        "Along the way, going to explore some new libraries.\n",
        "\n"
      ]
    },
    {
      "cell_type": "code",
      "metadata": {
        "id": "xQiTRhr_MVZN",
        "outputId": "f8b5b34a-f9a3-4f12-e5f7-c3febc51b9dc",
        "colab": {
          "base_uri": "https://localhost:8080/",
          "height": 808
        }
      },
      "source": [
        "!pip install texthero"
      ],
      "execution_count": 102,
      "outputs": [
        {
          "output_type": "stream",
          "text": [
            "Requirement already satisfied: texthero in /usr/local/lib/python3.6/dist-packages (1.0.9)\n",
            "Requirement already satisfied: spacy>=2.2.2 in /usr/local/lib/python3.6/dist-packages (from texthero) (2.2.4)\n",
            "Requirement already satisfied: unidecode>=1.1.1 in /usr/local/lib/python3.6/dist-packages (from texthero) (1.1.1)\n",
            "Requirement already satisfied: matplotlib>=3.1.0 in /usr/local/lib/python3.6/dist-packages (from texthero) (3.2.2)\n",
            "Requirement already satisfied: wordcloud>=1.5.0 in /usr/local/lib/python3.6/dist-packages (from texthero) (1.5.0)\n",
            "Requirement already satisfied: nltk>=3.3 in /usr/local/lib/python3.6/dist-packages (from texthero) (3.5)\n",
            "Requirement already satisfied: plotly>=4.2.0 in /usr/local/lib/python3.6/dist-packages (from texthero) (4.4.1)\n",
            "Requirement already satisfied: pandas>=1.0.2 in /usr/local/lib/python3.6/dist-packages (from texthero) (1.1.2)\n",
            "Requirement already satisfied: gensim>=3.6.0 in /usr/local/lib/python3.6/dist-packages (from texthero) (3.6.0)\n",
            "Requirement already satisfied: scikit-learn>=0.22 in /usr/local/lib/python3.6/dist-packages (from texthero) (0.22.2.post1)\n",
            "Requirement already satisfied: tqdm>=4.3 in /usr/local/lib/python3.6/dist-packages (from texthero) (4.41.1)\n",
            "Requirement already satisfied: numpy>=1.17 in /usr/local/lib/python3.6/dist-packages (from texthero) (1.18.5)\n",
            "Requirement already satisfied: thinc==7.4.0 in /usr/local/lib/python3.6/dist-packages (from spacy>=2.2.2->texthero) (7.4.0)\n",
            "Requirement already satisfied: cymem<2.1.0,>=2.0.2 in /usr/local/lib/python3.6/dist-packages (from spacy>=2.2.2->texthero) (2.0.3)\n",
            "Requirement already satisfied: blis<0.5.0,>=0.4.0 in /usr/local/lib/python3.6/dist-packages (from spacy>=2.2.2->texthero) (0.4.1)\n",
            "Requirement already satisfied: requests<3.0.0,>=2.13.0 in /usr/local/lib/python3.6/dist-packages (from spacy>=2.2.2->texthero) (2.23.0)\n",
            "Requirement already satisfied: setuptools in /usr/local/lib/python3.6/dist-packages (from spacy>=2.2.2->texthero) (50.3.0)\n",
            "Requirement already satisfied: wasabi<1.1.0,>=0.4.0 in /usr/local/lib/python3.6/dist-packages (from spacy>=2.2.2->texthero) (0.8.0)\n",
            "Requirement already satisfied: murmurhash<1.1.0,>=0.28.0 in /usr/local/lib/python3.6/dist-packages (from spacy>=2.2.2->texthero) (1.0.2)\n",
            "Requirement already satisfied: preshed<3.1.0,>=3.0.2 in /usr/local/lib/python3.6/dist-packages (from spacy>=2.2.2->texthero) (3.0.2)\n",
            "Requirement already satisfied: plac<1.2.0,>=0.9.6 in /usr/local/lib/python3.6/dist-packages (from spacy>=2.2.2->texthero) (1.1.3)\n",
            "Requirement already satisfied: catalogue<1.1.0,>=0.0.7 in /usr/local/lib/python3.6/dist-packages (from spacy>=2.2.2->texthero) (1.0.0)\n",
            "Requirement already satisfied: srsly<1.1.0,>=1.0.2 in /usr/local/lib/python3.6/dist-packages (from spacy>=2.2.2->texthero) (1.0.2)\n",
            "Requirement already satisfied: cycler>=0.10 in /usr/local/lib/python3.6/dist-packages (from matplotlib>=3.1.0->texthero) (0.10.0)\n",
            "Requirement already satisfied: python-dateutil>=2.1 in /usr/local/lib/python3.6/dist-packages (from matplotlib>=3.1.0->texthero) (2.8.1)\n",
            "Requirement already satisfied: pyparsing!=2.0.4,!=2.1.2,!=2.1.6,>=2.0.1 in /usr/local/lib/python3.6/dist-packages (from matplotlib>=3.1.0->texthero) (2.4.7)\n",
            "Requirement already satisfied: kiwisolver>=1.0.1 in /usr/local/lib/python3.6/dist-packages (from matplotlib>=3.1.0->texthero) (1.2.0)\n",
            "Requirement already satisfied: pillow in /usr/local/lib/python3.6/dist-packages (from wordcloud>=1.5.0->texthero) (7.0.0)\n",
            "Requirement already satisfied: regex in /usr/local/lib/python3.6/dist-packages (from nltk>=3.3->texthero) (2019.12.20)\n",
            "Requirement already satisfied: joblib in /usr/local/lib/python3.6/dist-packages (from nltk>=3.3->texthero) (0.16.0)\n",
            "Requirement already satisfied: click in /usr/local/lib/python3.6/dist-packages (from nltk>=3.3->texthero) (7.1.2)\n",
            "Requirement already satisfied: retrying>=1.3.3 in /usr/local/lib/python3.6/dist-packages (from plotly>=4.2.0->texthero) (1.3.3)\n",
            "Requirement already satisfied: six in /usr/local/lib/python3.6/dist-packages (from plotly>=4.2.0->texthero) (1.15.0)\n",
            "Requirement already satisfied: pytz>=2017.2 in /usr/local/lib/python3.6/dist-packages (from pandas>=1.0.2->texthero) (2018.9)\n",
            "Requirement already satisfied: scipy>=0.18.1 in /usr/local/lib/python3.6/dist-packages (from gensim>=3.6.0->texthero) (1.4.1)\n",
            "Requirement already satisfied: smart-open>=1.2.1 in /usr/local/lib/python3.6/dist-packages (from gensim>=3.6.0->texthero) (2.2.0)\n",
            "Requirement already satisfied: chardet<4,>=3.0.2 in /usr/local/lib/python3.6/dist-packages (from requests<3.0.0,>=2.13.0->spacy>=2.2.2->texthero) (3.0.4)\n",
            "Requirement already satisfied: idna<3,>=2.5 in /usr/local/lib/python3.6/dist-packages (from requests<3.0.0,>=2.13.0->spacy>=2.2.2->texthero) (2.10)\n",
            "Requirement already satisfied: certifi>=2017.4.17 in /usr/local/lib/python3.6/dist-packages (from requests<3.0.0,>=2.13.0->spacy>=2.2.2->texthero) (2020.6.20)\n",
            "Requirement already satisfied: urllib3!=1.25.0,!=1.25.1,<1.26,>=1.21.1 in /usr/local/lib/python3.6/dist-packages (from requests<3.0.0,>=2.13.0->spacy>=2.2.2->texthero) (1.24.3)\n",
            "Requirement already satisfied: importlib-metadata>=0.20; python_version < \"3.8\" in /usr/local/lib/python3.6/dist-packages (from catalogue<1.1.0,>=0.0.7->spacy>=2.2.2->texthero) (2.0.0)\n",
            "Requirement already satisfied: zipp>=0.5 in /usr/local/lib/python3.6/dist-packages (from importlib-metadata>=0.20; python_version < \"3.8\"->catalogue<1.1.0,>=0.0.7->spacy>=2.2.2->texthero) (3.2.0)\n"
          ],
          "name": "stdout"
        }
      ]
    },
    {
      "cell_type": "code",
      "metadata": {
        "id": "fdeGSqoRaNDT",
        "outputId": "f3c7a9c8-7efc-48b9-9818-e041933350d0",
        "colab": {
          "base_uri": "https://localhost:8080/",
          "height": 496
        }
      },
      "source": [
        "# install required packages\n",
        "!pip install sentence_transformers"
      ],
      "execution_count": 103,
      "outputs": [
        {
          "output_type": "stream",
          "text": [
            "Requirement already satisfied: sentence_transformers in /usr/local/lib/python3.6/dist-packages (0.3.7.2)\n",
            "Requirement already satisfied: numpy in /usr/local/lib/python3.6/dist-packages (from sentence_transformers) (1.18.5)\n",
            "Requirement already satisfied: tqdm in /usr/local/lib/python3.6/dist-packages (from sentence_transformers) (4.41.1)\n",
            "Requirement already satisfied: torch>=1.2.0 in /usr/local/lib/python3.6/dist-packages (from sentence_transformers) (1.6.0+cu101)\n",
            "Requirement already satisfied: scipy in /usr/local/lib/python3.6/dist-packages (from sentence_transformers) (1.4.1)\n",
            "Requirement already satisfied: scikit-learn in /usr/local/lib/python3.6/dist-packages (from sentence_transformers) (0.22.2.post1)\n",
            "Requirement already satisfied: transformers<3.4.0,>=3.1.0 in /usr/local/lib/python3.6/dist-packages (from sentence_transformers) (3.3.1)\n",
            "Requirement already satisfied: nltk in /usr/local/lib/python3.6/dist-packages (from sentence_transformers) (3.5)\n",
            "Requirement already satisfied: future in /usr/local/lib/python3.6/dist-packages (from torch>=1.2.0->sentence_transformers) (0.16.0)\n",
            "Requirement already satisfied: joblib>=0.11 in /usr/local/lib/python3.6/dist-packages (from scikit-learn->sentence_transformers) (0.16.0)\n",
            "Requirement already satisfied: packaging in /usr/local/lib/python3.6/dist-packages (from transformers<3.4.0,>=3.1.0->sentence_transformers) (20.4)\n",
            "Requirement already satisfied: tokenizers==0.8.1.rc2 in /usr/local/lib/python3.6/dist-packages (from transformers<3.4.0,>=3.1.0->sentence_transformers) (0.8.1rc2)\n",
            "Requirement already satisfied: sacremoses in /usr/local/lib/python3.6/dist-packages (from transformers<3.4.0,>=3.1.0->sentence_transformers) (0.0.43)\n",
            "Requirement already satisfied: filelock in /usr/local/lib/python3.6/dist-packages (from transformers<3.4.0,>=3.1.0->sentence_transformers) (3.0.12)\n",
            "Requirement already satisfied: sentencepiece!=0.1.92 in /usr/local/lib/python3.6/dist-packages (from transformers<3.4.0,>=3.1.0->sentence_transformers) (0.1.91)\n",
            "Requirement already satisfied: regex!=2019.12.17 in /usr/local/lib/python3.6/dist-packages (from transformers<3.4.0,>=3.1.0->sentence_transformers) (2019.12.20)\n",
            "Requirement already satisfied: requests in /usr/local/lib/python3.6/dist-packages (from transformers<3.4.0,>=3.1.0->sentence_transformers) (2.23.0)\n",
            "Requirement already satisfied: dataclasses; python_version < \"3.7\" in /usr/local/lib/python3.6/dist-packages (from transformers<3.4.0,>=3.1.0->sentence_transformers) (0.7)\n",
            "Requirement already satisfied: click in /usr/local/lib/python3.6/dist-packages (from nltk->sentence_transformers) (7.1.2)\n",
            "Requirement already satisfied: six in /usr/local/lib/python3.6/dist-packages (from packaging->transformers<3.4.0,>=3.1.0->sentence_transformers) (1.15.0)\n",
            "Requirement already satisfied: pyparsing>=2.0.2 in /usr/local/lib/python3.6/dist-packages (from packaging->transformers<3.4.0,>=3.1.0->sentence_transformers) (2.4.7)\n",
            "Requirement already satisfied: idna<3,>=2.5 in /usr/local/lib/python3.6/dist-packages (from requests->transformers<3.4.0,>=3.1.0->sentence_transformers) (2.10)\n",
            "Requirement already satisfied: urllib3!=1.25.0,!=1.25.1,<1.26,>=1.21.1 in /usr/local/lib/python3.6/dist-packages (from requests->transformers<3.4.0,>=3.1.0->sentence_transformers) (1.24.3)\n",
            "Requirement already satisfied: chardet<4,>=3.0.2 in /usr/local/lib/python3.6/dist-packages (from requests->transformers<3.4.0,>=3.1.0->sentence_transformers) (3.0.4)\n",
            "Requirement already satisfied: certifi>=2017.4.17 in /usr/local/lib/python3.6/dist-packages (from requests->transformers<3.4.0,>=3.1.0->sentence_transformers) (2020.6.20)\n"
          ],
          "name": "stdout"
        }
      ]
    },
    {
      "cell_type": "markdown",
      "metadata": {
        "id": "p8g0VtfCZjo6"
      },
      "source": [
        "# importing libraries"
      ]
    },
    {
      "cell_type": "code",
      "metadata": {
        "id": "FLRKB6AuLjtv"
      },
      "source": [
        "import texthero as hero\n",
        "import pandas as pd\n",
        "import numpy as np\n",
        "from sklearn.model_selection import train_test_split"
      ],
      "execution_count": 104,
      "outputs": []
    },
    {
      "cell_type": "markdown",
      "metadata": {
        "id": "VsJMeVkvLqko"
      },
      "source": [
        "# Texthero \n",
        "* [Github](https://github.com/jbesomi/texthero)\n",
        "* [Docs](https://texthero.org/)"
      ]
    },
    {
      "cell_type": "markdown",
      "metadata": {
        "id": "xT4cxXJ8T-LQ"
      },
      "source": [
        "## loading data"
      ]
    },
    {
      "cell_type": "code",
      "metadata": {
        "id": "-w2znuYKMUC5",
        "outputId": "ff92857a-026e-413c-ebc8-ab2b6f78464d",
        "colab": {
          "base_uri": "https://localhost:8080/",
          "height": 206
        }
      },
      "source": [
        "# import data\n",
        "file_path = r\"https://raw.githubusercontent.com/jbesomi/texthero/master/dataset/bbcsport.csv\"\n",
        "df = pd.read_csv(file_path)\n",
        "display(df.head())"
      ],
      "execution_count": 105,
      "outputs": [
        {
          "output_type": "display_data",
          "data": {
            "text/html": [
              "<div>\n",
              "<style scoped>\n",
              "    .dataframe tbody tr th:only-of-type {\n",
              "        vertical-align: middle;\n",
              "    }\n",
              "\n",
              "    .dataframe tbody tr th {\n",
              "        vertical-align: top;\n",
              "    }\n",
              "\n",
              "    .dataframe thead th {\n",
              "        text-align: right;\n",
              "    }\n",
              "</style>\n",
              "<table border=\"1\" class=\"dataframe\">\n",
              "  <thead>\n",
              "    <tr style=\"text-align: right;\">\n",
              "      <th></th>\n",
              "      <th>text</th>\n",
              "      <th>topic</th>\n",
              "    </tr>\n",
              "  </thead>\n",
              "  <tbody>\n",
              "    <tr>\n",
              "      <th>0</th>\n",
              "      <td>Claxton hunting first major medal\\n\\nBritish h...</td>\n",
              "      <td>athletics</td>\n",
              "    </tr>\n",
              "    <tr>\n",
              "      <th>1</th>\n",
              "      <td>O'Sullivan could run in Worlds\\n\\nSonia O'Sull...</td>\n",
              "      <td>athletics</td>\n",
              "    </tr>\n",
              "    <tr>\n",
              "      <th>2</th>\n",
              "      <td>Greene sets sights on world title\\n\\nMaurice G...</td>\n",
              "      <td>athletics</td>\n",
              "    </tr>\n",
              "    <tr>\n",
              "      <th>3</th>\n",
              "      <td>IAAF launches fight against drugs\\n\\nThe IAAF ...</td>\n",
              "      <td>athletics</td>\n",
              "    </tr>\n",
              "    <tr>\n",
              "      <th>4</th>\n",
              "      <td>Dibaba breaks 5,000m world record\\n\\nEthiopia'...</td>\n",
              "      <td>athletics</td>\n",
              "    </tr>\n",
              "  </tbody>\n",
              "</table>\n",
              "</div>"
            ],
            "text/plain": [
              "                                                text      topic\n",
              "0  Claxton hunting first major medal\\n\\nBritish h...  athletics\n",
              "1  O'Sullivan could run in Worlds\\n\\nSonia O'Sull...  athletics\n",
              "2  Greene sets sights on world title\\n\\nMaurice G...  athletics\n",
              "3  IAAF launches fight against drugs\\n\\nThe IAAF ...  athletics\n",
              "4  Dibaba breaks 5,000m world record\\n\\nEthiopia'...  athletics"
            ]
          },
          "metadata": {
            "tags": []
          }
        }
      ]
    },
    {
      "cell_type": "markdown",
      "metadata": {
        "id": "1OgHWx9HUffU"
      },
      "source": [
        "## get distinct labels"
      ]
    },
    {
      "cell_type": "code",
      "metadata": {
        "id": "KxZmN-c1MtES",
        "outputId": "4e86d020-9a14-4a34-948d-c556aa009e3c",
        "colab": {
          "base_uri": "https://localhost:8080/",
          "height": 127
        }
      },
      "source": [
        "# check values of labels\n",
        "df['topic'].value_counts()"
      ],
      "execution_count": 106,
      "outputs": [
        {
          "output_type": "execute_result",
          "data": {
            "text/plain": [
              "football     265\n",
              "rugby        147\n",
              "cricket      124\n",
              "athletics    101\n",
              "tennis       100\n",
              "Name: topic, dtype: int64"
            ]
          },
          "metadata": {
            "tags": []
          },
          "execution_count": 106
        }
      ]
    },
    {
      "cell_type": "code",
      "metadata": {
        "id": "mNy0rJiuNS5L",
        "outputId": "de85b7d7-6d2d-4ffc-8e3f-70ca3e2ac2f4",
        "colab": {
          "base_uri": "https://localhost:8080/",
          "height": 183
        }
      },
      "source": [
        "# first row before prep\n",
        "df['text'][0]"
      ],
      "execution_count": 107,
      "outputs": [
        {
          "output_type": "execute_result",
          "data": {
            "application/vnd.google.colaboratory.intrinsic+json": {
              "type": "string"
            },
            "text/plain": [
              "'Claxton hunting first major medal\\n\\nBritish hurdler Sarah Claxton is confident she can win her first major medal at next month\\'s European Indoor Championships in Madrid.\\n\\nThe 25-year-old has already smashed the British record over 60m hurdles twice this season, setting a new mark of 7.96 seconds to win the AAAs title. \"I am quite confident,\" said Claxton. \"But I take each race as it comes. \"As long as I keep up my training but not do too much I think there is a chance of a medal.\" Claxton has won the national 60m hurdles title for the past three years but has struggled to translate her domestic success to the international stage. Now, the Scotland-born athlete owns the equal fifth-fastest time in the world this year. And at last week\\'s Birmingham Grand Prix, Claxton left European medal favourite Russian Irina Shevchenko trailing in sixth spot.\\n\\nFor the first time, Claxton has only been preparing for a campaign over the hurdles - which could explain her leap in form. In previous seasons, the 25-year-old also contested the long jump but since moving from Colchester to London she has re-focused her attentions. Claxton will see if her new training regime pays dividends at the European Indoors which take place on 5-6 March.\\n'"
            ]
          },
          "metadata": {
            "tags": []
          },
          "execution_count": 107
        }
      ]
    },
    {
      "cell_type": "code",
      "metadata": {
        "id": "q-9DfAdPSowt",
        "outputId": "031faa1f-c64d-41ff-8e11-39a70dcb5657",
        "colab": {
          "base_uri": "https://localhost:8080/",
          "height": 164
        }
      },
      "source": [
        "# clean pipeline - https://texthero.org/docs/api/texthero.preprocessing.clean.html#texthero.preprocessing.clean\n",
        "# first row after perp\n",
        "hero.clean(df['text'])[0]\n"
      ],
      "execution_count": 108,
      "outputs": [
        {
          "output_type": "execute_result",
          "data": {
            "application/vnd.google.colaboratory.intrinsic+json": {
              "type": "string"
            },
            "text/plain": [
              "'claxton hunting first major medal british hurdler sarah claxton confident win first major medal next month european indoor championships madrid year old already smashed british record 60m hurdles twice season setting new mark seconds win aaas title quite confident said claxton take race comes long keep training much think chance medal claxton national 60m hurdles title past three years struggled translate domestic success international stage scotland born athlete owns equal fifth fastest time world year last week birmingham grand prix claxton left european medal favourite russian irina shevchenko trailing sixth spot first time claxton preparing campaign hurdles could explain leap form previous seasons year old also contested long jump since moving colchester london focused attentions claxton see new training regime pays dividends european indoors take place march'"
            ]
          },
          "metadata": {
            "tags": []
          },
          "execution_count": 108
        }
      ]
    },
    {
      "cell_type": "markdown",
      "metadata": {
        "id": "BrfZev-PUBSJ"
      },
      "source": [
        "## preprocessing"
      ]
    },
    {
      "cell_type": "code",
      "metadata": {
        "id": "37WV1Z82Szqc",
        "outputId": "a09baf57-bd4e-44ef-b6a5-c0c4601cec8b",
        "colab": {
          "base_uri": "https://localhost:8080/",
          "height": 206
        }
      },
      "source": [
        "df['text'] = hero.clean(df['text'])\n",
        "df.head()"
      ],
      "execution_count": 109,
      "outputs": [
        {
          "output_type": "execute_result",
          "data": {
            "text/html": [
              "<div>\n",
              "<style scoped>\n",
              "    .dataframe tbody tr th:only-of-type {\n",
              "        vertical-align: middle;\n",
              "    }\n",
              "\n",
              "    .dataframe tbody tr th {\n",
              "        vertical-align: top;\n",
              "    }\n",
              "\n",
              "    .dataframe thead th {\n",
              "        text-align: right;\n",
              "    }\n",
              "</style>\n",
              "<table border=\"1\" class=\"dataframe\">\n",
              "  <thead>\n",
              "    <tr style=\"text-align: right;\">\n",
              "      <th></th>\n",
              "      <th>text</th>\n",
              "      <th>topic</th>\n",
              "    </tr>\n",
              "  </thead>\n",
              "  <tbody>\n",
              "    <tr>\n",
              "      <th>0</th>\n",
              "      <td>claxton hunting first major medal british hurd...</td>\n",
              "      <td>athletics</td>\n",
              "    </tr>\n",
              "    <tr>\n",
              "      <th>1</th>\n",
              "      <td>sullivan could run worlds sonia sullivan indic...</td>\n",
              "      <td>athletics</td>\n",
              "    </tr>\n",
              "    <tr>\n",
              "      <th>2</th>\n",
              "      <td>greene sets sights world title maurice greene ...</td>\n",
              "      <td>athletics</td>\n",
              "    </tr>\n",
              "    <tr>\n",
              "      <th>3</th>\n",
              "      <td>iaaf launches fight drugs iaaf athletics world...</td>\n",
              "      <td>athletics</td>\n",
              "    </tr>\n",
              "    <tr>\n",
              "      <th>4</th>\n",
              "      <td>dibaba breaks 000m world record ethiopia tirun...</td>\n",
              "      <td>athletics</td>\n",
              "    </tr>\n",
              "  </tbody>\n",
              "</table>\n",
              "</div>"
            ],
            "text/plain": [
              "                                                text      topic\n",
              "0  claxton hunting first major medal british hurd...  athletics\n",
              "1  sullivan could run worlds sonia sullivan indic...  athletics\n",
              "2  greene sets sights world title maurice greene ...  athletics\n",
              "3  iaaf launches fight drugs iaaf athletics world...  athletics\n",
              "4  dibaba breaks 000m world record ethiopia tirun...  athletics"
            ]
          },
          "metadata": {
            "tags": []
          },
          "execution_count": 109
        }
      ]
    },
    {
      "cell_type": "code",
      "metadata": {
        "id": "HEefHVIFUY4F",
        "outputId": "30e16ad7-8e9b-4148-fb1a-3c99a67a41d8",
        "colab": {
          "base_uri": "https://localhost:8080/",
          "height": 206
        }
      },
      "source": [
        "df2 = df.sample(frac=1, random_state=42) # shuffle dataset\n",
        "df2.head()"
      ],
      "execution_count": 110,
      "outputs": [
        {
          "output_type": "execute_result",
          "data": {
            "text/html": [
              "<div>\n",
              "<style scoped>\n",
              "    .dataframe tbody tr th:only-of-type {\n",
              "        vertical-align: middle;\n",
              "    }\n",
              "\n",
              "    .dataframe tbody tr th {\n",
              "        vertical-align: top;\n",
              "    }\n",
              "\n",
              "    .dataframe thead th {\n",
              "        text-align: right;\n",
              "    }\n",
              "</style>\n",
              "<table border=\"1\" class=\"dataframe\">\n",
              "  <thead>\n",
              "    <tr style=\"text-align: right;\">\n",
              "      <th></th>\n",
              "      <th>text</th>\n",
              "      <th>topic</th>\n",
              "    </tr>\n",
              "  </thead>\n",
              "  <tbody>\n",
              "    <tr>\n",
              "      <th>669</th>\n",
              "      <td>johansson takes adelaide victory second seed j...</td>\n",
              "      <td>tennis</td>\n",
              "    </tr>\n",
              "    <tr>\n",
              "      <th>33</th>\n",
              "      <td>athens memories soar lows well goodbye another...</td>\n",
              "      <td>athletics</td>\n",
              "    </tr>\n",
              "    <tr>\n",
              "      <th>549</th>\n",
              "      <td>england coach faces rap row england coach andy...</td>\n",
              "      <td>rugby</td>\n",
              "    </tr>\n",
              "    <tr>\n",
              "      <th>199</th>\n",
              "      <td>new zealand step security new zealand cricket ...</td>\n",
              "      <td>cricket</td>\n",
              "    </tr>\n",
              "    <tr>\n",
              "      <th>264</th>\n",
              "      <td>irish finish home game republic ireland manage...</td>\n",
              "      <td>football</td>\n",
              "    </tr>\n",
              "  </tbody>\n",
              "</table>\n",
              "</div>"
            ],
            "text/plain": [
              "                                                  text      topic\n",
              "669  johansson takes adelaide victory second seed j...     tennis\n",
              "33   athens memories soar lows well goodbye another...  athletics\n",
              "549  england coach faces rap row england coach andy...      rugby\n",
              "199  new zealand step security new zealand cricket ...    cricket\n",
              "264  irish finish home game republic ireland manage...   football"
            ]
          },
          "metadata": {
            "tags": []
          },
          "execution_count": 110
        }
      ]
    },
    {
      "cell_type": "markdown",
      "metadata": {
        "id": "jmFuN5S5VKU1"
      },
      "source": [
        "## Stratified sampling"
      ]
    },
    {
      "cell_type": "code",
      "metadata": {
        "id": "eE5C1TZMVNn-",
        "outputId": "207841f9-78d5-41fa-9c3d-bcddcb126a09",
        "colab": {
          "base_uri": "https://localhost:8080/",
          "height": 421
        }
      },
      "source": [
        "# first split data and labels\n",
        "X = df2.pop('text')\n",
        "display(X[:10])\n",
        "y = df2.pop('topic')\n",
        "print(y[:10])"
      ],
      "execution_count": 111,
      "outputs": [
        {
          "output_type": "display_data",
          "data": {
            "text/plain": [
              "669    johansson takes adelaide victory second seed j...\n",
              "33     athens memories soar lows well goodbye another...\n",
              "549    england coach faces rap row england coach andy...\n",
              "199    new zealand step security new zealand cricket ...\n",
              "264    irish finish home game republic ireland manage...\n",
              "583    ireland south africa ronan gara scored ireland...\n",
              "39     radcliffe tackles marathon tasks paula radclif...\n",
              "554    owen set skipper role wales number eight micha...\n",
              "585    ireland call uncapped campbell ulster scrum ha...\n",
              "609    bath faced tindall ultimatum mike tindall agen...\n",
              "Name: text, dtype: object"
            ]
          },
          "metadata": {
            "tags": []
          }
        },
        {
          "output_type": "stream",
          "text": [
            "669       tennis\n",
            "33     athletics\n",
            "549        rugby\n",
            "199      cricket\n",
            "264     football\n",
            "583        rugby\n",
            "39     athletics\n",
            "554        rugby\n",
            "585        rugby\n",
            "609        rugby\n",
            "Name: topic, dtype: object\n"
          ],
          "name": "stdout"
        }
      ]
    },
    {
      "cell_type": "code",
      "metadata": {
        "id": "_pieQ5e4TgR7",
        "outputId": "d862ea53-e6a2-4d92-9b44-bb0f26397e03",
        "colab": {
          "base_uri": "https://localhost:8080/",
          "height": 90
        }
      },
      "source": [
        "# use stratified sampling\n",
        "X_train, X_test, y_train, y_test = train_test_split( X, y, test_size=0.4, random_state=42, stratify=y)\n",
        "\n",
        "print(f\"X_train.shape - {X_train.shape}\")\n",
        "print(f\"X_test.shape - {X_test.shape}\")\n",
        "print(f\"y_train.shape - {y_train.shape}\")\n",
        "print(f\"y_test.shape - {y_test.shape}\")"
      ],
      "execution_count": 112,
      "outputs": [
        {
          "output_type": "stream",
          "text": [
            "X_train.shape - (442,)\n",
            "X_test.shape - (295,)\n",
            "y_train.shape - (442,)\n",
            "y_test.shape - (295,)\n"
          ],
          "name": "stdout"
        }
      ]
    },
    {
      "cell_type": "code",
      "metadata": {
        "id": "btpW_WrOaHbB",
        "outputId": "aff92d34-005b-4903-a8ff-a4e0ca0244d7",
        "colab": {
          "base_uri": "https://localhost:8080/",
          "height": 127
        }
      },
      "source": [
        "y_train.value_counts()"
      ],
      "execution_count": 113,
      "outputs": [
        {
          "output_type": "execute_result",
          "data": {
            "text/plain": [
              "football     159\n",
              "rugby         88\n",
              "cricket       74\n",
              "athletics     61\n",
              "tennis        60\n",
              "Name: topic, dtype: int64"
            ]
          },
          "metadata": {
            "tags": []
          },
          "execution_count": 113
        }
      ]
    },
    {
      "cell_type": "markdown",
      "metadata": {
        "id": "G0eH2d_KTsr2"
      },
      "source": [
        "Now, data is pretty much ready."
      ]
    },
    {
      "cell_type": "markdown",
      "metadata": {
        "id": "oIS_dN8ebDDE"
      },
      "source": [
        "# BERT Embedding (sentence transformers)\n",
        "Converting text data to its respective BERT Embedding"
      ]
    },
    {
      "cell_type": "code",
      "metadata": {
        "id": "JJVFjlD-pgdu"
      },
      "source": [
        "# load sentence transformer\n",
        "from sentence_transformers import SentenceTransformer\n",
        "model = SentenceTransformer('bert-base-nli-mean-tokens')"
      ],
      "execution_count": 114,
      "outputs": []
    },
    {
      "cell_type": "code",
      "metadata": {
        "id": "z--5sjxspkpe",
        "outputId": "117e38aa-c191-4d0d-8b52-adbe29e13407",
        "colab": {
          "base_uri": "https://localhost:8080/",
          "height": 1000
        }
      },
      "source": [
        "# encode sentences\n",
        "sentence_embeddings = model.encode(X_train.values)\n",
        "sentence_embeddings[:1]"
      ],
      "execution_count": 115,
      "outputs": [
        {
          "output_type": "execute_result",
          "data": {
            "text/plain": [
              "array([[-5.55381656e-01,  7.65018642e-01,  8.63958180e-01,\n",
              "         1.36552021e-01,  7.03095376e-01, -4.67655182e-01,\n",
              "         1.28361642e+00, -1.95206061e-01,  4.69943136e-02,\n",
              "         1.62134498e-01, -6.01899326e-02,  1.92754775e-01,\n",
              "         5.85547507e-01, -5.15420176e-02, -5.37184656e-01,\n",
              "         2.78839260e-01, -1.15268104e-01, -3.44222933e-02,\n",
              "         9.87192392e-02, -4.23399717e-01, -4.28273410e-01,\n",
              "        -1.62947372e-01,  7.91986942e-01,  4.94392157e-01,\n",
              "         1.12411511e+00,  1.01944113e+00,  3.31209660e-01,\n",
              "         3.34763043e-02, -1.37123835e+00,  4.80189651e-01,\n",
              "        -5.98977208e-01,  5.65721631e-01, -4.50971365e-01,\n",
              "        -4.60465729e-01,  4.60062623e-01,  8.39939892e-01,\n",
              "         2.11740062e-01, -2.47256160e-02, -2.02038482e-01,\n",
              "        -3.58699471e-01, -2.92679757e-01,  5.36426961e-01,\n",
              "        -7.96072856e-02, -3.44232261e-01, -1.17475879e+00,\n",
              "        -2.33570347e-03, -3.24793249e-01,  3.52797210e-01,\n",
              "         8.10622036e-01, -9.43653464e-01,  2.11586982e-01,\n",
              "         3.74044746e-01,  8.62952352e-01,  8.17548856e-02,\n",
              "        -1.26980141e-01, -1.33549139e-01, -3.38969767e-01,\n",
              "        -7.07635224e-01, -1.08818197e+00, -1.00766814e+00,\n",
              "        -7.89193451e-01,  4.38894898e-01, -1.11067009e+00,\n",
              "        -1.85558975e-01, -3.03902119e-01,  8.63358080e-02,\n",
              "         3.48070204e-01,  5.14140725e-01, -9.23443377e-01,\n",
              "        -9.96112943e-01, -2.18271390e-01, -1.06583703e+00,\n",
              "        -4.07669127e-01, -3.31301898e-01,  4.35685098e-01,\n",
              "        -4.45043981e-01, -4.23751622e-01, -9.26078856e-03,\n",
              "         1.46856964e+00,  4.37504321e-01,  2.01495901e-01,\n",
              "        -7.63040841e-01, -1.28527671e-01, -3.58773381e-01,\n",
              "         7.92642713e-01, -2.91693121e-01,  8.18158269e-01,\n",
              "        -6.89458728e-01, -7.37705052e-01,  8.12516510e-01,\n",
              "         9.01979387e-01, -1.87965840e-01,  8.59587371e-01,\n",
              "        -1.02714993e-01, -1.76200426e+00, -1.16524100e-01,\n",
              "         3.02396029e-01, -7.56642818e-02, -1.61452338e-01,\n",
              "         1.45542786e-01, -2.09277615e-01, -2.02372849e-01,\n",
              "        -6.53595746e-01,  8.76151800e-01, -4.76396978e-01,\n",
              "         2.84663290e-01, -4.71625030e-01, -7.74552703e-01,\n",
              "        -3.95229071e-01,  1.33140698e-01,  1.18070447e+00,\n",
              "        -2.71824956e-01, -3.49768996e-01, -9.74939838e-02,\n",
              "        -3.35154027e-01, -1.35095978e+00, -2.86804318e-01,\n",
              "         9.53910887e-01,  4.77213919e-01,  1.01514749e-01,\n",
              "         1.29335797e+00, -9.86347139e-01,  6.65053666e-01,\n",
              "        -6.58878833e-02,  3.77073586e-01,  4.09536690e-01,\n",
              "        -2.35844851e-01,  7.02977955e-01, -8.20401907e-01,\n",
              "         4.06004578e-01, -1.71413764e-01,  1.38136581e-01,\n",
              "        -2.44541630e-01,  4.03417274e-02,  2.88767159e-01,\n",
              "         3.41635317e-01,  3.93337429e-01, -5.89384377e-01,\n",
              "         8.27059925e-01, -4.49344307e-01,  5.41883647e-01,\n",
              "        -2.22316861e-01, -1.28274292e-01, -4.66530085e-01,\n",
              "        -2.33724982e-01, -3.49226385e-01,  7.53407955e-01,\n",
              "        -7.42536306e-01,  7.80953169e-01, -3.27774465e-01,\n",
              "         2.05718085e-01,  2.63939619e-01, -4.11940902e-01,\n",
              "         6.07328534e-01, -3.73823196e-01, -3.47680569e-01,\n",
              "        -7.45412946e-01, -6.07505918e-01, -1.48084043e-02,\n",
              "         4.30704743e-01, -2.26218596e-01, -1.27481017e-02,\n",
              "        -2.97547318e-02,  1.09696531e+00,  8.33300591e-01,\n",
              "        -1.52613759e-01,  7.70971537e-01, -1.66792557e-01,\n",
              "         5.99402070e-01, -7.89216876e-01, -1.04436028e+00,\n",
              "         1.16341484e+00,  2.60763597e+00,  3.23292762e-01,\n",
              "         9.10966396e-01,  2.78462619e-01,  2.77012765e-01,\n",
              "        -8.13329279e-01, -6.38782620e-01,  5.89025952e-02,\n",
              "        -2.13234901e-01, -3.60917807e-01, -1.21630776e+00,\n",
              "         1.23183990e+00,  1.21865654e+00, -1.01530679e-01,\n",
              "         1.14144707e+00, -1.28271565e-01, -6.21677518e-01,\n",
              "        -4.88546222e-01, -3.69331092e-01,  5.76627254e-02,\n",
              "         8.65127742e-01, -3.37043673e-01, -5.65075755e-01,\n",
              "         6.39712363e-02,  5.57499714e-02,  3.48891504e-02,\n",
              "         2.49410033e-01,  5.06932557e-01, -3.95817667e-01,\n",
              "         4.61972892e-01, -5.64382434e-01, -1.20892420e-01,\n",
              "        -7.27362335e-01,  5.58444440e-01,  8.37552905e-01,\n",
              "        -2.19949365e-01, -1.00392485e+00, -2.15124696e-01,\n",
              "        -6.12181306e-01, -3.29597771e-01,  9.80587542e-01,\n",
              "         2.44850010e-01,  3.81956220e-01, -2.05257460e-01,\n",
              "         6.08402640e-02, -3.40210348e-01,  5.08772552e-01,\n",
              "         5.63642532e-02,  2.16328934e-01,  2.30778575e-01,\n",
              "        -1.08450735e+00, -1.97787900e-02, -3.53193134e-01,\n",
              "         1.84706762e-01, -1.66345328e-01, -9.43621576e-01,\n",
              "        -5.35161436e-01,  5.91503978e-01, -1.00940419e-03,\n",
              "         2.41041437e-01, -4.16038305e-01, -3.00091267e-01,\n",
              "         6.53953671e-01, -1.83679715e-01, -1.16156483e+00,\n",
              "         4.44412947e-01,  9.20188725e-01, -6.85319304e-01,\n",
              "        -2.49678746e-01,  2.47942805e-01,  6.89669609e-01,\n",
              "         9.99662220e-01, -1.58078417e-01,  4.26141292e-01,\n",
              "         5.09748161e-01, -5.67017734e-01, -4.50696826e-01,\n",
              "        -4.80740607e-01, -8.92953873e-01,  4.04070497e-01,\n",
              "         6.23245478e-01, -8.54464471e-01, -4.92365062e-01,\n",
              "         4.32658242e-03,  3.31370160e-02,  1.06871867e+00,\n",
              "         9.35209617e-02,  7.32451603e-02,  2.81038791e-01,\n",
              "         1.90586194e-01,  1.22588471e-01,  5.35820425e-01,\n",
              "        -2.18870074e-01, -1.30998418e-01, -3.44477832e-01,\n",
              "         2.13690773e-01, -8.20701182e-01,  2.20709532e-01,\n",
              "        -2.68336982e-01, -2.11659640e-01, -4.03479546e-01,\n",
              "         7.13887990e-01, -7.03632295e-01,  3.78684491e-01,\n",
              "        -1.01599872e+00,  1.81190684e-01,  9.29521203e-01,\n",
              "         5.08859873e-01, -4.34713542e-01,  9.31992590e-01,\n",
              "        -3.13664228e-01, -9.51570496e-02, -7.72441626e-01,\n",
              "         1.14039564e+00, -2.07246721e-01,  3.55653651e-02,\n",
              "        -2.34756708e-01,  1.34747671e-02,  4.37797219e-01,\n",
              "        -6.11097872e-01,  5.08818448e-01, -1.41824871e-01,\n",
              "        -7.00427219e-02, -4.65925753e-01,  3.70758206e-01,\n",
              "        -9.02758539e-01,  1.34150553e+00,  2.87553638e-01,\n",
              "        -2.86565721e-01,  2.74664551e-01, -1.08681893e+00,\n",
              "         3.11042517e-01, -2.43885726e-01, -3.55752289e-01,\n",
              "         2.38672383e-02,  4.32975590e-01, -2.46182442e-01,\n",
              "        -4.84073162e-01, -5.84489405e-01, -1.29547822e+00,\n",
              "         4.90182996e-01,  1.00086164e+00,  4.55645323e-01,\n",
              "        -7.47693330e-02, -5.55339098e-01, -1.78028688e-01,\n",
              "         4.28556740e-01, -4.92297113e-01, -3.86357278e-01,\n",
              "        -3.43679667e-01,  2.32759506e-01, -2.67155617e-01,\n",
              "         1.24903515e-01, -1.37008798e+00,  8.84279534e-02,\n",
              "        -2.10014939e-01,  7.98013061e-02, -2.06936464e-01,\n",
              "         6.68584287e-01, -4.48656946e-01,  5.66829622e-01,\n",
              "         1.16502154e+00,  3.95865291e-01, -1.98065355e-01,\n",
              "        -6.86048567e-01,  4.63973075e-01, -8.68233442e-02,\n",
              "         2.28039324e-01,  1.98500168e+00, -5.57415366e-01,\n",
              "         8.55138302e-01,  6.48356080e-01, -3.08692325e-02,\n",
              "        -2.38265321e-01, -7.16300249e-01,  8.97696853e-01,\n",
              "        -7.76542604e-01,  4.52899933e-02, -2.19998986e-01,\n",
              "         5.97995043e-01,  1.49128354e+00, -2.05170408e-01,\n",
              "         2.41677105e-01,  7.18485951e-01, -1.01025784e+00,\n",
              "         2.43700773e-01, -5.46266854e-01, -4.40807998e-01,\n",
              "        -6.57357931e-01,  7.22320795e-01, -2.93863803e-01,\n",
              "        -2.90106624e-01, -3.47090006e-01,  1.85224503e-01,\n",
              "        -5.74518383e-01, -7.59591535e-02, -3.37132178e-02,\n",
              "        -5.90334892e-01,  5.71600854e-01,  1.29312897e+00,\n",
              "        -8.68339419e-01, -2.27389336e-01,  5.42863429e-01,\n",
              "        -7.44918644e-01, -4.50558096e-01,  5.04851103e-01,\n",
              "        -3.34691316e-01, -6.64961636e-01, -1.55536002e-02,\n",
              "        -6.61710143e-01,  3.78977507e-01,  1.34396994e+00,\n",
              "         2.22389996e-01, -4.36266005e-01, -6.62423149e-02,\n",
              "        -4.48872864e-01,  2.77267516e-01, -1.70066312e-01,\n",
              "         4.15331602e-01,  7.06917346e-01, -4.37222749e-01,\n",
              "        -2.80409068e-01,  4.66293752e-01, -2.25224778e-01,\n",
              "         4.65792477e-01, -5.08428276e-01,  4.00152296e-01,\n",
              "         4.98660713e-01, -3.95920485e-01, -4.08794224e-01,\n",
              "         4.37662393e-01, -4.55196798e-01,  4.80895370e-01,\n",
              "        -8.06604385e-01, -7.44573027e-02, -7.90774047e-01,\n",
              "        -1.93426371e-01, -1.58564135e-01,  2.12365448e-01,\n",
              "        -6.13154888e-01,  2.73977369e-01, -1.41552731e-01,\n",
              "        -5.07751584e-01, -3.27969313e-01, -2.99729884e-01,\n",
              "        -9.42578316e-02, -1.20815051e+00,  2.90477872e-01,\n",
              "         2.80564308e-01,  2.67741799e-01,  7.50942171e-01,\n",
              "        -1.36073542e+00,  4.14779603e-01, -8.72212350e-02,\n",
              "        -3.11104715e-01,  1.86326966e-01, -5.27181089e-01,\n",
              "         1.54241994e-01, -2.75386795e-02, -4.87008065e-01,\n",
              "        -7.83926666e-01,  4.29593652e-01,  1.09201312e+00,\n",
              "        -6.60623968e-01,  7.97248960e-01, -3.51480275e-01,\n",
              "         1.51950940e-01, -1.05494940e+00, -9.65829372e-01,\n",
              "        -5.71875989e-01,  8.42608392e-01, -5.69212973e-01,\n",
              "        -5.12678802e-01,  4.30420786e-01, -4.36655641e-01,\n",
              "        -5.99207222e-01,  5.84041595e-01, -2.54039187e-02,\n",
              "         4.81265694e-01, -9.42966104e-01,  4.87776488e-01,\n",
              "         3.10850024e-01,  7.37327933e-01, -3.34873438e-01,\n",
              "        -3.61718088e-01,  2.67460018e-01, -1.50714767e+00,\n",
              "         1.32204548e-01,  8.18321526e-01, -7.22243339e-02,\n",
              "         2.04700887e-01,  1.68757588e-01,  6.71356142e-01,\n",
              "         2.47384282e-03,  9.45707597e-03, -6.52492881e-01,\n",
              "        -3.34813356e-01, -7.80332565e-01, -3.94519977e-02,\n",
              "         3.93778145e-01,  9.96610820e-01,  8.40982914e-01,\n",
              "        -1.09761372e-01, -1.09082484e+00,  1.35649845e-01,\n",
              "         6.07902110e-01,  2.17738375e-01,  9.96884927e-02,\n",
              "        -3.76046568e-01, -5.45889914e-01,  1.16690479e-01,\n",
              "         3.67534101e-01, -1.80971771e-01, -1.01805419e-01,\n",
              "        -4.14012581e-01,  3.30168866e-02,  1.91634387e-01,\n",
              "        -1.73349470e-01,  3.11821848e-01,  3.10580999e-01,\n",
              "         3.29103231e-01, -4.18510020e-01,  7.65125573e-01,\n",
              "        -8.10759842e-01,  1.01479970e-01,  3.78470540e-01,\n",
              "         2.96233863e-01, -1.35721505e-01,  8.95413220e-01,\n",
              "        -5.60458004e-01,  4.05438095e-01,  1.23651750e-01,\n",
              "         1.03299940e+00,  5.51471293e-01, -2.82213151e-01,\n",
              "        -5.15472412e-01,  3.71528864e-01, -2.73530304e-01,\n",
              "         1.11554801e-01,  3.59220877e-02,  9.81359482e-01,\n",
              "        -3.11877698e-01,  9.06670559e-03,  3.62306237e-01,\n",
              "         7.13639259e-01,  3.93343233e-02, -5.23700714e-01,\n",
              "        -2.64453471e-01,  2.79982448e-01,  6.86835587e-01,\n",
              "         6.99091852e-01,  2.39477009e-01, -5.29473305e-01,\n",
              "         1.25805795e-01, -2.23949954e-01,  7.69982576e-01,\n",
              "        -2.11550012e-01, -3.12237203e-01, -9.48083937e-01,\n",
              "        -2.69528687e-01,  3.62766862e-01,  6.68356478e-01,\n",
              "        -5.67754209e-01, -2.95350611e-01, -5.31790912e-01,\n",
              "        -2.81348318e-01, -5.02603710e-01, -2.76757240e-01,\n",
              "        -4.17571455e-01, -7.10560754e-02,  9.60228145e-01,\n",
              "        -5.96688807e-01, -3.51917744e-01,  1.63525507e-01,\n",
              "        -1.29362699e-02, -7.73751140e-02, -7.81758428e-01,\n",
              "        -4.99734074e-01, -4.16421592e-01, -3.08505565e-01,\n",
              "         9.27297831e-01,  8.25325012e-01, -1.79987326e-02,\n",
              "         3.43105584e-01, -7.52528831e-02, -1.80476591e-01,\n",
              "        -1.05429947e-01,  1.14269090e+00, -1.21218726e-01,\n",
              "         5.97221702e-02, -2.92413950e-01, -8.14942420e-01,\n",
              "         8.24171901e-02,  1.92829996e-01, -3.23170334e-01,\n",
              "        -1.18919337e+00, -1.13933527e+00,  1.56976327e-01,\n",
              "         3.18107516e-01, -4.18506414e-01, -1.40806511e-01,\n",
              "         3.08882475e-01,  3.06351576e-03, -4.20479119e-01,\n",
              "        -1.53564895e-02, -4.69857335e-01,  7.13910937e-01,\n",
              "         4.73693311e-02,  2.37809822e-01, -1.48045734e-01,\n",
              "        -8.93105388e-01, -1.16526680e-02, -6.87172830e-01,\n",
              "        -4.18856442e-01,  2.60891542e-02,  1.37335765e+00,\n",
              "        -2.15726584e-01, -3.95432353e-01, -9.44011748e-01,\n",
              "        -5.63322484e-01,  9.19673979e-01,  1.77483499e-01,\n",
              "         6.35688365e-01, -6.52291551e-02, -4.09707241e-02,\n",
              "         1.92282289e-01,  7.58859754e-01, -6.37423992e-01,\n",
              "         2.13307872e-01, -3.02849472e-01, -7.61019886e-01,\n",
              "         8.04749802e-02, -4.61348206e-01,  1.45530701e-01,\n",
              "         2.50958622e-01,  2.09537864e-01, -5.50231338e-01,\n",
              "         5.30408770e-02,  7.83100665e-01, -4.78513360e-01,\n",
              "        -2.01774910e-01, -2.76931673e-01, -4.66205031e-01,\n",
              "        -4.82132494e-01,  7.77940094e-01, -2.94708341e-01,\n",
              "        -7.34711945e-01, -2.23329499e-01,  1.81982249e-01,\n",
              "         3.54417890e-01, -1.87858865e-01, -2.85501570e-01,\n",
              "         2.46736661e-01, -6.80255651e-01,  1.75961256e-01,\n",
              "         9.49470475e-02, -7.27122664e-01, -8.72682929e-02,\n",
              "         4.86067571e-02, -3.63946855e-01,  2.29561012e-02,\n",
              "         4.50715899e-01, -3.61195534e-01,  9.09496486e-01,\n",
              "         5.47073066e-01,  2.29408905e-01,  2.59854615e-01,\n",
              "         4.06639844e-01, -2.12884277e-01,  1.66329324e+00,\n",
              "        -7.97553122e-01, -4.66905802e-01,  3.17915857e-01,\n",
              "        -8.90424371e-01,  8.33150074e-02, -3.60385515e-02,\n",
              "         6.38497829e-01,  3.49635452e-01,  5.37480474e-01,\n",
              "         1.02014220e+00, -8.75028968e-02, -5.97810328e-01,\n",
              "        -3.94352257e-01,  1.50676385e-01,  8.85024518e-02,\n",
              "        -2.43223339e-01, -5.45299649e-01,  1.17172050e+00,\n",
              "        -7.86337033e-02,  1.50867805e-01, -1.27757415e-01,\n",
              "         7.20648542e-02, -4.00124118e-02,  4.08067912e-01,\n",
              "         2.69317143e-02,  4.50603008e-01, -3.06634158e-01,\n",
              "         4.36102182e-01, -3.47230494e-01,  3.28108221e-01,\n",
              "         4.20946658e-01, -1.30523294e-01, -1.15386672e-01,\n",
              "         4.27868038e-01, -5.85866094e-01, -2.03031421e-01,\n",
              "         6.22446835e-01, -8.25446248e-01,  2.81529993e-01,\n",
              "        -5.44295430e-01, -6.86971962e-01, -8.70457947e-01,\n",
              "         2.77360827e-01, -1.53080299e-01, -6.19933128e-01,\n",
              "         2.22861066e-01, -9.93583739e-01,  2.25535601e-01,\n",
              "         7.55599022e-01, -2.86748167e-02, -7.45774880e-02,\n",
              "        -7.71105707e-01, -2.47820258e-01, -3.70555460e-01,\n",
              "        -8.84255022e-02,  3.59377712e-01,  4.41598803e-01,\n",
              "         8.00245941e-01, -1.62426281e+00,  8.23185682e-01,\n",
              "        -6.19165361e-01, -3.76901537e-01,  8.67200613e-01,\n",
              "        -2.08045512e-01, -2.74366647e-01,  4.51123774e-01,\n",
              "         5.79601943e-01, -4.09540772e-01,  1.34994388e-01,\n",
              "         1.66935790e+00, -4.68577713e-01,  5.41927576e-01,\n",
              "         1.31260172e-01,  2.32878953e-01, -1.19559988e-02,\n",
              "        -3.27963643e-02, -7.33152330e-01,  1.63374856e-01,\n",
              "         3.47215295e-01, -5.55469990e-01,  4.79965240e-01,\n",
              "        -1.32119393e+00,  9.06062424e-02, -5.29458046e-01,\n",
              "        -4.30684358e-01,  4.92444225e-02, -9.17152241e-02,\n",
              "         1.98351368e-01, -5.56565784e-02, -7.65441179e-01,\n",
              "         1.82317331e-01, -5.46209991e-01,  5.44356465e-01,\n",
              "         1.09803677e-01,  5.08477032e-01, -5.93553662e-01,\n",
              "        -4.87037390e-01, -2.28824735e+00, -1.30781457e-01,\n",
              "         5.72138965e-01, -4.34562236e-01, -5.72138429e-01,\n",
              "         1.11833267e-01,  5.88290215e-01, -2.88649142e-01,\n",
              "         1.45778909e-01,  1.26407295e-01,  5.85083902e-01,\n",
              "         4.07131225e-01, -1.16131619e-01,  6.93855807e-02,\n",
              "         1.02241123e+00, -8.48427191e-02, -3.61164548e-02,\n",
              "        -5.60820326e-02, -2.63351977e-01,  1.26085952e-01,\n",
              "        -5.80022335e-01, -1.35506344e+00, -5.36435068e-01,\n",
              "         1.09892309e+00, -1.00614417e+00, -8.15729946e-02,\n",
              "        -5.73509693e-01, -1.37717515e-01, -4.10898589e-02]], dtype=float32)"
            ]
          },
          "metadata": {
            "tags": []
          },
          "execution_count": 115
        }
      ]
    },
    {
      "cell_type": "code",
      "metadata": {
        "id": "qfLIuhEtp-d-",
        "outputId": "f2ade8d8-2146-430a-8917-c367e078ba92",
        "colab": {
          "base_uri": "https://localhost:8080/",
          "height": 90
        }
      },
      "source": [
        "print(type(sentence_embeddings))\n",
        "print(len(sentence_embeddings))\n",
        "print(type(sentence_embeddings[0]))\n",
        "print(len(sentence_embeddings[0]))"
      ],
      "execution_count": 116,
      "outputs": [
        {
          "output_type": "stream",
          "text": [
            "<class 'numpy.ndarray'>\n",
            "442\n",
            "<class 'numpy.ndarray'>\n",
            "768\n"
          ],
          "name": "stdout"
        }
      ]
    },
    {
      "cell_type": "markdown",
      "metadata": {
        "id": "n1CVZfROrXTW"
      },
      "source": [
        "So, every sentence (442 total) are converted to their BERT Embedding of dimension 768 each. Now, data is ready for clustering."
      ]
    },
    {
      "cell_type": "markdown",
      "metadata": {
        "id": "iPP10vvmr_6B"
      },
      "source": [
        "# Clustering"
      ]
    },
    {
      "cell_type": "markdown",
      "metadata": {
        "id": "Cac1xaqCv4d6"
      },
      "source": [
        "### performing KMeans"
      ]
    },
    {
      "cell_type": "code",
      "metadata": {
        "id": "N-WK6n7eqQCP",
        "outputId": "53ce642e-bc6b-4245-e40b-5cf56185e9d3",
        "colab": {
          "base_uri": "https://localhost:8080/",
          "height": 72
        }
      },
      "source": [
        "from sklearn.cluster import KMeans\n",
        "\n",
        "num_clusters = 5\n",
        "\n",
        "clustering_model = KMeans(n_clusters=num_clusters, \n",
        "                          init ='k-means++',\n",
        "                          max_iter=300, \n",
        "                          random_state=42, \n",
        "                          n_init=10)\n",
        "clustering_model.fit(sentence_embeddings)"
      ],
      "execution_count": 117,
      "outputs": [
        {
          "output_type": "execute_result",
          "data": {
            "text/plain": [
              "KMeans(algorithm='auto', copy_x=True, init='k-means++', max_iter=300,\n",
              "       n_clusters=5, n_init=10, n_jobs=None, precompute_distances='auto',\n",
              "       random_state=42, tol=0.0001, verbose=0)"
            ]
          },
          "metadata": {
            "tags": []
          },
          "execution_count": 117
        }
      ]
    },
    {
      "cell_type": "markdown",
      "metadata": {
        "id": "ENc68eLevzHy"
      },
      "source": [
        "### Dimensionality Reduction for Visualisation"
      ]
    },
    {
      "cell_type": "code",
      "metadata": {
        "id": "-Lm08RKlv2eY"
      },
      "source": [
        "# reducing dimension of datapoint from 768 to 3 via\n",
        "# PCA\n",
        "from sklearn.decomposition import PCA\n",
        "pca = PCA(n_components=3)\n",
        "X3D_pca = pca.fit_transform(sentence_embeddings)"
      ],
      "execution_count": 118,
      "outputs": []
    },
    {
      "cell_type": "code",
      "metadata": {
        "id": "lEskMQCwy-1v",
        "outputId": "ac6b9d0e-4529-4fe9-a04f-33f04871779d",
        "colab": {
          "base_uri": "https://localhost:8080/",
          "height": 146
        }
      },
      "source": [
        "X3D_pca"
      ],
      "execution_count": 119,
      "outputs": [
        {
          "output_type": "execute_result",
          "data": {
            "text/plain": [
              "array([[-2.848843  , -1.169753  ,  4.499333  ],\n",
              "       [ 6.2991824 ,  3.263582  , -0.07392542],\n",
              "       [-5.1077976 ,  1.9794936 ,  2.144274  ],\n",
              "       ...,\n",
              "       [ 5.1860175 ,  4.820907  ,  0.7535834 ],\n",
              "       [-1.2422442 ,  0.1309496 , -0.02445554],\n",
              "       [ 5.000424  ,  1.6867553 ,  0.30083892]], dtype=float32)"
            ]
          },
          "metadata": {
            "tags": []
          },
          "execution_count": 119
        }
      ]
    },
    {
      "cell_type": "code",
      "metadata": {
        "id": "4iKhyKkNtEsi",
        "outputId": "0053002f-7643-49ba-9282-9b1b7445ea88",
        "colab": {
          "base_uri": "https://localhost:8080/",
          "height": 206
        }
      },
      "source": [
        "# lets check\n",
        "clustered_df = pd.DataFrame({\n",
        "    'sentence' : X_train.values,\n",
        "    'cluster' : clustering_model.labels_,\n",
        "    'orig_label' : y_train.values, \n",
        "    'dim_X' : X3D_pca[:, 0],\n",
        "    'dim_Y' : X3D_pca[:, 1],\n",
        "    'dim_Z' : X3D_pca[:, 2],\n",
        "})\n",
        "clustered_df.head()"
      ],
      "execution_count": 120,
      "outputs": [
        {
          "output_type": "execute_result",
          "data": {
            "text/html": [
              "<div>\n",
              "<style scoped>\n",
              "    .dataframe tbody tr th:only-of-type {\n",
              "        vertical-align: middle;\n",
              "    }\n",
              "\n",
              "    .dataframe tbody tr th {\n",
              "        vertical-align: top;\n",
              "    }\n",
              "\n",
              "    .dataframe thead th {\n",
              "        text-align: right;\n",
              "    }\n",
              "</style>\n",
              "<table border=\"1\" class=\"dataframe\">\n",
              "  <thead>\n",
              "    <tr style=\"text-align: right;\">\n",
              "      <th></th>\n",
              "      <th>sentence</th>\n",
              "      <th>cluster</th>\n",
              "      <th>orig_label</th>\n",
              "      <th>dim_X</th>\n",
              "      <th>dim_Y</th>\n",
              "      <th>dim_Z</th>\n",
              "    </tr>\n",
              "  </thead>\n",
              "  <tbody>\n",
              "    <tr>\n",
              "      <th>0</th>\n",
              "      <td>holmes facing fine trials double olympic champ...</td>\n",
              "      <td>1</td>\n",
              "      <td>athletics</td>\n",
              "      <td>-2.848843</td>\n",
              "      <td>-1.169753</td>\n",
              "      <td>4.499333</td>\n",
              "    </tr>\n",
              "    <tr>\n",
              "      <th>1</th>\n",
              "      <td>pietersen gives england chance lunch england o...</td>\n",
              "      <td>3</td>\n",
              "      <td>cricket</td>\n",
              "      <td>6.299182</td>\n",
              "      <td>3.263582</td>\n",
              "      <td>-0.073925</td>\n",
              "    </tr>\n",
              "    <tr>\n",
              "      <th>2</th>\n",
              "      <td>kluft playing record chance sweden carolina kl...</td>\n",
              "      <td>1</td>\n",
              "      <td>athletics</td>\n",
              "      <td>-5.107798</td>\n",
              "      <td>1.979494</td>\n",
              "      <td>2.144274</td>\n",
              "    </tr>\n",
              "    <tr>\n",
              "      <th>3</th>\n",
              "      <td>smith work scottish wonders worst kept secret ...</td>\n",
              "      <td>2</td>\n",
              "      <td>football</td>\n",
              "      <td>-1.413772</td>\n",
              "      <td>-1.783141</td>\n",
              "      <td>-1.828401</td>\n",
              "    </tr>\n",
              "    <tr>\n",
              "      <th>4</th>\n",
              "      <td>edgy agassi struggles past dent andre agassi p...</td>\n",
              "      <td>0</td>\n",
              "      <td>tennis</td>\n",
              "      <td>-0.343911</td>\n",
              "      <td>1.056281</td>\n",
              "      <td>3.732847</td>\n",
              "    </tr>\n",
              "  </tbody>\n",
              "</table>\n",
              "</div>"
            ],
            "text/plain": [
              "                                            sentence  ...     dim_Z\n",
              "0  holmes facing fine trials double olympic champ...  ...  4.499333\n",
              "1  pietersen gives england chance lunch england o...  ... -0.073925\n",
              "2  kluft playing record chance sweden carolina kl...  ...  2.144274\n",
              "3  smith work scottish wonders worst kept secret ...  ... -1.828401\n",
              "4  edgy agassi struggles past dent andre agassi p...  ...  3.732847\n",
              "\n",
              "[5 rows x 6 columns]"
            ]
          },
          "metadata": {
            "tags": []
          },
          "execution_count": 120
        }
      ]
    },
    {
      "cell_type": "markdown",
      "metadata": {
        "id": "55RxaC3qzTiS"
      },
      "source": [
        "## Visualising clusters via plotly"
      ]
    },
    {
      "cell_type": "code",
      "metadata": {
        "id": "jM6wHRihzYkD",
        "outputId": "49ab189c-078d-4557-dfa5-b8324dad44d3",
        "colab": {
          "base_uri": "https://localhost:8080/",
          "height": 542
        }
      },
      "source": [
        "import plotly.graph_objects as go\n",
        "\n",
        "# create new figure\n",
        "fig = go.Figure()\n",
        "\n",
        "cluster_label = clustering_model.labels_\n",
        "\n",
        "# plot data\n",
        "for cluster in set(cluster_label):\n",
        "    original_labels = list(clustered_df[clustered_df['cluster']==cluster]['orig_label'].values)\n",
        "    cl = [cluster] * len(original_labels)\n",
        "    # print(original_labels)\n",
        "    fig.add_trace(\n",
        "        go.Scatter3d(\n",
        "            x=list(clustered_df[clustered_df['cluster']==cluster]['dim_X'].values), \n",
        "            y=list(clustered_df[clustered_df['cluster']==cluster]['dim_Y'].values), \n",
        "            z=list(clustered_df[clustered_df['cluster']==cluster]['dim_Z'].values), \n",
        "            name=f\"Cluster {cluster}\",\n",
        "            mode=\"markers\",\n",
        "            marker=dict(\n",
        "                # color=cols,\n",
        "                size=5,\n",
        "                # line=dict(width=0.5, color='DarkSlateGrey')\n",
        "            ), \n",
        "            # showlegend=True,\n",
        "            # to display multiple, variables of custom data\n",
        "            customdata= tuple(zip(original_labels, cl)),\n",
        "            # To modify hover data, labels\n",
        "            hovertemplate='L:%{customdata[0]}<br>C:%{customdata[1]}', \n",
        "        )\n",
        "    )\n",
        "\n",
        "# for 3D plots, Embedded Scene are used\n",
        "from plotly.graph_objs.layout import Scene\n",
        "from plotly.graph_objs.layout.scene import XAxis, YAxis, ZAxis\n",
        "fig.update_layout(\n",
        "    showlegend=True,\n",
        "    legend=dict(\n",
        "        y=0.99,\n",
        "        x=0.01,\n",
        "    ),\n",
        "    scene=Scene(\n",
        "        xaxis=XAxis(title='X'),\n",
        "        yaxis=YAxis(title='Y'),\n",
        "        zaxis=ZAxis(title='Z')\n",
        "    ),\n",
        "    margin=dict(l=0, r=0, b=0, t=0),  # tight Layout\n",
        ")\n",
        "fig.show()"
      ],
      "execution_count": 121,
      "outputs": [
        {
          "output_type": "display_data",
          "data": {
            "text/html": [
              "<html>\n",
              "<head><meta charset=\"utf-8\" /></head>\n",
              "<body>\n",
              "    <div>\n",
              "            <script src=\"https://cdnjs.cloudflare.com/ajax/libs/mathjax/2.7.5/MathJax.js?config=TeX-AMS-MML_SVG\"></script><script type=\"text/javascript\">if (window.MathJax) {MathJax.Hub.Config({SVG: {font: \"STIX-Web\"}});}</script>\n",
              "                <script type=\"text/javascript\">window.PlotlyConfig = {MathJaxConfig: 'local'};</script>\n",
              "        <script src=\"https://cdn.plot.ly/plotly-latest.min.js\"></script>    \n",
              "            <div id=\"3d7219f3-7989-4223-b4f4-6ea9c67dc41f\" class=\"plotly-graph-div\" style=\"height:525px; width:100%;\"></div>\n",
              "            <script type=\"text/javascript\">\n",
              "                \n",
              "                    window.PLOTLYENV=window.PLOTLYENV || {};\n",
              "                    \n",
              "                if (document.getElementById(\"3d7219f3-7989-4223-b4f4-6ea9c67dc41f\")) {\n",
              "                    Plotly.newPlot(\n",
              "                        '3d7219f3-7989-4223-b4f4-6ea9c67dc41f',\n",
              "                        [{\"customdata\": [[\"tennis\", 0], [\"tennis\", 0], [\"tennis\", 0], [\"tennis\", 0], [\"tennis\", 0], [\"tennis\", 0], [\"tennis\", 0], [\"tennis\", 0], [\"tennis\", 0], [\"tennis\", 0], [\"tennis\", 0], [\"tennis\", 0], [\"tennis\", 0], [\"tennis\", 0], [\"tennis\", 0], [\"tennis\", 0], [\"tennis\", 0], [\"tennis\", 0], [\"tennis\", 0], [\"tennis\", 0], [\"tennis\", 0], [\"tennis\", 0], [\"tennis\", 0], [\"tennis\", 0], [\"tennis\", 0], [\"tennis\", 0], [\"tennis\", 0], [\"tennis\", 0], [\"tennis\", 0], [\"tennis\", 0], [\"tennis\", 0], [\"tennis\", 0], [\"tennis\", 0], [\"tennis\", 0], [\"tennis\", 0], [\"tennis\", 0], [\"tennis\", 0], [\"tennis\", 0], [\"football\", 0], [\"tennis\", 0], [\"tennis\", 0], [\"tennis\", 0], [\"tennis\", 0], [\"tennis\", 0], [\"tennis\", 0], [\"tennis\", 0], [\"tennis\", 0], [\"tennis\", 0], [\"tennis\", 0], [\"tennis\", 0], [\"tennis\", 0], [\"tennis\", 0], [\"tennis\", 0], [\"tennis\", 0], [\"tennis\", 0], [\"tennis\", 0], [\"tennis\", 0], [\"tennis\", 0]], \"hovertemplate\": \"L:%{customdata[0]}<br>C:%{customdata[1]}\", \"marker\": {\"size\": 5}, \"mode\": \"markers\", \"name\": \"Cluster 0\", \"type\": \"scatter3d\", \"x\": [-0.34391140937805176, -2.704998731613159, -2.271318197250366, -1.9480741024017334, -0.3687283396720886, -3.1449787616729736, -1.745391845703125, -1.4763587713241577, -1.2750194072723389, -2.939831495285034, 0.6552834510803223, -1.147961139678955, -3.324441432952881, -2.1921656131744385, -0.7101123332977295, -2.8549232482910156, 0.7151771783828735, 1.0823795795440674, -2.0378963947296143, -1.6387779712677002, -1.6942685842514038, 1.2894878387451172, -1.444973111152649, -0.227427676320076, -2.099699020385742, -2.0569651126861572, -1.339992642402649, -4.230472564697266, -2.4274230003356934, -2.042433977127075, -2.0394179821014404, -3.6355626583099365, -1.1869144439697266, -2.575873851776123, -2.2940733432769775, -3.2067461013793945, -3.1879851818084717, -2.02266001701355, -0.21169312298297882, -0.227427676320076, -1.9929965734481812, -0.14143003523349762, -4.7411370277404785, -3.681490659713745, -2.624241590499878, -2.8375988006591797, -2.013201951980591, -0.3373259902000427, -4.602823257446289, -1.1622923612594604, -2.859297752380371, -1.343672513961792, -0.15195173025131226, -0.8235844373703003, -1.0576531887054443, -0.7101123332977295, -0.6588912010192871, -2.162457227706909], \"y\": [1.0562814474105835, 1.6545897722244263, 3.1713004112243652, 3.1093666553497314, -0.1653781533241272, 4.256916046142578, 2.7081480026245117, 3.7826573848724365, 2.3200223445892334, 3.207703113555908, 1.0622200965881348, 0.612405002117157, 3.124908685684204, 2.5598201751708984, 1.9243522882461548, 3.959693670272827, 2.183518409729004, -0.941450834274292, 2.0550732612609863, 1.7723437547683716, 1.8666054010391235, -0.8553115725517273, -0.8422553539276123, 0.32313719391822815, 3.423633337020874, 2.8648157119750977, 1.6112016439437866, 4.808080196380615, 3.4412055015563965, 3.1689398288726807, 3.369354248046875, 2.9662439823150635, 1.8774663209915161, 0.7565502524375916, 1.8532845973968506, 2.939161777496338, 4.421803951263428, 1.67908775806427, 1.347641110420227, 0.32313719391822815, 2.2120862007141113, 1.4880313873291016, 4.227709770202637, 0.6233626008033752, 3.1019084453582764, 1.0508877038955688, 2.7036828994750977, 0.3355720341205597, 3.5618736743927, 0.7607864141464233, 4.570923328399658, 3.5735361576080322, 2.28718900680542, 1.3066127300262451, 2.929089069366455, 1.9243522882461548, 1.8739866018295288, -0.1814504861831665], \"z\": [3.732847213745117, 0.7929491996765137, 0.4596998393535614, 1.3360446691513062, 6.069861888885498, 1.005334496498108, 2.311645746231079, 1.5902701616287231, 1.9667174816131592, 5.267148017883301, 2.9460086822509766, 3.3950130939483643, 2.4861114025115967, 1.1090013980865479, 1.0348480939865112, 2.4719860553741455, 4.691800117492676, 5.257033824920654, 2.092428207397461, 0.22630824148654938, 3.3753747940063477, 5.230094909667969, 4.648937225341797, 3.0659708976745605, 1.3620960712432861, 1.2337069511413574, 1.6844537258148193, 0.4277108907699585, 2.298107385635376, 1.4547038078308105, 2.109396457672119, 3.520158052444458, 2.546856641769409, 3.930172920227051, -0.24134553968906403, 5.895296573638916, 1.8117223978042603, 2.4827778339385986, 2.967679977416992, 3.0659708976745605, 1.771445870399475, 2.0976080894470215, 2.827479600906372, 4.310330867767334, 3.301478147506714, 2.1826627254486084, 4.514009952545166, 5.2809271812438965, 4.179954528808594, 2.1596333980560303, 1.4238591194152832, 0.09997124969959259, 2.3326101303100586, 2.4568798542022705, 1.5988991260528564, 1.0348480939865112, 2.6587653160095215, 6.168969631195068]}, {\"customdata\": [[\"athletics\", 1], [\"athletics\", 1], [\"athletics\", 1], [\"athletics\", 1], [\"athletics\", 1], [\"athletics\", 1], [\"athletics\", 1], [\"athletics\", 1], [\"athletics\", 1], [\"athletics\", 1], [\"athletics\", 1], [\"athletics\", 1], [\"athletics\", 1], [\"athletics\", 1], [\"football\", 1], [\"athletics\", 1], [\"athletics\", 1], [\"athletics\", 1], [\"athletics\", 1], [\"football\", 1], [\"athletics\", 1], [\"athletics\", 1], [\"athletics\", 1], [\"athletics\", 1], [\"athletics\", 1], [\"athletics\", 1], [\"athletics\", 1], [\"athletics\", 1], [\"athletics\", 1], [\"athletics\", 1], [\"athletics\", 1], [\"athletics\", 1], [\"athletics\", 1], [\"athletics\", 1], [\"athletics\", 1], [\"athletics\", 1], [\"athletics\", 1], [\"athletics\", 1], [\"athletics\", 1], [\"athletics\", 1], [\"athletics\", 1], [\"athletics\", 1], [\"athletics\", 1]], \"hovertemplate\": \"L:%{customdata[0]}<br>C:%{customdata[1]}\", \"marker\": {\"size\": 5}, \"mode\": \"markers\", \"name\": \"Cluster 1\", \"type\": \"scatter3d\", \"x\": [-2.8488430976867676, -5.107797622680664, -3.5700488090515137, -4.620562553405762, -5.279379844665527, -1.5604379177093506, -2.2103898525238037, -2.67486834526062, -4.792448997497559, -4.483412742614746, -3.3922173976898193, -3.535801410675049, -4.604681015014648, -3.8289947509765625, -1.8990066051483154, -4.657688617706299, -3.790666341781616, -2.479111909866333, -5.087461948394775, -4.72098445892334, -4.111317157745361, -5.578869819641113, -4.4099531173706055, -1.9211195707321167, -1.5716336965560913, -2.3475911617279053, -4.267731189727783, -5.144649982452393, -4.889554500579834, -5.7887654304504395, -4.754147529602051, -6.556257247924805, -4.284539699554443, -3.455716848373413, -5.040322780609131, -5.181987285614014, -1.6462031602859497, -1.9589694738388062, -5.094931125640869, -5.7887654304504395, -5.522326946258545, -4.676011085510254, -2.787210702896118], \"y\": [-1.1697529554367065, 1.9794936180114746, 0.4329250752925873, 1.2875396013259888, 2.244464635848999, -0.8967165946960449, -0.1661052107810974, -0.6289313435554504, 3.2193665504455566, 0.8917229771614075, -1.0472071170806885, 2.5169906616210938, 0.7358213663101196, 0.7802721261978149, -0.3296874761581421, 0.647377610206604, 1.4341903924942017, 0.8525626063346863, 1.5302027463912964, 1.4869585037231445, 1.5575214624404907, 1.3906586170196533, 3.0305089950561523, -0.16675902903079987, -2.0642828941345215, 0.4826838970184326, 2.3799962997436523, 3.4902000427246094, 0.6709602475166321, 1.821735143661499, 2.5842463970184326, 3.7700843811035156, 1.9848270416259766, 0.6399227976799011, 0.8154986500740051, 1.5379307270050049, -0.24976715445518494, 1.730884075164795, 1.7509552240371704, 1.821735143661499, 1.405226230621338, 2.4750778675079346, 0.7216545939445496], \"z\": [4.499332904815674, 2.1442739963531494, 3.959045648574829, 0.6047911047935486, 1.4428962469100952, 0.7403315305709839, 2.5673346519470215, 1.0077738761901855, 0.18384265899658203, 2.1818625926971436, 1.5789642333984375, -1.0567173957824707, 1.3696202039718628, 1.0185664892196655, 2.3630661964416504, 2.7530198097229004, 1.2492059469223022, 0.28092825412750244, 1.815805435180664, 1.494986891746521, 1.8596984148025513, 2.196495771408081, 0.8327006697654724, 0.9942148327827454, 3.8836746215820312, 0.5343926548957825, 0.8966115713119507, 2.5641977787017822, 1.0578275918960571, 0.8884351253509521, -1.5202068090438843, 1.1929450035095215, 2.0888264179229736, 2.4329769611358643, 0.46108412742614746, 0.9769352674484253, -0.2960782051086426, 2.4117281436920166, 1.1631642580032349, 0.8884351253509521, 2.8366644382476807, 0.9824316501617432, 0.5711131691932678]}, {\"customdata\": [[\"football\", 2], [\"rugby\", 2], [\"football\", 2], [\"football\", 2], [\"rugby\", 2], [\"football\", 2], [\"football\", 2], [\"football\", 2], [\"rugby\", 2], [\"football\", 2], [\"football\", 2], [\"football\", 2], [\"football\", 2], [\"football\", 2], [\"football\", 2], [\"football\", 2], [\"rugby\", 2], [\"rugby\", 2], [\"rugby\", 2], [\"rugby\", 2], [\"football\", 2], [\"rugby\", 2], [\"football\", 2], [\"football\", 2], [\"rugby\", 2], [\"rugby\", 2], [\"football\", 2], [\"football\", 2], [\"rugby\", 2], [\"tennis\", 2], [\"football\", 2], [\"rugby\", 2], [\"football\", 2], [\"football\", 2], [\"football\", 2], [\"rugby\", 2], [\"rugby\", 2], [\"rugby\", 2], [\"rugby\", 2], [\"football\", 2], [\"rugby\", 2], [\"football\", 2], [\"football\", 2], [\"rugby\", 2], [\"football\", 2], [\"football\", 2], [\"football\", 2], [\"rugby\", 2], [\"football\", 2], [\"football\", 2], [\"rugby\", 2], [\"football\", 2], [\"football\", 2], [\"football\", 2], [\"football\", 2], [\"football\", 2], [\"rugby\", 2], [\"rugby\", 2], [\"football\", 2], [\"football\", 2], [\"football\", 2], [\"football\", 2], [\"football\", 2], [\"rugby\", 2], [\"football\", 2], [\"rugby\", 2], [\"football\", 2], [\"rugby\", 2], [\"football\", 2], [\"football\", 2], [\"football\", 2], [\"football\", 2], [\"rugby\", 2], [\"rugby\", 2], [\"football\", 2], [\"rugby\", 2], [\"rugby\", 2], [\"football\", 2], [\"rugby\", 2], [\"rugby\", 2], [\"football\", 2], [\"football\", 2], [\"rugby\", 2], [\"football\", 2], [\"football\", 2], [\"rugby\", 2], [\"football\", 2], [\"football\", 2], [\"football\", 2], [\"rugby\", 2], [\"football\", 2], [\"football\", 2], [\"football\", 2], [\"football\", 2], [\"rugby\", 2], [\"football\", 2], [\"football\", 2], [\"rugby\", 2], [\"football\", 2], [\"rugby\", 2], [\"football\", 2], [\"rugby\", 2], [\"rugby\", 2], [\"rugby\", 2], [\"rugby\", 2], [\"football\", 2], [\"rugby\", 2], [\"football\", 2], [\"football\", 2], [\"rugby\", 2], [\"football\", 2], [\"rugby\", 2], [\"rugby\", 2], [\"rugby\", 2], [\"football\", 2], [\"football\", 2], [\"rugby\", 2], [\"football\", 2], [\"rugby\", 2], [\"football\", 2], [\"rugby\", 2], [\"rugby\", 2], [\"rugby\", 2], [\"rugby\", 2], [\"football\", 2], [\"rugby\", 2], [\"football\", 2], [\"football\", 2], [\"rugby\", 2], [\"rugby\", 2], [\"football\", 2], [\"football\", 2], [\"football\", 2], [\"football\", 2], [\"rugby\", 2], [\"football\", 2], [\"rugby\", 2], [\"football\", 2], [\"football\", 2], [\"rugby\", 2], [\"rugby\", 2], [\"rugby\", 2], [\"football\", 2], [\"football\", 2], [\"football\", 2], [\"rugby\", 2], [\"rugby\", 2], [\"football\", 2], [\"football\", 2], [\"football\", 2], [\"football\", 2], [\"rugby\", 2], [\"football\", 2], [\"football\", 2], [\"rugby\", 2], [\"football\", 2]], \"hovertemplate\": \"L:%{customdata[0]}<br>C:%{customdata[1]}\", \"marker\": {\"size\": 5}, \"mode\": \"markers\", \"name\": \"Cluster 2\", \"type\": \"scatter3d\", \"x\": [-1.4137723445892334, 0.11401870846748352, -0.08149370551109314, -1.3123550415039062, 1.1410152912139893, -1.2609829902648926, -2.6967551708221436, -2.461332082748413, -0.8839895725250244, -1.538857102394104, -1.0283350944519043, -1.6803805828094482, -3.4326233863830566, -3.1480355262756348, -1.8547790050506592, -0.5607792735099792, -1.8569704294204712, 0.6497200727462769, 0.9529892802238464, -0.714783787727356, -2.402592182159424, -0.29810643196105957, -1.35856294631958, -0.9420244693756104, 0.7349194288253784, 0.8009251356124878, 0.35781022906303406, -1.1377705335617065, -1.7987946271896362, -0.929807722568512, -1.9244554042816162, -0.46674269437789917, -1.2736479043960571, -1.552343726158142, -2.192762851715088, 0.3856782913208008, 0.8303366303443909, 0.8569434285163879, -0.25378429889678955, -2.3919074535369873, -0.12662780284881592, -2.349384069442749, -1.2388108968734741, -0.728948712348938, -2.9344279766082764, -1.4476418495178223, 0.44323647022247314, 0.8467974066734314, -1.8920395374298096, -0.13655471801757812, -0.1736748218536377, -0.8332271575927734, -1.0986424684524536, -2.0478553771972656, -0.058141134679317474, -1.0106892585754395, 0.638136088848114, -0.1861819177865982, -1.3794496059417725, -0.816647469997406, -1.8061155080795288, -1.3955817222595215, -1.0492324829101562, 0.18176104128360748, -1.0561248064041138, -0.18226581811904907, -3.2934772968292236, -1.0487629175186157, -2.896549940109253, -0.8020261526107788, -3.296452522277832, -1.1280180215835571, 0.6288580894470215, 0.11034855991601944, -1.6070196628570557, 0.7693498730659485, 2.1387240886688232, -0.1823848932981491, -0.023336617276072502, 1.6538822650909424, -0.12765054404735565, -1.9704387187957764, 1.34302818775177, -3.037921905517578, -3.7881662845611572, -1.0542216300964355, -1.8998832702636719, -2.639829397201538, -1.5137430429458618, -1.9888160228729248, -1.8762080669403076, -0.5290053486824036, -0.9852951765060425, -0.27417445182800293, 0.7724809646606445, -1.7930809259414673, -1.7445095777511597, 0.7659621834754944, -0.1395455300807953, 0.3378792405128479, -2.104451894760132, 1.1915771961212158, 0.6893004775047302, -2.1285669803619385, -0.1293814331293106, -1.837214469909668, 1.635826587677002, -2.1221418380737305, -4.226118087768555, -0.8572786450386047, -0.025371065363287926, 0.685368001461029, -2.1520044803619385, 0.15867114067077637, -1.1289561986923218, 0.1844051033258438, -1.157052755355835, -1.431949257850647, 1.081103801727295, -2.8165805339813232, -0.7382927536964417, 0.5137929320335388, -0.36097702383995056, 1.1039886474609375, -2.1959359645843506, 0.47527825832366943, -4.246589183807373, -0.6750079393386841, 0.29419809579849243, -0.5096078515052795, -1.4614931344985962, -1.4343925714492798, -1.5861092805862427, -2.393315315246582, 1.1981850862503052, -1.819082260131836, 2.1144773960113525, -1.8936994075775146, -0.6254212260246277, -1.03775954246521, 0.6870566606521606, -0.04148653522133827, -1.5309902429580688, -0.9293567538261414, -2.8724725246429443, 1.960010290145874, 2.334272623062134, -2.5885531902313232, -2.4536571502685547, -2.4916346073150635, -2.196906328201294, 1.6245695352554321, -0.6791082620620728, -0.6963381171226501, -1.9795546531677246, -1.2422442436218262], \"y\": [-1.7831411361694336, 0.9234362840652466, -1.8541855812072754, -0.2328283190727234, -2.3504786491394043, -3.056093215942383, -1.6520488262176514, -0.6858466267585754, 2.6067540645599365, -0.3797368109226227, -3.0790462493896484, -1.249298095703125, 2.058913469314575, 0.794479250907898, -1.560042142868042, -1.1791876554489136, 2.7998416423797607, 1.4249813556671143, -0.2537558376789093, 1.4841439723968506, 2.9814260005950928, 1.0972527265548706, -2.285731077194214, -0.8924054503440857, 1.2057081460952759, 1.1345067024230957, 0.3237059414386749, -1.1513842344284058, 2.9737675189971924, 0.6161065101623535, -0.9093384146690369, -0.24217484891414642, -3.058861255645752, -1.666944146156311, -1.072004795074463, 0.3624313175678253, 0.06999199837446213, -1.1186665296554565, 0.251208633184433, 0.6457861661911011, 0.9825699925422668, 0.5417331457138062, -0.11512770503759384, 2.376234531402588, -0.9057357907295227, -2.1111745834350586, -3.270040512084961, 2.0183935165405273, -2.9647531509399414, -3.764991521835327, 1.0668048858642578, -1.2365010976791382, -2.9763224124908447, -1.7010351419448853, -1.8041290044784546, -0.11387574672698975, 0.09457527101039886, 1.334715485572815, -3.6425256729125977, -0.8930476307868958, 0.9629384875297546, -1.0575212240219116, -3.2571263313293457, 0.45403972268104553, -2.805704355239868, 0.674538791179657, 0.7442950010299683, 2.541384220123291, -0.5279428958892822, -0.035830307751894, 0.3433772027492523, -2.3232743740081787, 2.1082584857940674, -0.25260308384895325, -0.24373936653137207, -0.03009667806327343, 0.02540590614080429, -1.2720707654953003, 0.16868749260902405, 0.6794171929359436, -2.5497689247131348, -0.20587703585624695, 1.8291507959365845, 0.24603840708732605, -0.802646279335022, 2.3741908073425293, -0.8662050366401672, -0.5154247879981995, -1.0855679512023926, 0.8562809228897095, -1.8887388706207275, -3.263660430908203, -1.9260090589523315, -0.5419869422912598, 0.3167092502117157, -1.4188315868377686, -1.450365424156189, -1.7459336519241333, -1.5393152236938477, 1.0778495073318481, -0.8726286888122559, -0.37422651052474976, 0.9636065363883972, 2.8563361167907715, 0.13075290620326996, 0.971942663192749, 1.5608843564987183, 1.7860398292541504, 0.5591626167297363, 0.5533978343009949, 0.07798291742801666, 0.36322498321533203, 4.340911865234375, 0.5489450693130493, -1.8499202728271484, -1.702444076538086, 1.094555377960205, -1.7078756093978882, -0.40900737047195435, 0.38105878233909607, 1.5264840126037598, 2.8976833820343018, 0.8237839937210083, -0.3618229031562805, -0.06932082772254944, -0.8823970556259155, -1.7994375228881836, -0.7697663307189941, 0.2381034940481186, -0.7530050277709961, 0.19041858613491058, -1.841483473777771, -1.2326093912124634, 0.595533013343811, -0.6560153365135193, -0.6432514786720276, 0.2732635736465454, -2.788374185562134, -1.978868007659912, 3.4637677669525146, -1.3283346891403198, -1.0693374872207642, 0.43403297662734985, 0.9403988718986511, 0.03715404123067856, 0.7452145218849182, -0.21225766837596893, 0.06425843387842178, -1.9380898475646973, 1.1067477464675903, 1.1846965551376343, 0.25845468044281006, -1.3911608457565308, -0.07241763174533844, 4.189196586608887, 0.13094960153102875], \"z\": [-1.8284008502960205, -2.486111879348755, 0.2993997633457184, -0.8937051296234131, -3.0623862743377686, -2.33459210395813, 0.36911582946777344, -0.21429890394210815, -4.5322675704956055, -1.830654263496399, -1.7854280471801758, -4.974956035614014, -3.149219512939453, -3.282871961593628, -0.5104503035545349, -1.4696191549301147, -3.1981210708618164, -4.089906215667725, -1.9715031385421753, -1.3268635272979736, -1.4529739618301392, -3.0866663455963135, -0.1298608034849167, 1.914851188659668, -2.686025381088257, -2.5479660034179688, 0.7377811670303345, -2.0368902683258057, -1.880707025527954, -0.5215678811073303, -3.2261199951171875, -1.747617244720459, -1.4334609508514404, -1.2808176279067993, -0.8565819263458252, -0.5898036956787109, 0.14139287173748016, -1.0332834720611572, -1.5344353914260864, -2.4896297454833984, -2.838499069213867, -2.994927406311035, 0.5138528347015381, -2.859362840652466, -0.12935218214988708, -1.6099321842193604, -2.1450247764587402, -1.1485873460769653, -3.445570468902588, -1.5292766094207764, -0.11526203155517578, -2.674777030944824, -1.84493088722229, -0.4289324879646301, -2.6465373039245605, -2.6686081886291504, -1.0291035175323486, -2.527888774871826, -2.3562307357788086, -1.131623387336731, -2.663459539413452, -2.082977771759033, -1.1592904329299927, -0.8001506924629211, -3.322084903717041, -0.12497696280479431, -3.103569984436035, -5.542742729187012, 1.346483826637268, -0.32665932178497314, -5.52732515335083, -2.0153658390045166, -4.66559362411499, -0.8765672445297241, -1.9339770078659058, -1.0524338483810425, -1.5875799655914307, -2.9567315578460693, -1.3759510517120361, -1.0184004306793213, -2.414111375808716, 1.816062092781067, -2.5361883640289307, -2.6969668865203857, -3.1023364067077637, -3.3457140922546387, -1.3459744453430176, -3.3739168643951416, -2.5618350505828857, -4.275203704833984, -5.385295867919922, -2.482238292694092, -2.201740026473999, -0.8985447287559509, -3.019429922103882, -0.7516405582427979, 0.4904799163341522, -2.7969062328338623, -2.269517660140991, -0.9027644395828247, -4.168026447296143, -2.357727289199829, -4.115810871124268, -5.5333991050720215, -5.428962230682373, -1.934183955192566, -2.402064561843872, -0.21094512939453125, -4.345101356506348, -1.4311859607696533, -1.947726845741272, -1.8050975799560547, -3.290843963623047, -3.855905055999756, 0.326216459274292, -0.2510376274585724, -3.7114808559417725, -1.0823521614074707, -1.459944725036621, -0.3952515721321106, -0.11224500834941864, -4.397773265838623, -3.550020456314087, 0.508065938949585, -0.14209657907485962, -3.1296396255493164, -2.7451014518737793, -1.5897382497787476, -1.7007293701171875, 0.2593395709991455, -4.528618335723877, -1.3253668546676636, -1.5294793844223022, -4.578265190124512, 1.0627264976501465, -1.4243301153182983, -1.9882080554962158, -4.125322341918945, -0.9333125352859497, -4.624356269836426, -2.516488552093506, -2.1401803493499756, -2.583366870880127, -2.316699266433716, -4.465793132781982, 0.42904606461524963, -0.3437575399875641, -0.6187066435813904, -3.368908643722534, -3.395437240600586, -2.010343074798584, -1.182922124862671, -0.9943373799324036, -3.582805871963501, -3.1967928409576416, -0.024455539882183075]}, {\"customdata\": [[\"cricket\", 3], [\"cricket\", 3], [\"cricket\", 3], [\"cricket\", 3], [\"cricket\", 3], [\"cricket\", 3], [\"cricket\", 3], [\"cricket\", 3], [\"cricket\", 3], [\"cricket\", 3], [\"cricket\", 3], [\"cricket\", 3], [\"cricket\", 3], [\"cricket\", 3], [\"cricket\", 3], [\"cricket\", 3], [\"cricket\", 3], [\"cricket\", 3], [\"cricket\", 3], [\"cricket\", 3], [\"cricket\", 3], [\"cricket\", 3], [\"cricket\", 3], [\"cricket\", 3], [\"cricket\", 3], [\"cricket\", 3], [\"cricket\", 3], [\"cricket\", 3], [\"cricket\", 3], [\"cricket\", 3], [\"cricket\", 3], [\"cricket\", 3], [\"cricket\", 3], [\"cricket\", 3], [\"cricket\", 3], [\"cricket\", 3], [\"cricket\", 3], [\"cricket\", 3], [\"cricket\", 3], [\"cricket\", 3], [\"cricket\", 3], [\"cricket\", 3], [\"cricket\", 3], [\"cricket\", 3], [\"cricket\", 3], [\"cricket\", 3], [\"cricket\", 3], [\"cricket\", 3], [\"cricket\", 3], [\"cricket\", 3], [\"cricket\", 3], [\"rugby\", 3], [\"cricket\", 3], [\"cricket\", 3], [\"cricket\", 3], [\"cricket\", 3], [\"cricket\", 3], [\"cricket\", 3], [\"cricket\", 3], [\"cricket\", 3], [\"cricket\", 3], [\"cricket\", 3], [\"cricket\", 3], [\"cricket\", 3], [\"cricket\", 3], [\"cricket\", 3], [\"cricket\", 3], [\"cricket\", 3], [\"cricket\", 3], [\"cricket\", 3], [\"cricket\", 3], [\"cricket\", 3], [\"cricket\", 3], [\"cricket\", 3]], \"hovertemplate\": \"L:%{customdata[0]}<br>C:%{customdata[1]}\", \"marker\": {\"size\": 5}, \"mode\": \"markers\", \"name\": \"Cluster 3\", \"type\": \"scatter3d\", \"x\": [6.299182415008545, 3.619504451751709, 3.428206205368042, 4.469510078430176, 2.6659138202667236, 4.805217742919922, 4.106167793273926, 3.777747392654419, 5.854246616363525, 4.179895877838135, 4.150868892669678, 5.656269073486328, 3.3229305744171143, 4.9246602058410645, 5.182631969451904, 6.322653293609619, 3.835493564605713, 3.7491440773010254, 0.6118454933166504, 7.217602252960205, 4.454788684844971, 6.34625768661499, 2.9074134826660156, 6.360443592071533, 4.233290195465088, 3.984776020050049, 3.7276575565338135, 4.593465328216553, 3.3015849590301514, 6.119341850280762, 5.402627944946289, 1.7934448719024658, 3.0294392108917236, 4.2560715675354, 4.562145233154297, 5.36087703704834, 4.818866729736328, 5.762559413909912, 2.884431838989258, 5.573529243469238, 4.595345973968506, 3.708994150161743, 3.3892204761505127, 4.303006649017334, 5.754428386688232, 2.674329996109009, 5.410975933074951, 3.0809643268585205, 4.703017234802246, 3.8609516620635986, 2.434697151184082, 1.715753436088562, 6.292510032653809, 4.578609466552734, 3.3839197158813477, 4.959825038909912, 3.1483747959136963, 3.1783528327941895, 3.7186391353607178, 5.121065616607666, 5.223438739776611, 6.430719375610352, 6.12040376663208, 1.8683321475982666, 2.8948557376861572, 5.9668660163879395, 3.069033622741699, 1.4451102018356323, 4.430027008056641, 2.608624219894409, 5.8847222328186035, 3.58695650100708, 5.1860175132751465, 5.000423908233643], \"y\": [3.2635819911956787, 1.2111388444900513, 4.901966571807861, 2.1992242336273193, 4.243913650512695, 4.127755641937256, 3.8348240852355957, 3.1228702068328857, -1.3506921529769897, 2.615370750427246, 5.834280967712402, 4.029599666595459, -1.0009196996688843, -0.045639876276254654, 1.0436383485794067, 3.393312454223633, 1.4204177856445312, 3.3790290355682373, 3.6406469345092773, 2.292083263397217, 0.11500810086727142, 0.6071653962135315, 2.469435691833496, 3.0472707748413086, 5.343344688415527, 5.079188823699951, 4.686997413635254, -1.7036980390548706, 5.327575206756592, 0.19224248826503754, 2.5179073810577393, 3.979435443878174, 1.4588935375213623, 3.357266426086426, 2.6288299560546875, 4.08171272277832, -0.5413278937339783, 1.2526822090148926, 1.043628215789795, 1.6303144693374634, 5.952032089233398, 4.794962406158447, 3.5169620513916016, 3.4702253341674805, 2.94325852394104, 1.876564860343933, 2.0539634227752686, 4.503451824188232, 4.347315788269043, 0.33888712525367737, 2.2250194549560547, 1.068170428276062, 3.70574688911438, 1.7805869579315186, 1.3761930465698242, 5.897327423095703, 0.8571926951408386, -1.1542353630065918, 0.6828309893608093, 2.5036239624023438, -1.1809139251708984, 2.6448562145233154, 3.477051019668579, 2.755814790725708, 5.027493000030518, 0.34417814016342163, 3.6689298152923584, 1.7876043319702148, 2.3801307678222656, 2.134683847427368, 0.3653963804244995, 2.4316680431365967, 4.820907115936279, 1.6867552995681763], \"z\": [-0.07392542064189911, 1.40803861618042, -1.4899197816848755, 0.14427495002746582, -2.8211944103240967, -0.2927165925502777, -1.0452461242675781, -0.8951905965805054, 0.18669436872005463, 0.9344100952148438, 0.18789386749267578, -0.10377519577741623, 0.33819323778152466, 0.13676099479198456, 1.4188101291656494, 0.7762311100959778, 0.3374498188495636, -1.8124854564666748, -2.0128445625305176, 1.746172308921814, 2.030686616897583, 1.7266960144042969, -2.8502516746520996, -0.5506467223167419, 1.64326810836792, -2.2504467964172363, -0.8379037976264954, 1.508592128753662, -1.3928850889205933, 1.3037974834442139, -0.4038601219654083, 0.6130739450454712, -0.3394416570663452, 0.6343190670013428, 0.9994298815727234, -0.9651347398757935, 1.5860134363174438, 1.337881326675415, 2.3117308616638184, -2.2810657024383545, -0.6625369787216187, -1.3501118421554565, -1.5305918455123901, 0.7679635286331177, 0.4103180468082428, -0.2754881680011749, 1.3193824291229248, -1.10552978515625, 0.21352866291999817, 3.5053608417510986, -0.02486291155219078, -0.13229334354400635, 0.5357811450958252, 1.2643986940383911, 1.2168306112289429, 0.23739472031593323, 1.5193402767181396, 1.5301791429519653, 0.5193191170692444, 0.6065022945404053, 2.2401018142700195, -0.12494619190692902, -0.17922261357307434, -1.7752413749694824, -0.47048303484916687, 2.4174952507019043, -2.8226215839385986, 1.1498249769210815, 1.309930443763733, 0.7448307871818542, 2.33442759513855, 1.6066954135894775, 0.7535833716392517, 0.3008389174938202]}, {\"customdata\": [[\"rugby\", 4], [\"football\", 4], [\"football\", 4], [\"football\", 4], [\"football\", 4], [\"football\", 4], [\"football\", 4], [\"football\", 4], [\"football\", 4], [\"athletics\", 4], [\"football\", 4], [\"football\", 4], [\"rugby\", 4], [\"football\", 4], [\"football\", 4], [\"football\", 4], [\"rugby\", 4], [\"football\", 4], [\"football\", 4], [\"football\", 4], [\"athletics\", 4], [\"football\", 4], [\"football\", 4], [\"football\", 4], [\"rugby\", 4], [\"rugby\", 4], [\"football\", 4], [\"athletics\", 4], [\"football\", 4], [\"rugby\", 4], [\"rugby\", 4], [\"athletics\", 4], [\"football\", 4], [\"athletics\", 4], [\"football\", 4], [\"rugby\", 4], [\"athletics\", 4], [\"football\", 4], [\"athletics\", 4], [\"football\", 4], [\"rugby\", 4], [\"football\", 4], [\"football\", 4], [\"athletics\", 4], [\"athletics\", 4], [\"football\", 4], [\"football\", 4], [\"football\", 4], [\"athletics\", 4], [\"rugby\", 4], [\"football\", 4], [\"rugby\", 4], [\"athletics\", 4], [\"football\", 4], [\"football\", 4], [\"football\", 4], [\"rugby\", 4], [\"tennis\", 4], [\"athletics\", 4], [\"athletics\", 4], [\"football\", 4], [\"rugby\", 4], [\"football\", 4], [\"football\", 4], [\"football\", 4], [\"athletics\", 4], [\"football\", 4], [\"football\", 4], [\"rugby\", 4], [\"athletics\", 4], [\"football\", 4], [\"rugby\", 4], [\"football\", 4], [\"football\", 4], [\"athletics\", 4], [\"athletics\", 4], [\"football\", 4], [\"football\", 4], [\"football\", 4], [\"rugby\", 4], [\"football\", 4], [\"athletics\", 4], [\"football\", 4], [\"rugby\", 4], [\"football\", 4], [\"rugby\", 4], [\"football\", 4], [\"football\", 4], [\"athletics\", 4], [\"football\", 4], [\"tennis\", 4], [\"football\", 4], [\"rugby\", 4], [\"football\", 4], [\"rugby\", 4], [\"football\", 4], [\"football\", 4], [\"football\", 4], [\"rugby\", 4], [\"rugby\", 4], [\"football\", 4], [\"football\", 4], [\"football\", 4], [\"football\", 4], [\"football\", 4], [\"athletics\", 4], [\"football\", 4], [\"football\", 4], [\"cricket\", 4], [\"rugby\", 4], [\"football\", 4]], \"hovertemplate\": \"L:%{customdata[0]}<br>C:%{customdata[1]}\", \"marker\": {\"size\": 5}, \"mode\": \"markers\", \"name\": \"Cluster 4\", \"type\": \"scatter3d\", \"x\": [1.8790513277053833, 1.1638033390045166, -0.007405457086861134, 0.8649972081184387, 2.2743875980377197, 1.1197013854980469, 1.5421133041381836, -0.8728678226470947, 1.65651273727417, 0.6944745779037476, 0.40301957726478577, 1.3915369510650635, 1.4725810289382935, -1.2617276906967163, 1.0076954364776611, 0.9581769704818726, 3.0828795433044434, 0.6650515198707581, 0.3096866011619568, 2.5178961753845215, 0.44977501034736633, -0.2878572344779968, -0.07479552179574966, 1.4608296155929565, 1.4611819982528687, 2.8461344242095947, -0.03121122345328331, 0.0030914621893316507, -0.2406095713376999, 2.550494909286499, 1.7370699644088745, 0.33637505769729614, -1.2763538360595703, 0.6026551127433777, -0.42993322014808655, 1.8485428094863892, 1.1239925622940063, 1.4608296155929565, -1.2075073719024658, 1.6506073474884033, 1.62611722946167, -0.06727711856365204, -2.1588714122772217, 0.498650461435318, 0.8959090113639832, 0.6896735429763794, 0.8670598268508911, -0.20727641880512238, 1.0049781799316406, 2.2418456077575684, 1.8181121349334717, 1.1117932796478271, 0.5696786046028137, 0.8964081406593323, -0.3836497664451599, -0.4210778772830963, 2.0824196338653564, 1.3581854104995728, 0.5005618929862976, 0.12295033782720566, 1.4113227128982544, 2.154317617416382, -0.42352694272994995, 0.35462892055511475, 1.4540752172470093, 0.9555661678314209, -0.6654936075210571, 0.2261045128107071, 1.8707923889160156, 0.5429437756538391, -0.067422054708004, 0.6681039929389954, -0.08101371675729752, 1.843133568763733, -0.8311784863471985, 0.45144006609916687, 0.04387608915567398, -1.62787926197052, -0.7649375200271606, 2.3375437259674072, -0.5683019161224365, 0.11337187141180038, 1.491595983505249, 1.7399133443832397, 1.4761639833450317, 3.4050638675689697, 2.4741084575653076, 0.14526121318340302, 1.2323193550109863, -0.5660775899887085, 0.9875431060791016, 2.0205271244049072, 2.0007848739624023, 1.5290982723236084, 3.788696527481079, 1.4540752172470093, 0.0735548660159111, 0.6747574210166931, 1.0197097063064575, 1.9368919134140015, 0.8377749919891357, 0.06777863949537277, -0.2591070830821991, -0.8056038618087769, 0.47108194231987, 1.4490522146224976, -0.8056038618087769, 1.5358160734176636, 3.1201939582824707, 1.3963197469711304, -0.3528885841369629], \"y\": [-1.497982144355774, -4.138549327850342, -2.3771140575408936, -2.517650842666626, -4.6728620529174805, -4.168433666229248, -2.492781639099121, -2.9975931644439697, -4.343006134033203, -1.7511858940124512, -2.1112782955169678, -3.6805598735809326, -1.585780382156372, -2.483156204223633, -5.507142543792725, -3.1440200805664062, -1.3176805973052979, -3.5246496200561523, -5.859208583831787, -5.298134803771973, -1.1678581237792969, -3.1597671508789062, -3.5346806049346924, -4.739816665649414, -1.977492094039917, -0.17300750315189362, -3.437781810760498, -3.0713441371917725, -2.7276673316955566, -0.8169329166412354, -0.9343226552009583, -2.6956803798675537, -1.619001865386963, -2.630747079849243, -2.7755064964294434, -2.777935743331909, -2.810999870300293, -4.739816665649414, -1.4953655004501343, -3.95385479927063, -1.9178239107131958, -0.7753512263298035, -2.967994213104248, -2.6253387928009033, -3.5777759552001953, -4.498122215270996, -3.0929677486419678, -2.2937161922454834, -3.473844528198242, -1.7973071336746216, -4.641433238983154, -2.289156436920166, -2.0522005558013916, -3.1439008712768555, -3.027322292327881, -3.914076089859009, -1.619073748588562, -1.9549925327301025, -2.803586483001709, -1.5031309127807617, -4.977895259857178, -1.4583796262741089, -0.7975894212722778, -2.519932746887207, -4.961218357086182, -3.970188856124878, -2.3908045291900635, -2.6206812858581543, -1.9295469522476196, -0.1990293711423874, -2.956815242767334, -1.1545323133468628, -3.896929979324341, -4.8425750732421875, -2.5461909770965576, -0.6029554605484009, -5.334672451019287, -2.2514841556549072, -3.2207040786743164, -2.370494842529297, -1.7416480779647827, -2.63553524017334, -4.910118103027344, -1.1485563516616821, -4.430794715881348, -2.623899221420288, -5.825623989105225, -3.097156286239624, -3.110795736312866, -3.2014551162719727, -0.30999955534935, -4.300297737121582, -2.1189212799072266, -4.228549003601074, -3.115818977355957, -4.961218357086182, -3.8495194911956787, -2.996765375137329, -1.873166799545288, -2.578190565109253, -3.496649742126465, -3.3159964084625244, -4.064462184906006, -2.478943347930908, -3.606022834777832, -3.364060878753662, -2.478943347930908, -3.998192548751831, -2.102982521057129, -3.5421953201293945, -2.4579720497131348], \"z\": [-0.39971646666526794, -1.8711397647857666, -0.1600092500448227, -1.450637936592102, 0.586942732334137, 1.0251847505569458, -1.411603331565857, -1.4691742658615112, 0.4486849904060364, 2.755411148071289, -2.063502311706543, -0.07124627381563187, -0.5656828284263611, 1.1647320985794067, -0.560988187789917, -1.3957041501998901, 0.8855292797088623, -1.6312836408615112, -0.27771538496017456, 1.5246433019638062, -0.10699601471424103, -2.171773672103882, 1.5178557634353638, 0.4770939350128174, 1.1378477811813354, -1.673338532447815, 1.2856173515319824, 4.290449142456055, 0.7993761897087097, -1.7117621898651123, -1.17555832862854, 3.7252585887908936, 1.4745824337005615, 5.282078742980957, 0.48319604992866516, -1.7850112915039062, 2.7352418899536133, 0.4770939350128174, 1.3696998357772827, -0.5280996561050415, 0.6258589029312134, 2.708240509033203, 0.21908527612686157, 4.175705432891846, 3.545933246612549, 0.7765882015228271, -1.1788057088851929, -0.8525436520576477, 3.9110543727874756, 1.7563260793685913, 0.6517663598060608, -3.2759013175964355, 3.8440592288970947, 2.229740619659424, 2.9216301441192627, -0.7845752239227295, 0.6250544786453247, 4.9862494468688965, 2.242922067642212, 1.3864476680755615, 0.33767542243003845, -0.1789967268705368, 1.235709547996521, 2.113330602645874, -0.47114551067352295, 4.20992374420166, -0.8686838746070862, -1.2760076522827148, -0.8282224535942078, 3.370396375656128, 1.2596296072006226, 0.4355597198009491, 0.4176361858844757, 2.350168466567993, 2.7917697429656982, 1.342118501663208, 0.4913116693496704, 1.0435172319412231, 0.6046910881996155, 1.4289908409118652, 0.8885259032249451, 5.455946922302246, 1.1783933639526367, -1.2860007286071777, -0.4087662696838379, -0.6452975273132324, 2.470435380935669, -0.7151256799697876, 5.829062461853027, 0.6630982160568237, 3.2260119915008545, 1.3547929525375366, 1.2384134531021118, 0.7322005033493042, -0.5375880002975464, -0.47114551067352295, -0.6632165908813477, 1.4388338327407837, -1.009431004524231, 0.7268084287643433, 0.592484176158905, -3.0012080669403076, 0.2437707781791687, -0.5973308086395264, 1.0639536380767822, 3.5655455589294434, -0.5973308086395264, -0.9078172445297241, -0.7799903154373169, -0.7385517954826355, -1.3769980669021606]}],\n",
              "                        {\"legend\": {\"x\": 0.01, \"y\": 0.99}, \"margin\": {\"b\": 0, \"l\": 0, \"r\": 0, \"t\": 0}, \"scene\": {\"xaxis\": {\"title\": {\"text\": \"X\"}}, \"yaxis\": {\"title\": {\"text\": \"Y\"}}, \"zaxis\": {\"title\": {\"text\": \"Z\"}}}, \"showlegend\": true, \"template\": {\"data\": {\"bar\": [{\"error_x\": {\"color\": \"#2a3f5f\"}, \"error_y\": {\"color\": \"#2a3f5f\"}, \"marker\": {\"line\": {\"color\": \"#E5ECF6\", \"width\": 0.5}}, \"type\": \"bar\"}], \"barpolar\": [{\"marker\": {\"line\": {\"color\": \"#E5ECF6\", \"width\": 0.5}}, \"type\": \"barpolar\"}], \"carpet\": [{\"aaxis\": {\"endlinecolor\": \"#2a3f5f\", \"gridcolor\": \"white\", \"linecolor\": \"white\", \"minorgridcolor\": \"white\", \"startlinecolor\": \"#2a3f5f\"}, \"baxis\": {\"endlinecolor\": \"#2a3f5f\", \"gridcolor\": \"white\", \"linecolor\": \"white\", \"minorgridcolor\": \"white\", \"startlinecolor\": \"#2a3f5f\"}, \"type\": \"carpet\"}], \"choropleth\": [{\"colorbar\": {\"outlinewidth\": 0, \"ticks\": \"\"}, \"type\": \"choropleth\"}], \"contour\": [{\"colorbar\": {\"outlinewidth\": 0, \"ticks\": \"\"}, \"colorscale\": [[0.0, \"#0d0887\"], [0.1111111111111111, \"#46039f\"], [0.2222222222222222, \"#7201a8\"], [0.3333333333333333, \"#9c179e\"], [0.4444444444444444, \"#bd3786\"], [0.5555555555555556, \"#d8576b\"], [0.6666666666666666, \"#ed7953\"], [0.7777777777777778, \"#fb9f3a\"], [0.8888888888888888, \"#fdca26\"], [1.0, \"#f0f921\"]], \"type\": \"contour\"}], \"contourcarpet\": [{\"colorbar\": {\"outlinewidth\": 0, \"ticks\": \"\"}, \"type\": \"contourcarpet\"}], \"heatmap\": [{\"colorbar\": {\"outlinewidth\": 0, \"ticks\": \"\"}, \"colorscale\": [[0.0, \"#0d0887\"], [0.1111111111111111, \"#46039f\"], [0.2222222222222222, \"#7201a8\"], [0.3333333333333333, \"#9c179e\"], [0.4444444444444444, \"#bd3786\"], [0.5555555555555556, \"#d8576b\"], [0.6666666666666666, \"#ed7953\"], [0.7777777777777778, \"#fb9f3a\"], [0.8888888888888888, \"#fdca26\"], [1.0, \"#f0f921\"]], \"type\": \"heatmap\"}], \"heatmapgl\": [{\"colorbar\": {\"outlinewidth\": 0, \"ticks\": \"\"}, \"colorscale\": [[0.0, \"#0d0887\"], [0.1111111111111111, \"#46039f\"], [0.2222222222222222, \"#7201a8\"], [0.3333333333333333, \"#9c179e\"], [0.4444444444444444, \"#bd3786\"], [0.5555555555555556, \"#d8576b\"], [0.6666666666666666, \"#ed7953\"], [0.7777777777777778, \"#fb9f3a\"], [0.8888888888888888, \"#fdca26\"], [1.0, \"#f0f921\"]], \"type\": \"heatmapgl\"}], \"histogram\": [{\"marker\": {\"colorbar\": {\"outlinewidth\": 0, \"ticks\": \"\"}}, \"type\": \"histogram\"}], \"histogram2d\": [{\"colorbar\": {\"outlinewidth\": 0, \"ticks\": \"\"}, \"colorscale\": [[0.0, \"#0d0887\"], [0.1111111111111111, \"#46039f\"], [0.2222222222222222, \"#7201a8\"], [0.3333333333333333, \"#9c179e\"], [0.4444444444444444, \"#bd3786\"], [0.5555555555555556, \"#d8576b\"], [0.6666666666666666, \"#ed7953\"], [0.7777777777777778, \"#fb9f3a\"], [0.8888888888888888, \"#fdca26\"], [1.0, \"#f0f921\"]], \"type\": \"histogram2d\"}], \"histogram2dcontour\": [{\"colorbar\": {\"outlinewidth\": 0, \"ticks\": \"\"}, \"colorscale\": [[0.0, \"#0d0887\"], [0.1111111111111111, \"#46039f\"], [0.2222222222222222, \"#7201a8\"], [0.3333333333333333, \"#9c179e\"], [0.4444444444444444, \"#bd3786\"], [0.5555555555555556, \"#d8576b\"], [0.6666666666666666, \"#ed7953\"], [0.7777777777777778, \"#fb9f3a\"], [0.8888888888888888, \"#fdca26\"], [1.0, \"#f0f921\"]], \"type\": \"histogram2dcontour\"}], \"mesh3d\": [{\"colorbar\": {\"outlinewidth\": 0, \"ticks\": \"\"}, \"type\": \"mesh3d\"}], \"parcoords\": [{\"line\": {\"colorbar\": {\"outlinewidth\": 0, \"ticks\": \"\"}}, \"type\": \"parcoords\"}], \"pie\": [{\"automargin\": true, \"type\": \"pie\"}], \"scatter\": [{\"marker\": {\"colorbar\": {\"outlinewidth\": 0, \"ticks\": \"\"}}, \"type\": \"scatter\"}], \"scatter3d\": [{\"line\": {\"colorbar\": {\"outlinewidth\": 0, \"ticks\": \"\"}}, \"marker\": {\"colorbar\": {\"outlinewidth\": 0, \"ticks\": \"\"}}, \"type\": \"scatter3d\"}], \"scattercarpet\": [{\"marker\": {\"colorbar\": {\"outlinewidth\": 0, \"ticks\": \"\"}}, \"type\": \"scattercarpet\"}], \"scattergeo\": [{\"marker\": {\"colorbar\": {\"outlinewidth\": 0, \"ticks\": \"\"}}, \"type\": \"scattergeo\"}], \"scattergl\": [{\"marker\": {\"colorbar\": {\"outlinewidth\": 0, \"ticks\": \"\"}}, \"type\": \"scattergl\"}], \"scattermapbox\": [{\"marker\": {\"colorbar\": {\"outlinewidth\": 0, \"ticks\": \"\"}}, \"type\": \"scattermapbox\"}], \"scatterpolar\": [{\"marker\": {\"colorbar\": {\"outlinewidth\": 0, \"ticks\": \"\"}}, \"type\": \"scatterpolar\"}], \"scatterpolargl\": [{\"marker\": {\"colorbar\": {\"outlinewidth\": 0, \"ticks\": \"\"}}, \"type\": \"scatterpolargl\"}], \"scatterternary\": [{\"marker\": {\"colorbar\": {\"outlinewidth\": 0, \"ticks\": \"\"}}, \"type\": \"scatterternary\"}], \"surface\": [{\"colorbar\": {\"outlinewidth\": 0, \"ticks\": \"\"}, \"colorscale\": [[0.0, \"#0d0887\"], [0.1111111111111111, \"#46039f\"], [0.2222222222222222, \"#7201a8\"], [0.3333333333333333, \"#9c179e\"], [0.4444444444444444, \"#bd3786\"], [0.5555555555555556, \"#d8576b\"], [0.6666666666666666, \"#ed7953\"], [0.7777777777777778, \"#fb9f3a\"], [0.8888888888888888, \"#fdca26\"], [1.0, \"#f0f921\"]], \"type\": \"surface\"}], \"table\": [{\"cells\": {\"fill\": {\"color\": \"#EBF0F8\"}, \"line\": {\"color\": \"white\"}}, \"header\": {\"fill\": {\"color\": \"#C8D4E3\"}, \"line\": {\"color\": \"white\"}}, \"type\": \"table\"}]}, \"layout\": {\"annotationdefaults\": {\"arrowcolor\": \"#2a3f5f\", \"arrowhead\": 0, \"arrowwidth\": 1}, \"coloraxis\": {\"colorbar\": {\"outlinewidth\": 0, \"ticks\": \"\"}}, \"colorscale\": {\"diverging\": [[0, \"#8e0152\"], [0.1, \"#c51b7d\"], [0.2, \"#de77ae\"], [0.3, \"#f1b6da\"], [0.4, \"#fde0ef\"], [0.5, \"#f7f7f7\"], [0.6, \"#e6f5d0\"], [0.7, \"#b8e186\"], [0.8, \"#7fbc41\"], [0.9, \"#4d9221\"], [1, \"#276419\"]], \"sequential\": [[0.0, \"#0d0887\"], [0.1111111111111111, \"#46039f\"], [0.2222222222222222, \"#7201a8\"], [0.3333333333333333, \"#9c179e\"], [0.4444444444444444, \"#bd3786\"], [0.5555555555555556, \"#d8576b\"], [0.6666666666666666, \"#ed7953\"], [0.7777777777777778, \"#fb9f3a\"], [0.8888888888888888, \"#fdca26\"], [1.0, \"#f0f921\"]], \"sequentialminus\": [[0.0, \"#0d0887\"], [0.1111111111111111, \"#46039f\"], [0.2222222222222222, \"#7201a8\"], [0.3333333333333333, \"#9c179e\"], [0.4444444444444444, \"#bd3786\"], [0.5555555555555556, \"#d8576b\"], [0.6666666666666666, \"#ed7953\"], [0.7777777777777778, \"#fb9f3a\"], [0.8888888888888888, \"#fdca26\"], [1.0, \"#f0f921\"]]}, \"colorway\": [\"#636efa\", \"#EF553B\", \"#00cc96\", \"#ab63fa\", \"#FFA15A\", \"#19d3f3\", \"#FF6692\", \"#B6E880\", \"#FF97FF\", \"#FECB52\"], \"font\": {\"color\": \"#2a3f5f\"}, \"geo\": {\"bgcolor\": \"white\", \"lakecolor\": \"white\", \"landcolor\": \"#E5ECF6\", \"showlakes\": true, \"showland\": true, \"subunitcolor\": \"white\"}, \"hoverlabel\": {\"align\": \"left\"}, \"hovermode\": \"closest\", \"mapbox\": {\"style\": \"light\"}, \"paper_bgcolor\": \"white\", \"plot_bgcolor\": \"#E5ECF6\", \"polar\": {\"angularaxis\": {\"gridcolor\": \"white\", \"linecolor\": \"white\", \"ticks\": \"\"}, \"bgcolor\": \"#E5ECF6\", \"radialaxis\": {\"gridcolor\": \"white\", \"linecolor\": \"white\", \"ticks\": \"\"}}, \"scene\": {\"xaxis\": {\"backgroundcolor\": \"#E5ECF6\", \"gridcolor\": \"white\", \"gridwidth\": 2, \"linecolor\": \"white\", \"showbackground\": true, \"ticks\": \"\", \"zerolinecolor\": \"white\"}, \"yaxis\": {\"backgroundcolor\": \"#E5ECF6\", \"gridcolor\": \"white\", \"gridwidth\": 2, \"linecolor\": \"white\", \"showbackground\": true, \"ticks\": \"\", \"zerolinecolor\": \"white\"}, \"zaxis\": {\"backgroundcolor\": \"#E5ECF6\", \"gridcolor\": \"white\", \"gridwidth\": 2, \"linecolor\": \"white\", \"showbackground\": true, \"ticks\": \"\", \"zerolinecolor\": \"white\"}}, \"shapedefaults\": {\"line\": {\"color\": \"#2a3f5f\"}}, \"ternary\": {\"aaxis\": {\"gridcolor\": \"white\", \"linecolor\": \"white\", \"ticks\": \"\"}, \"baxis\": {\"gridcolor\": \"white\", \"linecolor\": \"white\", \"ticks\": \"\"}, \"bgcolor\": \"#E5ECF6\", \"caxis\": {\"gridcolor\": \"white\", \"linecolor\": \"white\", \"ticks\": \"\"}}, \"title\": {\"x\": 0.05}, \"xaxis\": {\"automargin\": true, \"gridcolor\": \"white\", \"linecolor\": \"white\", \"ticks\": \"\", \"title\": {\"standoff\": 15}, \"zerolinecolor\": \"white\", \"zerolinewidth\": 2}, \"yaxis\": {\"automargin\": true, \"gridcolor\": \"white\", \"linecolor\": \"white\", \"ticks\": \"\", \"title\": {\"standoff\": 15}, \"zerolinecolor\": \"white\", \"zerolinewidth\": 2}}}},\n",
              "                        {\"responsive\": true}\n",
              "                    ).then(function(){\n",
              "                            \n",
              "var gd = document.getElementById('3d7219f3-7989-4223-b4f4-6ea9c67dc41f');\n",
              "var x = new MutationObserver(function (mutations, observer) {{\n",
              "        var display = window.getComputedStyle(gd).display;\n",
              "        if (!display || display === 'none') {{\n",
              "            console.log([gd, 'removed!']);\n",
              "            Plotly.purge(gd);\n",
              "            observer.disconnect();\n",
              "        }}\n",
              "}});\n",
              "\n",
              "// Listen for the removal of the full notebook cells\n",
              "var notebookContainer = gd.closest('#notebook-container');\n",
              "if (notebookContainer) {{\n",
              "    x.observe(notebookContainer, {childList: true});\n",
              "}}\n",
              "\n",
              "// Listen for the clearing of the current output cell\n",
              "var outputEl = gd.closest('.output');\n",
              "if (outputEl) {{\n",
              "    x.observe(outputEl, {childList: true});\n",
              "}}\n",
              "\n",
              "                        })\n",
              "                };\n",
              "                \n",
              "            </script>\n",
              "        </div>\n",
              "</body>\n",
              "</html>"
            ]
          },
          "metadata": {
            "tags": []
          }
        }
      ]
    },
    {
      "cell_type": "code",
      "metadata": {
        "id": "ONWlCAsOSpqC",
        "outputId": "9cd7360c-d665-4eec-ebf0-ecc7f9eb677f",
        "colab": {
          "base_uri": "https://localhost:8080/",
          "height": 641
        }
      },
      "source": [
        "grp_obj = clustered_df.groupby(by='cluster')#.get_group(1).value_counts('orig_label')\n",
        "for i in range(5):\n",
        "    print(f\"Cluster {i}:\")\n",
        "    print(grp_obj.get_group(i).value_counts('orig_label'))\n",
        "    print()"
      ],
      "execution_count": 122,
      "outputs": [
        {
          "output_type": "stream",
          "text": [
            "Cluster 0:\n",
            "orig_label\n",
            "tennis      57\n",
            "football     1\n",
            "dtype: int64\n",
            "\n",
            "Cluster 1:\n",
            "orig_label\n",
            "athletics    41\n",
            "football      2\n",
            "dtype: int64\n",
            "\n",
            "Cluster 2:\n",
            "orig_label\n",
            "football    91\n",
            "rugby       64\n",
            "tennis       1\n",
            "dtype: int64\n",
            "\n",
            "Cluster 3:\n",
            "orig_label\n",
            "cricket    73\n",
            "rugby       1\n",
            "dtype: int64\n",
            "\n",
            "Cluster 4:\n",
            "orig_label\n",
            "football     65\n",
            "rugby        23\n",
            "athletics    20\n",
            "tennis        2\n",
            "cricket       1\n",
            "dtype: int64\n",
            "\n"
          ],
          "name": "stdout"
        }
      ]
    },
    {
      "cell_type": "markdown",
      "metadata": {
        "id": "3tI35DL8RT2I"
      },
      "source": [
        "So, based on the datapoints from clustering, it looks like clusters are as folows:\n",
        "* C0 - Tennis\n",
        "* C1 - Athletics\n",
        "* C2 - Football\n",
        "* C3 - Cricket\n",
        "* C4 - Rugby\n",
        "\n",
        "Also verify from clustered_df."
      ]
    },
    {
      "cell_type": "markdown",
      "metadata": {
        "id": "Vf0fJPedL1fg"
      },
      "source": [
        "# Label Propagation\n",
        "Now that we are satisfied with our clusters, we can use the trained model to classify remaining datapoints."
      ]
    },
    {
      "cell_type": "markdown",
      "metadata": {
        "id": "vvJGHh3HN-ls"
      },
      "source": [
        "## preparing test data for prediction"
      ]
    },
    {
      "cell_type": "code",
      "metadata": {
        "id": "NJ2KBPCFKVte"
      },
      "source": [
        "# convert test data to BERT Embeddings\n",
        "test_sentence_embeddings = model.encode(X_test.values)"
      ],
      "execution_count": 123,
      "outputs": []
    },
    {
      "cell_type": "code",
      "metadata": {
        "id": "4Z8k_0udOx2D"
      },
      "source": [
        "# predict labels\n",
        "y_preds = clustering_model.predict(test_sentence_embeddings)"
      ],
      "execution_count": 124,
      "outputs": []
    },
    {
      "cell_type": "code",
      "metadata": {
        "id": "7Eq0XVJlPZcD"
      },
      "source": [
        "# reducing dimensions for visualisation\n",
        "X3D_pca_test = pca.transform(test_sentence_embeddings)"
      ],
      "execution_count": 125,
      "outputs": []
    },
    {
      "cell_type": "code",
      "metadata": {
        "id": "qoKYMjIePCjc",
        "outputId": "50f42eac-2fd3-4dc5-ef80-a7646930faac",
        "colab": {
          "base_uri": "https://localhost:8080/",
          "height": 206
        }
      },
      "source": [
        "# making df of predicted results\n",
        "# lets check\n",
        "test_clustered_df = pd.DataFrame({\n",
        "    'sentence' : X_test.values,\n",
        "    'cluster' : y_preds,\n",
        "    'orig_label' : y_test.values, \n",
        "    'dim_X' : X3D_pca_test[:, 0],\n",
        "    'dim_Y' : X3D_pca_test[:, 1],\n",
        "    'dim_Z' : X3D_pca_test[:, 2],\n",
        "})\n",
        "test_clustered_df.head()"
      ],
      "execution_count": 126,
      "outputs": [
        {
          "output_type": "execute_result",
          "data": {
            "text/html": [
              "<div>\n",
              "<style scoped>\n",
              "    .dataframe tbody tr th:only-of-type {\n",
              "        vertical-align: middle;\n",
              "    }\n",
              "\n",
              "    .dataframe tbody tr th {\n",
              "        vertical-align: top;\n",
              "    }\n",
              "\n",
              "    .dataframe thead th {\n",
              "        text-align: right;\n",
              "    }\n",
              "</style>\n",
              "<table border=\"1\" class=\"dataframe\">\n",
              "  <thead>\n",
              "    <tr style=\"text-align: right;\">\n",
              "      <th></th>\n",
              "      <th>sentence</th>\n",
              "      <th>cluster</th>\n",
              "      <th>orig_label</th>\n",
              "      <th>dim_X</th>\n",
              "      <th>dim_Y</th>\n",
              "      <th>dim_Z</th>\n",
              "    </tr>\n",
              "  </thead>\n",
              "  <tbody>\n",
              "    <tr>\n",
              "      <th>0</th>\n",
              "      <td>gerrard happy anfield liverpool captain steven...</td>\n",
              "      <td>2</td>\n",
              "      <td>football</td>\n",
              "      <td>-3.192506</td>\n",
              "      <td>-2.532742</td>\n",
              "      <td>-2.158245</td>\n",
              "    </tr>\n",
              "    <tr>\n",
              "      <th>1</th>\n",
              "      <td>gb quartet get cross country call four british...</td>\n",
              "      <td>1</td>\n",
              "      <td>athletics</td>\n",
              "      <td>-5.066533</td>\n",
              "      <td>1.594740</td>\n",
              "      <td>0.943679</td>\n",
              "    </tr>\n",
              "    <tr>\n",
              "      <th>2</th>\n",
              "      <td>year remember irish used one subliminal moment...</td>\n",
              "      <td>2</td>\n",
              "      <td>rugby</td>\n",
              "      <td>-0.669114</td>\n",
              "      <td>2.406793</td>\n",
              "      <td>-1.953145</td>\n",
              "    </tr>\n",
              "    <tr>\n",
              "      <th>3</th>\n",
              "      <td>hong kong world cup bid hong kong hoping join ...</td>\n",
              "      <td>2</td>\n",
              "      <td>rugby</td>\n",
              "      <td>1.073150</td>\n",
              "      <td>-1.203466</td>\n",
              "      <td>0.652050</td>\n",
              "    </tr>\n",
              "    <tr>\n",
              "      <th>4</th>\n",
              "      <td>iranian misses israel match iranian striker va...</td>\n",
              "      <td>4</td>\n",
              "      <td>football</td>\n",
              "      <td>0.361525</td>\n",
              "      <td>-2.985474</td>\n",
              "      <td>2.769322</td>\n",
              "    </tr>\n",
              "  </tbody>\n",
              "</table>\n",
              "</div>"
            ],
            "text/plain": [
              "                                            sentence  ...     dim_Z\n",
              "0  gerrard happy anfield liverpool captain steven...  ... -2.158245\n",
              "1  gb quartet get cross country call four british...  ...  0.943679\n",
              "2  year remember irish used one subliminal moment...  ... -1.953145\n",
              "3  hong kong world cup bid hong kong hoping join ...  ...  0.652050\n",
              "4  iranian misses israel match iranian striker va...  ...  2.769322\n",
              "\n",
              "[5 rows x 6 columns]"
            ]
          },
          "metadata": {
            "tags": []
          },
          "execution_count": 126
        }
      ]
    },
    {
      "cell_type": "code",
      "metadata": {
        "id": "RUxE533eP5bX",
        "outputId": "a3b0e5d7-956e-49f1-a91e-cfae82ed23e9",
        "colab": {
          "base_uri": "https://localhost:8080/",
          "height": 542
        }
      },
      "source": [
        "import plotly.graph_objects as go\n",
        "\n",
        "# create new figure\n",
        "fig = go.Figure()\n",
        "\n",
        "cluster_label = y_preds\n",
        "\n",
        "# plot data\n",
        "for cluster in set(y_preds):\n",
        "    original_labels = list(test_clustered_df[test_clustered_df['cluster']==cluster]['orig_label'].values)\n",
        "    cl = [cluster] * len(original_labels)\n",
        "    # print(original_labels)\n",
        "    fig.add_trace(\n",
        "        go.Scatter3d(\n",
        "            x=list(test_clustered_df[test_clustered_df['cluster']==cluster]['dim_X'].values), \n",
        "            y=list(test_clustered_df[test_clustered_df['cluster']==cluster]['dim_Y'].values), \n",
        "            z=list(test_clustered_df[test_clustered_df['cluster']==cluster]['dim_Z'].values), \n",
        "            name=f\"Cluster {cluster}\",\n",
        "            mode=\"markers\",\n",
        "            marker=dict(\n",
        "                # color=cols,\n",
        "                size=5,\n",
        "                # line=dict(width=0.5, color='DarkSlateGrey')\n",
        "            ), \n",
        "            # to display multiple, variables of custom data\n",
        "            customdata= tuple(zip(original_labels, cl)),\n",
        "            # To modify hover data, labels\n",
        "            hovertemplate='L:%{customdata[0]}<br>C:%{customdata[1]}', \n",
        "        )\n",
        "    )\n",
        "\n",
        "# for 3D plots, Embedded Scene are used\n",
        "from plotly.graph_objs.layout import Scene\n",
        "from plotly.graph_objs.layout.scene import XAxis, YAxis, ZAxis\n",
        "fig.update_layout(\n",
        "    showlegend=True,\n",
        "    legend=dict(\n",
        "        y=0.99,\n",
        "        x=0.01,\n",
        "    ),\n",
        "    scene=Scene(\n",
        "        xaxis=XAxis(title='X'),\n",
        "        yaxis=YAxis(title='Y'),\n",
        "        zaxis=ZAxis(title='Z')\n",
        "    ),\n",
        "    margin=dict(l=0, r=0, b=0, t=0),  # tight Layout\n",
        ")\n",
        "fig.show()"
      ],
      "execution_count": 127,
      "outputs": [
        {
          "output_type": "display_data",
          "data": {
            "text/html": [
              "<html>\n",
              "<head><meta charset=\"utf-8\" /></head>\n",
              "<body>\n",
              "    <div>\n",
              "            <script src=\"https://cdnjs.cloudflare.com/ajax/libs/mathjax/2.7.5/MathJax.js?config=TeX-AMS-MML_SVG\"></script><script type=\"text/javascript\">if (window.MathJax) {MathJax.Hub.Config({SVG: {font: \"STIX-Web\"}});}</script>\n",
              "                <script type=\"text/javascript\">window.PlotlyConfig = {MathJaxConfig: 'local'};</script>\n",
              "        <script src=\"https://cdn.plot.ly/plotly-latest.min.js\"></script>    \n",
              "            <div id=\"9fe78ab3-6d1d-43b4-9563-02d60d47ce11\" class=\"plotly-graph-div\" style=\"height:525px; width:100%;\"></div>\n",
              "            <script type=\"text/javascript\">\n",
              "                \n",
              "                    window.PLOTLYENV=window.PLOTLYENV || {};\n",
              "                    \n",
              "                if (document.getElementById(\"9fe78ab3-6d1d-43b4-9563-02d60d47ce11\")) {\n",
              "                    Plotly.newPlot(\n",
              "                        '9fe78ab3-6d1d-43b4-9563-02d60d47ce11',\n",
              "                        [{\"customdata\": [[\"tennis\", 0], [\"tennis\", 0], [\"tennis\", 0], [\"tennis\", 0], [\"tennis\", 0], [\"tennis\", 0], [\"tennis\", 0], [\"tennis\", 0], [\"tennis\", 0], [\"tennis\", 0], [\"tennis\", 0], [\"tennis\", 0], [\"tennis\", 0], [\"tennis\", 0], [\"tennis\", 0], [\"tennis\", 0], [\"tennis\", 0], [\"tennis\", 0], [\"tennis\", 0], [\"tennis\", 0], [\"tennis\", 0], [\"tennis\", 0], [\"tennis\", 0], [\"tennis\", 0], [\"tennis\", 0], [\"tennis\", 0], [\"tennis\", 0], [\"tennis\", 0], [\"tennis\", 0], [\"tennis\", 0], [\"tennis\", 0], [\"tennis\", 0], [\"tennis\", 0], [\"tennis\", 0], [\"tennis\", 0], [\"tennis\", 0], [\"tennis\", 0]], \"hovertemplate\": \"L:%{customdata[0]}<br>C:%{customdata[1]}\", \"marker\": {\"size\": 5}, \"mode\": \"markers\", \"name\": \"Cluster 0\", \"type\": \"scatter3d\", \"x\": [-2.561424732208252, -2.382446527481079, -3.3116633892059326, -1.0741032361984253, -2.347001314163208, -1.0041484832763672, -3.774707317352295, -1.845009684562683, -2.116680145263672, -3.0323143005371094, -1.6438307762145996, 0.4073687195777893, -1.1093146800994873, -3.3096466064453125, 0.09371422231197357, -1.6206378936767578, -3.2220401763916016, -0.35498976707458496, -2.1648452281951904, -2.441826343536377, -1.5985157489776611, -0.6346403360366821, -1.8417117595672607, -1.5837299823760986, -1.6931209564208984, -2.643214225769043, -3.0169355869293213, -3.868403434753418, -0.035683006048202515, 0.3230091631412506, -3.5778350830078125, -3.3565890789031982, -3.1968088150024414, -3.0323143005371094, -2.617246627807617, -2.6289970874786377, -2.437809467315674], \"y\": [1.3480006456375122, 2.2954068183898926, 2.9263062477111816, 2.744565486907959, 3.937225580215454, 0.004632346332073212, 3.474689483642578, 0.7487558126449585, 1.273048996925354, 2.517976760864258, 2.4712724685668945, 0.5160096883773804, 0.6724002957344055, 4.840266227722168, 1.2061924934387207, 1.2229130268096924, 3.639718532562256, 1.0559406280517578, 1.2417724132537842, 3.4647042751312256, 1.787158489227295, 1.2508938312530518, 2.3853158950805664, 2.535336494445801, 2.6146159172058105, 5.299440383911133, 5.009438514709473, 3.7688474655151367, -0.5866014361381531, 0.7441698312759399, 3.231950521469116, 2.7545180320739746, 3.4264001846313477, 2.517976760864258, 3.321331024169922, 2.2172865867614746, 3.275928258895874], \"z\": [0.3149043917655945, 1.6594982147216797, 4.576733589172363, 2.3594980239868164, 2.3553571701049805, 3.523679733276367, 4.9413652420043945, 2.7423548698425293, 6.342044830322266, 5.3430495262146, 2.8899784088134766, 3.5774435997009277, 3.5489940643310547, 4.376392841339111, 2.313105344772339, 1.4516781568527222, 5.095270156860352, 2.941711664199829, 6.404326438903809, 3.016639232635498, 0.227972149848938, 4.976642608642578, 1.1454449892044067, 3.7657508850097656, 4.272164821624756, 2.432633399963379, 1.8115880489349365, 2.9134702682495117, 4.25028133392334, 4.004251480102539, 3.8910036087036133, 5.326189041137695, 2.9984359741210938, 5.3430495262146, 0.7404239177703857, 4.015944004058838, 0.946857213973999]}, {\"customdata\": [[\"athletics\", 1], [\"athletics\", 1], [\"athletics\", 1], [\"athletics\", 1], [\"athletics\", 1], [\"athletics\", 1], [\"athletics\", 1], [\"athletics\", 1], [\"athletics\", 1], [\"athletics\", 1], [\"athletics\", 1], [\"athletics\", 1], [\"athletics\", 1], [\"athletics\", 1], [\"athletics\", 1], [\"athletics\", 1], [\"athletics\", 1], [\"athletics\", 1], [\"athletics\", 1], [\"athletics\", 1], [\"athletics\", 1], [\"athletics\", 1], [\"athletics\", 1], [\"athletics\", 1], [\"athletics\", 1], [\"athletics\", 1], [\"athletics\", 1], [\"athletics\", 1], [\"athletics\", 1], [\"athletics\", 1], [\"athletics\", 1]], \"hovertemplate\": \"L:%{customdata[0]}<br>C:%{customdata[1]}\", \"marker\": {\"size\": 5}, \"mode\": \"markers\", \"name\": \"Cluster 1\", \"type\": \"scatter3d\", \"x\": [-5.066532611846924, -5.074341773986816, -4.082505702972412, -4.195797920227051, -1.296697974205017, -2.3171262741088867, -4.889882564544678, -4.5008440017700195, -3.889857769012451, -5.849395751953125, -5.09593391418457, -1.7524003982543945, -1.2499961853027344, -2.74155330657959, -5.8653669357299805, -4.424931526184082, -4.41616153717041, -2.1909120082855225, -4.525139331817627, -3.494426727294922, -4.47074031829834, -3.882232904434204, -5.09593391418457, -3.922234535217285, -5.550947189331055, -4.176211833953857, -5.244637489318848, -4.6087493896484375, -5.077763080596924, -1.9684685468673706, -2.8259193897247314], \"y\": [1.5947402715682983, 2.908240795135498, 1.02933931350708, 1.0567642450332642, 0.14153318107128143, -0.8560962677001953, 3.101827621459961, 0.5561347007751465, 2.5199928283691406, 2.172865629196167, 3.002910614013672, 0.48264098167419434, -2.583794355392456, -0.10261179506778717, 3.0556061267852783, 0.48814213275909424, 3.8203718662261963, -0.27922171354293823, 1.3391696214675903, -1.0486315488815308, 0.9404381513595581, 1.8498520851135254, 3.002910614013672, 1.6808454990386963, 2.732560873031616, 1.9904632568359375, 2.339292049407959, 3.8652610778808594, 1.9296714067459106, -1.6489756107330322, 1.5347392559051514], \"z\": [0.9436789751052856, -0.8554589748382568, 0.9238555431365967, 1.4057430028915405, 1.1196868419647217, 1.8751137256622314, 0.31439173221588135, 2.303823947906494, 1.983320951461792, 2.6477770805358887, -0.28917932510375977, 1.43601655960083, 3.73018217086792, 1.9021720886230469, 1.011671781539917, 1.8193778991699219, 0.8604648113250732, 1.0653060674667358, 1.3770294189453125, 2.341193675994873, 1.7425928115844727, 2.48980712890625, -0.28917932510375977, 0.03316895663738251, -0.30098193883895874, 1.6530969142913818, 2.9012789726257324, 1.960425615310669, 0.03526277095079422, 1.0720596313476562, 0.4924132823944092]}, {\"customdata\": [[\"football\", 2], [\"rugby\", 2], [\"rugby\", 2], [\"football\", 2], [\"football\", 2], [\"rugby\", 2], [\"rugby\", 2], [\"football\", 2], [\"football\", 2], [\"football\", 2], [\"rugby\", 2], [\"rugby\", 2], [\"football\", 2], [\"football\", 2], [\"rugby\", 2], [\"football\", 2], [\"rugby\", 2], [\"football\", 2], [\"rugby\", 2], [\"football\", 2], [\"rugby\", 2], [\"rugby\", 2], [\"football\", 2], [\"football\", 2], [\"football\", 2], [\"football\", 2], [\"rugby\", 2], [\"rugby\", 2], [\"rugby\", 2], [\"football\", 2], [\"rugby\", 2], [\"football\", 2], [\"rugby\", 2], [\"rugby\", 2], [\"rugby\", 2], [\"rugby\", 2], [\"rugby\", 2], [\"rugby\", 2], [\"rugby\", 2], [\"football\", 2], [\"football\", 2], [\"rugby\", 2], [\"football\", 2], [\"football\", 2], [\"rugby\", 2], [\"football\", 2], [\"football\", 2], [\"rugby\", 2], [\"football\", 2], [\"football\", 2], [\"football\", 2], [\"rugby\", 2], [\"football\", 2], [\"rugby\", 2], [\"football\", 2], [\"rugby\", 2], [\"football\", 2], [\"football\", 2], [\"football\", 2], [\"football\", 2], [\"football\", 2], [\"football\", 2], [\"football\", 2], [\"rugby\", 2], [\"cricket\", 2], [\"football\", 2], [\"rugby\", 2], [\"rugby\", 2], [\"rugby\", 2], [\"football\", 2], [\"football\", 2], [\"football\", 2], [\"rugby\", 2], [\"rugby\", 2], [\"football\", 2], [\"football\", 2], [\"football\", 2], [\"football\", 2], [\"football\", 2], [\"football\", 2], [\"football\", 2], [\"football\", 2], [\"rugby\", 2], [\"football\", 2], [\"football\", 2], [\"rugby\", 2], [\"rugby\", 2], [\"football\", 2], [\"rugby\", 2], [\"football\", 2], [\"rugby\", 2], [\"rugby\", 2], [\"rugby\", 2], [\"football\", 2], [\"football\", 2], [\"football\", 2], [\"rugby\", 2], [\"football\", 2], [\"football\", 2], [\"rugby\", 2], [\"football\", 2], [\"rugby\", 2]], \"hovertemplate\": \"L:%{customdata[0]}<br>C:%{customdata[1]}\", \"marker\": {\"size\": 5}, \"mode\": \"markers\", \"name\": \"Cluster 2\", \"type\": \"scatter3d\", \"x\": [-3.1925058364868164, -0.6691140532493591, 1.0731501579284668, -3.3105363845825195, -2.446066379547119, 0.2776604890823364, -0.05179619789123535, -2.31886625289917, -1.668936014175415, -0.6840898990631104, 1.6180438995361328, -0.38911113142967224, -1.552080750465393, -1.4123761653900146, 0.3351818025112152, -1.551879644393921, -0.6312352418899536, -0.6853199005126953, -0.290755033493042, -2.4532077312469482, -1.1546597480773926, 0.6859397888183594, -2.271951675415039, -1.739058017730713, -1.5361900329589844, -1.8579773902893066, -0.616460382938385, -1.9283320903778076, 0.9371587038040161, -3.5342421531677246, 1.0945746898651123, -1.1651039123535156, -0.5180532932281494, 0.0658922791481018, -1.741031289100647, 0.9388697147369385, -0.4667433202266693, 0.006426095962524414, -0.7793694734573364, -2.1361002922058105, -1.1883511543273926, 0.691859781742096, 0.4397532045841217, -1.3528846502304077, 0.7758744359016418, -1.5271494388580322, -1.7889045476913452, 0.1755852997303009, -2.990659713745117, -0.6038528680801392, -2.994072437286377, 1.044886589050293, -2.45894718170166, 1.6686592102050781, -0.3325026035308838, -0.20620368421077728, -1.5087895393371582, -2.7456183433532715, -3.222491979598999, -1.2422455549240112, -3.4989070892333984, -0.43130090832710266, -1.91031813621521, 1.3038322925567627, -0.1789214015007019, -2.242025852203369, -0.45774364471435547, -0.3642100691795349, 0.8551228046417236, -0.7836533784866333, -1.708881139755249, -2.5281858444213867, -0.6040396094322205, 0.7231417894363403, -3.2660980224609375, -1.4615633487701416, -0.31604617834091187, 0.2020450085401535, -2.1944398880004883, -1.9437804222106934, -1.877746343612671, -1.0319252014160156, 1.1052823066711426, -2.49196457862854, -3.172853946685791, 0.3127996623516083, 2.1183688640594482, -0.7325857281684875, 0.5023568868637085, -3.536665439605713, -1.4504786729812622, 0.4624670147895813, 0.9251757860183716, -1.8906688690185547, -2.2425074577331543, -1.3257989883422852, 0.964126706123352, -0.328909695148468, -3.05464768409729, 1.3654356002807617, -1.6448606252670288, 0.7867356538772583], \"y\": [-2.5327420234680176, 2.4067928791046143, -1.2034657001495361, -1.1141278743743896, 1.1837735176086426, 1.0023400783538818, 1.6817615032196045, 2.4901652336120605, 0.04729967564344406, -2.4015941619873047, -1.5465023517608643, 2.3050684928894043, 0.2216101884841919, -1.212674617767334, 0.567325234413147, -0.744940996170044, 0.4688679873943329, -0.9896100163459778, 1.4205780029296875, -0.3892512023448944, 2.705362558364868, 0.1403994858264923, -0.35761329531669617, 0.725454568862915, -3.0554728507995605, -0.5723357200622559, -0.49863213300704956, 1.3204959630966187, 0.8559465408325195, -0.5243909955024719, -0.9776476621627808, -3.5964226722717285, 1.6874182224273682, 0.5205973386764526, 1.3077130317687988, -0.5631371736526489, -0.2421746701002121, -0.3288213610649109, 1.0309480428695679, 2.5522687435150146, 0.40508028864860535, 0.6128163933753967, -1.4864864349365234, -2.029204845428467, -1.5176433324813843, -1.3863970041275024, -0.31563061475753784, -0.9950863122940063, 3.15981388092041, -0.7422724962234497, -1.0132148265838623, -0.27006834745407104, -2.59502911567688, -0.5129900574684143, -1.6969599723815918, 1.1510577201843262, 0.3044326901435852, 1.0756957530975342, -0.5087683200836182, 0.1309497356414795, 0.2520374655723572, -0.4802241623401642, -1.4285600185394287, 0.17834731936454773, 2.871429443359375, -0.4648536145687103, 1.4658780097961426, 1.7910611629486084, 2.3581814765930176, -3.223733901977539, -2.9827592372894287, 1.3296051025390625, 0.888495922088623, 1.8405048847198486, 0.893751323223114, -0.3189297318458557, -2.545572519302368, -2.4997670650482178, -0.5619387030601501, 1.0920963287353516, 4.009181022644043, -1.6807875633239746, -1.5027508735656738, -1.0900354385375977, 1.1192792654037476, -1.1170156002044678, 0.3566741943359375, 0.6951272487640381, 3.3248348236083984, -1.270665168762207, 1.717523217201233, 1.7313601970672607, 3.285039186477661, 0.2511480450630188, -1.2519190311431885, 2.816216468811035, 0.370439350605011, -1.9340336322784424, 0.08496739715337753, 1.2694679498672485, -0.6566569805145264, 3.7654664516448975], \"z\": [-2.158245086669922, -1.9531452655792236, 0.6520496606826782, -2.3730905055999756, -0.26237866282463074, -3.603006601333618, -2.2638168334960938, -3.3109822273254395, -1.9412842988967896, -2.036707878112793, -0.46633416414260864, -3.675678253173828, -2.485895872116089, 0.816805899143219, -2.7777624130249023, -2.144122838973999, -4.320513725280762, -0.18038266897201538, -0.3792857825756073, 0.746541440486908, -4.732080459594727, 0.21765118837356567, -2.4796195030212402, -2.299107313156128, -2.689192295074463, -2.578460216522217, -1.127002239227295, -3.085948944091797, -1.8574414253234863, -3.7648253440856934, -0.036346547305583954, -0.65370774269104, -1.2806942462921143, -3.4018893241882324, -2.533351421356201, -0.3096979260444641, -1.7476179599761963, -1.7696211338043213, -4.4939470291137695, -5.583456039428711, -0.44568103551864624, -0.3997328281402588, -0.7253660559654236, -2.982717514038086, -0.2644473910331726, -1.3102507591247559, -4.469980239868164, -4.234065532684326, -2.6573753356933594, -3.9611077308654785, -1.9341535568237305, -1.3422465324401855, -0.7090322971343994, -3.5674610137939453, -1.4448516368865967, -3.1834423542022705, -2.8002684116363525, -1.5122833251953125, -2.7120890617370605, -0.02445542812347412, -4.161287307739258, -1.0362694263458252, 0.24513840675354004, -2.3169755935668945, -2.0881736278533936, -2.7405500411987305, -3.7542922496795654, -1.6801834106445312, -1.0015259981155396, -1.4733977317810059, -1.0578663349151611, 0.6118330955505371, -2.730611801147461, -2.562621593475342, -5.541334629058838, -3.106809377670288, -1.474644422531128, -1.6662356853485107, -0.05829150229692459, -3.3283703327178955, -0.42505592107772827, 0.24099142849445343, -1.2006404399871826, -0.010634703561663628, -2.127237319946289, -2.521632671356201, -2.403765916824341, -2.7901322841644287, -2.480515480041504, -1.4649443626403809, -0.7540264129638672, -2.3786368370056152, -2.6967010498046875, -1.1786518096923828, -2.5420870780944824, -3.5045599937438965, 0.6180851459503174, -1.2033932209014893, -0.1688244342803955, -3.502344846725464, -1.413647174835205, -2.664262294769287]}, {\"customdata\": [[\"cricket\", 3], [\"cricket\", 3], [\"cricket\", 3], [\"cricket\", 3], [\"cricket\", 3], [\"cricket\", 3], [\"cricket\", 3], [\"cricket\", 3], [\"cricket\", 3], [\"cricket\", 3], [\"cricket\", 3], [\"cricket\", 3], [\"cricket\", 3], [\"cricket\", 3], [\"cricket\", 3], [\"cricket\", 3], [\"cricket\", 3], [\"cricket\", 3], [\"cricket\", 3], [\"cricket\", 3], [\"cricket\", 3], [\"cricket\", 3], [\"cricket\", 3], [\"cricket\", 3], [\"cricket\", 3], [\"cricket\", 3], [\"cricket\", 3], [\"cricket\", 3], [\"cricket\", 3], [\"cricket\", 3], [\"cricket\", 3], [\"cricket\", 3], [\"cricket\", 3], [\"cricket\", 3], [\"cricket\", 3], [\"cricket\", 3], [\"cricket\", 3], [\"cricket\", 3], [\"cricket\", 3], [\"cricket\", 3], [\"cricket\", 3], [\"cricket\", 3], [\"cricket\", 3], [\"cricket\", 3], [\"cricket\", 3], [\"cricket\", 3], [\"cricket\", 3], [\"cricket\", 3]], \"hovertemplate\": \"L:%{customdata[0]}<br>C:%{customdata[1]}\", \"marker\": {\"size\": 5}, \"mode\": \"markers\", \"name\": \"Cluster 3\", \"type\": \"scatter3d\", \"x\": [4.325617790222168, 1.5036604404449463, 5.332040786743164, 6.155033588409424, 1.0427448749542236, 4.940064430236816, 2.8511881828308105, 2.2031989097595215, 5.202575206756592, 5.36196231842041, 4.928977012634277, 4.546164035797119, 3.9144911766052246, 2.080744743347168, 5.55537223815918, 4.7459716796875, 4.417893409729004, 3.152609348297119, 2.570920467376709, 2.314340114593506, 4.613223075866699, 2.105781078338623, 2.7195441722869873, 3.8126277923583984, 4.144530296325684, 4.30734920501709, 5.719788074493408, 5.487459182739258, 4.363268852233887, 2.387434959411621, 5.7862348556518555, 5.410979747772217, 5.253735542297363, 2.075298547744751, 3.2217464447021484, 5.646631717681885, 6.728458881378174, 3.814281463623047, 3.6224937438964844, 5.623109340667725, 3.1994423866271973, 5.637537479400635, 6.3604512214660645, 5.561674118041992, 4.674554824829102, 6.346264362335205, 5.405880928039551, 2.9738893508911133], \"y\": [3.7597908973693848, 1.8668787479400635, 1.361137866973877, 1.6836769580841064, 3.3593082427978516, 1.2321637868881226, 2.6064443588256836, 2.689685344696045, 5.690420627593994, 5.323848724365234, 0.6751020550727844, 1.619610071182251, 2.334575891494751, -0.6743931174278259, 1.71553373336792, 3.751150131225586, 2.0273849964141846, 2.8754820823669434, 4.511162757873535, 3.992469310760498, 0.8234911561012268, 3.352963924407959, 3.6802291870117188, -0.9008826613426208, 2.3917055130004883, 5.857863426208496, 0.3063748776912689, -0.41463008522987366, -1.924156665802002, 3.8955979347229004, 1.3802821636199951, 2.053964376449585, -0.01734846830368042, 4.06723690032959, 4.356138229370117, 1.2638620138168335, 3.4427666664123535, 3.91249942779541, 1.4757781028747559, 4.919455528259277, -0.8474665880203247, 5.177007675170898, 3.047269821166992, -1.446580410003662, -0.5263586044311523, 0.6071652173995972, 4.128422737121582, 3.5100765228271484], \"z\": [-0.7471930980682373, -0.2322327196598053, 1.6918294429779053, 0.42531251907348633, 1.9630415439605713, 1.8582255840301514, 1.8919597864151, -3.1135361194610596, 0.32961350679397583, -1.2546095848083496, -0.7228618860244751, -1.208790898323059, 0.954630970954895, 0.3464619815349579, -0.16233281791210175, 0.46548396348953247, 0.3795430064201355, 2.0742483139038086, -1.360414743423462, -1.6869511604309082, 2.1975367069244385, -3.8682758808135986, -1.683845043182373, 1.7133309841156006, 1.3934623003005981, 1.0112606287002563, -0.3305491507053375, 1.2636903524398804, 1.5842128992080688, -1.60921049118042, -0.09286729991436005, 1.3193843364715576, 0.4319623112678528, -1.4623608589172363, -0.7572897672653198, 1.9732208251953125, 0.2486444115638733, 0.2915136516094208, 1.0258433818817139, 0.3853968679904938, 1.228319525718689, -0.5272562503814697, -0.5506459474563599, 2.596466064453125, 1.1605193614959717, 1.7266960144042969, 0.14055544137954712, -0.32181164622306824]}, {\"customdata\": [[\"football\", 4], [\"football\", 4], [\"football\", 4], [\"athletics\", 4], [\"rugby\", 4], [\"rugby\", 4], [\"rugby\", 4], [\"rugby\", 4], [\"football\", 4], [\"football\", 4], [\"rugby\", 4], [\"football\", 4], [\"tennis\", 4], [\"rugby\", 4], [\"football\", 4], [\"football\", 4], [\"athletics\", 4], [\"rugby\", 4], [\"rugby\", 4], [\"rugby\", 4], [\"football\", 4], [\"football\", 4], [\"rugby\", 4], [\"football\", 4], [\"football\", 4], [\"football\", 4], [\"athletics\", 4], [\"football\", 4], [\"football\", 4], [\"football\", 4], [\"football\", 4], [\"football\", 4], [\"football\", 4], [\"football\", 4], [\"football\", 4], [\"football\", 4], [\"athletics\", 4], [\"football\", 4], [\"football\", 4], [\"football\", 4], [\"football\", 4], [\"football\", 4], [\"athletics\", 4], [\"tennis\", 4], [\"football\", 4], [\"football\", 4], [\"athletics\", 4], [\"football\", 4], [\"rugby\", 4], [\"athletics\", 4], [\"football\", 4], [\"football\", 4], [\"football\", 4], [\"cricket\", 4], [\"rugby\", 4], [\"football\", 4], [\"football\", 4], [\"football\", 4], [\"rugby\", 4], [\"football\", 4], [\"football\", 4], [\"rugby\", 4], [\"football\", 4], [\"rugby\", 4], [\"athletics\", 4], [\"football\", 4], [\"football\", 4], [\"athletics\", 4], [\"football\", 4], [\"football\", 4], [\"football\", 4], [\"football\", 4], [\"football\", 4], [\"football\", 4], [\"football\", 4], [\"football\", 4], [\"tennis\", 4]], \"hovertemplate\": \"L:%{customdata[0]}<br>C:%{customdata[1]}\", \"marker\": {\"size\": 5}, \"mode\": \"markers\", \"name\": \"Cluster 4\", \"type\": \"scatter3d\", \"x\": [0.361524760723114, 1.471839189529419, -1.637252688407898, 0.8181681632995605, 2.9225096702575684, 3.2262916564941406, 2.054401397705078, 2.5540356636047363, 0.46630582213401794, 0.04797735810279846, 2.5428085327148438, 0.2209012508392334, 0.7886331081390381, 3.3780040740966797, 0.9400941729545593, 0.6712890267372131, 0.6827548742294312, 1.0710119009017944, 2.079669237136841, 1.9591225385665894, 2.23250675201416, -0.26367315649986267, 1.795332431793213, 0.022452495992183685, -0.6169462203979492, 1.5843307971954346, 0.22554205358028412, 2.6821446418762207, 0.757167398929596, 0.42116284370422363, -1.2872092723846436, -1.8482530117034912, 0.06367102265357971, 0.5812629461288452, -0.5937141180038452, 1.7196223735809326, 0.9157819151878357, 0.545793354511261, 1.4297083616256714, 0.43357011675834656, 0.5247570872306824, -1.2028862237930298, 0.25680917501449585, -0.7029933929443359, -0.32619917392730713, 0.7515146732330322, 1.4541032314300537, 0.6403222680091858, 4.0264458656311035, 2.593730926513672, 0.13666480779647827, -0.028615176677703857, -0.42526403069496155, 2.9404659271240234, 1.8524527549743652, 2.3780741691589355, 0.7683376669883728, -0.2417510747909546, 1.4758914709091187, 0.21531948447227478, -0.9381541013717651, 3.820485830307007, 0.27902889251708984, 3.082880973815918, 0.5235326886177063, 1.709259271621704, 1.828814148902893, -0.4634931683540344, 0.14248701930046082, 2.0511794090270996, 2.7414002418518066, 1.8361093997955322, 1.0123108625411987, -0.9133680462837219, 1.0573045015335083, 0.38411062955856323, 0.31374871730804443], \"y\": [-2.9854736328125, -2.731773853302002, -2.4577527046203613, -2.4696695804595947, -0.8007346391677856, -2.2774250507354736, -1.2498573064804077, -0.8937193155288696, -2.625638008117676, -2.492255449295044, -2.8148341178894043, -3.272777795791626, -1.3872854709625244, -2.6034607887268066, -4.228583812713623, -2.645313262939453, -3.417074203491211, -1.6319220066070557, -1.7726781368255615, -3.492438554763794, -3.862298011779785, -4.491425514221191, -3.173190116882324, -2.71470046043396, -3.600860118865967, -4.2463483810424805, -1.7587971687316895, -4.220717430114746, -3.6969916820526123, -2.9663028717041016, -3.073249340057373, -1.0203680992126465, -2.2503652572631836, -4.224277973175049, -3.4335193634033203, -3.242673873901367, -3.6079397201538086, -4.581375598907471, -3.6562716960906982, -5.536008834838867, -1.6231434345245361, -1.4663820266723633, -2.7099926471710205, -1.7530548572540283, -2.099492073059082, -3.956430435180664, -1.6979278326034546, -5.665602684020996, -4.521056652069092, -2.5506296157836914, -3.240412950515747, -3.658189058303833, -3.0132274627685547, -2.707282543182373, -0.787312388420105, -4.889034271240234, -3.1835880279541016, -2.7706501483917236, -1.875488042831421, -2.869452476501465, -3.449251174926758, -4.412341117858887, -2.340946674346924, -1.3176809549331665, -0.22676235437393188, -4.741684913635254, -4.8313493728637695, -0.6399470567703247, -3.1151785850524902, -6.0505523681640625, -1.9334367513656616, -3.9871082305908203, -4.239102363586426, -2.583174705505371, -4.9526872634887695, -3.528731346130371, -0.8327011466026306], \"z\": [2.769322395324707, -0.6790351867675781, 1.2156397104263306, 5.948925971984863, -0.22624845802783966, -2.528120517730713, -0.3178125321865082, -1.6274783611297607, 0.4521087110042572, -1.550076961517334, -1.263523817062378, 0.7393155097961426, 1.0403666496276855, 0.6566310524940491, -0.6027430295944214, 0.9259963631629944, 2.9424569606781006, 0.11761400103569031, -0.8901286125183105, -0.5656937956809998, 1.017789602279663, 0.11111746728420258, -2.3198256492614746, 0.7120440006256104, -2.001018524169922, -1.121413230895996, 4.904445648193359, -0.16947083175182343, -0.7050483226776123, -0.46057647466659546, -0.5458489656448364, -0.2876649498939514, -0.05281044915318489, -0.22521108388900757, 0.6649121046066284, 1.3059511184692383, 3.9494876861572266, -2.0357327461242676, 0.08486895263195038, 0.4749937057495117, 0.44331127405166626, -0.9434545040130615, 3.969269275665283, 4.985284328460693, 3.0102086067199707, 2.0433783531188965, 3.260232448577881, 0.185258686542511, 2.3620424270629883, 3.3831849098205566, 0.3867906332015991, -2.075788974761963, -1.9022881984710693, 2.2189674377441406, 0.6059490442276001, 2.8486123085021973, -1.1594321727752686, 0.5074638724327087, 0.684150218963623, 0.736608624458313, 0.30661749839782715, -0.37641289830207825, 0.28685688972473145, 0.8855288624763489, 3.421147108078003, 0.5515799522399902, 1.5426900386810303, 3.964895486831665, 0.5030614733695984, 0.31920886039733887, 0.03522320091724396, -0.920421838760376, 1.795774221420288, 1.7446024417877197, 0.2544108033180237, 1.5611462593078613, 1.2851459980010986]}],\n",
              "                        {\"legend\": {\"x\": 0.01, \"y\": 0.99}, \"margin\": {\"b\": 0, \"l\": 0, \"r\": 0, \"t\": 0}, \"scene\": {\"xaxis\": {\"title\": {\"text\": \"X\"}}, \"yaxis\": {\"title\": {\"text\": \"Y\"}}, \"zaxis\": {\"title\": {\"text\": \"Z\"}}}, \"showlegend\": true, \"template\": {\"data\": {\"bar\": [{\"error_x\": {\"color\": \"#2a3f5f\"}, \"error_y\": {\"color\": \"#2a3f5f\"}, \"marker\": {\"line\": {\"color\": \"#E5ECF6\", \"width\": 0.5}}, \"type\": \"bar\"}], \"barpolar\": [{\"marker\": {\"line\": {\"color\": \"#E5ECF6\", \"width\": 0.5}}, \"type\": \"barpolar\"}], \"carpet\": [{\"aaxis\": {\"endlinecolor\": \"#2a3f5f\", \"gridcolor\": \"white\", \"linecolor\": \"white\", \"minorgridcolor\": \"white\", \"startlinecolor\": \"#2a3f5f\"}, \"baxis\": {\"endlinecolor\": \"#2a3f5f\", \"gridcolor\": \"white\", \"linecolor\": \"white\", \"minorgridcolor\": \"white\", \"startlinecolor\": \"#2a3f5f\"}, \"type\": \"carpet\"}], \"choropleth\": [{\"colorbar\": {\"outlinewidth\": 0, \"ticks\": \"\"}, \"type\": \"choropleth\"}], \"contour\": [{\"colorbar\": {\"outlinewidth\": 0, \"ticks\": \"\"}, \"colorscale\": [[0.0, \"#0d0887\"], [0.1111111111111111, \"#46039f\"], [0.2222222222222222, \"#7201a8\"], [0.3333333333333333, \"#9c179e\"], [0.4444444444444444, \"#bd3786\"], [0.5555555555555556, \"#d8576b\"], [0.6666666666666666, \"#ed7953\"], [0.7777777777777778, \"#fb9f3a\"], [0.8888888888888888, \"#fdca26\"], [1.0, \"#f0f921\"]], \"type\": \"contour\"}], \"contourcarpet\": [{\"colorbar\": {\"outlinewidth\": 0, \"ticks\": \"\"}, \"type\": \"contourcarpet\"}], \"heatmap\": [{\"colorbar\": {\"outlinewidth\": 0, \"ticks\": \"\"}, \"colorscale\": [[0.0, \"#0d0887\"], [0.1111111111111111, \"#46039f\"], [0.2222222222222222, \"#7201a8\"], [0.3333333333333333, \"#9c179e\"], [0.4444444444444444, \"#bd3786\"], [0.5555555555555556, \"#d8576b\"], [0.6666666666666666, \"#ed7953\"], [0.7777777777777778, \"#fb9f3a\"], [0.8888888888888888, \"#fdca26\"], [1.0, \"#f0f921\"]], \"type\": \"heatmap\"}], \"heatmapgl\": [{\"colorbar\": {\"outlinewidth\": 0, \"ticks\": \"\"}, \"colorscale\": [[0.0, \"#0d0887\"], [0.1111111111111111, \"#46039f\"], [0.2222222222222222, \"#7201a8\"], [0.3333333333333333, \"#9c179e\"], [0.4444444444444444, \"#bd3786\"], [0.5555555555555556, \"#d8576b\"], [0.6666666666666666, \"#ed7953\"], [0.7777777777777778, \"#fb9f3a\"], [0.8888888888888888, \"#fdca26\"], [1.0, \"#f0f921\"]], \"type\": \"heatmapgl\"}], \"histogram\": [{\"marker\": {\"colorbar\": {\"outlinewidth\": 0, \"ticks\": \"\"}}, \"type\": \"histogram\"}], \"histogram2d\": [{\"colorbar\": {\"outlinewidth\": 0, \"ticks\": \"\"}, \"colorscale\": [[0.0, \"#0d0887\"], [0.1111111111111111, \"#46039f\"], [0.2222222222222222, \"#7201a8\"], [0.3333333333333333, \"#9c179e\"], [0.4444444444444444, \"#bd3786\"], [0.5555555555555556, \"#d8576b\"], [0.6666666666666666, \"#ed7953\"], [0.7777777777777778, \"#fb9f3a\"], [0.8888888888888888, \"#fdca26\"], [1.0, \"#f0f921\"]], \"type\": \"histogram2d\"}], \"histogram2dcontour\": [{\"colorbar\": {\"outlinewidth\": 0, \"ticks\": \"\"}, \"colorscale\": [[0.0, \"#0d0887\"], [0.1111111111111111, \"#46039f\"], [0.2222222222222222, \"#7201a8\"], [0.3333333333333333, \"#9c179e\"], [0.4444444444444444, \"#bd3786\"], [0.5555555555555556, \"#d8576b\"], [0.6666666666666666, \"#ed7953\"], [0.7777777777777778, \"#fb9f3a\"], [0.8888888888888888, \"#fdca26\"], [1.0, \"#f0f921\"]], \"type\": \"histogram2dcontour\"}], \"mesh3d\": [{\"colorbar\": {\"outlinewidth\": 0, \"ticks\": \"\"}, \"type\": \"mesh3d\"}], \"parcoords\": [{\"line\": {\"colorbar\": {\"outlinewidth\": 0, \"ticks\": \"\"}}, \"type\": \"parcoords\"}], \"pie\": [{\"automargin\": true, \"type\": \"pie\"}], \"scatter\": [{\"marker\": {\"colorbar\": {\"outlinewidth\": 0, \"ticks\": \"\"}}, \"type\": \"scatter\"}], \"scatter3d\": [{\"line\": {\"colorbar\": {\"outlinewidth\": 0, \"ticks\": \"\"}}, \"marker\": {\"colorbar\": {\"outlinewidth\": 0, \"ticks\": \"\"}}, \"type\": \"scatter3d\"}], \"scattercarpet\": [{\"marker\": {\"colorbar\": {\"outlinewidth\": 0, \"ticks\": \"\"}}, \"type\": \"scattercarpet\"}], \"scattergeo\": [{\"marker\": {\"colorbar\": {\"outlinewidth\": 0, \"ticks\": \"\"}}, \"type\": \"scattergeo\"}], \"scattergl\": [{\"marker\": {\"colorbar\": {\"outlinewidth\": 0, \"ticks\": \"\"}}, \"type\": \"scattergl\"}], \"scattermapbox\": [{\"marker\": {\"colorbar\": {\"outlinewidth\": 0, \"ticks\": \"\"}}, \"type\": \"scattermapbox\"}], \"scatterpolar\": [{\"marker\": {\"colorbar\": {\"outlinewidth\": 0, \"ticks\": \"\"}}, \"type\": \"scatterpolar\"}], \"scatterpolargl\": [{\"marker\": {\"colorbar\": {\"outlinewidth\": 0, \"ticks\": \"\"}}, \"type\": \"scatterpolargl\"}], \"scatterternary\": [{\"marker\": {\"colorbar\": {\"outlinewidth\": 0, \"ticks\": \"\"}}, \"type\": \"scatterternary\"}], \"surface\": [{\"colorbar\": {\"outlinewidth\": 0, \"ticks\": \"\"}, \"colorscale\": [[0.0, \"#0d0887\"], [0.1111111111111111, \"#46039f\"], [0.2222222222222222, \"#7201a8\"], [0.3333333333333333, \"#9c179e\"], [0.4444444444444444, \"#bd3786\"], [0.5555555555555556, \"#d8576b\"], [0.6666666666666666, \"#ed7953\"], [0.7777777777777778, \"#fb9f3a\"], [0.8888888888888888, \"#fdca26\"], [1.0, \"#f0f921\"]], \"type\": \"surface\"}], \"table\": [{\"cells\": {\"fill\": {\"color\": \"#EBF0F8\"}, \"line\": {\"color\": \"white\"}}, \"header\": {\"fill\": {\"color\": \"#C8D4E3\"}, \"line\": {\"color\": \"white\"}}, \"type\": \"table\"}]}, \"layout\": {\"annotationdefaults\": {\"arrowcolor\": \"#2a3f5f\", \"arrowhead\": 0, \"arrowwidth\": 1}, \"coloraxis\": {\"colorbar\": {\"outlinewidth\": 0, \"ticks\": \"\"}}, \"colorscale\": {\"diverging\": [[0, \"#8e0152\"], [0.1, \"#c51b7d\"], [0.2, \"#de77ae\"], [0.3, \"#f1b6da\"], [0.4, \"#fde0ef\"], [0.5, \"#f7f7f7\"], [0.6, \"#e6f5d0\"], [0.7, \"#b8e186\"], [0.8, \"#7fbc41\"], [0.9, \"#4d9221\"], [1, \"#276419\"]], \"sequential\": [[0.0, \"#0d0887\"], [0.1111111111111111, \"#46039f\"], [0.2222222222222222, \"#7201a8\"], [0.3333333333333333, \"#9c179e\"], [0.4444444444444444, \"#bd3786\"], [0.5555555555555556, \"#d8576b\"], [0.6666666666666666, \"#ed7953\"], [0.7777777777777778, \"#fb9f3a\"], [0.8888888888888888, \"#fdca26\"], [1.0, \"#f0f921\"]], \"sequentialminus\": [[0.0, \"#0d0887\"], [0.1111111111111111, \"#46039f\"], [0.2222222222222222, \"#7201a8\"], [0.3333333333333333, \"#9c179e\"], [0.4444444444444444, \"#bd3786\"], [0.5555555555555556, \"#d8576b\"], [0.6666666666666666, \"#ed7953\"], [0.7777777777777778, \"#fb9f3a\"], [0.8888888888888888, \"#fdca26\"], [1.0, \"#f0f921\"]]}, \"colorway\": [\"#636efa\", \"#EF553B\", \"#00cc96\", \"#ab63fa\", \"#FFA15A\", \"#19d3f3\", \"#FF6692\", \"#B6E880\", \"#FF97FF\", \"#FECB52\"], \"font\": {\"color\": \"#2a3f5f\"}, \"geo\": {\"bgcolor\": \"white\", \"lakecolor\": \"white\", \"landcolor\": \"#E5ECF6\", \"showlakes\": true, \"showland\": true, \"subunitcolor\": \"white\"}, \"hoverlabel\": {\"align\": \"left\"}, \"hovermode\": \"closest\", \"mapbox\": {\"style\": \"light\"}, \"paper_bgcolor\": \"white\", \"plot_bgcolor\": \"#E5ECF6\", \"polar\": {\"angularaxis\": {\"gridcolor\": \"white\", \"linecolor\": \"white\", \"ticks\": \"\"}, \"bgcolor\": \"#E5ECF6\", \"radialaxis\": {\"gridcolor\": \"white\", \"linecolor\": \"white\", \"ticks\": \"\"}}, \"scene\": {\"xaxis\": {\"backgroundcolor\": \"#E5ECF6\", \"gridcolor\": \"white\", \"gridwidth\": 2, \"linecolor\": \"white\", \"showbackground\": true, \"ticks\": \"\", \"zerolinecolor\": \"white\"}, \"yaxis\": {\"backgroundcolor\": \"#E5ECF6\", \"gridcolor\": \"white\", \"gridwidth\": 2, \"linecolor\": \"white\", \"showbackground\": true, \"ticks\": \"\", \"zerolinecolor\": \"white\"}, \"zaxis\": {\"backgroundcolor\": \"#E5ECF6\", \"gridcolor\": \"white\", \"gridwidth\": 2, \"linecolor\": \"white\", \"showbackground\": true, \"ticks\": \"\", \"zerolinecolor\": \"white\"}}, \"shapedefaults\": {\"line\": {\"color\": \"#2a3f5f\"}}, \"ternary\": {\"aaxis\": {\"gridcolor\": \"white\", \"linecolor\": \"white\", \"ticks\": \"\"}, \"baxis\": {\"gridcolor\": \"white\", \"linecolor\": \"white\", \"ticks\": \"\"}, \"bgcolor\": \"#E5ECF6\", \"caxis\": {\"gridcolor\": \"white\", \"linecolor\": \"white\", \"ticks\": \"\"}}, \"title\": {\"x\": 0.05}, \"xaxis\": {\"automargin\": true, \"gridcolor\": \"white\", \"linecolor\": \"white\", \"ticks\": \"\", \"title\": {\"standoff\": 15}, \"zerolinecolor\": \"white\", \"zerolinewidth\": 2}, \"yaxis\": {\"automargin\": true, \"gridcolor\": \"white\", \"linecolor\": \"white\", \"ticks\": \"\", \"title\": {\"standoff\": 15}, \"zerolinecolor\": \"white\", \"zerolinewidth\": 2}}}},\n",
              "                        {\"responsive\": true}\n",
              "                    ).then(function(){\n",
              "                            \n",
              "var gd = document.getElementById('9fe78ab3-6d1d-43b4-9563-02d60d47ce11');\n",
              "var x = new MutationObserver(function (mutations, observer) {{\n",
              "        var display = window.getComputedStyle(gd).display;\n",
              "        if (!display || display === 'none') {{\n",
              "            console.log([gd, 'removed!']);\n",
              "            Plotly.purge(gd);\n",
              "            observer.disconnect();\n",
              "        }}\n",
              "}});\n",
              "\n",
              "// Listen for the removal of the full notebook cells\n",
              "var notebookContainer = gd.closest('#notebook-container');\n",
              "if (notebookContainer) {{\n",
              "    x.observe(notebookContainer, {childList: true});\n",
              "}}\n",
              "\n",
              "// Listen for the clearing of the current output cell\n",
              "var outputEl = gd.closest('.output');\n",
              "if (outputEl) {{\n",
              "    x.observe(outputEl, {childList: true});\n",
              "}}\n",
              "\n",
              "                        })\n",
              "                };\n",
              "                \n",
              "            </script>\n",
              "        </div>\n",
              "</body>\n",
              "</html>"
            ]
          },
          "metadata": {
            "tags": []
          }
        }
      ]
    },
    {
      "cell_type": "markdown",
      "metadata": {
        "id": "uO0tmXurS5Xh"
      },
      "source": [
        "## Verify result"
      ]
    },
    {
      "cell_type": "code",
      "metadata": {
        "id": "gl8OAG9YQhoJ"
      },
      "source": [
        "# make a label mapper\n",
        "mapping_ = {\n",
        "    0: 'tennis',\n",
        "    1: 'athletics',\n",
        "    2: 'football',\n",
        "    3: 'cricket',\n",
        "    4: 'rugby'\n",
        "}"
      ],
      "execution_count": 128,
      "outputs": []
    },
    {
      "cell_type": "code",
      "metadata": {
        "id": "AouCroosWykA",
        "outputId": "333b775b-58bb-4f51-90d2-de13b6a3a10b",
        "colab": {
          "base_uri": "https://localhost:8080/",
          "height": 35
        }
      },
      "source": [
        "correct = sum(test_clustered_df['orig_label'] == test_clustered_df['cluster'].map(mapping_))\n",
        "correct"
      ],
      "execution_count": 129,
      "outputs": [
        {
          "output_type": "execute_result",
          "data": {
            "text/plain": [
              "188"
            ]
          },
          "metadata": {
            "tags": []
          },
          "execution_count": 129
        }
      ]
    },
    {
      "cell_type": "code",
      "metadata": {
        "id": "TguDOOLaYEkD",
        "outputId": "6d5281ea-e443-4a46-d8a8-a5948d6a8353",
        "colab": {
          "base_uri": "https://localhost:8080/",
          "height": 35
        }
      },
      "source": [
        "total = test_clustered_df.shape[0]\n",
        "total"
      ],
      "execution_count": 130,
      "outputs": [
        {
          "output_type": "execute_result",
          "data": {
            "text/plain": [
              "295"
            ]
          },
          "metadata": {
            "tags": []
          },
          "execution_count": 130
        }
      ]
    },
    {
      "cell_type": "code",
      "metadata": {
        "id": "o2xfD7zwdo0O",
        "outputId": "b31efbbd-2a3e-48e7-eb2c-66663498799a",
        "colab": {
          "base_uri": "https://localhost:8080/",
          "height": 35
        }
      },
      "source": [
        "percent_correct = correct/total\n",
        "percent_correct"
      ],
      "execution_count": 131,
      "outputs": [
        {
          "output_type": "execute_result",
          "data": {
            "text/plain": [
              "0.6372881355932203"
            ]
          },
          "metadata": {
            "tags": []
          },
          "execution_count": 131
        }
      ]
    },
    {
      "cell_type": "markdown",
      "metadata": {
        "id": "poj-1gGVcho2"
      },
      "source": [
        "Great! We were able to correctly classify 63.7% labels correctly."
      ]
    }
  ]
}