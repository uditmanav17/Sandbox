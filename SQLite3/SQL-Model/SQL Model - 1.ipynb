{
 "cells": [
  {
   "cell_type": "markdown",
   "metadata": {},
   "source": [
    "## [SQL Model](https://sqlmodel.tiangolo.com/)\n",
    "\n",
    "* [Tutorial](https://sqlmodel.tiangolo.com/tutorial/)"
   ]
  },
  {
   "cell_type": "code",
   "execution_count": 48,
   "metadata": {},
   "outputs": [],
   "source": [
    "from typing import Optional\n",
    "\n",
    "from sqlmodel import Field, SQLModel, create_engine"
   ]
  },
  {
   "cell_type": "code",
   "execution_count": 54,
   "metadata": {},
   "outputs": [],
   "source": [
    "# for formatting and color\n",
    "\n",
    "from pprint import pprint as pp\n",
    "from pprint import pformat as pf\n",
    "from termcolor import cprint\n",
    "from colorama import Fore, Back, Style\n",
    "\n",
    "RED = \"\\033[31m\"\n",
    "RESET = \"\\033[39m\""
   ]
  },
  {
   "cell_type": "markdown",
   "metadata": {},
   "source": [
    "### [Creating tables using SQL Model](https://sqlmodel.tiangolo.com/tutorial/create-db-and-table/)\n"
   ]
  },
  {
   "cell_type": "code",
   "execution_count": 2,
   "metadata": {},
   "outputs": [],
   "source": [
    "# this will be our table in DB\n",
    "class Hero(SQLModel, table=True):\n",
    "    id: Optional[int] = Field(default=None, primary_key=True)\n",
    "    name: str\n",
    "    secret_name: str\n",
    "    age: Optional[int] = None\n",
    "\n",
    "\n",
    "# sqlite db\n",
    "sqlite_file_name = \"database.db\"\n",
    "sqlite_url = f\"sqlite:///{sqlite_file_name}\"\n",
    "\n",
    "# engine used to execute queries\n",
    "engine = create_engine(sqlite_url, echo=True)\n",
    "\n",
    "# initializing db and creating tables\n",
    "def create_db_and_tables():\n",
    "    SQLModel.metadata.create_all(engine)"
   ]
  },
  {
   "cell_type": "code",
   "execution_count": 3,
   "metadata": {},
   "outputs": [
    {
     "name": "stdout",
     "output_type": "stream",
     "text": [
      "2021-08-27 22:17:37,955 INFO sqlalchemy.engine.Engine BEGIN (implicit)\n",
      "2021-08-27 22:17:37,956 INFO sqlalchemy.engine.Engine PRAGMA main.table_info(\"hero\")\n",
      "2021-08-27 22:17:37,956 INFO sqlalchemy.engine.Engine [raw sql] ()\n",
      "2021-08-27 22:17:37,960 INFO sqlalchemy.engine.Engine PRAGMA temp.table_info(\"hero\")\n",
      "2021-08-27 22:17:37,960 INFO sqlalchemy.engine.Engine [raw sql] ()\n",
      "2021-08-27 22:17:37,960 INFO sqlalchemy.engine.Engine \n",
      "CREATE TABLE hero (\n",
      "\tid INTEGER, \n",
      "\tname VARCHAR NOT NULL, \n",
      "\tsecret_name VARCHAR NOT NULL, \n",
      "\tage INTEGER, \n",
      "\tPRIMARY KEY (id)\n",
      ")\n",
      "\n",
      "\n",
      "2021-08-27 22:17:37,964 INFO sqlalchemy.engine.Engine [no key 0.00158s] ()\n",
      "2021-08-27 22:17:38,470 INFO sqlalchemy.engine.Engine CREATE INDEX ix_hero_id ON hero (id)\n",
      "2021-08-27 22:17:38,470 INFO sqlalchemy.engine.Engine [no key 0.00092s] ()\n",
      "2021-08-27 22:17:38,588 INFO sqlalchemy.engine.Engine CREATE INDEX ix_hero_name ON hero (name)\n",
      "2021-08-27 22:17:38,588 INFO sqlalchemy.engine.Engine [no key 0.00059s] ()\n",
      "2021-08-27 22:17:38,751 INFO sqlalchemy.engine.Engine CREATE INDEX ix_hero_secret_name ON hero (secret_name)\n",
      "2021-08-27 22:17:38,755 INFO sqlalchemy.engine.Engine [no key 0.00362s] ()\n",
      "2021-08-27 22:17:39,032 INFO sqlalchemy.engine.Engine CREATE INDEX ix_hero_age ON hero (age)\n",
      "2021-08-27 22:17:39,032 INFO sqlalchemy.engine.Engine [no key 0.00086s] ()\n",
      "2021-08-27 22:17:39,184 INFO sqlalchemy.engine.Engine COMMIT\n"
     ]
    }
   ],
   "source": [
    "create_db_and_tables()"
   ]
  },
  {
   "cell_type": "markdown",
   "metadata": {},
   "source": [
    "### [Creating tables using SQL Model](https://sqlmodel.tiangolo.com/tutorial/create-db-and-table/)\n"
   ]
  },
  {
   "cell_type": "code",
   "execution_count": 4,
   "metadata": {},
   "outputs": [],
   "source": [
    "from sqlmodel import Session\n",
    "\n",
    "\n",
    "def create_heroes():\n",
    "    # Create each of the objects/instances of the Hero model.\n",
    "    # Each of them represents the data for one row.\n",
    "    hero_1 = Hero(name=\"Deadpond\", secret_name=\"Dive Wilson\")\n",
    "    hero_2 = Hero(name=\"Spider-Boy\", secret_name=\"Pedro Parqueador\")\n",
    "    hero_3 = Hero(name=\"Rusty-Man\", secret_name=\"Tommy Sharp\", age=48)\n",
    "\n",
    "    # Use a with block to create a Session using the engine.\n",
    "    # The new sesion will be assigned to the variable session.\n",
    "    with Session(engine) as session:\n",
    "        # Add each of the objects/instances to the session.\n",
    "        session.add(hero_1)\n",
    "        session.add(hero_2)\n",
    "        session.add(hero_3)\n",
    "\n",
    "        # Commit the changes to the database.\n",
    "        session.commit()"
   ]
  },
  {
   "cell_type": "code",
   "execution_count": 5,
   "metadata": {},
   "outputs": [
    {
     "name": "stdout",
     "output_type": "stream",
     "text": [
      "2021-08-27 22:17:49,197 INFO sqlalchemy.engine.Engine BEGIN (implicit)\n",
      "2021-08-27 22:17:49,201 INFO sqlalchemy.engine.Engine INSERT INTO hero (name, secret_name, age) VALUES (?, ?, ?)\n",
      "2021-08-27 22:17:49,201 INFO sqlalchemy.engine.Engine [generated in 0.00108s] ('Deadpond', 'Dive Wilson', None)\n",
      "2021-08-27 22:17:49,205 INFO sqlalchemy.engine.Engine INSERT INTO hero (name, secret_name, age) VALUES (?, ?, ?)\n",
      "2021-08-27 22:17:49,209 INFO sqlalchemy.engine.Engine [cached since 0.007907s ago] ('Spider-Boy', 'Pedro Parqueador', None)\n",
      "2021-08-27 22:17:49,209 INFO sqlalchemy.engine.Engine INSERT INTO hero (name, secret_name, age) VALUES (?, ?, ?)\n",
      "2021-08-27 22:17:49,209 INFO sqlalchemy.engine.Engine [cached since 0.01033s ago] ('Rusty-Man', 'Tommy Sharp', 48)\n",
      "2021-08-27 22:17:49,213 INFO sqlalchemy.engine.Engine COMMIT\n"
     ]
    }
   ],
   "source": [
    "create_heroes()"
   ]
  },
  {
   "cell_type": "markdown",
   "metadata": {},
   "source": [
    "### [Automatic ID's](https://sqlmodel.tiangolo.com/tutorial/automatic-id-none-refresh/)"
   ]
  },
  {
   "cell_type": "code",
   "execution_count": 78,
   "metadata": {},
   "outputs": [],
   "source": [
    "def create_heroes():\n",
    "    hero_1 = Hero(name=\"Deadpond\", secret_name=\"Dive Wilson\")\n",
    "    hero_2 = Hero(name=\"Spider-Boy\", secret_name=\"Pedro Parqueador\")\n",
    "    hero_3 = Hero(name=\"Rusty-Man\", secret_name=\"Tommy Sharp\", age=48)\n",
    "\n",
    "    print(Fore.GREEN)\n",
    "    print(\"\\nBefore interacting with the database\")\n",
    "    print(\"Hero 1:\", hero_1)\n",
    "    print(\"Hero 2:\", hero_2)\n",
    "    print(\"Hero 3:\", hero_3)\n",
    "    print(Style.RESET_ALL)\n",
    "\n",
    "    with Session(engine) as session:\n",
    "        session.add(hero_1)\n",
    "        session.add(hero_2)\n",
    "        session.add(hero_3)\n",
    "\n",
    "        # check id before inserting into db\n",
    "        print(Fore.GREEN)\n",
    "        print(\"\\nAfter adding to the session\")\n",
    "        print(\"Hero 1:\", hero_1)\n",
    "        print(\"Hero 2:\", hero_2)\n",
    "        print(\"Hero 3:\", hero_3)\n",
    "        print(Style.RESET_ALL)\n",
    "\n",
    "        session.commit()\n",
    "\n",
    "        # objects expire after commiting to db\n",
    "        print(Fore.GREEN)\n",
    "        print(\"\\nAfter committing the session\")\n",
    "        print(\"Hero 1:\", hero_1)\n",
    "        print(\"Hero 2:\", hero_2)\n",
    "        print(\"Hero 3:\", hero_3)\n",
    "        print(Style.RESET_ALL)\n",
    "\n",
    "        # will be automatically refreshed if any attribute is accessed\n",
    "        print(Fore.GREEN)\n",
    "        print(\"\\nAfter committing the session, show IDs\")\n",
    "        print(\"Hero 1 ID:\", hero_1.id)\n",
    "        print(\"Hero 2 ID:\", hero_2.id)\n",
    "        print(\"Hero 3 ID:\", hero_3.id)\n",
    "        print(Style.RESET_ALL)\n",
    "\n",
    "        print(Fore.GREEN)\n",
    "        print(\"\\nAfter committing the session, show names\")\n",
    "        print(\"Hero 1 name:\", hero_1.name)\n",
    "        print(\"Hero 2 name:\", hero_2.name)\n",
    "        print(\"Hero 3 name:\", hero_3.name)\n",
    "        print(Style.RESET_ALL)\n",
    "\n",
    "        # we can also force a refresh\n",
    "        session.refresh(hero_1)\n",
    "        session.refresh(hero_2)\n",
    "        session.refresh(hero_3)\n",
    "\n",
    "        print(Fore.GREEN)\n",
    "        print(\"\\nAfter refreshing the heroes\")\n",
    "        print(\"Hero 1:\", hero_1)\n",
    "        print(\"Hero 2:\", hero_2)\n",
    "        print(\"Hero 3:\", hero_3)\n",
    "        print(Style.RESET_ALL)\n",
    "\n",
    "    # after session is closed, refreshed objects remain\n",
    "    print(Fore.GREEN)\n",
    "    print(\"\\nAfter the session closes\")\n",
    "    print(\"Hero 1:\", hero_1)\n",
    "    print(\"Hero 2:\", hero_2)\n",
    "    print(\"Hero 3:\", hero_3)\n",
    "    print(Style.RESET_ALL)"
   ]
  },
  {
   "cell_type": "code",
   "execution_count": 79,
   "metadata": {},
   "outputs": [
    {
     "name": "stdout",
     "output_type": "stream",
     "text": [
      "\u001b[32m\n",
      "\n",
      "Before interacting with the database\n",
      "Hero 1: id=None name='Deadpond' secret_name='Dive Wilson' age=None\n",
      "Hero 2: id=None name='Spider-Boy' secret_name='Pedro Parqueador' age=None\n",
      "Hero 3: id=None name='Rusty-Man' secret_name='Tommy Sharp' age=48\n",
      "\u001b[0m\n",
      "\u001b[32m\n",
      "\n",
      "After adding to the session\n",
      "Hero 1: id=None name='Deadpond' secret_name='Dive Wilson' age=None\n",
      "Hero 2: id=None name='Spider-Boy' secret_name='Pedro Parqueador' age=None\n",
      "Hero 3: id=None name='Rusty-Man' secret_name='Tommy Sharp' age=48\n",
      "\u001b[0m\n",
      "2021-08-27 23:12:37,672 INFO sqlalchemy.engine.Engine BEGIN (implicit)\n",
      "2021-08-27 23:12:37,673 INFO sqlalchemy.engine.Engine INSERT INTO hero (name, secret_name, age) VALUES (?, ?, ?)\n",
      "2021-08-27 23:12:37,673 INFO sqlalchemy.engine.Engine [cached since 3288s ago] ('Deadpond', 'Dive Wilson', None)\n",
      "2021-08-27 23:12:37,677 INFO sqlalchemy.engine.Engine INSERT INTO hero (name, secret_name, age) VALUES (?, ?, ?)\n",
      "2021-08-27 23:12:37,677 INFO sqlalchemy.engine.Engine [cached since 3288s ago] ('Spider-Boy', 'Pedro Parqueador', None)\n",
      "2021-08-27 23:12:37,677 INFO sqlalchemy.engine.Engine INSERT INTO hero (name, secret_name, age) VALUES (?, ?, ?)\n",
      "2021-08-27 23:12:37,681 INFO sqlalchemy.engine.Engine [cached since 3288s ago] ('Rusty-Man', 'Tommy Sharp', 48)\n",
      "2021-08-27 23:12:37,681 INFO sqlalchemy.engine.Engine COMMIT\n",
      "\u001b[32m\n",
      "\n",
      "After committing the session\n",
      "Hero 1: \n",
      "Hero 2: \n",
      "Hero 3: \n",
      "\u001b[0m\n",
      "\u001b[32m\n",
      "\n",
      "After committing the session, show IDs\n",
      "2021-08-27 23:12:38,126 INFO sqlalchemy.engine.Engine BEGIN (implicit)\n",
      "2021-08-27 23:12:38,126 INFO sqlalchemy.engine.Engine SELECT hero.id AS hero_id, hero.name AS hero_name, hero.secret_name AS hero_secret_name, hero.age AS hero_age \n",
      "FROM hero \n",
      "WHERE hero.id = ?\n",
      "2021-08-27 23:12:38,126 INFO sqlalchemy.engine.Engine [cached since 3194s ago] (8,)\n",
      "Hero 1 ID: 8\n",
      "2021-08-27 23:12:38,126 INFO sqlalchemy.engine.Engine SELECT hero.id AS hero_id, hero.name AS hero_name, hero.secret_name AS hero_secret_name, hero.age AS hero_age \n",
      "FROM hero \n",
      "WHERE hero.id = ?\n",
      "2021-08-27 23:12:38,130 INFO sqlalchemy.engine.Engine [cached since 3194s ago] (9,)\n",
      "Hero 2 ID: 9\n",
      "2021-08-27 23:12:38,130 INFO sqlalchemy.engine.Engine SELECT hero.id AS hero_id, hero.name AS hero_name, hero.secret_name AS hero_secret_name, hero.age AS hero_age \n",
      "FROM hero \n",
      "WHERE hero.id = ?\n",
      "2021-08-27 23:12:38,130 INFO sqlalchemy.engine.Engine [cached since 3194s ago] (10,)\n",
      "Hero 3 ID: 10\n",
      "\u001b[0m\n",
      "\u001b[32m\n",
      "\n",
      "After committing the session, show names\n",
      "Hero 1 name: Deadpond\n",
      "Hero 2 name: Spider-Boy\n",
      "Hero 3 name: Rusty-Man\n",
      "\u001b[0m\n",
      "2021-08-27 23:12:38,134 INFO sqlalchemy.engine.Engine SELECT hero.id, hero.name, hero.secret_name, hero.age \n",
      "FROM hero \n",
      "WHERE hero.id = ?\n",
      "2021-08-27 23:12:38,134 INFO sqlalchemy.engine.Engine [cached since 3194s ago] (8,)\n",
      "2021-08-27 23:12:38,134 INFO sqlalchemy.engine.Engine SELECT hero.id, hero.name, hero.secret_name, hero.age \n",
      "FROM hero \n",
      "WHERE hero.id = ?\n",
      "2021-08-27 23:12:38,138 INFO sqlalchemy.engine.Engine [cached since 3194s ago] (9,)\n",
      "2021-08-27 23:12:38,138 INFO sqlalchemy.engine.Engine SELECT hero.id, hero.name, hero.secret_name, hero.age \n",
      "FROM hero \n",
      "WHERE hero.id = ?\n",
      "2021-08-27 23:12:38,138 INFO sqlalchemy.engine.Engine [cached since 3194s ago] (10,)\n",
      "\u001b[32m\n",
      "\n",
      "After refreshing the heroes\n",
      "Hero 1: id=8 name='Deadpond' age=None secret_name='Dive Wilson'\n",
      "Hero 2: id=9 name='Spider-Boy' age=None secret_name='Pedro Parqueador'\n",
      "Hero 3: id=10 name='Rusty-Man' age=48 secret_name='Tommy Sharp'\n",
      "\u001b[0m\n",
      "2021-08-27 23:12:38,138 INFO sqlalchemy.engine.Engine ROLLBACK\n",
      "\u001b[32m\n",
      "\n",
      "After the session closes\n",
      "Hero 1: id=8 name='Deadpond' age=None secret_name='Dive Wilson'\n",
      "Hero 2: id=9 name='Spider-Boy' age=None secret_name='Pedro Parqueador'\n",
      "Hero 3: id=10 name='Rusty-Man' age=48 secret_name='Tommy Sharp'\n",
      "\u001b[0m\n"
     ]
    }
   ],
   "source": [
    "create_heroes()"
   ]
  },
  {
   "cell_type": "markdown",
   "metadata": {},
   "source": [
    "### [Reading Data (SELECT)](https://sqlmodel.tiangolo.com/tutorial/select/)"
   ]
  },
  {
   "cell_type": "code",
   "execution_count": 100,
   "metadata": {},
   "outputs": [],
   "source": [
    "from sqlmodel import select\n",
    "\n",
    "\n",
    "def select_heroes():\n",
    "    with Session(engine) as session:\n",
    "        # Use the select() function to create a statement selecting all the Hero objects.\n",
    "        statement = select(Hero)\n",
    "        # Use session.exec(statement) to make the session use the engine to execute the internal SQL statement.\n",
    "        results = session.exec(statement)\n",
    "        # Iterate for each Hero object in the results.\n",
    "        print()\n",
    "        for hero in results:\n",
    "            cprint(hero, \"green\")\n",
    "\n",
    "        # fetch all records as list in one go\n",
    "        heroes = session.exec(select(Hero)).all()\n",
    "        cprint(\"\\nAll heros as list -\", \"blue\")\n",
    "        cprint(pf(heroes), \"green\")"
   ]
  },
  {
   "cell_type": "code",
   "execution_count": 101,
   "metadata": {},
   "outputs": [
    {
     "name": "stdout",
     "output_type": "stream",
     "text": [
      "2021-08-27 23:32:07,826 INFO sqlalchemy.engine.Engine BEGIN (implicit)\n",
      "2021-08-27 23:32:07,827 INFO sqlalchemy.engine.Engine SELECT hero.id, hero.name, hero.secret_name, hero.age \n",
      "FROM hero\n",
      "2021-08-27 23:32:07,828 INFO sqlalchemy.engine.Engine [no key 0.00082s] ()\n",
      "\n",
      "\u001b[32mid=1 name='Deadpond' age=None secret_name='Dive Wilson'\u001b[0m\n",
      "\u001b[32mid=2 name='Spider-Boy' age=None secret_name='Pedro Parqueador'\u001b[0m\n",
      "\u001b[32mid=3 name='Rusty-Man' age=48 secret_name='Tommy Sharp'\u001b[0m\n",
      "\u001b[32mid=4 name='Tarantula' age=32 secret_name='Natalia Roman-on'\u001b[0m\n",
      "\u001b[32mid=5 name='Black Lion' age=35 secret_name='Trevor Challa'\u001b[0m\n",
      "\u001b[32mid=6 name='Dr. Weird' age=36 secret_name='Steve Weird'\u001b[0m\n",
      "\u001b[32mid=7 name='Captain North America' age=93 secret_name='Esteban Rogelios'\u001b[0m\n",
      "2021-08-27 23:32:07,831 INFO sqlalchemy.engine.Engine SELECT hero.id, hero.name, hero.secret_name, hero.age \n",
      "FROM hero\n",
      "2021-08-27 23:32:07,831 INFO sqlalchemy.engine.Engine [no key 0.00065s] ()\n",
      "\u001b[34m\n",
      "All heros as list -\u001b[0m\n",
      "\u001b[32m[Hero(id=1, name='Deadpond', age=None, secret_name='Dive Wilson'),\n",
      " Hero(id=2, name='Spider-Boy', age=None, secret_name='Pedro Parqueador'),\n",
      " Hero(id=3, name='Rusty-Man', age=48, secret_name='Tommy Sharp'),\n",
      " Hero(id=4, name='Tarantula', age=32, secret_name='Natalia Roman-on'),\n",
      " Hero(id=5, name='Black Lion', age=35, secret_name='Trevor Challa'),\n",
      " Hero(id=6, name='Dr. Weird', age=36, secret_name='Steve Weird'),\n",
      " Hero(id=7, name='Captain North America', age=93, secret_name='Esteban Rogelios')]\u001b[0m\n",
      "2021-08-27 23:32:07,833 INFO sqlalchemy.engine.Engine ROLLBACK\n"
     ]
    }
   ],
   "source": [
    "select_heroes()"
   ]
  },
  {
   "cell_type": "markdown",
   "metadata": {},
   "source": [
    "### [Filtering Data](https://sqlmodel.tiangolo.com/tutorial/where/)\n",
    "\n",
    "* clear db and insert these records before querying"
   ]
  },
  {
   "cell_type": "code",
   "execution_count": 80,
   "metadata": {},
   "outputs": [
    {
     "name": "stdout",
     "output_type": "stream",
     "text": [
      "2021-08-27 23:13:09,578 INFO sqlalchemy.engine.Engine BEGIN (implicit)\n",
      "2021-08-27 23:13:09,578 INFO sqlalchemy.engine.Engine INSERT INTO hero (name, secret_name, age) VALUES (?, ?, ?)\n",
      "2021-08-27 23:13:09,578 INFO sqlalchemy.engine.Engine [cached since 3320s ago] ('Deadpond', 'Dive Wilson', None)\n",
      "2021-08-27 23:13:09,583 INFO sqlalchemy.engine.Engine INSERT INTO hero (name, secret_name, age) VALUES (?, ?, ?)\n",
      "2021-08-27 23:13:09,583 INFO sqlalchemy.engine.Engine [cached since 3320s ago] ('Spider-Boy', 'Pedro Parqueador', None)\n",
      "2021-08-27 23:13:09,583 INFO sqlalchemy.engine.Engine INSERT INTO hero (name, secret_name, age) VALUES (?, ?, ?)\n",
      "2021-08-27 23:13:09,583 INFO sqlalchemy.engine.Engine [cached since 3320s ago] ('Rusty-Man', 'Tommy Sharp', 48)\n",
      "2021-08-27 23:13:09,587 INFO sqlalchemy.engine.Engine INSERT INTO hero (name, secret_name, age) VALUES (?, ?, ?)\n",
      "2021-08-27 23:13:09,587 INFO sqlalchemy.engine.Engine [cached since 3320s ago] ('Tarantula', 'Natalia Roman-on', 32)\n",
      "2021-08-27 23:13:09,587 INFO sqlalchemy.engine.Engine INSERT INTO hero (name, secret_name, age) VALUES (?, ?, ?)\n",
      "2021-08-27 23:13:09,587 INFO sqlalchemy.engine.Engine [cached since 3320s ago] ('Black Lion', 'Trevor Challa', 35)\n",
      "2021-08-27 23:13:09,587 INFO sqlalchemy.engine.Engine INSERT INTO hero (name, secret_name, age) VALUES (?, ?, ?)\n",
      "2021-08-27 23:13:09,587 INFO sqlalchemy.engine.Engine [cached since 3320s ago] ('Dr. Weird', 'Steve Weird', 36)\n",
      "2021-08-27 23:13:09,591 INFO sqlalchemy.engine.Engine INSERT INTO hero (name, secret_name, age) VALUES (?, ?, ?)\n",
      "2021-08-27 23:13:09,591 INFO sqlalchemy.engine.Engine [cached since 3320s ago] ('Captain North America', 'Esteban Rogelios', 93)\n",
      "2021-08-27 23:13:09,591 INFO sqlalchemy.engine.Engine COMMIT\n"
     ]
    }
   ],
   "source": [
    "def create_heroes():\n",
    "    hero_1 = Hero(name=\"Deadpond\", secret_name=\"Dive Wilson\")\n",
    "    hero_2 = Hero(name=\"Spider-Boy\", secret_name=\"Pedro Parqueador\")\n",
    "    hero_3 = Hero(name=\"Rusty-Man\", secret_name=\"Tommy Sharp\", age=48)\n",
    "    hero_4 = Hero(name=\"Tarantula\", secret_name=\"Natalia Roman-on\", age=32)\n",
    "    hero_5 = Hero(name=\"Black Lion\", secret_name=\"Trevor Challa\", age=35)\n",
    "    hero_6 = Hero(name=\"Dr. Weird\", secret_name=\"Steve Weird\", age=36)\n",
    "    hero_7 = Hero(name=\"Captain North America\", secret_name=\"Esteban Rogelios\", age=93)\n",
    "\n",
    "    with Session(engine) as session:\n",
    "        session.add(hero_1)\n",
    "        session.add(hero_2)\n",
    "        session.add(hero_3)\n",
    "        session.add(hero_4)\n",
    "        session.add(hero_5)\n",
    "        session.add(hero_6)\n",
    "        session.add(hero_7)\n",
    "\n",
    "        session.commit()\n",
    "\n",
    "\n",
    "create_heroes()"
   ]
  },
  {
   "cell_type": "code",
   "execution_count": 81,
   "metadata": {},
   "outputs": [],
   "source": [
    "from sqlmodel import or_, col\n",
    "\n",
    "\n",
    "def select_heroes():\n",
    "    with Session(engine) as session:\n",
    "        statement1 = select(Hero).where(Hero.age > 35)\n",
    "        # multiple where, using chaining or as params\n",
    "        statement2 = select(Hero).where(Hero.age > 35, Hero.age < 90)\n",
    "        statement3 = select(Hero).where(Hero.age > 35).where(Hero.age < 90)\n",
    "\n",
    "        # using or (remove IDE WARNING using col)\n",
    "        statement4 = select(Hero).where(or_(col(Hero.age) <= 35, col(Hero.age) > 90))\n",
    "\n",
    "        for stmnt in [statement1, statement2, statement3, statement4]:\n",
    "            results = session.exec(stmnt)\n",
    "            print(\"\\n\")\n",
    "            for hero in results:\n",
    "                cprint(hero, \"green\")\n",
    "            print(\"\\n\")"
   ]
  },
  {
   "cell_type": "code",
   "execution_count": 82,
   "metadata": {},
   "outputs": [
    {
     "name": "stdout",
     "output_type": "stream",
     "text": [
      "2021-08-27 23:13:13,847 INFO sqlalchemy.engine.Engine BEGIN (implicit)\n",
      "2021-08-27 23:13:13,847 INFO sqlalchemy.engine.Engine SELECT hero.id, hero.name, hero.secret_name, hero.age \n",
      "FROM hero \n",
      "WHERE hero.age > ?\n",
      "2021-08-27 23:13:13,847 INFO sqlalchemy.engine.Engine [no key 0.00109s] (35,)\n",
      "\n",
      "\n",
      "\u001b[32mid=6 name='Dr. Weird' age=36 secret_name='Steve Weird'\u001b[0m\n",
      "\u001b[32mid=3 name='Rusty-Man' age=48 secret_name='Tommy Sharp'\u001b[0m\n",
      "\u001b[32mid=7 name='Captain North America' age=93 secret_name='Esteban Rogelios'\u001b[0m\n",
      "\n",
      "\n",
      "2021-08-27 23:13:13,851 INFO sqlalchemy.engine.Engine SELECT hero.id, hero.name, hero.secret_name, hero.age \n",
      "FROM hero \n",
      "WHERE hero.age > ? AND hero.age < ?\n",
      "2021-08-27 23:13:13,851 INFO sqlalchemy.engine.Engine [no key 0.00081s] (35, 90)\n",
      "\n",
      "\n",
      "\u001b[32mid=6 name='Dr. Weird' age=36 secret_name='Steve Weird'\u001b[0m\n",
      "\u001b[32mid=3 name='Rusty-Man' age=48 secret_name='Tommy Sharp'\u001b[0m\n",
      "\n",
      "\n",
      "2021-08-27 23:13:13,855 INFO sqlalchemy.engine.Engine SELECT hero.id, hero.name, hero.secret_name, hero.age \n",
      "FROM hero \n",
      "WHERE hero.age > ? AND hero.age < ?\n",
      "2021-08-27 23:13:13,855 INFO sqlalchemy.engine.Engine [no key 0.00111s] (35, 90)\n",
      "\n",
      "\n",
      "\u001b[32mid=6 name='Dr. Weird' age=36 secret_name='Steve Weird'\u001b[0m\n",
      "\u001b[32mid=3 name='Rusty-Man' age=48 secret_name='Tommy Sharp'\u001b[0m\n",
      "\n",
      "\n",
      "2021-08-27 23:13:13,859 INFO sqlalchemy.engine.Engine SELECT hero.id, hero.name, hero.secret_name, hero.age \n",
      "FROM hero \n",
      "WHERE hero.age <= ? OR hero.age > ?\n",
      "2021-08-27 23:13:13,859 INFO sqlalchemy.engine.Engine [no key 0.00107s] (35, 90)\n",
      "\n",
      "\n",
      "\u001b[32mid=4 name='Tarantula' age=32 secret_name='Natalia Roman-on'\u001b[0m\n",
      "\u001b[32mid=5 name='Black Lion' age=35 secret_name='Trevor Challa'\u001b[0m\n",
      "\u001b[32mid=7 name='Captain North America' age=93 secret_name='Esteban Rogelios'\u001b[0m\n",
      "\n",
      "\n",
      "2021-08-27 23:13:13,863 INFO sqlalchemy.engine.Engine ROLLBACK\n"
     ]
    }
   ],
   "source": [
    "select_heroes()"
   ]
  },
  {
   "cell_type": "markdown",
   "metadata": {},
   "source": [
    "### [Reading One Row](https://sqlmodel.tiangolo.com/tutorial/one/)"
   ]
  },
  {
   "cell_type": "code",
   "execution_count": 86,
   "metadata": {},
   "outputs": [
    {
     "name": "stdout",
     "output_type": "stream",
     "text": [
      "2021-08-27 23:16:05,903 INFO sqlalchemy.engine.Engine BEGIN (implicit)\n",
      "2021-08-27 23:16:05,908 INFO sqlalchemy.engine.Engine SELECT hero.id, hero.name, hero.secret_name, hero.age \n",
      "FROM hero \n",
      "WHERE hero.age <= ?\n",
      "2021-08-27 23:16:05,909 INFO sqlalchemy.engine.Engine [no key 0.00094s] (35,)\n",
      "\u001b[32mHero: id=4 name='Tarantula' age=32 secret_name='Natalia Roman-on'\u001b[0m\n",
      "2021-08-27 23:16:05,909 INFO sqlalchemy.engine.Engine ROLLBACK\n",
      "2021-08-27 23:16:05,909 INFO sqlalchemy.engine.Engine BEGIN (implicit)\n",
      "2021-08-27 23:16:05,913 INFO sqlalchemy.engine.Engine SELECT hero.id, hero.name, hero.secret_name, hero.age \n",
      "FROM hero \n",
      "WHERE hero.age < ?\n",
      "2021-08-27 23:16:05,913 INFO sqlalchemy.engine.Engine [no key 0.00091s] (25,)\n",
      "\u001b[31mHero: None\u001b[0m\n",
      "2021-08-27 23:16:05,913 INFO sqlalchemy.engine.Engine ROLLBACK\n"
     ]
    }
   ],
   "source": [
    "# Using first - Notice that .first() is a method of the results object, not of the select() statement.\n",
    "\n",
    "with Session(engine) as session:\n",
    "    # this query would find two rows, by using .first() we get only the first row.\n",
    "    statement = select(Hero).where(Hero.age <= 35)\n",
    "    results = session.exec(statement)\n",
    "    hero = results.first()\n",
    "    cprint(f\"Hero: {hero}\", \"green\")\n",
    "\n",
    "# It would be possible that the SQL query doesn't find any row.\n",
    "# In that case, .first() will return None:\n",
    "with Session(engine) as session:\n",
    "    statement = select(Hero).where(Hero.age < 25)\n",
    "    results = session.exec(statement)\n",
    "    hero = results.first()\n",
    "    cprint(f\"Hero: {hero}\", \"red\")"
   ]
  },
  {
   "cell_type": "code",
   "execution_count": 90,
   "metadata": {},
   "outputs": [
    {
     "name": "stdout",
     "output_type": "stream",
     "text": [
      "2021-08-27 23:19:44,782 INFO sqlalchemy.engine.Engine BEGIN (implicit)\n",
      "2021-08-27 23:19:44,782 INFO sqlalchemy.engine.Engine SELECT hero.id, hero.name, hero.secret_name, hero.age \n",
      "FROM hero \n",
      "WHERE hero.name = ?\n",
      "2021-08-27 23:19:44,782 INFO sqlalchemy.engine.Engine [no key 0.00072s] ('Deadpond',)\n",
      "\u001b[32mHero: id=1 name='Deadpond' age=None secret_name='Dive Wilson'\u001b[0m\n",
      "2021-08-27 23:19:44,786 INFO sqlalchemy.engine.Engine ROLLBACK\n"
     ]
    }
   ],
   "source": [
    "# Using one - Exactly One\n",
    "# There might be cases where we want to ensure that there's exactly one row matching the query.\n",
    "# And if there was more than one, it would mean that there's an error in the system,\n",
    "# and we should terminate with an error.\n",
    "with Session(engine) as session:\n",
    "    statement = select(Hero).where(Hero.name == \"Deadpond\")\n",
    "    results = session.exec(statement)\n",
    "    hero = results.one()\n",
    "    cprint(f\"Hero: {hero}\", \"green\")"
   ]
  },
  {
   "cell_type": "code",
   "execution_count": 91,
   "metadata": {},
   "outputs": [
    {
     "name": "stdout",
     "output_type": "stream",
     "text": [
      "2021-08-27 23:19:48,938 INFO sqlalchemy.engine.Engine BEGIN (implicit)\n",
      "2021-08-27 23:19:48,938 INFO sqlalchemy.engine.Engine SELECT hero.id, hero.name, hero.secret_name, hero.age \n",
      "FROM hero \n",
      "WHERE hero.age <= ?\n",
      "2021-08-27 23:19:48,942 INFO sqlalchemy.engine.Engine [no key 0.00081s] (35,)\n",
      "2021-08-27 23:19:48,942 INFO sqlalchemy.engine.Engine ROLLBACK\n"
     ]
    },
    {
     "ename": "MultipleResultsFound",
     "evalue": "Multiple rows were found when exactly one was required",
     "output_type": "error",
     "traceback": [
      "\u001b[1;31m---------------------------------------------------------------------------\u001b[0m",
      "\u001b[1;31mMultipleResultsFound\u001b[0m                      Traceback (most recent call last)",
      "\u001b[1;32m<ipython-input-91-ed52c979bfb6>\u001b[0m in \u001b[0;36m<module>\u001b[1;34m\u001b[0m\n\u001b[0;32m      3\u001b[0m     \u001b[0mstatement\u001b[0m \u001b[1;33m=\u001b[0m \u001b[0mselect\u001b[0m\u001b[1;33m(\u001b[0m\u001b[0mHero\u001b[0m\u001b[1;33m)\u001b[0m\u001b[1;33m.\u001b[0m\u001b[0mwhere\u001b[0m\u001b[1;33m(\u001b[0m\u001b[0mHero\u001b[0m\u001b[1;33m.\u001b[0m\u001b[0mage\u001b[0m \u001b[1;33m<=\u001b[0m \u001b[1;36m35\u001b[0m\u001b[1;33m)\u001b[0m\u001b[1;33m\u001b[0m\u001b[1;33m\u001b[0m\u001b[0m\n\u001b[0;32m      4\u001b[0m     \u001b[0mresults\u001b[0m \u001b[1;33m=\u001b[0m \u001b[0msession\u001b[0m\u001b[1;33m.\u001b[0m\u001b[0mexec\u001b[0m\u001b[1;33m(\u001b[0m\u001b[0mstatement\u001b[0m\u001b[1;33m)\u001b[0m\u001b[1;33m\u001b[0m\u001b[1;33m\u001b[0m\u001b[0m\n\u001b[1;32m----> 5\u001b[1;33m     \u001b[0mhero\u001b[0m \u001b[1;33m=\u001b[0m \u001b[0mresults\u001b[0m\u001b[1;33m.\u001b[0m\u001b[0mone\u001b[0m\u001b[1;33m(\u001b[0m\u001b[1;33m)\u001b[0m\u001b[1;33m\u001b[0m\u001b[1;33m\u001b[0m\u001b[0m\n\u001b[0m\u001b[0;32m      6\u001b[0m     \u001b[0mcprint\u001b[0m\u001b[1;33m(\u001b[0m\u001b[1;34mf\"Hero: {hero}\"\u001b[0m\u001b[1;33m,\u001b[0m \u001b[1;34m\"red\"\u001b[0m\u001b[1;33m)\u001b[0m\u001b[1;33m\u001b[0m\u001b[1;33m\u001b[0m\u001b[0m\n",
      "\u001b[1;32m~\\miniconda3\\envs\\test\\lib\\site-packages\\sqlalchemy\\engine\\result.py\u001b[0m in \u001b[0;36mone\u001b[1;34m(self)\u001b[0m\n\u001b[0;32m   1372\u001b[0m \u001b[1;33m\u001b[0m\u001b[0m\n\u001b[0;32m   1373\u001b[0m         \"\"\"\n\u001b[1;32m-> 1374\u001b[1;33m         return self._only_one_row(\n\u001b[0m\u001b[0;32m   1375\u001b[0m             \u001b[0mraise_for_second_row\u001b[0m\u001b[1;33m=\u001b[0m\u001b[1;32mTrue\u001b[0m\u001b[1;33m,\u001b[0m \u001b[0mraise_for_none\u001b[0m\u001b[1;33m=\u001b[0m\u001b[1;32mTrue\u001b[0m\u001b[1;33m,\u001b[0m \u001b[0mscalar\u001b[0m\u001b[1;33m=\u001b[0m\u001b[1;32mFalse\u001b[0m\u001b[1;33m\u001b[0m\u001b[1;33m\u001b[0m\u001b[0m\n\u001b[0;32m   1376\u001b[0m         )\n",
      "\u001b[1;32m~\\miniconda3\\envs\\test\\lib\\site-packages\\sqlalchemy\\engine\\result.py\u001b[0m in \u001b[0;36m_only_one_row\u001b[1;34m(self, raise_for_second_row, raise_for_none, scalar)\u001b[0m\n\u001b[0;32m    611\u001b[0m             \u001b[1;32mif\u001b[0m \u001b[0mnext_row\u001b[0m \u001b[1;32mis\u001b[0m \u001b[1;32mnot\u001b[0m \u001b[0m_NO_ROW\u001b[0m\u001b[1;33m:\u001b[0m\u001b[1;33m\u001b[0m\u001b[1;33m\u001b[0m\u001b[0m\n\u001b[0;32m    612\u001b[0m                 \u001b[0mself\u001b[0m\u001b[1;33m.\u001b[0m\u001b[0m_soft_close\u001b[0m\u001b[1;33m(\u001b[0m\u001b[0mhard\u001b[0m\u001b[1;33m=\u001b[0m\u001b[1;32mTrue\u001b[0m\u001b[1;33m)\u001b[0m\u001b[1;33m\u001b[0m\u001b[1;33m\u001b[0m\u001b[0m\n\u001b[1;32m--> 613\u001b[1;33m                 raise exc.MultipleResultsFound(\n\u001b[0m\u001b[0;32m    614\u001b[0m                     \u001b[1;34m\"Multiple rows were found when exactly one was required\"\u001b[0m\u001b[1;33m\u001b[0m\u001b[1;33m\u001b[0m\u001b[0m\n\u001b[0;32m    615\u001b[0m                     \u001b[1;32mif\u001b[0m \u001b[0mraise_for_none\u001b[0m\u001b[1;33m\u001b[0m\u001b[1;33m\u001b[0m\u001b[0m\n",
      "\u001b[1;31mMultipleResultsFound\u001b[0m: Multiple rows were found when exactly one was required"
     ]
    }
   ],
   "source": [
    "# Exactly one with more data\n",
    "with Session(engine) as session:\n",
    "    statement = select(Hero).where(Hero.age <= 35)\n",
    "    results = session.exec(statement)\n",
    "    hero = results.one()\n",
    "    cprint(f\"Hero: {hero}\", \"red\")"
   ]
  },
  {
   "cell_type": "code",
   "execution_count": 92,
   "metadata": {},
   "outputs": [
    {
     "name": "stdout",
     "output_type": "stream",
     "text": [
      "2021-08-27 23:20:21,697 INFO sqlalchemy.engine.Engine BEGIN (implicit)\n",
      "2021-08-27 23:20:21,699 INFO sqlalchemy.engine.Engine SELECT hero.id, hero.name, hero.secret_name, hero.age \n",
      "FROM hero \n",
      "WHERE hero.age < ?\n",
      "2021-08-27 23:20:21,700 INFO sqlalchemy.engine.Engine [no key 0.00072s] (25,)\n",
      "2021-08-27 23:20:21,700 INFO sqlalchemy.engine.Engine ROLLBACK\n"
     ]
    },
    {
     "ename": "NoResultFound",
     "evalue": "No row was found when one was required",
     "output_type": "error",
     "traceback": [
      "\u001b[1;31m---------------------------------------------------------------------------\u001b[0m",
      "\u001b[1;31mNoResultFound\u001b[0m                             Traceback (most recent call last)",
      "\u001b[1;32m<ipython-input-92-5b5a69ec739a>\u001b[0m in \u001b[0;36m<module>\u001b[1;34m\u001b[0m\n\u001b[0;32m      3\u001b[0m     \u001b[0mstatement\u001b[0m \u001b[1;33m=\u001b[0m \u001b[0mselect\u001b[0m\u001b[1;33m(\u001b[0m\u001b[0mHero\u001b[0m\u001b[1;33m)\u001b[0m\u001b[1;33m.\u001b[0m\u001b[0mwhere\u001b[0m\u001b[1;33m(\u001b[0m\u001b[0mHero\u001b[0m\u001b[1;33m.\u001b[0m\u001b[0mage\u001b[0m \u001b[1;33m<\u001b[0m \u001b[1;36m25\u001b[0m\u001b[1;33m)\u001b[0m\u001b[1;33m\u001b[0m\u001b[1;33m\u001b[0m\u001b[0m\n\u001b[0;32m      4\u001b[0m     \u001b[0mresults\u001b[0m \u001b[1;33m=\u001b[0m \u001b[0msession\u001b[0m\u001b[1;33m.\u001b[0m\u001b[0mexec\u001b[0m\u001b[1;33m(\u001b[0m\u001b[0mstatement\u001b[0m\u001b[1;33m)\u001b[0m\u001b[1;33m\u001b[0m\u001b[1;33m\u001b[0m\u001b[0m\n\u001b[1;32m----> 5\u001b[1;33m     \u001b[0mhero\u001b[0m \u001b[1;33m=\u001b[0m \u001b[0mresults\u001b[0m\u001b[1;33m.\u001b[0m\u001b[0mone\u001b[0m\u001b[1;33m(\u001b[0m\u001b[1;33m)\u001b[0m\u001b[1;33m\u001b[0m\u001b[1;33m\u001b[0m\u001b[0m\n\u001b[0m\u001b[0;32m      6\u001b[0m     \u001b[0mcprint\u001b[0m\u001b[1;33m(\u001b[0m\u001b[1;34mf\"Hero: {hero}\"\u001b[0m\u001b[1;33m,\u001b[0m \u001b[1;34m\"red\"\u001b[0m\u001b[1;33m)\u001b[0m\u001b[1;33m\u001b[0m\u001b[1;33m\u001b[0m\u001b[0m\n",
      "\u001b[1;32m~\\miniconda3\\envs\\test\\lib\\site-packages\\sqlalchemy\\engine\\result.py\u001b[0m in \u001b[0;36mone\u001b[1;34m(self)\u001b[0m\n\u001b[0;32m   1372\u001b[0m \u001b[1;33m\u001b[0m\u001b[0m\n\u001b[0;32m   1373\u001b[0m         \"\"\"\n\u001b[1;32m-> 1374\u001b[1;33m         return self._only_one_row(\n\u001b[0m\u001b[0;32m   1375\u001b[0m             \u001b[0mraise_for_second_row\u001b[0m\u001b[1;33m=\u001b[0m\u001b[1;32mTrue\u001b[0m\u001b[1;33m,\u001b[0m \u001b[0mraise_for_none\u001b[0m\u001b[1;33m=\u001b[0m\u001b[1;32mTrue\u001b[0m\u001b[1;33m,\u001b[0m \u001b[0mscalar\u001b[0m\u001b[1;33m=\u001b[0m\u001b[1;32mFalse\u001b[0m\u001b[1;33m\u001b[0m\u001b[1;33m\u001b[0m\u001b[0m\n\u001b[0;32m   1376\u001b[0m         )\n",
      "\u001b[1;32m~\\miniconda3\\envs\\test\\lib\\site-packages\\sqlalchemy\\engine\\result.py\u001b[0m in \u001b[0;36m_only_one_row\u001b[1;34m(self, raise_for_second_row, raise_for_none, scalar)\u001b[0m\n\u001b[0;32m    559\u001b[0m         \u001b[1;32mif\u001b[0m \u001b[0mrow\u001b[0m \u001b[1;32mis\u001b[0m \u001b[1;32mNone\u001b[0m\u001b[1;33m:\u001b[0m\u001b[1;33m\u001b[0m\u001b[1;33m\u001b[0m\u001b[0m\n\u001b[0;32m    560\u001b[0m             \u001b[1;32mif\u001b[0m \u001b[0mraise_for_none\u001b[0m\u001b[1;33m:\u001b[0m\u001b[1;33m\u001b[0m\u001b[1;33m\u001b[0m\u001b[0m\n\u001b[1;32m--> 561\u001b[1;33m                 raise exc.NoResultFound(\n\u001b[0m\u001b[0;32m    562\u001b[0m                     \u001b[1;34m\"No row was found when one was required\"\u001b[0m\u001b[1;33m\u001b[0m\u001b[1;33m\u001b[0m\u001b[0m\n\u001b[0;32m    563\u001b[0m                 )\n",
      "\u001b[1;31mNoResultFound\u001b[0m: No row was found when one was required"
     ]
    }
   ],
   "source": [
    "# Exactly one with no data\n",
    "with Session(engine) as session:\n",
    "    statement = select(Hero).where(Hero.age < 25)\n",
    "    results = session.exec(statement)\n",
    "    hero = results.one()\n",
    "    cprint(f\"Hero: {hero}\", \"red\")"
   ]
  },
  {
   "cell_type": "code",
   "execution_count": 93,
   "metadata": {},
   "outputs": [
    {
     "name": "stdout",
     "output_type": "stream",
     "text": [
      "2021-08-27 23:21:09,640 INFO sqlalchemy.engine.Engine BEGIN (implicit)\n",
      "2021-08-27 23:21:09,640 INFO sqlalchemy.engine.Engine SELECT hero.id, hero.name, hero.secret_name, hero.age \n",
      "FROM hero \n",
      "WHERE hero.name = ?\n",
      "2021-08-27 23:21:09,640 INFO sqlalchemy.engine.Engine [no key 0.00058s] ('Deadpond',)\n",
      "\u001b[32mHero: id=1 name='Deadpond' age=None secret_name='Dive Wilson'\u001b[0m\n",
      "2021-08-27 23:21:09,644 INFO sqlalchemy.engine.Engine ROLLBACK\n"
     ]
    }
   ],
   "source": [
    "# compact query version\n",
    "with Session(engine) as session:\n",
    "    hero = session.exec(select(Hero).where(Hero.name == \"Deadpond\")).one()\n",
    "    cprint(f\"Hero: {hero}\", \"green\")"
   ]
  },
  {
   "cell_type": "code",
   "execution_count": 103,
   "metadata": {},
   "outputs": [
    {
     "name": "stdout",
     "output_type": "stream",
     "text": [
      "2021-08-27 23:32:57,194 INFO sqlalchemy.engine.Engine BEGIN (implicit)\n",
      "2021-08-27 23:32:57,196 INFO sqlalchemy.engine.Engine SELECT hero.id AS hero_id, hero.name AS hero_name, hero.secret_name AS hero_secret_name, hero.age AS hero_age \n",
      "FROM hero \n",
      "WHERE hero.id = ?\n",
      "2021-08-27 23:32:57,196 INFO sqlalchemy.engine.Engine [cached since 411.7s ago] (2,)\n",
      "\u001b[32mHero: id=2 name='Spider-Boy' age=None secret_name='Pedro Parqueador'\u001b[0m\n",
      "2021-08-27 23:32:57,198 INFO sqlalchemy.engine.Engine ROLLBACK\n",
      "2021-08-27 23:32:57,199 INFO sqlalchemy.engine.Engine BEGIN (implicit)\n",
      "2021-08-27 23:32:57,200 INFO sqlalchemy.engine.Engine SELECT hero.id, hero.name, hero.secret_name, hero.age \n",
      "FROM hero \n",
      "WHERE hero.id = ?\n",
      "2021-08-27 23:32:57,201 INFO sqlalchemy.engine.Engine [no key 0.00089s] (2,)\n",
      "\u001b[32mHero: id=2 name='Spider-Boy' age=None secret_name='Pedro Parqueador'\u001b[0m\n",
      "2021-08-27 23:32:57,203 INFO sqlalchemy.engine.Engine ROLLBACK\n"
     ]
    }
   ],
   "source": [
    "# using get - https://sqlmodel.tiangolo.com/tutorial/one/#select-by-id-with-get\n",
    "\n",
    "with Session(engine) as session:\n",
    "    hero = session.get(Hero, 2)\n",
    "    cprint(f\"Hero: {hero}\", \"green\")\n",
    "\n",
    "# session.get(Hero, 1) is an equivalent to creating a select(),\n",
    "# then filtering by Id using .where(),\n",
    "# and then getting the first item with .first()\n",
    "with Session(engine) as session:\n",
    "    statement = select(Hero).where(Hero.id == 2)\n",
    "    results = session.exec(statement)\n",
    "    hero = results.first()\n",
    "    cprint(f\"Hero: {hero}\", \"green\")"
   ]
  },
  {
   "cell_type": "code",
   "execution_count": 96,
   "metadata": {},
   "outputs": [
    {
     "name": "stdout",
     "output_type": "stream",
     "text": [
      "2021-08-27 23:27:14,142 INFO sqlalchemy.engine.Engine BEGIN (implicit)\n",
      "2021-08-27 23:27:14,144 INFO sqlalchemy.engine.Engine SELECT hero.id AS hero_id, hero.name AS hero_name, hero.secret_name AS hero_secret_name, hero.age AS hero_age \n",
      "FROM hero \n",
      "WHERE hero.id = ?\n",
      "2021-08-27 23:27:14,144 INFO sqlalchemy.engine.Engine [cached since 68.63s ago] (9001,)\n",
      "\u001b[31mHero: None\u001b[0m\n",
      "2021-08-27 23:27:14,146 INFO sqlalchemy.engine.Engine ROLLBACK\n"
     ]
    }
   ],
   "source": [
    "# Select by Id with .get() with No Data\n",
    "with Session(engine) as session:\n",
    "    hero = session.get(Hero, 9001)\n",
    "    cprint(f\"Hero: {hero}\", \"red\")"
   ]
  },
  {
   "cell_type": "markdown",
   "metadata": {},
   "source": [
    "### [LIMIT and OFFSET](https://sqlmodel.tiangolo.com/tutorial/limit-and-offset/)"
   ]
  },
  {
   "cell_type": "code",
   "execution_count": 105,
   "metadata": {},
   "outputs": [
    {
     "name": "stdout",
     "output_type": "stream",
     "text": [
      "2021-08-27 23:33:37,971 INFO sqlalchemy.engine.Engine BEGIN (implicit)\n",
      "2021-08-27 23:33:37,972 INFO sqlalchemy.engine.Engine SELECT hero.id, hero.name, hero.secret_name, hero.age \n",
      "FROM hero\n",
      " LIMIT ? OFFSET ?\n",
      "2021-08-27 23:33:37,973 INFO sqlalchemy.engine.Engine [no key 0.00109s] (3, 0)\n",
      "\u001b[32m[Hero(id=1, name='Deadpond', age=None, secret_name='Dive Wilson'),\n",
      " Hero(id=2, name='Spider-Boy', age=None, secret_name='Pedro Parqueador'),\n",
      " Hero(id=3, name='Rusty-Man', age=48, secret_name='Tommy Sharp')]\u001b[0m\n",
      "2021-08-27 23:33:37,975 INFO sqlalchemy.engine.Engine ROLLBACK\n"
     ]
    }
   ],
   "source": [
    "# Using limit - limiting result set\n",
    "with Session(engine) as session:\n",
    "    statement = select(Hero).limit(3)  # using limit\n",
    "    results = session.exec(statement)\n",
    "    heroes = results.all()\n",
    "    cprint(pf(heroes), \"green\")"
   ]
  },
  {
   "cell_type": "code",
   "execution_count": 106,
   "metadata": {},
   "outputs": [
    {
     "name": "stdout",
     "output_type": "stream",
     "text": [
      "2021-08-27 23:34:56,710 INFO sqlalchemy.engine.Engine BEGIN (implicit)\n",
      "2021-08-27 23:34:56,711 INFO sqlalchemy.engine.Engine SELECT hero.id, hero.name, hero.secret_name, hero.age \n",
      "FROM hero\n",
      " LIMIT ? OFFSET ?\n",
      "2021-08-27 23:34:56,712 INFO sqlalchemy.engine.Engine [no key 0.00077s] (3, 3)\n",
      "\u001b[32m[Hero(id=4, name='Tarantula', age=32, secret_name='Natalia Roman-on'),\n",
      " Hero(id=5, name='Black Lion', age=35, secret_name='Trevor Challa'),\n",
      " Hero(id=6, name='Dr. Weird', age=36, secret_name='Steve Weird')]\u001b[0m\n",
      "2021-08-27 23:34:56,714 INFO sqlalchemy.engine.Engine ROLLBACK\n"
     ]
    }
   ],
   "source": [
    "# using offset -\n",
    "# imagine we are in a user interface showing the results in batches of 3 heroes at a time\n",
    "with Session(engine) as session:\n",
    "    statement = select(Hero).limit(3).offset(3)\n",
    "    results = session.exec(statement)\n",
    "    heroes = results.all()\n",
    "    cprint(pf(heroes), \"green\")"
   ]
  },
  {
   "cell_type": "code",
   "execution_count": 107,
   "metadata": {},
   "outputs": [
    {
     "name": "stdout",
     "output_type": "stream",
     "text": [
      "2021-08-27 23:36:48,645 INFO sqlalchemy.engine.Engine BEGIN (implicit)\n",
      "2021-08-27 23:36:48,647 INFO sqlalchemy.engine.Engine SELECT hero.id, hero.name, hero.secret_name, hero.age \n",
      "FROM hero \n",
      "WHERE hero.age > ?\n",
      " LIMIT ? OFFSET ?\n",
      "2021-08-27 23:36:48,647 INFO sqlalchemy.engine.Engine [no key 0.00058s] (32, 3, 0)\n",
      "\u001b[32m[Hero(id=5, name='Black Lion', age=35, secret_name='Trevor Challa'),\n",
      " Hero(id=6, name='Dr. Weird', age=36, secret_name='Steve Weird'),\n",
      " Hero(id=3, name='Rusty-Man', age=48, secret_name='Tommy Sharp')]\u001b[0m\n",
      "2021-08-27 23:36:48,649 INFO sqlalchemy.engine.Engine ROLLBACK\n"
     ]
    }
   ],
   "source": [
    "# combining offset and limit with where\n",
    "with Session(engine) as session:\n",
    "    statement = select(Hero).where(Hero.age > 32).limit(3)\n",
    "    results = session.exec(statement)\n",
    "    heroes = results.all()\n",
    "    cprint(pf(heroes), \"green\")"
   ]
  },
  {
   "cell_type": "markdown",
   "metadata": {},
   "source": [
    "### [Updating Data](https://sqlmodel.tiangolo.com/tutorial/update/)"
   ]
  },
  {
   "cell_type": "code",
   "execution_count": 108,
   "metadata": {},
   "outputs": [
    {
     "name": "stdout",
     "output_type": "stream",
     "text": [
      "2021-08-27 23:42:22,547 INFO sqlalchemy.engine.Engine BEGIN (implicit)\n",
      "2021-08-27 23:42:22,548 INFO sqlalchemy.engine.Engine SELECT hero.id, hero.name, hero.secret_name, hero.age \n",
      "FROM hero \n",
      "WHERE hero.name = ?\n",
      "2021-08-27 23:42:22,549 INFO sqlalchemy.engine.Engine [no key 0.00074s] ('Spider-Boy',)\n",
      "\u001b[32mHero(id=2, name='Spider-Boy', age=None, secret_name='Pedro Parqueador')\u001b[0m\n",
      "2021-08-27 23:42:22,553 INFO sqlalchemy.engine.Engine UPDATE hero SET age=? WHERE hero.id = ?\n",
      "2021-08-27 23:42:22,554 INFO sqlalchemy.engine.Engine [generated in 0.00090s] (16, 2)\n",
      "2021-08-27 23:42:22,558 INFO sqlalchemy.engine.Engine COMMIT\n",
      "2021-08-27 23:42:23,014 INFO sqlalchemy.engine.Engine BEGIN (implicit)\n",
      "2021-08-27 23:42:23,015 INFO sqlalchemy.engine.Engine SELECT hero.id, hero.name, hero.secret_name, hero.age \n",
      "FROM hero \n",
      "WHERE hero.id = ?\n",
      "2021-08-27 23:42:23,015 INFO sqlalchemy.engine.Engine [cached since 4979s ago] (2,)\n",
      "\u001b[32mHero(id=2, name='Spider-Boy', age=16, secret_name='Pedro Parqueador')\u001b[0m\n",
      "2021-08-27 23:42:23,017 INFO sqlalchemy.engine.Engine ROLLBACK\n"
     ]
    }
   ],
   "source": [
    "with Session(engine) as session:\n",
    "    # fetch the record\n",
    "    statement = select(Hero).where(Hero.name == \"Spider-Boy\")\n",
    "    results = session.exec(statement)\n",
    "    hero = results.one()\n",
    "    cprint(pf(hero), \"green\")\n",
    "\n",
    "    # update attribute\n",
    "    hero.age = 16\n",
    "    # add record to session\n",
    "    session.add(hero)\n",
    "    # commit session\n",
    "    session.commit()\n",
    "    # before printing record, explicit refresh object\n",
    "    session.refresh(hero)\n",
    "    # print object\n",
    "    cprint(pf(hero), \"green\")"
   ]
  },
  {
   "cell_type": "code",
   "execution_count": 112,
   "metadata": {},
   "outputs": [
    {
     "name": "stdout",
     "output_type": "stream",
     "text": [
      "2021-08-27 23:48:42,629 INFO sqlalchemy.engine.Engine BEGIN (implicit)\n",
      "2021-08-27 23:48:42,631 INFO sqlalchemy.engine.Engine SELECT hero.id, hero.name, hero.secret_name, hero.age \n",
      "FROM hero \n",
      "WHERE hero.name = ?\n",
      "2021-08-27 23:48:42,631 INFO sqlalchemy.engine.Engine [no key 0.00054s] ('Spider-Boy',)\n",
      "\u001b[32mHero 1: id=2 name='Spider-Boy' age=16 secret_name='Pedro Parqueador'\u001b[0m\n",
      "2021-08-27 23:48:42,633 INFO sqlalchemy.engine.Engine SELECT hero.id, hero.name, hero.secret_name, hero.age \n",
      "FROM hero \n",
      "WHERE hero.name = ?\n",
      "2021-08-27 23:48:42,634 INFO sqlalchemy.engine.Engine [no key 0.00059s] ('Captain North America',)\n",
      "\u001b[32mHero 1: id=7 name='Captain North America' age=110 secret_name='Esteban Rogelios'\u001b[0m\n",
      "2021-08-27 23:48:42,635 INFO sqlalchemy.engine.Engine UPDATE hero SET name=?, age=? WHERE hero.id = ?\n",
      "2021-08-27 23:48:42,636 INFO sqlalchemy.engine.Engine [generated in 0.00055s] (('Spider-Youngster', 19, 2), ('Captain North America Except Canada', 111, 7))\n",
      "2021-08-27 23:48:42,638 INFO sqlalchemy.engine.Engine COMMIT\n",
      "2021-08-27 23:48:42,899 INFO sqlalchemy.engine.Engine BEGIN (implicit)\n",
      "2021-08-27 23:48:42,901 INFO sqlalchemy.engine.Engine SELECT hero.id, hero.name, hero.secret_name, hero.age \n",
      "FROM hero \n",
      "WHERE hero.id = ?\n",
      "2021-08-27 23:48:42,902 INFO sqlalchemy.engine.Engine [cached since 5359s ago] (2,)\n",
      "2021-08-27 23:48:42,905 INFO sqlalchemy.engine.Engine SELECT hero.id, hero.name, hero.secret_name, hero.age \n",
      "FROM hero \n",
      "WHERE hero.id = ?\n",
      "2021-08-27 23:48:42,906 INFO sqlalchemy.engine.Engine [cached since 5359s ago] (7,)\n",
      "\u001b[32mUpdated hero 1: id=2 name='Spider-Youngster' age=19 secret_name='Pedro Parqueador'\u001b[0m\n",
      "\u001b[32mUpdated hero 2: id=7 name='Captain North America Except Canada' age=111 secret_name='Esteban Rogelios'\u001b[0m\n",
      "2021-08-27 23:48:42,908 INFO sqlalchemy.engine.Engine ROLLBACK\n"
     ]
    }
   ],
   "source": [
    "# Multiple Updates\n",
    "with Session(engine) as session:\n",
    "    statement = select(Hero).where(Hero.name == \"Spider-Boy\")\n",
    "    results = session.exec(statement)\n",
    "    hero_1 = results.one()\n",
    "    cprint(f\"Hero 1: {hero_1}\", \"green\")\n",
    "\n",
    "    statement = select(Hero).where(Hero.name == \"Captain North America\")\n",
    "    results = session.exec(statement)\n",
    "    hero_2 = results.one()\n",
    "    cprint(f\"Hero 1: {hero_2}\", \"green\")\n",
    "\n",
    "    hero_1.age = 19\n",
    "    hero_1.name = \"Spider-Youngster\"\n",
    "    session.add(hero_1)\n",
    "\n",
    "    hero_2.name = \"Captain North America Except Canada\"\n",
    "    hero_2.age = 111\n",
    "    session.add(hero_2)\n",
    "\n",
    "    session.commit()\n",
    "    session.refresh(hero_1)\n",
    "    session.refresh(hero_2)\n",
    "\n",
    "    cprint(f\"Updated hero 1: {hero_1}\", \"green\")\n",
    "    cprint(f\"Updated hero 2: {hero_2}\", \"green\")"
   ]
  },
  {
   "cell_type": "markdown",
   "metadata": {},
   "source": [
    "### [Deleting Data](https://sqlmodel.tiangolo.com/tutorial/delete/)"
   ]
  },
  {
   "cell_type": "code",
   "execution_count": 113,
   "metadata": {},
   "outputs": [
    {
     "name": "stdout",
     "output_type": "stream",
     "text": [
      "2021-08-27 23:52:06,058 INFO sqlalchemy.engine.Engine BEGIN (implicit)\n",
      "2021-08-27 23:52:06,059 INFO sqlalchemy.engine.Engine SELECT hero.id, hero.name, hero.secret_name, hero.age \n",
      "FROM hero \n",
      "WHERE hero.name = ?\n",
      "2021-08-27 23:52:06,060 INFO sqlalchemy.engine.Engine [no key 0.00104s] ('Spider-Youngster',)\n",
      "\u001b[32mHero: id=2 name='Spider-Youngster' age=19 secret_name='Pedro Parqueador'\u001b[0m\n",
      "2021-08-27 23:52:06,063 INFO sqlalchemy.engine.Engine DELETE FROM hero WHERE hero.id = ?\n",
      "2021-08-27 23:52:06,064 INFO sqlalchemy.engine.Engine [generated in 0.00067s] (2,)\n",
      "2021-08-27 23:52:06,067 INFO sqlalchemy.engine.Engine COMMIT\n",
      "\u001b[31mDeleted Hero: id=2 name='Spider-Youngster' age=19 secret_name='Pedro Parqueador'\u001b[0m\n",
      "2021-08-27 23:52:06,649 INFO sqlalchemy.engine.Engine BEGIN (implicit)\n",
      "2021-08-27 23:52:06,650 INFO sqlalchemy.engine.Engine SELECT hero.id, hero.name, hero.secret_name, hero.age \n",
      "FROM hero \n",
      "WHERE hero.name = ?\n",
      "2021-08-27 23:52:06,650 INFO sqlalchemy.engine.Engine [no key 0.00043s] ('Spider-Youngster',)\n",
      "\u001b[31mThere's no hero named Spider-Youngster\u001b[0m\n",
      "2021-08-27 23:52:06,651 INFO sqlalchemy.engine.Engine ROLLBACK\n"
     ]
    }
   ],
   "source": [
    "with Session(engine) as session:\n",
    "    # fetch the record\n",
    "    statement = select(Hero).where(Hero.name == \"Spider-Youngster\")\n",
    "    results = session.exec(statement)\n",
    "    hero = results.one()\n",
    "    cprint(f\"Hero: {hero}\", \"green\")\n",
    "\n",
    "    # delete record\n",
    "    session.delete(hero)\n",
    "    # commit session\n",
    "    session.commit()\n",
    "\n",
    "    cprint(f\"Deleted Hero: {hero}\", \"red\")\n",
    "\n",
    "    statement = select(Hero).where(Hero.name == \"Spider-Youngster\")\n",
    "    results = session.exec(statement)\n",
    "    hero = results.first()\n",
    "\n",
    "    if hero is None:\n",
    "        cprint(\"There's no hero named Spider-Youngster\", \"red\")"
   ]
  },
  {
   "cell_type": "code",
   "execution_count": null,
   "metadata": {},
   "outputs": [],
   "source": []
  }
 ],
 "metadata": {
  "kernelspec": {
   "display_name": "Python 3",
   "language": "python",
   "name": "python3"
  },
  "language_info": {
   "codemirror_mode": {
    "name": "ipython",
    "version": 3
   },
   "file_extension": ".py",
   "mimetype": "text/x-python",
   "name": "python",
   "nbconvert_exporter": "python",
   "pygments_lexer": "ipython3",
   "version": "3.8.5"
  }
 },
 "nbformat": 4,
 "nbformat_minor": 4
}
