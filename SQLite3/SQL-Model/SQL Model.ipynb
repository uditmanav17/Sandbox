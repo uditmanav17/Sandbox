{
 "cells": [
  {
   "cell_type": "markdown",
   "source": [
    "## [SQL Model](https://sqlmodel.tiangolo.com/)\n",
    "\n",
    "* [Tutorial](https://sqlmodel.tiangolo.com/tutorial/)"
   ],
   "metadata": {}
  },
  {
   "cell_type": "markdown",
   "source": [
    "### [Creating tables using SQL Model](https://sqlmodel.tiangolo.com/tutorial/create-db-and-table/)\r\n"
   ],
   "metadata": {}
  },
  {
   "cell_type": "code",
   "execution_count": 9,
   "source": [
    "%%writefile app.py\r\n",
    "\r\n",
    "\r\n",
    "from typing import Optional\r\n",
    "\r\n",
    "from sqlmodel import Field, SQLModel, create_engine\r\n",
    "\r\n",
    "\r\n",
    "class Hero(SQLModel, table=True):\r\n",
    "    id: Optional[int] = Field(default=None, primary_key=True)\r\n",
    "    name: str\r\n",
    "    secret_name: str\r\n",
    "    age: Optional[int] = None\r\n",
    "\r\n",
    "\r\n",
    "sqlite_file_name = \"database.db\"\r\n",
    "sqlite_url = f\"sqlite:///{sqlite_file_name}\"\r\n",
    "\r\n",
    "engine = create_engine(sqlite_url, echo=True)\r\n",
    "\r\n",
    "\r\n",
    "def create_db_and_tables():\r\n",
    "    SQLModel.metadata.create_all(engine)\r\n",
    "\r\n",
    "\r\n",
    "\r\n",
    "if __name__ == \"__main__\":\r\n",
    "\r\n",
    "    create_db_and_tables()\r\n"
   ],
   "outputs": [
    {
     "output_type": "stream",
     "name": "stdout",
     "text": [
      "Writing app.py\n"
     ]
    }
   ],
   "metadata": {}
  },
  {
   "cell_type": "code",
   "execution_count": 10,
   "source": [
    "!python app.py"
   ],
   "outputs": [
    {
     "output_type": "stream",
     "name": "stdout",
     "text": [
      "2021-08-26 18:50:29,371 INFO sqlalchemy.engine.Engine BEGIN (implicit)\n",
      "2021-08-26 18:50:29,372 INFO sqlalchemy.engine.Engine PRAGMA main.table_info(\"hero\")\n",
      "2021-08-26 18:50:29,372 INFO sqlalchemy.engine.Engine [raw sql] ()\n",
      "2021-08-26 18:50:29,372 INFO sqlalchemy.engine.Engine PRAGMA temp.table_info(\"hero\")\n",
      "2021-08-26 18:50:29,372 INFO sqlalchemy.engine.Engine [raw sql] ()\n",
      "2021-08-26 18:50:29,373 INFO sqlalchemy.engine.Engine \n",
      "CREATE TABLE hero (\n",
      "\tid INTEGER, \n",
      "\tname VARCHAR NOT NULL, \n",
      "\tsecret_name VARCHAR NOT NULL, \n",
      "\tage INTEGER, \n",
      "\tPRIMARY KEY (id)\n",
      ")\n",
      "\n",
      "\n",
      "2021-08-26 18:50:29,373 INFO sqlalchemy.engine.Engine [no key 0.00012s] ()\n",
      "2021-08-26 18:50:29,470 INFO sqlalchemy.engine.Engine CREATE INDEX ix_hero_secret_name ON hero (secret_name)\n",
      "2021-08-26 18:50:29,470 INFO sqlalchemy.engine.Engine [no key 0.00020s] ()\n",
      "2021-08-26 18:50:29,586 INFO sqlalchemy.engine.Engine CREATE INDEX ix_hero_id ON hero (id)\n",
      "2021-08-26 18:50:29,586 INFO sqlalchemy.engine.Engine [no key 0.00015s] ()\n",
      "2021-08-26 18:50:29,704 INFO sqlalchemy.engine.Engine CREATE INDEX ix_hero_age ON hero (age)\n",
      "2021-08-26 18:50:29,704 INFO sqlalchemy.engine.Engine [no key 0.00016s] ()\n",
      "2021-08-26 18:50:29,809 INFO sqlalchemy.engine.Engine CREATE INDEX ix_hero_name ON hero (name)\n",
      "2021-08-26 18:50:29,809 INFO sqlalchemy.engine.Engine [no key 0.00022s] ()\n",
      "2021-08-26 18:50:29,916 INFO sqlalchemy.engine.Engine COMMIT\n"
     ]
    }
   ],
   "metadata": {}
  },
  {
   "cell_type": "markdown",
   "source": [
    "### [Inserting rows via Sessions](https://sqlmodel.tiangolo.com/tutorial/insert/)"
   ],
   "metadata": {}
  },
  {
   "cell_type": "code",
   "execution_count": 11,
   "source": [
    "%%writefile app_insert.py\r\n",
    "from typing import Optional\r\n",
    "\r\n",
    "from sqlmodel import Field, Session, SQLModel, create_engine\r\n",
    "\r\n",
    "\r\n",
    "class Hero(SQLModel, table=True):\r\n",
    "    id: Optional[int] = Field(default=None, primary_key=True)\r\n",
    "    name: str\r\n",
    "    secret_name: str\r\n",
    "    age: Optional[int] = None\r\n",
    "\r\n",
    "\r\n",
    "sqlite_file_name = \"database.db\"\r\n",
    "sqlite_url = f\"sqlite:///{sqlite_file_name}\"\r\n",
    "\r\n",
    "engine = create_engine(sqlite_url, echo=True)\r\n",
    "\r\n",
    "\r\n",
    "def create_db_and_tables():\r\n",
    "    SQLModel.metadata.create_all(engine)\r\n",
    "\r\n",
    "\r\n",
    "def create_heroes():\r\n",
    "    hero_1 = Hero(name=\"Deadpond\", secret_name=\"Dive Wilson\")\r\n",
    "    hero_2 = Hero(name=\"Spider-Boy\", secret_name=\"Pedro Parqueador\")\r\n",
    "    hero_3 = Hero(name=\"Rusty-Man\", secret_name=\"Tommy Sharp\", age=48)\r\n",
    "\r\n",
    "    with Session(engine) as session:\r\n",
    "        session.add(hero_1)\r\n",
    "        session.add(hero_2)\r\n",
    "        session.add(hero_3)\r\n",
    "\r\n",
    "        session.commit()\r\n",
    "\r\n",
    "\r\n",
    "def main():\r\n",
    "    create_db_and_tables()\r\n",
    "    create_heroes()\r\n",
    "\r\n",
    "\r\n",
    "if __name__ == \"__main__\":\r\n",
    "    main()\r\n",
    "\r\n"
   ],
   "outputs": [
    {
     "output_type": "stream",
     "name": "stdout",
     "text": [
      "Writing app_insert.py\n"
     ]
    }
   ],
   "metadata": {}
  },
  {
   "cell_type": "code",
   "execution_count": 12,
   "source": [
    "!python app_insert.py"
   ],
   "outputs": [
    {
     "output_type": "stream",
     "name": "stdout",
     "text": [
      "2021-08-26 18:57:56,666 INFO sqlalchemy.engine.Engine BEGIN (implicit)\n",
      "2021-08-26 18:57:56,666 INFO sqlalchemy.engine.Engine PRAGMA main.table_info(\"hero\")\n",
      "2021-08-26 18:57:56,666 INFO sqlalchemy.engine.Engine [raw sql] ()\n",
      "2021-08-26 18:57:56,667 INFO sqlalchemy.engine.Engine COMMIT\n",
      "2021-08-26 18:57:56,669 INFO sqlalchemy.engine.Engine BEGIN (implicit)\n",
      "2021-08-26 18:57:56,670 INFO sqlalchemy.engine.Engine INSERT INTO hero (name, secret_name, age) VALUES (?, ?, ?)\n",
      "2021-08-26 18:57:56,670 INFO sqlalchemy.engine.Engine [generated in 0.00015s] ('Deadpond', 'Dive Wilson', None)\n",
      "2021-08-26 18:57:56,672 INFO sqlalchemy.engine.Engine INSERT INTO hero (name, secret_name, age) VALUES (?, ?, ?)\n",
      "2021-08-26 18:57:56,672 INFO sqlalchemy.engine.Engine [cached since 0.003007s ago] ('Spider-Boy', 'Pedro Parqueador', None)\n",
      "2021-08-26 18:57:56,672 INFO sqlalchemy.engine.Engine INSERT INTO hero (name, secret_name, age) VALUES (?, ?, ?)\n",
      "2021-08-26 18:57:56,674 INFO sqlalchemy.engine.Engine [cached since 0.003396s ago] ('Rusty-Man', 'Tommy Sharp', 48)\n",
      "2021-08-26 18:57:56,674 INFO sqlalchemy.engine.Engine COMMIT\n"
     ]
    }
   ],
   "metadata": {}
  },
  {
   "cell_type": "markdown",
   "source": [
    "### [Automatic ID's](https://sqlmodel.tiangolo.com/tutorial/automatic-id-none-refresh/)"
   ],
   "metadata": {}
  },
  {
   "cell_type": "code",
   "execution_count": 13,
   "source": [
    "%%writefile app_autoId_refresh.py\r\n",
    "\r\n",
    "from typing import Optional\r\n",
    "\r\n",
    "from sqlmodel import Field, Session, SQLModel, create_engine\r\n",
    "\r\n",
    "\r\n",
    "class Hero(SQLModel, table=True):\r\n",
    "    id: Optional[int] = Field(default=None, primary_key=True)\r\n",
    "    name: str\r\n",
    "    secret_name: str\r\n",
    "    age: Optional[int] = None\r\n",
    "\r\n",
    "\r\n",
    "sqlite_file_name = \"database.db\"\r\n",
    "sqlite_url = f\"sqlite:///{sqlite_file_name}\"\r\n",
    "\r\n",
    "engine = create_engine(sqlite_url, echo=True)\r\n",
    "\r\n",
    "\r\n",
    "def create_db_and_tables():\r\n",
    "    SQLModel.metadata.create_all(engine)\r\n",
    "\r\n",
    "\r\n",
    "def create_heroes():\r\n",
    "    hero_1 = Hero(name=\"Deadpond\", secret_name=\"Dive Wilson\")  \r\n",
    "    hero_2 = Hero(name=\"Spider-Boy\", secret_name=\"Pedro Parqueador\")  \r\n",
    "    hero_3 = Hero(name=\"Rusty-Man\", secret_name=\"Tommy Sharp\", age=48)  \r\n",
    "\r\n",
    "    print(\"Before interacting with the database\")  \r\n",
    "    print(\"Hero 1:\", hero_1)  \r\n",
    "    print(\"Hero 2:\", hero_2)  \r\n",
    "    print(\"Hero 3:\", hero_3)  \r\n",
    "\r\n",
    "    with Session(engine) as session:  \r\n",
    "        session.add(hero_1)  \r\n",
    "        session.add(hero_2)  \r\n",
    "        session.add(hero_3)  \r\n",
    "\r\n",
    "        print(\"After adding to the session\")  \r\n",
    "        print(\"Hero 1:\", hero_1)  \r\n",
    "        print(\"Hero 2:\", hero_2)  \r\n",
    "        print(\"Hero 3:\", hero_3)  \r\n",
    "\r\n",
    "        session.commit()  \r\n",
    "\r\n",
    "        print(\"After committing the session\")  \r\n",
    "        print(\"Hero 1:\", hero_1)  \r\n",
    "        print(\"Hero 2:\", hero_2)  \r\n",
    "        print(\"Hero 3:\", hero_3)  \r\n",
    "\r\n",
    "        print(\"After committing the session, show IDs\")  \r\n",
    "        print(\"Hero 1 ID:\", hero_1.id)  \r\n",
    "        print(\"Hero 2 ID:\", hero_2.id)  \r\n",
    "        print(\"Hero 3 ID:\", hero_3.id)  \r\n",
    "\r\n",
    "        print(\"After committing the session, show names\")  \r\n",
    "        print(\"Hero 1 name:\", hero_1.name)  \r\n",
    "        print(\"Hero 2 name:\", hero_2.name)  \r\n",
    "        print(\"Hero 3 name:\", hero_3.name)  \r\n",
    "\r\n",
    "        session.refresh(hero_1)  \r\n",
    "        session.refresh(hero_2)  \r\n",
    "        session.refresh(hero_3)  \r\n",
    "\r\n",
    "        print(\"After refreshing the heroes\")  \r\n",
    "        print(\"Hero 1:\", hero_1)  \r\n",
    "        print(\"Hero 2:\", hero_2)  \r\n",
    "        print(\"Hero 3:\", hero_3)  \r\n",
    "    \r\n",
    "\r\n",
    "    print(\"After the session closes\")  \r\n",
    "    print(\"Hero 1:\", hero_1)  \r\n",
    "    print(\"Hero 2:\", hero_2)  \r\n",
    "    print(\"Hero 3:\", hero_3)  \r\n",
    "\r\n",
    "\r\n",
    "def main():\r\n",
    "    create_db_and_tables()\r\n",
    "    create_heroes()\r\n",
    "\r\n",
    "\r\n",
    "if __name__ == \"__main__\":\r\n",
    "    main()\r\n"
   ],
   "outputs": [
    {
     "output_type": "stream",
     "name": "stdout",
     "text": [
      "Writing app_autoId_refresh.py\n"
     ]
    }
   ],
   "metadata": {}
  },
  {
   "cell_type": "code",
   "execution_count": 14,
   "source": [
    "!python app_autoId_refresh.py"
   ],
   "outputs": [
    {
     "output_type": "stream",
     "name": "stdout",
     "text": [
      "2021-08-26 21:08:11,908 INFO sqlalchemy.engine.Engine BEGIN (implicit)\n",
      "2021-08-26 21:08:11,908 INFO sqlalchemy.engine.Engine PRAGMA main.table_info(\"hero\")\n",
      "2021-08-26 21:08:11,908 INFO sqlalchemy.engine.Engine [raw sql] ()\n",
      "2021-08-26 21:08:11,908 INFO sqlalchemy.engine.Engine COMMIT\n",
      "Before interacting with the database\n",
      "Hero 1: id=None name='Deadpond' secret_name='Dive Wilson' age=None\n",
      "Hero 2: id=None name='Spider-Boy' secret_name='Pedro Parqueador' age=None\n",
      "Hero 3: id=None name='Rusty-Man' secret_name='Tommy Sharp' age=48\n",
      "After adding to the session\n",
      "Hero 1: id=None name='Deadpond' secret_name='Dive Wilson' age=None\n",
      "Hero 2: id=None name='Spider-Boy' secret_name='Pedro Parqueador' age=None\n",
      "Hero 3: id=None name='Rusty-Man' secret_name='Tommy Sharp' age=48\n",
      "2021-08-26 21:08:11,912 INFO sqlalchemy.engine.Engine BEGIN (implicit)\n",
      "2021-08-26 21:08:11,912 INFO sqlalchemy.engine.Engine INSERT INTO hero (name, secret_name, age) VALUES (?, ?, ?)\n",
      "2021-08-26 21:08:11,912 INFO sqlalchemy.engine.Engine [generated in 0.00018s] ('Deadpond', 'Dive Wilson', None)\n",
      "2021-08-26 21:08:11,956 INFO sqlalchemy.engine.Engine INSERT INTO hero (name, secret_name, age) VALUES (?, ?, ?)\n",
      "2021-08-26 21:08:11,956 INFO sqlalchemy.engine.Engine [cached since 0.04378s ago] ('Spider-Boy', 'Pedro Parqueador', None)\n",
      "2021-08-26 21:08:11,956 INFO sqlalchemy.engine.Engine INSERT INTO hero (name, secret_name, age) VALUES (?, ?, ?)\n",
      "2021-08-26 21:08:11,956 INFO sqlalchemy.engine.Engine [cached since 0.04396s ago] ('Rusty-Man', 'Tommy Sharp', 48)\n",
      "2021-08-26 21:08:11,956 INFO sqlalchemy.engine.Engine COMMIT\n",
      "After committing the session\n",
      "Hero 1: \n",
      "Hero 2: \n",
      "Hero 3: \n",
      "After committing the session, show IDs\n",
      "2021-08-26 21:08:12,068 INFO sqlalchemy.engine.Engine BEGIN (implicit)\n",
      "2021-08-26 21:08:12,068 INFO sqlalchemy.engine.Engine SELECT hero.id AS hero_id, hero.name AS hero_name, hero.secret_name AS hero_secret_name, hero.age AS hero_age \n",
      "FROM hero \n",
      "WHERE hero.id = ?\n",
      "2021-08-26 21:08:12,068 INFO sqlalchemy.engine.Engine [generated in 0.00016s] (4,)\n",
      "Hero 1 ID: 4\n",
      "2021-08-26 21:08:12,072 INFO sqlalchemy.engine.Engine SELECT hero.id AS hero_id, hero.name AS hero_name, hero.secret_name AS hero_secret_name, hero.age AS hero_age \n",
      "FROM hero \n",
      "WHERE hero.id = ?\n",
      "2021-08-26 21:08:12,072 INFO sqlalchemy.engine.Engine [cached since 0.001238s ago] (5,)\n",
      "Hero 2 ID: 5\n",
      "2021-08-26 21:08:12,073 INFO sqlalchemy.engine.Engine SELECT hero.id AS hero_id, hero.name AS hero_name, hero.secret_name AS hero_secret_name, hero.age AS hero_age \n",
      "FROM hero \n",
      "WHERE hero.id = ?\n",
      "2021-08-26 21:08:12,073 INFO sqlalchemy.engine.Engine [cached since 0.001766s ago] (6,)\n",
      "Hero 3 ID: 6\n",
      "After committing the session, show names\n",
      "Hero 1 name: Deadpond\n",
      "Hero 2 name: Spider-Boy\n",
      "Hero 3 name: Rusty-Man\n",
      "2021-08-26 21:08:12,073 INFO sqlalchemy.engine.Engine SELECT hero.id, hero.name, hero.secret_name, hero.age \n",
      "FROM hero \n",
      "WHERE hero.id = ?\n",
      "2021-08-26 21:08:12,073 INFO sqlalchemy.engine.Engine [generated in 0.00010s] (4,)\n",
      "2021-08-26 21:08:12,073 INFO sqlalchemy.engine.Engine SELECT hero.id, hero.name, hero.secret_name, hero.age \n",
      "FROM hero \n",
      "WHERE hero.id = ?\n",
      "2021-08-26 21:08:12,073 INFO sqlalchemy.engine.Engine [cached since 0.0006616s ago] (5,)\n",
      "2021-08-26 21:08:12,073 INFO sqlalchemy.engine.Engine SELECT hero.id, hero.name, hero.secret_name, hero.age \n",
      "FROM hero \n",
      "WHERE hero.id = ?\n",
      "2021-08-26 21:08:12,073 INFO sqlalchemy.engine.Engine [cached since 0.001144s ago] (6,)\n",
      "After refreshing the heroes\n",
      "Hero 1: age=None id=4 name='Deadpond' secret_name='Dive Wilson'\n",
      "Hero 2: age=None id=5 name='Spider-Boy' secret_name='Pedro Parqueador'\n",
      "Hero 3: age=48 id=6 name='Rusty-Man' secret_name='Tommy Sharp'\n",
      "2021-08-26 21:08:12,073 INFO sqlalchemy.engine.Engine ROLLBACK\n",
      "After the session closes\n",
      "Hero 1: age=None id=4 name='Deadpond' secret_name='Dive Wilson'\n",
      "Hero 2: age=None id=5 name='Spider-Boy' secret_name='Pedro Parqueador'\n",
      "Hero 3: age=48 id=6 name='Rusty-Man' secret_name='Tommy Sharp'\n"
     ]
    }
   ],
   "metadata": {}
  },
  {
   "cell_type": "markdown",
   "source": [
    "### [Reading Data (SELECT)](https://sqlmodel.tiangolo.com/tutorial/select/)"
   ],
   "metadata": {}
  },
  {
   "cell_type": "code",
   "execution_count": null,
   "source": [],
   "outputs": [],
   "metadata": {}
  }
 ],
 "metadata": {
  "kernelspec": {
   "name": "python3",
   "display_name": "Python 3.8.5 64-bit ('test': conda)"
  },
  "language_info": {
   "codemirror_mode": {
    "name": "ipython",
    "version": 3
   },
   "file_extension": ".py",
   "mimetype": "text/x-python",
   "name": "python",
   "nbconvert_exporter": "python",
   "pygments_lexer": "ipython3",
   "version": "3.8.5"
  },
  "interpreter": {
   "hash": "6610049d2ca09a26633622eaebe56fad07e6f26d3a86be096bcd32dcf477dcb3"
  }
 },
 "nbformat": 4,
 "nbformat_minor": 4
}