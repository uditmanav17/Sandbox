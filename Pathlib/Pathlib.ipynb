{
 "cells": [
  {
   "cell_type": "markdown",
   "metadata": {},
   "source": [
    "# Pathlib\n",
    "[source](https://rednafi.github.io/digressions/python/2020/04/13/python-pathlib.html)"
   ]
  },
  {
   "cell_type": "markdown",
   "metadata": {},
   "source": [
    "## Joining and creating new paths"
   ]
  },
  {
   "cell_type": "code",
   "execution_count": 1,
   "metadata": {},
   "outputs": [
    {
     "name": "stdout",
     "output_type": "stream",
     "text": [
      "file_path: D:\\Programming\\Python\\Jupyter Notebooks\\000000\\Pathlib\\sample.txt\n",
      "base_dir: D:\\Programming\\Python\\Jupyter Notebooks\\000000\\Pathlib\n",
      "file_another_path: D:\\Programming\\Python\\Jupyter Notebooks\\000000\\Pathlib\\s2.txt\n"
     ]
    }
   ],
   "source": [
    "from pathlib import Path\n",
    "\n",
    "file_path = Path(\"sample.txt\").resolve()\n",
    "base_dir = file_path.parent\n",
    "file_another_path = base_dir / \"s2.txt\"\n",
    "\n",
    "print(\"file_path:\", file_path)\n",
    "print(\"base_dir:\", base_dir)\n",
    "print(\"file_another_path:\", file_another_path)"
   ]
  },
  {
   "cell_type": "markdown",
   "metadata": {},
   "source": [
    "##  Making Directories & Renaming Files"
   ]
  },
  {
   "cell_type": "code",
   "execution_count": 2,
   "metadata": {},
   "outputs": [],
   "source": [
    "# creating dirs\n",
    "Path(\"./src/stuff\").mkdir(parents=True, exist_ok=True)\n",
    "# If parents is true, any missing parents of this path are created as needed\n",
    "# f exist_ok is false (the default), FileExistsError is raised if the target directory already exists.\n",
    "\n",
    "# making some files\n",
    "Path(\"./src/stuff/abc.py\").touch()\n",
    "Path(\"./src/bc.py\").touch()"
   ]
  },
  {
   "cell_type": "code",
   "execution_count": 3,
   "metadata": {},
   "outputs": [],
   "source": [
    "# renaming dirs\n",
    "Path(\"./src/stuff\").rename(\"src/some_other_stuff\")"
   ]
  },
  {
   "cell_type": "code",
   "execution_count": 5,
   "metadata": {},
   "outputs": [],
   "source": [
    "# moving dirs\n",
    "Path(\"./src/some_other_stuff\").rename(\"./some_other_stuff\")"
   ]
  },
  {
   "cell_type": "markdown",
   "metadata": {},
   "source": [
    "##  Listing Specific Types of Files in a Directory"
   ]
  },
  {
   "cell_type": "code",
   "execution_count": 8,
   "metadata": {},
   "outputs": [
    {
     "name": "stdout",
     "output_type": "stream",
     "text": [
      "[WindowsPath('mn.py')]\n",
      "[WindowsPath('mn.py'), WindowsPath('some_other_stuff/abc.py'), WindowsPath('src/bc.py')]\n"
     ]
    }
   ],
   "source": [
    "top_level_py_files = Path(\"./\").glob(\"*.py\")  # only in current directort\n",
    "all_py_files = Path(\"./\").rglob(\"*.py\")  # look recursively\n",
    "\n",
    "print(list(top_level_py_files))\n",
    "print(list(all_py_files))"
   ]
  },
  {
   "cell_type": "markdown",
   "metadata": {},
   "source": [
    "## Path Object Attributes and Methods\n",
    "$$\n",
    "Path\n",
    "│\n",
    "├── Attributes\n",
    "│       ├── parts\n",
    "│       ├── parent & parents\n",
    "│       ├── name\n",
    "│       ├── suffix & suffixes\n",
    "│       └── stem\n",
    "│\n",
    "│  \n",
    "└── Methods\n",
    "        ├── joinpath(*other)\n",
    "        ├── cwd()\n",
    "        ├── home()\n",
    "        ├── exists()\n",
    "        ├── expanduser()\n",
    "        ├── glob()\n",
    "        ├── rglob(pattern)\n",
    "        ├── is_dir()\n",
    "        ├── is_file()\n",
    "        ├── is_absolute()\n",
    "        ├── iterdir()\n",
    "        ├── mkdir(mode=0o777, parents=False, exist_ok=False)\n",
    "        ├── open(mode='r', buffering=-1, encoding=None, errors=None, newline=None)\n",
    "        ├── rename(target)\n",
    "        ├── replace(target)\n",
    "        ├── resolve(strict=False)\n",
    "        └── rmdir()\n",
    "$$        "
   ]
  },
  {
   "cell_type": "code",
   "execution_count": 11,
   "metadata": {},
   "outputs": [
    {
     "data": {
      "text/plain": [
       "('src', 'bc.py')"
      ]
     },
     "execution_count": 11,
     "metadata": {},
     "output_type": "execute_result"
    }
   ],
   "source": [
    "# Path parts - Returns a tuple containing individual components of a path.\n",
    "file_path = Path('src/bc.py')\n",
    "file_path.parts"
   ]
  },
  {
   "cell_type": "code",
   "execution_count": 17,
   "metadata": {},
   "outputs": [
    {
     "name": "stdout",
     "output_type": "stream",
     "text": [
      "src\n",
      ".\n",
      "file_path.parent - src\n"
     ]
    }
   ],
   "source": [
    "# Path.parents & Path.parent - Path.parents returns an immutable sequence containing \n",
    "# the all logical ancestors of the path. While Path.parent returns the immediate predecessor of the path\n",
    "for parent in file_path.parents:\n",
    "    print(parent)\n",
    "    \n",
    "print(f\"file_path.parent - {file_path.parent}\")    "
   ]
  },
  {
   "cell_type": "code",
   "execution_count": 18,
   "metadata": {},
   "outputs": [
    {
     "name": "stdout",
     "output_type": "stream",
     "text": [
      "bc.py\n"
     ]
    }
   ],
   "source": [
    "# Path.name - Returns the last component of a path as string. Usually used to extract file name from a path.\n",
    "print(file_path.name)"
   ]
  },
  {
   "cell_type": "code",
   "execution_count": 19,
   "metadata": {},
   "outputs": [
    {
     "name": "stdout",
     "output_type": "stream",
     "text": [
      "f.suffixes - ['.tar', '.gz']\n",
      "f.suffix - .gz\n"
     ]
    }
   ],
   "source": [
    "# Path.suffixes - returns a list of extensions of the final component. \n",
    "# Path.suffix - returns the last extension\n",
    "f = Path(\"src/stuff/somefile.tar.gz\")\n",
    "print(f\"f.suffixes - {f.suffixes}\")\n",
    "print(f\"f.suffix - {f.suffix}\")"
   ]
  },
  {
   "cell_type": "code",
   "execution_count": 20,
   "metadata": {},
   "outputs": [
    {
     "name": "stdout",
     "output_type": "stream",
     "text": [
      "somefile.tar\n"
     ]
    }
   ],
   "source": [
    "# Path.stem - Returns the final path component without the suffix\n",
    "print(f.stem)"
   ]
  },
  {
   "cell_type": "code",
   "execution_count": 21,
   "metadata": {},
   "outputs": [
    {
     "name": "stdout",
     "output_type": "stream",
     "text": [
      "False\n"
     ]
    }
   ],
   "source": [
    "# Path.is_absolute - Checks if a path is absolute or not. Return boolean value.\n",
    "print(f.is_absolute())"
   ]
  },
  {
   "cell_type": "code",
   "execution_count": 22,
   "metadata": {},
   "outputs": [
    {
     "name": "stdout",
     "output_type": "stream",
     "text": [
      "src\\stuff\\__init__.py\n"
     ]
    }
   ],
   "source": [
    "# Path.joinpath(*other) - This method is used to combine multiple components into a complete path. \n",
    "# This can be used as an alternative to \"/\" operator for joining path components.\n",
    "f_path = Path(\"src\").joinpath(\"stuff\").joinpath(\"__init__.py\")\n",
    "print(f_path)"
   ]
  },
  {
   "cell_type": "code",
   "execution_count": 24,
   "metadata": {},
   "outputs": [
    {
     "data": {
      "text/plain": [
       "WindowsPath('D:/Programming/Python/Jupyter Notebooks/000000/Pathlib')"
      ]
     },
     "execution_count": 24,
     "metadata": {},
     "output_type": "execute_result"
    }
   ],
   "source": [
    "# Path.cwd() - Returns the current working directory.\n",
    "Path.cwd()"
   ]
  },
  {
   "cell_type": "code",
   "execution_count": 25,
   "metadata": {},
   "outputs": [
    {
     "data": {
      "text/plain": [
       "WindowsPath('C:/Users/uditm')"
      ]
     },
     "execution_count": 25,
     "metadata": {},
     "output_type": "execute_result"
    }
   ],
   "source": [
    "# Path.home() - Returns home directory.\n",
    "Path.home()"
   ]
  },
  {
   "cell_type": "code",
   "execution_count": 26,
   "metadata": {},
   "outputs": [
    {
     "data": {
      "text/plain": [
       "True"
      ]
     },
     "execution_count": 26,
     "metadata": {},
     "output_type": "execute_result"
    }
   ],
   "source": [
    "# Path.exists() - Checks if a path exists or not. Returns boolean value.\n",
    "file_path.exists()"
   ]
  },
  {
   "cell_type": "code",
   "execution_count": 29,
   "metadata": {},
   "outputs": [
    {
     "name": "stdout",
     "output_type": "stream",
     "text": [
      "[WindowsPath('mn.py')]\n"
     ]
    }
   ],
   "source": [
    "# Path.glob() - Globs and yields all file paths matching a specific pattern. \n",
    "top_level_py_files = Path(\"./\").glob(\"*.py\")\n",
    "print(list(top_level_py_files))"
   ]
  },
  {
   "cell_type": "code",
   "execution_count": 31,
   "metadata": {},
   "outputs": [
    {
     "name": "stdout",
     "output_type": "stream",
     "text": [
      "[WindowsPath('mn.py'), WindowsPath('some_other_stuff/abc.py'), WindowsPath('src/bc.py')]\n"
     ]
    }
   ],
   "source": [
    "# Path.rglob(pattern) - This is like Path.glob method but matches the file pattern recursively.\n",
    "recursive_level_py_files = Path(\"./\").rglob(\"*.py\")\n",
    "print(list(recursive_level_py_files))"
   ]
  },
  {
   "cell_type": "code",
   "execution_count": 32,
   "metadata": {},
   "outputs": [
    {
     "data": {
      "text/plain": [
       "True"
      ]
     },
     "execution_count": 32,
     "metadata": {},
     "output_type": "execute_result"
    }
   ],
   "source": [
    "# Path.is_dir() - Checks if a path points to a directory or not. Returns boolean value.\n",
    "file_path.parent.is_dir()"
   ]
  },
  {
   "cell_type": "code",
   "execution_count": 33,
   "metadata": {},
   "outputs": [
    {
     "data": {
      "text/plain": [
       "True"
      ]
     },
     "execution_count": 33,
     "metadata": {},
     "output_type": "execute_result"
    }
   ],
   "source": [
    "# Path.is_file() - Checks if a path points to a file. Returns boolean value.\n",
    "file_path.is_file()"
   ]
  },
  {
   "cell_type": "code",
   "execution_count": 35,
   "metadata": {},
   "outputs": [
    {
     "data": {
      "text/plain": [
       "False"
      ]
     },
     "execution_count": 35,
     "metadata": {},
     "output_type": "execute_result"
    }
   ],
   "source": [
    "# Path.is_absolute() - Checks if a path is absolute or relative. Returns boolean value.\n",
    "file_path.is_absolute()"
   ]
  },
  {
   "cell_type": "code",
   "execution_count": 36,
   "metadata": {},
   "outputs": [
    {
     "data": {
      "text/plain": [
       "[WindowsPath('.ipynb_checkpoints'),\n",
       " WindowsPath('mn.py'),\n",
       " WindowsPath('Pathlib.ipynb'),\n",
       " WindowsPath('s2.txt'),\n",
       " WindowsPath('s3.txt'),\n",
       " WindowsPath('sample.txt'),\n",
       " WindowsPath('some_other_stuff'),\n",
       " WindowsPath('src')]"
      ]
     },
     "execution_count": 36,
     "metadata": {},
     "output_type": "execute_result"
    }
   ],
   "source": [
    "# Path.iterdir() - When the path points to a directory, this yields the content path objects.\n",
    "[path for path in Path('./').iterdir()]"
   ]
  },
  {
   "cell_type": "code",
   "execution_count": 37,
   "metadata": {},
   "outputs": [],
   "source": [
    "# Path.rename(target) - Renames this file or directory to the given target and returns a new Path instance pointing to target. \n",
    "# This will raise FileNotFoundError if the file is not found.\n",
    "Path('./s2.txt').rename('./s9.txt')"
   ]
  },
  {
   "cell_type": "markdown",
   "metadata": {},
   "source": [
    "## Some more Pathlib Examples"
   ]
  },
  {
   "cell_type": "code",
   "execution_count": 38,
   "metadata": {},
   "outputs": [
    {
     "name": "stdout",
     "output_type": "stream",
     "text": [
      "Jan 31 00:09:39 ubuntu.local ticky: INFO Created ticket [#4217] (mdouglas)\n",
      "Jan 31 00:16:25 ubuntu.local ticky: INFO Closed ticket [#1754] (noel)\n",
      "Jan 31 00:21:30 ubuntu.local ticky: ERROR The ticket was modified while updating (breee)\n",
      "Jan 31 00:44:34 ubuntu.local ticky: ERROR Permission denied while closing ticket (ac)\n",
      "Jan 31 01:00:50 ubuntu.local ticky: INFO Commented on ticket [#4709] (blossom)\n",
      "\n",
      "\n",
      "Jan 31 00:09:39 ubuntu.local ticky: INFO Created ticket [#4217] (mdouglas)\n",
      "Jan 31 00:16:25 ubuntu.local ticky: INFO Closed ticket [#1754] (noel)\n",
      "Jan 31 00:21:30 ubuntu.local ticky: ERROR The ticket was modified while updating (breee)\n",
      "Jan 31 00:44:34 ubuntu.local ticky: ERROR Permission denied while closing ticket (ac)\n",
      "Jan 31 01:00:50 ubuntu.local ticky: INFO Commented on ticket [#4709] (blossom)\n",
      "\n"
     ]
    }
   ],
   "source": [
    "# sample file path\n",
    "file = Path.cwd() / 'sample.txt'\n",
    "\n",
    "# way of opening files\n",
    "with open(file) as f:\n",
    "    print(f.read())\n",
    "print()\n",
    "# if our path is Path obj, we can instead do this\n",
    "with file.open(mode='r') as f:\n",
    "    print(f.read())"
   ]
  },
  {
   "cell_type": "code",
   "execution_count": 40,
   "metadata": {},
   "outputs": [
    {
     "name": "stdout",
     "output_type": "stream",
     "text": [
      "Jan 31 00:09:39 ubuntu.local ticky: INFO Created ticket [#4217] (mdouglas)\n",
      "Jan 31 00:16:25 ubuntu.local ticky: INFO Closed ticket [#1754] (noel)\n",
      "Jan 31 00:21:30 ubuntu.local ticky: ERROR The ticket was modified while updating (breee)\n",
      "Jan 31 00:44:34 ubuntu.local ticky: ERROR Permission denied while closing ticket (ac)\n",
      "Jan 31 01:00:50 ubuntu.local ticky: INFO Commented on ticket [#4709] (blossom)\n",
      "\n",
      "Jan 31 00:09:39 ubuntu.local ticky: INFO Created ticket [#4217] (mdouglas)\n",
      "Jan 31 00:16:25 ubuntu.local ticky: INFO Closed ticket [#1754] (noel)\n",
      "Jan 31 00:21:30 ubuntu.local ticky: ERROR The ticket was modified while updating (breee)\n",
      "Jan 31 00:44:34 ubuntu.local ticky: ERROR Permission denied while closing ticket (ac)\n",
      "Jan 31 01:00:50 ubuntu.local ticky: INFO Commented on ticket [#4709] (blossom)\n",
      "\n"
     ]
    }
   ],
   "source": [
    "text = \"\"\"Jan 31 00:09:39 ubuntu.local ticky: INFO Created ticket [#4217] (mdouglas)\\nJan 31 00:16:25 ubuntu.local ticky: INFO Closed ticket [#1754] (noel)\\nJan 31 00:21:30 ubuntu.local ticky: ERROR The ticket was modified while updating (breee)\\nJan 31 00:44:34 ubuntu.local ticky: ERROR Permission denied while closing ticket (ac)\\nJan 31 01:00:50 ubuntu.local ticky: INFO Commented on ticket [#4709] (blossom)\\n\"\"\"\n",
    "# create a file and write to it\n",
    "Path('s3.txt').write_text(text)\n",
    "\n",
    "# another way\n",
    "print(file.read_text())\n",
    "print(Path('s3.txt').read_text())"
   ]
  },
  {
   "cell_type": "code",
   "execution_count": 41,
   "metadata": {},
   "outputs": [
    {
     "data": {
      "text/plain": [
       "WindowsPath('D:/Programming/Python/Jupyter Notebooks/000000/Pathlib/sample.txt')"
      ]
     },
     "execution_count": 41,
     "metadata": {},
     "output_type": "execute_result"
    }
   ],
   "source": [
    "# getting absolute path \n",
    "file.resolve()"
   ]
  },
  {
   "cell_type": "markdown",
   "metadata": {},
   "source": [
    "## Picking Out Components of a Path\n",
    "[cheatsheet](https://github.com/chris1610/pbpython/blob/master/extras/Pathlib-Cheatsheet.pdf)"
   ]
  },
  {
   "cell_type": "code",
   "execution_count": 43,
   "metadata": {},
   "outputs": [
    {
     "name": "stdout",
     "output_type": "stream",
     "text": [
      "path - D:\\Programming\\Python\\Jupyter Notebooks\\000000\\Pathlib\\src\\bc.py\n",
      "path.name - bc.py\n",
      "path.stem - bc\n",
      "path.suffix - .py\n",
      "path.parent - D:\\Programming\\Python\\Jupyter Notebooks\\000000\\Pathlib\\src\n",
      "path.parent.parent - D:\\Programming\\Python\\Jupyter Notebooks\\000000\\Pathlib\n",
      "path.anchor - D:\\\n"
     ]
    }
   ],
   "source": [
    "path = Path('./src/bc.py').resolve()\n",
    "print(f\"path - {path}\")\n",
    "print(f\"path.name - {path.name}\")\n",
    "print(f\"path.stem - {path.stem}\")\n",
    "print(f\"path.suffix - {path.suffix}\")\n",
    "print(f\"path.parent - {path.parent}\")\n",
    "print(f\"path.parent.parent - {path.parent.parent}\")\n",
    "print(f\"path.anchor - {path.anchor}\")"
   ]
  },
  {
   "cell_type": "code",
   "execution_count": 44,
   "metadata": {},
   "outputs": [
    {
     "data": {
      "text/plain": [
       "[WindowsPath('D:/Programming/Python/Jupyter Notebooks/000000/Pathlib/.ipynb_checkpoints'),\n",
       " WindowsPath('D:/Programming/Python/Jupyter Notebooks/000000/Pathlib/mn.py'),\n",
       " WindowsPath('D:/Programming/Python/Jupyter Notebooks/000000/Pathlib/Pathlib.ipynb'),\n",
       " WindowsPath('D:/Programming/Python/Jupyter Notebooks/000000/Pathlib/s3.txt'),\n",
       " WindowsPath('D:/Programming/Python/Jupyter Notebooks/000000/Pathlib/s9.txt'),\n",
       " WindowsPath('D:/Programming/Python/Jupyter Notebooks/000000/Pathlib/sample.txt'),\n",
       " WindowsPath('D:/Programming/Python/Jupyter Notebooks/000000/Pathlib/some_other_stuff'),\n",
       " WindowsPath('D:/Programming/Python/Jupyter Notebooks/000000/Pathlib/src')]"
      ]
     },
     "execution_count": 44,
     "metadata": {},
     "output_type": "execute_result"
    }
   ],
   "source": [
    "list(file.parent.iterdir())"
   ]
  },
  {
   "cell_type": "code",
   "execution_count": 45,
   "metadata": {},
   "outputs": [
    {
     "data": {
      "text/plain": [
       "[WindowsPath('D:/Programming/Python/Jupyter Notebooks/000000/Pathlib/s3.txt'),\n",
       " WindowsPath('D:/Programming/Python/Jupyter Notebooks/000000/Pathlib/s9.txt'),\n",
       " WindowsPath('D:/Programming/Python/Jupyter Notebooks/000000/Pathlib/sample.txt')]"
      ]
     },
     "execution_count": 45,
     "metadata": {},
     "output_type": "execute_result"
    }
   ],
   "source": [
    "list(file.parent.glob('*.txt'))"
   ]
  },
  {
   "cell_type": "code",
   "execution_count": null,
   "metadata": {},
   "outputs": [],
   "source": []
  }
 ],
 "metadata": {
  "kernelspec": {
   "display_name": "Python 3",
   "language": "python",
   "name": "python3"
  },
  "language_info": {
   "codemirror_mode": {
    "name": "ipython",
    "version": 3
   },
   "file_extension": ".py",
   "mimetype": "text/x-python",
   "name": "python",
   "nbconvert_exporter": "python",
   "pygments_lexer": "ipython3",
   "version": "3.7.7"
  }
 },
 "nbformat": 4,
 "nbformat_minor": 4
}
