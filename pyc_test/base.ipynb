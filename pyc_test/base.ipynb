{
 "cells": [
  {
   "cell_type": "markdown",
   "metadata": {},
   "source": [
    "## Experiment to see if we can recover complete program from .pyc file\n",
    "Scenario - \"base.py\" contains secret keys, which are imported in \"sample.py\". Now, this sample.py is converted to sample.pyc and we think that since nobody can read this our keys are safe. Our objective is to see if we can recover secret keys."
   ]
  },
  {
   "cell_type": "code",
   "execution_count": 1,
   "metadata": {},
   "outputs": [],
   "source": [
    "import subprocess as sp\n",
    "import py_compile\n"
   ]
  },
  {
   "cell_type": "code",
   "execution_count": 2,
   "metadata": {},
   "outputs": [
    {
     "data": {
      "text/plain": [
       "'.\\\\__pycache__\\\\sample.cpython-37.pyc'"
      ]
     },
     "execution_count": 2,
     "metadata": {},
     "output_type": "execute_result"
    }
   ],
   "source": [
    "# convert \"sample.py\" to \"sample.pyc\"\n",
    "py_compile.compile(\"./sample.py\")"
   ]
  },
  {
   "cell_type": "code",
   "execution_count": 3,
   "metadata": {},
   "outputs": [
    {
     "data": {
      "text/plain": [
       "CompletedProcess(args=['move', '.\\\\__pycache__\\\\sample.cpython-37.pyc', '.\\\\sam.pyc'], returncode=0)"
      ]
     },
     "execution_count": 3,
     "metadata": {},
     "output_type": "execute_result"
    }
   ],
   "source": [
    "# above command gave \"sample.cpython-37.pyc\" file\n",
    "# lets rename it to something simpler\n",
    "sp.run([\"move\", \".\\\\__pycache__\\\\sample.cpython-37.pyc\", \".\\\\sam.pyc\"], shell=True)"
   ]
  },
  {
   "cell_type": "code",
   "execution_count": 4,
   "metadata": {},
   "outputs": [
    {
     "name": "stdout",
     "output_type": "stream",
     "text": [
      "8\n",
      "0100a75786009ef8 fd219a1f549cc3db 848c3a5a81b87c14\n"
     ]
    }
   ],
   "source": [
    "# import function from sam\n",
    "# lets assume for now that we know which vars are holding keys\n",
    "from sam import add, KEY1, KEY2, KEY3\n",
    "\n",
    "print(add(3, 5))\n",
    "print(KEY1, KEY2, KEY3)  # well we are DOOMED"
   ]
  },
  {
   "cell_type": "code",
   "execution_count": 5,
   "metadata": {},
   "outputs": [
    {
     "name": "stdout",
     "output_type": "stream",
     "text": [
      "B\n",
      "\n",
      "\u0000\u0000\u0000\u0000ÚwÝ^ \u0000\u0000\u0000ã\u0000\u0000\u0000\u0000\u0000\u0000\u0000\u0000\u0000\u0000\u0000\u0000\u0004\u0000\u0000\u0000@\u0000\u0000\u0000s<\u0000\u0000\u0000d\u0000d\u0001l\u0000m\u0001Z\u0001m\u0002Z\u0002\u0001\u0000d\u0002Z\u0003e\u0004e\u0004e\u0004d\u0003œ\u0003d\u0004d\u0005„\u0004Z\u0005e\u0006d\u0006k\u0002r8e\u0007e\u0001e\u0002ƒ\u0002\u0001\u0000d\u0007S\u0000)\bé\u0000\u0000\u0000\u0000)\u0002Ú\u0004KEY1Ú\u0004KEY2Z\u0010848c3a5a81b87c14)\u0003Ú\u0001aÚ\u0001bÚ\u0006returnc\u0002\u0000\u0000\u0000\u0000\u0000\u0000\u0000\u0002\u0000\u0000\u0000\u0002\u0000\u0000\u0000C\u0000\u0000\u0000s\b\u0000\u0000\u0000|\u0000|\u0001\u0017\u0000S\u0000)\u0001N©\u0000)\u0002r\u0004\u0000\u0000\u0000r\u0005\u0000\u0000\u0000r\u0007\u0000\u0000\u0000r\u0007\u0000\u0000\u0000ú\u000b",
      "./sample.pyÚ\u0003add\u0005\u0000\u0000\u0000s\u0002\u0000\u0000\u0000\u0000\u0001r\t\u0000\u0000\u0000Ú\b__main__N)\bÚ\u0004baser\u0002\u0000\u0000\u0000r\u0003\u0000\u0000\u0000Z\u0004KEY3Ú\u0003intr\t\u0000\u0000\u0000Ú\b__name__Ú\u0005printr\u0007\u0000\u0000\u0000r\u0007\u0000\u0000\u0000r\u0007\u0000\u0000\u0000r\b\u0000\u0000\u0000Ú\b<module>\u0001\u0000\u0000\u0000s\b\u0000\u0000\u0000\u0010\u0002\u0004\u0002\u0012\u0003\b\u0001\n"
     ]
    }
   ],
   "source": [
    "# lets assume now that we DONT know which vars are holding keys\n",
    "# peeking inside \"sam.pyc\"\n",
    "with open(\"sam.pyc\") as f:\n",
    "    content = f.read()\n",
    "print(content)"
   ]
  },
  {
   "cell_type": "code",
   "execution_count": 6,
   "metadata": {},
   "outputs": [
    {
     "name": "stdout",
     "output_type": "stream",
     "text": [
      "CompletedProcess(args=['uncompyle6', 'sam.pyc'], returncode=0, stdout=b\"# uncompyle6 version 3.7.0\\r\\n# Python bytecode 3.7 (3394)\\r\\n# Decompiled from: Python 3.7.7 (default, May  6 2020, 11:45:54) [MSC v.1916 64 bit (AMD64)]\\r\\n# Embedded file name: ./sample.py\\r\\n# Compiled at: 2020-06-08 04:57:22\\r\\n# Size of source mod 2**32: 160 bytes\\r\\nfrom base import KEY1, KEY2\\r\\nKEY3 = '848c3a5a81b87c14'\\r\\n\\r\\ndef add(a: int, b: int) -> int:\\r\\n    return a + b\\r\\n\\r\\n\\r\\nif __name__ == '__main__':\\r\\n    print(KEY1, KEY2)\\r\\n# okay decompiling sam.pyc\\r\\n\", stderr=b'')\n"
     ]
    }
   ],
   "source": [
    "# decompiling pyc to recover source code\n",
    "op = sp.run([\"uncompyle6\", \"sam.pyc\"], shell=True, capture_output=True)\n",
    "print(op)"
   ]
  },
  {
   "cell_type": "code",
   "execution_count": 9,
   "metadata": {},
   "outputs": [
    {
     "name": "stdout",
     "output_type": "stream",
     "text": [
      "# uncompyle6 version 3.7.0\r\n",
      "# Python bytecode 3.7 (3394)\r\n",
      "# Decompiled from: Python 3.7.7 (default, May  6 2020, 11:45:54) [MSC v.1916 64 bit (AMD64)]\r\n",
      "# Embedded file name: ./sample.py\r\n",
      "# Compiled at: 2020-06-08 04:57:22\r\n",
      "# Size of source mod 2**32: 160 bytes\r\n",
      "from base import KEY1, KEY2\r\n",
      "KEY3 = '848c3a5a81b87c14'\r\n",
      "\r\n",
      "def add(a: int, b: int) -> int:\r\n",
      "    return a + b\r\n",
      "\r\n",
      "\r\n",
      "if __name__ == '__main__':\r\n",
      "    print(KEY1, KEY2)\r\n",
      "# okay decompiling sam.pyc\r\n",
      "\n"
     ]
    }
   ],
   "source": [
    "print(op.stdout.decode('utf-8'))"
   ]
  },
  {
   "cell_type": "code",
   "execution_count": null,
   "metadata": {},
   "outputs": [],
   "source": [
    "# now that the source code is recovered, we can do\n",
    "print(KEY1, KEY2, KEY3)  # well we are DOOMED"
   ]
  },
  {
   "cell_type": "markdown",
   "metadata": {},
   "source": [
    "### Conclusion-\n",
    "saving any important info in pyc file is not safe"
   ]
  }
 ],
 "metadata": {
  "kernelspec": {
   "display_name": "Python 3.7.3 64-bit ('uditm': virtualenv)",
   "language": "python",
   "name": "python37364bituditmvirtualenv067fd1e3d96347ffb6de3d0de7331533"
  },
  "language_info": {
   "codemirror_mode": {
    "name": "ipython",
    "version": 3
   },
   "file_extension": ".py",
   "mimetype": "text/x-python",
   "name": "python",
   "nbconvert_exporter": "python",
   "pygments_lexer": "ipython3",
   "version": "3.7.7"
  }
 },
 "nbformat": 4,
 "nbformat_minor": 2
}
